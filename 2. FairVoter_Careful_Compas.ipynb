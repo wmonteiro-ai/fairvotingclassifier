{
 "cells": [
  {
   "cell_type": "code",
   "execution_count": 1,
   "metadata": {},
   "outputs": [],
   "source": [
    "import numpy as np\n",
    "import pandas as pd\n",
    "import tensorflow.compat.v1 as tf\n",
    "import time\n",
    "\n",
    "from joblib import Parallel, delayed\n",
    "from sklearn.compose import ColumnTransformer\n",
    "\n",
    "from sklearn.metrics import confusion_matrix, roc_auc_score\n",
    "from sklearn.model_selection import train_test_split\n",
    "from sklearn.pipeline import Pipeline\n",
    "from sklearn.preprocessing import OneHotEncoder, MaxAbsScaler\n",
    "\n",
    "from sklego.linear_model import DemographicParityClassifier, EqualOpportunityClassifier\n",
    "\n",
    "tf.disable_eager_execution()\n",
    "pd.set_option('display.max_columns', None)"
   ]
  },
  {
   "cell_type": "markdown",
   "metadata": {},
   "source": [
    "## Loading FVC classes"
   ]
  },
  {
   "cell_type": "code",
   "execution_count": 2,
   "metadata": {},
   "outputs": [],
   "source": [
    "from NotebookHelperFunctions import *\n",
    "from Objectives import *\n",
    "from FairVotingClassifier import *"
   ]
  },
  {
   "cell_type": "markdown",
   "metadata": {},
   "source": [
    "<h2>Loading the dataset</h2>"
   ]
  },
  {
   "cell_type": "code",
   "execution_count": 3,
   "metadata": {},
   "outputs": [],
   "source": [
    "n_runs = 30\n",
    "seed_list = list(range(n_runs))\n",
    "verbose = False\n",
    "\n",
    "pop_size = 250\n",
    "n_gen = 50\n",
    "n_jobs = -1\n",
    "max_iter = 10000"
   ]
  },
  {
   "cell_type": "code",
   "execution_count": 4,
   "metadata": {},
   "outputs": [
    {
     "data": {
      "text/html": [
       "<div>\n",
       "<style scoped>\n",
       "    .dataframe tbody tr th:only-of-type {\n",
       "        vertical-align: middle;\n",
       "    }\n",
       "\n",
       "    .dataframe tbody tr th {\n",
       "        vertical-align: top;\n",
       "    }\n",
       "\n",
       "    .dataframe thead th {\n",
       "        text-align: right;\n",
       "    }\n",
       "</style>\n",
       "<table border=\"1\" class=\"dataframe\">\n",
       "  <thead>\n",
       "    <tr style=\"text-align: right;\">\n",
       "      <th></th>\n",
       "      <th>age</th>\n",
       "      <th>c_charge_degree</th>\n",
       "      <th>race</th>\n",
       "      <th>age_cat</th>\n",
       "      <th>score_text</th>\n",
       "      <th>sex</th>\n",
       "      <th>priors_count</th>\n",
       "      <th>days_b_screening_arrest</th>\n",
       "      <th>decile_score</th>\n",
       "      <th>is_recid</th>\n",
       "      <th>two_year_recid</th>\n",
       "    </tr>\n",
       "  </thead>\n",
       "  <tbody>\n",
       "    <tr>\n",
       "      <th>7209</th>\n",
       "      <td>23</td>\n",
       "      <td>F</td>\n",
       "      <td>African-American</td>\n",
       "      <td>Less than 25</td>\n",
       "      <td>Medium</td>\n",
       "      <td>Male</td>\n",
       "      <td>0</td>\n",
       "      <td>-1.0</td>\n",
       "      <td>7</td>\n",
       "      <td>0</td>\n",
       "      <td>0</td>\n",
       "    </tr>\n",
       "    <tr>\n",
       "      <th>7210</th>\n",
       "      <td>23</td>\n",
       "      <td>F</td>\n",
       "      <td>African-American</td>\n",
       "      <td>Less than 25</td>\n",
       "      <td>Low</td>\n",
       "      <td>Male</td>\n",
       "      <td>0</td>\n",
       "      <td>-1.0</td>\n",
       "      <td>3</td>\n",
       "      <td>0</td>\n",
       "      <td>0</td>\n",
       "    </tr>\n",
       "    <tr>\n",
       "      <th>7211</th>\n",
       "      <td>57</td>\n",
       "      <td>F</td>\n",
       "      <td>Other</td>\n",
       "      <td>Greater than 45</td>\n",
       "      <td>Low</td>\n",
       "      <td>Male</td>\n",
       "      <td>0</td>\n",
       "      <td>-1.0</td>\n",
       "      <td>1</td>\n",
       "      <td>0</td>\n",
       "      <td>0</td>\n",
       "    </tr>\n",
       "    <tr>\n",
       "      <th>7212</th>\n",
       "      <td>33</td>\n",
       "      <td>M</td>\n",
       "      <td>African-American</td>\n",
       "      <td>25 - 45</td>\n",
       "      <td>Low</td>\n",
       "      <td>Female</td>\n",
       "      <td>3</td>\n",
       "      <td>-1.0</td>\n",
       "      <td>2</td>\n",
       "      <td>0</td>\n",
       "      <td>0</td>\n",
       "    </tr>\n",
       "    <tr>\n",
       "      <th>7213</th>\n",
       "      <td>23</td>\n",
       "      <td>F</td>\n",
       "      <td>Hispanic</td>\n",
       "      <td>Less than 25</td>\n",
       "      <td>Low</td>\n",
       "      <td>Female</td>\n",
       "      <td>2</td>\n",
       "      <td>-2.0</td>\n",
       "      <td>4</td>\n",
       "      <td>1</td>\n",
       "      <td>1</td>\n",
       "    </tr>\n",
       "  </tbody>\n",
       "</table>\n",
       "</div>"
      ],
      "text/plain": [
       "      age c_charge_degree              race          age_cat score_text  \\\n",
       "7209   23               F  African-American     Less than 25     Medium   \n",
       "7210   23               F  African-American     Less than 25        Low   \n",
       "7211   57               F             Other  Greater than 45        Low   \n",
       "7212   33               M  African-American          25 - 45        Low   \n",
       "7213   23               F          Hispanic     Less than 25        Low   \n",
       "\n",
       "         sex  priors_count  days_b_screening_arrest  decile_score  is_recid  \\\n",
       "7209    Male             0                     -1.0             7         0   \n",
       "7210    Male             0                     -1.0             3         0   \n",
       "7211    Male             0                     -1.0             1         0   \n",
       "7212  Female             3                     -1.0             2         0   \n",
       "7213  Female             2                     -2.0             4         1   \n",
       "\n",
       "      two_year_recid  \n",
       "7209               0  \n",
       "7210               0  \n",
       "7211               0  \n",
       "7212               0  \n",
       "7213               1  "
      ]
     },
     "execution_count": 4,
     "metadata": {},
     "output_type": "execute_result"
    }
   ],
   "source": [
    "dataset = 'compas'\n",
    "\n",
    "cols = ['age', 'c_charge_degree', 'race', 'age_cat', 'score_text', 'sex', 'priors_count', 'days_b_screening_arrest', 'decile_score', 'is_recid', 'two_year_recid']#, 'c_jail_in', 'c_jail_out']\n",
    "\n",
    "df = pd.read_csv('datasets/compas-analysis-master/compas-scores-two-years.csv')\n",
    "df = df[(df['days_b_screening_arrest'] <= 30) &\n",
    "        (df['days_b_screening_arrest'] >= -30) &\n",
    "        (df['is_recid'] != -1) &\n",
    "        (df['c_charge_degree'] != 'O') &\n",
    "        (df['score_text'] != 'N/A')][cols]\n",
    "\n",
    "df.to_csv('datasets/compas-analysis-master/compas-scores-two-years_filtered.csv', index=False)\n",
    "df.tail()"
   ]
  },
  {
   "cell_type": "markdown",
   "metadata": {},
   "source": [
    "<h3>Setting the protected attributes, unprivileged groups and the positive outcome</h3>"
   ]
  },
  {
   "cell_type": "code",
   "execution_count": 5,
   "metadata": {},
   "outputs": [],
   "source": [
    "is_ohe = True\n",
    "protected_attr = 'race'\n",
    "unprivileged_values = ['Other', 'African-American', 'Hispanic', 'Asian', 'Native American']\n",
    "privileged_values = ['Caucasian']\n",
    "best_outcome = np.array([0])\n",
    "objective = 'two_year_recid'"
   ]
  },
  {
   "cell_type": "markdown",
   "metadata": {},
   "source": [
    "<h3>One-hot encoding</h3>"
   ]
  },
  {
   "cell_type": "code",
   "execution_count": 6,
   "metadata": {},
   "outputs": [],
   "source": [
    "num_columns = ['age', 'priors_count', 'days_b_screening_arrest', 'decile_score']\n",
    "cat_columns = ['c_charge_degree', 'age_cat', 'score_text', 'sex']\n",
    "\n",
    "df[num_columns] = MaxAbsScaler().fit_transform(df[num_columns])\n",
    "df_dummies = pd.get_dummies(df[cat_columns + [protected_attr]])\n",
    "cat_columns_dummies = df_dummies.columns.tolist()\n",
    "\n",
    "df = pd.concat([df.drop(cat_columns, axis=1), df_dummies], axis=1)"
   ]
  },
  {
   "cell_type": "markdown",
   "metadata": {},
   "source": [
    "<h2>Running all algorithms</h2>"
   ]
  },
  {
   "cell_type": "code",
   "execution_count": 7,
   "metadata": {},
   "outputs": [
    {
     "data": {
      "text/plain": [
       "'Seed 0'"
      ]
     },
     "metadata": {},
     "output_type": "display_data"
    },
    {
     "data": {
      "text/plain": [
       "'Training the Voting Ensemble'"
      ]
     },
     "metadata": {},
     "output_type": "display_data"
    },
    {
     "data": {
      "text/plain": [
       "'Training Fairlearn'"
      ]
     },
     "metadata": {},
     "output_type": "display_data"
    },
    {
     "data": {
      "text/plain": [
       "'Training scikit-lego - DemographicParityClassifier'"
      ]
     },
     "metadata": {},
     "output_type": "display_data"
    },
    {
     "data": {
      "text/plain": [
       "'Training scikit-lego - EqualOpportunityClassifier'"
      ]
     },
     "metadata": {},
     "output_type": "display_data"
    },
    {
     "data": {
      "text/plain": [
       "'Training the proposal (nsga2)'"
      ]
     },
     "metadata": {},
     "output_type": "display_data"
    },
    {
     "name": "stderr",
     "output_type": "stream",
     "text": [
      "A:\\anaconda3\\envs\\xmoai\\lib\\site-packages\\topsis\\topsis.py:66: RuntimeWarning: invalid value encountered in true_divide\n",
      "  self.r = self.a/np.array(np.linalg.norm(self.a, axis=1)[:, np.newaxis])\n",
      "A:\\anaconda3\\envs\\xmoai\\lib\\site-packages\\topsis\\topsis.py:66: RuntimeWarning: invalid value encountered in true_divide\n",
      "  self.r = self.a/np.array(np.linalg.norm(self.a, axis=1)[:, np.newaxis])\n",
      "A:\\anaconda3\\envs\\xmoai\\lib\\site-packages\\topsis\\topsis.py:66: RuntimeWarning: invalid value encountered in true_divide\n",
      "  self.r = self.a/np.array(np.linalg.norm(self.a, axis=1)[:, np.newaxis])\n",
      "A:\\anaconda3\\envs\\xmoai\\lib\\site-packages\\topsis\\topsis.py:66: RuntimeWarning: invalid value encountered in true_divide\n",
      "  self.r = self.a/np.array(np.linalg.norm(self.a, axis=1)[:, np.newaxis])\n",
      "A:\\anaconda3\\envs\\xmoai\\lib\\site-packages\\topsis\\topsis.py:66: RuntimeWarning: invalid value encountered in true_divide\n",
      "  self.r = self.a/np.array(np.linalg.norm(self.a, axis=1)[:, np.newaxis])\n",
      "A:\\anaconda3\\envs\\xmoai\\lib\\site-packages\\topsis\\topsis.py:66: RuntimeWarning: invalid value encountered in true_divide\n",
      "  self.r = self.a/np.array(np.linalg.norm(self.a, axis=1)[:, np.newaxis])\n"
     ]
    },
    {
     "data": {
      "text/plain": [
       "'Training the proposal (rnsga2)'"
      ]
     },
     "metadata": {},
     "output_type": "display_data"
    },
    {
     "name": "stderr",
     "output_type": "stream",
     "text": [
      "A:\\anaconda3\\envs\\xmoai\\lib\\site-packages\\pymoo\\algorithms\\rnsga2.py:183: RuntimeWarning: invalid value encountered in true_divide\n",
      "  N = ((D / (nadir - ideal)) ** 2) * weights\n",
      "A:\\anaconda3\\envs\\xmoai\\lib\\site-packages\\pymoo\\algorithms\\rnsga2.py:183: RuntimeWarning: invalid value encountered in true_divide\n",
      "  N = ((D / (nadir - ideal)) ** 2) * weights\n",
      "A:\\anaconda3\\envs\\xmoai\\lib\\site-packages\\pymoo\\algorithms\\rnsga2.py:183: RuntimeWarning: invalid value encountered in true_divide\n",
      "  N = ((D / (nadir - ideal)) ** 2) * weights\n",
      "A:\\anaconda3\\envs\\xmoai\\lib\\site-packages\\pymoo\\algorithms\\rnsga2.py:183: RuntimeWarning: invalid value encountered in true_divide\n",
      "  N = ((D / (nadir - ideal)) ** 2) * weights\n",
      "A:\\anaconda3\\envs\\xmoai\\lib\\site-packages\\pymoo\\algorithms\\rnsga2.py:183: RuntimeWarning: invalid value encountered in true_divide\n",
      "  N = ((D / (nadir - ideal)) ** 2) * weights\n",
      "A:\\anaconda3\\envs\\xmoai\\lib\\site-packages\\pymoo\\algorithms\\rnsga2.py:183: RuntimeWarning: invalid value encountered in true_divide\n",
      "  N = ((D / (nadir - ideal)) ** 2) * weights\n",
      "A:\\anaconda3\\envs\\xmoai\\lib\\site-packages\\pymoo\\algorithms\\rnsga2.py:183: RuntimeWarning: invalid value encountered in true_divide\n",
      "  N = ((D / (nadir - ideal)) ** 2) * weights\n",
      "A:\\anaconda3\\envs\\xmoai\\lib\\site-packages\\pymoo\\algorithms\\rnsga2.py:183: RuntimeWarning: invalid value encountered in true_divide\n",
      "  N = ((D / (nadir - ideal)) ** 2) * weights\n",
      "A:\\anaconda3\\envs\\xmoai\\lib\\site-packages\\pymoo\\algorithms\\rnsga2.py:183: RuntimeWarning: invalid value encountered in true_divide\n",
      "  N = ((D / (nadir - ideal)) ** 2) * weights\n",
      "A:\\anaconda3\\envs\\xmoai\\lib\\site-packages\\pymoo\\algorithms\\rnsga2.py:183: RuntimeWarning: invalid value encountered in true_divide\n",
      "  N = ((D / (nadir - ideal)) ** 2) * weights\n",
      "A:\\anaconda3\\envs\\xmoai\\lib\\site-packages\\pymoo\\algorithms\\rnsga2.py:183: RuntimeWarning: invalid value encountered in true_divide\n",
      "  N = ((D / (nadir - ideal)) ** 2) * weights\n",
      "A:\\anaconda3\\envs\\xmoai\\lib\\site-packages\\pymoo\\algorithms\\rnsga2.py:183: RuntimeWarning: invalid value encountered in true_divide\n",
      "  N = ((D / (nadir - ideal)) ** 2) * weights\n",
      "A:\\anaconda3\\envs\\xmoai\\lib\\site-packages\\pymoo\\algorithms\\rnsga2.py:183: RuntimeWarning: invalid value encountered in true_divide\n",
      "  N = ((D / (nadir - ideal)) ** 2) * weights\n",
      "A:\\anaconda3\\envs\\xmoai\\lib\\site-packages\\pymoo\\algorithms\\rnsga2.py:183: RuntimeWarning: invalid value encountered in true_divide\n",
      "  N = ((D / (nadir - ideal)) ** 2) * weights\n",
      "A:\\anaconda3\\envs\\xmoai\\lib\\site-packages\\pymoo\\algorithms\\rnsga2.py:183: RuntimeWarning: invalid value encountered in true_divide\n",
      "  N = ((D / (nadir - ideal)) ** 2) * weights\n",
      "A:\\anaconda3\\envs\\xmoai\\lib\\site-packages\\pymoo\\algorithms\\rnsga2.py:183: RuntimeWarning: invalid value encountered in true_divide\n",
      "  N = ((D / (nadir - ideal)) ** 2) * weights\n",
      "A:\\anaconda3\\envs\\xmoai\\lib\\site-packages\\pymoo\\algorithms\\rnsga2.py:183: RuntimeWarning: invalid value encountered in true_divide\n",
      "  N = ((D / (nadir - ideal)) ** 2) * weights\n",
      "A:\\anaconda3\\envs\\xmoai\\lib\\site-packages\\pymoo\\algorithms\\rnsga2.py:183: RuntimeWarning: invalid value encountered in true_divide\n",
      "  N = ((D / (nadir - ideal)) ** 2) * weights\n",
      "A:\\anaconda3\\envs\\xmoai\\lib\\site-packages\\pymoo\\algorithms\\rnsga2.py:183: RuntimeWarning: invalid value encountered in true_divide\n",
      "  N = ((D / (nadir - ideal)) ** 2) * weights\n",
      "A:\\anaconda3\\envs\\xmoai\\lib\\site-packages\\pymoo\\algorithms\\rnsga2.py:183: RuntimeWarning: invalid value encountered in true_divide\n",
      "  N = ((D / (nadir - ideal)) ** 2) * weights\n",
      "A:\\anaconda3\\envs\\xmoai\\lib\\site-packages\\pymoo\\algorithms\\rnsga2.py:183: RuntimeWarning: invalid value encountered in true_divide\n",
      "  N = ((D / (nadir - ideal)) ** 2) * weights\n",
      "A:\\anaconda3\\envs\\xmoai\\lib\\site-packages\\pymoo\\algorithms\\rnsga2.py:183: RuntimeWarning: invalid value encountered in true_divide\n",
      "  N = ((D / (nadir - ideal)) ** 2) * weights\n",
      "A:\\anaconda3\\envs\\xmoai\\lib\\site-packages\\pymoo\\algorithms\\rnsga2.py:183: RuntimeWarning: invalid value encountered in true_divide\n",
      "  N = ((D / (nadir - ideal)) ** 2) * weights\n",
      "A:\\anaconda3\\envs\\xmoai\\lib\\site-packages\\pymoo\\algorithms\\rnsga2.py:183: RuntimeWarning: invalid value encountered in true_divide\n",
      "  N = ((D / (nadir - ideal)) ** 2) * weights\n",
      "A:\\anaconda3\\envs\\xmoai\\lib\\site-packages\\pymoo\\algorithms\\rnsga2.py:183: RuntimeWarning: invalid value encountered in true_divide\n",
      "  N = ((D / (nadir - ideal)) ** 2) * weights\n",
      "A:\\anaconda3\\envs\\xmoai\\lib\\site-packages\\pymoo\\algorithms\\rnsga2.py:183: RuntimeWarning: invalid value encountered in true_divide\n",
      "  N = ((D / (nadir - ideal)) ** 2) * weights\n",
      "A:\\anaconda3\\envs\\xmoai\\lib\\site-packages\\pymoo\\algorithms\\rnsga2.py:183: RuntimeWarning: invalid value encountered in true_divide\n",
      "  N = ((D / (nadir - ideal)) ** 2) * weights\n",
      "A:\\anaconda3\\envs\\xmoai\\lib\\site-packages\\pymoo\\algorithms\\rnsga2.py:183: RuntimeWarning: invalid value encountered in true_divide\n",
      "  N = ((D / (nadir - ideal)) ** 2) * weights\n",
      "A:\\anaconda3\\envs\\xmoai\\lib\\site-packages\\pymoo\\algorithms\\rnsga2.py:183: RuntimeWarning: invalid value encountered in true_divide\n",
      "  N = ((D / (nadir - ideal)) ** 2) * weights\n",
      "A:\\anaconda3\\envs\\xmoai\\lib\\site-packages\\pymoo\\algorithms\\rnsga2.py:183: RuntimeWarning: invalid value encountered in true_divide\n",
      "  N = ((D / (nadir - ideal)) ** 2) * weights\n",
      "A:\\anaconda3\\envs\\xmoai\\lib\\site-packages\\pymoo\\algorithms\\rnsga2.py:183: RuntimeWarning: invalid value encountered in true_divide\n",
      "  N = ((D / (nadir - ideal)) ** 2) * weights\n",
      "A:\\anaconda3\\envs\\xmoai\\lib\\site-packages\\pymoo\\algorithms\\rnsga2.py:183: RuntimeWarning: invalid value encountered in true_divide\n",
      "  N = ((D / (nadir - ideal)) ** 2) * weights\n",
      "A:\\anaconda3\\envs\\xmoai\\lib\\site-packages\\pymoo\\algorithms\\rnsga2.py:183: RuntimeWarning: invalid value encountered in true_divide\n",
      "  N = ((D / (nadir - ideal)) ** 2) * weights\n",
      "A:\\anaconda3\\envs\\xmoai\\lib\\site-packages\\pymoo\\algorithms\\rnsga2.py:183: RuntimeWarning: invalid value encountered in true_divide\n",
      "  N = ((D / (nadir - ideal)) ** 2) * weights\n",
      "A:\\anaconda3\\envs\\xmoai\\lib\\site-packages\\pymoo\\algorithms\\rnsga2.py:183: RuntimeWarning: invalid value encountered in true_divide\n",
      "  N = ((D / (nadir - ideal)) ** 2) * weights\n",
      "A:\\anaconda3\\envs\\xmoai\\lib\\site-packages\\pymoo\\algorithms\\rnsga2.py:183: RuntimeWarning: invalid value encountered in true_divide\n",
      "  N = ((D / (nadir - ideal)) ** 2) * weights\n",
      "A:\\anaconda3\\envs\\xmoai\\lib\\site-packages\\pymoo\\algorithms\\rnsga2.py:183: RuntimeWarning: invalid value encountered in true_divide\n",
      "  N = ((D / (nadir - ideal)) ** 2) * weights\n",
      "A:\\anaconda3\\envs\\xmoai\\lib\\site-packages\\pymoo\\algorithms\\rnsga2.py:183: RuntimeWarning: invalid value encountered in true_divide\n",
      "  N = ((D / (nadir - ideal)) ** 2) * weights\n",
      "A:\\anaconda3\\envs\\xmoai\\lib\\site-packages\\pymoo\\algorithms\\rnsga2.py:183: RuntimeWarning: invalid value encountered in true_divide\n",
      "  N = ((D / (nadir - ideal)) ** 2) * weights\n",
      "A:\\anaconda3\\envs\\xmoai\\lib\\site-packages\\pymoo\\algorithms\\rnsga2.py:183: RuntimeWarning: invalid value encountered in true_divide\n",
      "  N = ((D / (nadir - ideal)) ** 2) * weights\n",
      "A:\\anaconda3\\envs\\xmoai\\lib\\site-packages\\pymoo\\algorithms\\rnsga2.py:183: RuntimeWarning: invalid value encountered in true_divide\n",
      "  N = ((D / (nadir - ideal)) ** 2) * weights\n",
      "A:\\anaconda3\\envs\\xmoai\\lib\\site-packages\\pymoo\\algorithms\\rnsga2.py:183: RuntimeWarning: invalid value encountered in true_divide\n",
      "  N = ((D / (nadir - ideal)) ** 2) * weights\n",
      "A:\\anaconda3\\envs\\xmoai\\lib\\site-packages\\pymoo\\algorithms\\rnsga2.py:183: RuntimeWarning: invalid value encountered in true_divide\n",
      "  N = ((D / (nadir - ideal)) ** 2) * weights\n",
      "A:\\anaconda3\\envs\\xmoai\\lib\\site-packages\\pymoo\\algorithms\\rnsga2.py:183: RuntimeWarning: invalid value encountered in true_divide\n",
      "  N = ((D / (nadir - ideal)) ** 2) * weights\n",
      "A:\\anaconda3\\envs\\xmoai\\lib\\site-packages\\pymoo\\algorithms\\rnsga2.py:183: RuntimeWarning: invalid value encountered in true_divide\n",
      "  N = ((D / (nadir - ideal)) ** 2) * weights\n",
      "A:\\anaconda3\\envs\\xmoai\\lib\\site-packages\\pymoo\\algorithms\\rnsga2.py:183: RuntimeWarning: invalid value encountered in true_divide\n",
      "  N = ((D / (nadir - ideal)) ** 2) * weights\n",
      "A:\\anaconda3\\envs\\xmoai\\lib\\site-packages\\pymoo\\algorithms\\rnsga2.py:183: RuntimeWarning: invalid value encountered in true_divide\n",
      "  N = ((D / (nadir - ideal)) ** 2) * weights\n"
     ]
    },
    {
     "name": "stderr",
     "output_type": "stream",
     "text": [
      "A:\\anaconda3\\envs\\xmoai\\lib\\site-packages\\pymoo\\algorithms\\rnsga2.py:183: RuntimeWarning: invalid value encountered in true_divide\n",
      "  N = ((D / (nadir - ideal)) ** 2) * weights\n",
      "A:\\anaconda3\\envs\\xmoai\\lib\\site-packages\\pymoo\\algorithms\\rnsga2.py:183: RuntimeWarning: invalid value encountered in true_divide\n",
      "  N = ((D / (nadir - ideal)) ** 2) * weights\n",
      "A:\\anaconda3\\envs\\xmoai\\lib\\site-packages\\pymoo\\algorithms\\rnsga2.py:183: RuntimeWarning: invalid value encountered in true_divide\n",
      "  N = ((D / (nadir - ideal)) ** 2) * weights\n",
      "A:\\anaconda3\\envs\\xmoai\\lib\\site-packages\\topsis\\topsis.py:66: RuntimeWarning: invalid value encountered in true_divide\n",
      "  self.r = self.a/np.array(np.linalg.norm(self.a, axis=1)[:, np.newaxis])\n",
      "A:\\anaconda3\\envs\\xmoai\\lib\\site-packages\\topsis\\topsis.py:66: RuntimeWarning: invalid value encountered in true_divide\n",
      "  self.r = self.a/np.array(np.linalg.norm(self.a, axis=1)[:, np.newaxis])\n",
      "A:\\anaconda3\\envs\\xmoai\\lib\\site-packages\\topsis\\topsis.py:66: RuntimeWarning: invalid value encountered in true_divide\n",
      "  self.r = self.a/np.array(np.linalg.norm(self.a, axis=1)[:, np.newaxis])\n",
      "A:\\anaconda3\\envs\\xmoai\\lib\\site-packages\\topsis\\topsis.py:66: RuntimeWarning: invalid value encountered in true_divide\n",
      "  self.r = self.a/np.array(np.linalg.norm(self.a, axis=1)[:, np.newaxis])\n",
      "A:\\anaconda3\\envs\\xmoai\\lib\\site-packages\\topsis\\topsis.py:66: RuntimeWarning: invalid value encountered in true_divide\n",
      "  self.r = self.a/np.array(np.linalg.norm(self.a, axis=1)[:, np.newaxis])\n",
      "A:\\anaconda3\\envs\\xmoai\\lib\\site-packages\\topsis\\topsis.py:66: RuntimeWarning: invalid value encountered in true_divide\n",
      "  self.r = self.a/np.array(np.linalg.norm(self.a, axis=1)[:, np.newaxis])\n"
     ]
    },
    {
     "data": {
      "text/plain": [
       "'Training AIF360 - AdversarialDebiasing'"
      ]
     },
     "metadata": {},
     "output_type": "display_data"
    },
    {
     "data": {
      "text/plain": [
       "'Training AIF360 - PostProcessingMeta'"
      ]
     },
     "metadata": {},
     "output_type": "display_data"
    },
    {
     "data": {
      "text/plain": [
       "'Seed 1'"
      ]
     },
     "metadata": {},
     "output_type": "display_data"
    },
    {
     "data": {
      "text/plain": [
       "'Training the Voting Ensemble'"
      ]
     },
     "metadata": {},
     "output_type": "display_data"
    },
    {
     "data": {
      "text/plain": [
       "'Training Fairlearn'"
      ]
     },
     "metadata": {},
     "output_type": "display_data"
    },
    {
     "data": {
      "text/plain": [
       "'Training scikit-lego - DemographicParityClassifier'"
      ]
     },
     "metadata": {},
     "output_type": "display_data"
    },
    {
     "data": {
      "text/plain": [
       "'Training scikit-lego - EqualOpportunityClassifier'"
      ]
     },
     "metadata": {},
     "output_type": "display_data"
    },
    {
     "data": {
      "text/plain": [
       "'Training the proposal (nsga2)'"
      ]
     },
     "metadata": {},
     "output_type": "display_data"
    },
    {
     "name": "stderr",
     "output_type": "stream",
     "text": [
      "A:\\anaconda3\\envs\\xmoai\\lib\\site-packages\\topsis\\topsis.py:66: RuntimeWarning: invalid value encountered in true_divide\n",
      "  self.r = self.a/np.array(np.linalg.norm(self.a, axis=1)[:, np.newaxis])\n",
      "A:\\anaconda3\\envs\\xmoai\\lib\\site-packages\\topsis\\topsis.py:66: RuntimeWarning: invalid value encountered in true_divide\n",
      "  self.r = self.a/np.array(np.linalg.norm(self.a, axis=1)[:, np.newaxis])\n",
      "A:\\anaconda3\\envs\\xmoai\\lib\\site-packages\\topsis\\topsis.py:66: RuntimeWarning: invalid value encountered in true_divide\n",
      "  self.r = self.a/np.array(np.linalg.norm(self.a, axis=1)[:, np.newaxis])\n",
      "A:\\anaconda3\\envs\\xmoai\\lib\\site-packages\\topsis\\topsis.py:66: RuntimeWarning: invalid value encountered in true_divide\n",
      "  self.r = self.a/np.array(np.linalg.norm(self.a, axis=1)[:, np.newaxis])\n",
      "A:\\anaconda3\\envs\\xmoai\\lib\\site-packages\\topsis\\topsis.py:66: RuntimeWarning: invalid value encountered in true_divide\n",
      "  self.r = self.a/np.array(np.linalg.norm(self.a, axis=1)[:, np.newaxis])\n",
      "A:\\anaconda3\\envs\\xmoai\\lib\\site-packages\\topsis\\topsis.py:66: RuntimeWarning: invalid value encountered in true_divide\n",
      "  self.r = self.a/np.array(np.linalg.norm(self.a, axis=1)[:, np.newaxis])\n"
     ]
    },
    {
     "data": {
      "text/plain": [
       "'Training the proposal (rnsga2)'"
      ]
     },
     "metadata": {},
     "output_type": "display_data"
    },
    {
     "name": "stderr",
     "output_type": "stream",
     "text": [
      "A:\\anaconda3\\envs\\xmoai\\lib\\site-packages\\pymoo\\algorithms\\rnsga2.py:183: RuntimeWarning: invalid value encountered in true_divide\n",
      "  N = ((D / (nadir - ideal)) ** 2) * weights\n",
      "A:\\anaconda3\\envs\\xmoai\\lib\\site-packages\\pymoo\\algorithms\\rnsga2.py:183: RuntimeWarning: invalid value encountered in true_divide\n",
      "  N = ((D / (nadir - ideal)) ** 2) * weights\n",
      "A:\\anaconda3\\envs\\xmoai\\lib\\site-packages\\pymoo\\algorithms\\rnsga2.py:183: RuntimeWarning: invalid value encountered in true_divide\n",
      "  N = ((D / (nadir - ideal)) ** 2) * weights\n",
      "A:\\anaconda3\\envs\\xmoai\\lib\\site-packages\\pymoo\\algorithms\\rnsga2.py:183: RuntimeWarning: invalid value encountered in true_divide\n",
      "  N = ((D / (nadir - ideal)) ** 2) * weights\n",
      "A:\\anaconda3\\envs\\xmoai\\lib\\site-packages\\pymoo\\algorithms\\rnsga2.py:183: RuntimeWarning: invalid value encountered in true_divide\n",
      "  N = ((D / (nadir - ideal)) ** 2) * weights\n",
      "A:\\anaconda3\\envs\\xmoai\\lib\\site-packages\\pymoo\\algorithms\\rnsga2.py:183: RuntimeWarning: invalid value encountered in true_divide\n",
      "  N = ((D / (nadir - ideal)) ** 2) * weights\n",
      "A:\\anaconda3\\envs\\xmoai\\lib\\site-packages\\pymoo\\algorithms\\rnsga2.py:183: RuntimeWarning: invalid value encountered in true_divide\n",
      "  N = ((D / (nadir - ideal)) ** 2) * weights\n",
      "A:\\anaconda3\\envs\\xmoai\\lib\\site-packages\\pymoo\\algorithms\\rnsga2.py:183: RuntimeWarning: invalid value encountered in true_divide\n",
      "  N = ((D / (nadir - ideal)) ** 2) * weights\n",
      "A:\\anaconda3\\envs\\xmoai\\lib\\site-packages\\pymoo\\algorithms\\rnsga2.py:183: RuntimeWarning: invalid value encountered in true_divide\n",
      "  N = ((D / (nadir - ideal)) ** 2) * weights\n",
      "A:\\anaconda3\\envs\\xmoai\\lib\\site-packages\\pymoo\\algorithms\\rnsga2.py:183: RuntimeWarning: invalid value encountered in true_divide\n",
      "  N = ((D / (nadir - ideal)) ** 2) * weights\n",
      "A:\\anaconda3\\envs\\xmoai\\lib\\site-packages\\pymoo\\algorithms\\rnsga2.py:183: RuntimeWarning: invalid value encountered in true_divide\n",
      "  N = ((D / (nadir - ideal)) ** 2) * weights\n",
      "A:\\anaconda3\\envs\\xmoai\\lib\\site-packages\\pymoo\\algorithms\\rnsga2.py:183: RuntimeWarning: invalid value encountered in true_divide\n",
      "  N = ((D / (nadir - ideal)) ** 2) * weights\n",
      "A:\\anaconda3\\envs\\xmoai\\lib\\site-packages\\pymoo\\algorithms\\rnsga2.py:183: RuntimeWarning: invalid value encountered in true_divide\n",
      "  N = ((D / (nadir - ideal)) ** 2) * weights\n",
      "A:\\anaconda3\\envs\\xmoai\\lib\\site-packages\\pymoo\\algorithms\\rnsga2.py:183: RuntimeWarning: invalid value encountered in true_divide\n",
      "  N = ((D / (nadir - ideal)) ** 2) * weights\n",
      "A:\\anaconda3\\envs\\xmoai\\lib\\site-packages\\pymoo\\algorithms\\rnsga2.py:183: RuntimeWarning: invalid value encountered in true_divide\n",
      "  N = ((D / (nadir - ideal)) ** 2) * weights\n",
      "A:\\anaconda3\\envs\\xmoai\\lib\\site-packages\\pymoo\\algorithms\\rnsga2.py:183: RuntimeWarning: invalid value encountered in true_divide\n",
      "  N = ((D / (nadir - ideal)) ** 2) * weights\n",
      "A:\\anaconda3\\envs\\xmoai\\lib\\site-packages\\pymoo\\algorithms\\rnsga2.py:183: RuntimeWarning: invalid value encountered in true_divide\n",
      "  N = ((D / (nadir - ideal)) ** 2) * weights\n",
      "A:\\anaconda3\\envs\\xmoai\\lib\\site-packages\\pymoo\\algorithms\\rnsga2.py:183: RuntimeWarning: invalid value encountered in true_divide\n",
      "  N = ((D / (nadir - ideal)) ** 2) * weights\n",
      "A:\\anaconda3\\envs\\xmoai\\lib\\site-packages\\pymoo\\algorithms\\rnsga2.py:183: RuntimeWarning: invalid value encountered in true_divide\n",
      "  N = ((D / (nadir - ideal)) ** 2) * weights\n",
      "A:\\anaconda3\\envs\\xmoai\\lib\\site-packages\\pymoo\\algorithms\\rnsga2.py:183: RuntimeWarning: invalid value encountered in true_divide\n",
      "  N = ((D / (nadir - ideal)) ** 2) * weights\n",
      "A:\\anaconda3\\envs\\xmoai\\lib\\site-packages\\pymoo\\algorithms\\rnsga2.py:183: RuntimeWarning: invalid value encountered in true_divide\n",
      "  N = ((D / (nadir - ideal)) ** 2) * weights\n",
      "A:\\anaconda3\\envs\\xmoai\\lib\\site-packages\\pymoo\\algorithms\\rnsga2.py:183: RuntimeWarning: invalid value encountered in true_divide\n",
      "  N = ((D / (nadir - ideal)) ** 2) * weights\n",
      "A:\\anaconda3\\envs\\xmoai\\lib\\site-packages\\pymoo\\algorithms\\rnsga2.py:183: RuntimeWarning: invalid value encountered in true_divide\n",
      "  N = ((D / (nadir - ideal)) ** 2) * weights\n",
      "A:\\anaconda3\\envs\\xmoai\\lib\\site-packages\\pymoo\\algorithms\\rnsga2.py:183: RuntimeWarning: invalid value encountered in true_divide\n",
      "  N = ((D / (nadir - ideal)) ** 2) * weights\n",
      "A:\\anaconda3\\envs\\xmoai\\lib\\site-packages\\pymoo\\algorithms\\rnsga2.py:183: RuntimeWarning: invalid value encountered in true_divide\n",
      "  N = ((D / (nadir - ideal)) ** 2) * weights\n",
      "A:\\anaconda3\\envs\\xmoai\\lib\\site-packages\\pymoo\\algorithms\\rnsga2.py:183: RuntimeWarning: invalid value encountered in true_divide\n",
      "  N = ((D / (nadir - ideal)) ** 2) * weights\n",
      "A:\\anaconda3\\envs\\xmoai\\lib\\site-packages\\pymoo\\algorithms\\rnsga2.py:183: RuntimeWarning: invalid value encountered in true_divide\n",
      "  N = ((D / (nadir - ideal)) ** 2) * weights\n",
      "A:\\anaconda3\\envs\\xmoai\\lib\\site-packages\\pymoo\\algorithms\\rnsga2.py:183: RuntimeWarning: invalid value encountered in true_divide\n",
      "  N = ((D / (nadir - ideal)) ** 2) * weights\n",
      "A:\\anaconda3\\envs\\xmoai\\lib\\site-packages\\pymoo\\algorithms\\rnsga2.py:183: RuntimeWarning: invalid value encountered in true_divide\n",
      "  N = ((D / (nadir - ideal)) ** 2) * weights\n",
      "A:\\anaconda3\\envs\\xmoai\\lib\\site-packages\\pymoo\\algorithms\\rnsga2.py:183: RuntimeWarning: invalid value encountered in true_divide\n",
      "  N = ((D / (nadir - ideal)) ** 2) * weights\n",
      "A:\\anaconda3\\envs\\xmoai\\lib\\site-packages\\pymoo\\algorithms\\rnsga2.py:183: RuntimeWarning: invalid value encountered in true_divide\n",
      "  N = ((D / (nadir - ideal)) ** 2) * weights\n",
      "A:\\anaconda3\\envs\\xmoai\\lib\\site-packages\\pymoo\\algorithms\\rnsga2.py:183: RuntimeWarning: invalid value encountered in true_divide\n",
      "  N = ((D / (nadir - ideal)) ** 2) * weights\n",
      "A:\\anaconda3\\envs\\xmoai\\lib\\site-packages\\pymoo\\algorithms\\rnsga2.py:183: RuntimeWarning: invalid value encountered in true_divide\n",
      "  N = ((D / (nadir - ideal)) ** 2) * weights\n",
      "A:\\anaconda3\\envs\\xmoai\\lib\\site-packages\\pymoo\\algorithms\\rnsga2.py:183: RuntimeWarning: invalid value encountered in true_divide\n",
      "  N = ((D / (nadir - ideal)) ** 2) * weights\n",
      "A:\\anaconda3\\envs\\xmoai\\lib\\site-packages\\pymoo\\algorithms\\rnsga2.py:183: RuntimeWarning: invalid value encountered in true_divide\n",
      "  N = ((D / (nadir - ideal)) ** 2) * weights\n",
      "A:\\anaconda3\\envs\\xmoai\\lib\\site-packages\\pymoo\\algorithms\\rnsga2.py:183: RuntimeWarning: invalid value encountered in true_divide\n",
      "  N = ((D / (nadir - ideal)) ** 2) * weights\n",
      "A:\\anaconda3\\envs\\xmoai\\lib\\site-packages\\pymoo\\algorithms\\rnsga2.py:183: RuntimeWarning: invalid value encountered in true_divide\n",
      "  N = ((D / (nadir - ideal)) ** 2) * weights\n",
      "A:\\anaconda3\\envs\\xmoai\\lib\\site-packages\\pymoo\\algorithms\\rnsga2.py:183: RuntimeWarning: invalid value encountered in true_divide\n",
      "  N = ((D / (nadir - ideal)) ** 2) * weights\n",
      "A:\\anaconda3\\envs\\xmoai\\lib\\site-packages\\pymoo\\algorithms\\rnsga2.py:183: RuntimeWarning: invalid value encountered in true_divide\n",
      "  N = ((D / (nadir - ideal)) ** 2) * weights\n",
      "A:\\anaconda3\\envs\\xmoai\\lib\\site-packages\\pymoo\\algorithms\\rnsga2.py:183: RuntimeWarning: invalid value encountered in true_divide\n",
      "  N = ((D / (nadir - ideal)) ** 2) * weights\n",
      "A:\\anaconda3\\envs\\xmoai\\lib\\site-packages\\pymoo\\algorithms\\rnsga2.py:183: RuntimeWarning: invalid value encountered in true_divide\n",
      "  N = ((D / (nadir - ideal)) ** 2) * weights\n",
      "A:\\anaconda3\\envs\\xmoai\\lib\\site-packages\\pymoo\\algorithms\\rnsga2.py:183: RuntimeWarning: invalid value encountered in true_divide\n",
      "  N = ((D / (nadir - ideal)) ** 2) * weights\n",
      "A:\\anaconda3\\envs\\xmoai\\lib\\site-packages\\pymoo\\algorithms\\rnsga2.py:183: RuntimeWarning: invalid value encountered in true_divide\n",
      "  N = ((D / (nadir - ideal)) ** 2) * weights\n",
      "A:\\anaconda3\\envs\\xmoai\\lib\\site-packages\\pymoo\\algorithms\\rnsga2.py:183: RuntimeWarning: invalid value encountered in true_divide\n",
      "  N = ((D / (nadir - ideal)) ** 2) * weights\n",
      "A:\\anaconda3\\envs\\xmoai\\lib\\site-packages\\pymoo\\algorithms\\rnsga2.py:183: RuntimeWarning: invalid value encountered in true_divide\n",
      "  N = ((D / (nadir - ideal)) ** 2) * weights\n",
      "A:\\anaconda3\\envs\\xmoai\\lib\\site-packages\\pymoo\\algorithms\\rnsga2.py:183: RuntimeWarning: invalid value encountered in true_divide\n",
      "  N = ((D / (nadir - ideal)) ** 2) * weights\n",
      "A:\\anaconda3\\envs\\xmoai\\lib\\site-packages\\pymoo\\algorithms\\rnsga2.py:183: RuntimeWarning: invalid value encountered in true_divide\n",
      "  N = ((D / (nadir - ideal)) ** 2) * weights\n"
     ]
    },
    {
     "name": "stderr",
     "output_type": "stream",
     "text": [
      "A:\\anaconda3\\envs\\xmoai\\lib\\site-packages\\pymoo\\algorithms\\rnsga2.py:183: RuntimeWarning: invalid value encountered in true_divide\n",
      "  N = ((D / (nadir - ideal)) ** 2) * weights\n",
      "A:\\anaconda3\\envs\\xmoai\\lib\\site-packages\\pymoo\\algorithms\\rnsga2.py:183: RuntimeWarning: invalid value encountered in true_divide\n",
      "  N = ((D / (nadir - ideal)) ** 2) * weights\n",
      "A:\\anaconda3\\envs\\xmoai\\lib\\site-packages\\pymoo\\algorithms\\rnsga2.py:183: RuntimeWarning: invalid value encountered in true_divide\n",
      "  N = ((D / (nadir - ideal)) ** 2) * weights\n",
      "A:\\anaconda3\\envs\\xmoai\\lib\\site-packages\\topsis\\topsis.py:66: RuntimeWarning: invalid value encountered in true_divide\n",
      "  self.r = self.a/np.array(np.linalg.norm(self.a, axis=1)[:, np.newaxis])\n",
      "A:\\anaconda3\\envs\\xmoai\\lib\\site-packages\\topsis\\topsis.py:66: RuntimeWarning: invalid value encountered in true_divide\n",
      "  self.r = self.a/np.array(np.linalg.norm(self.a, axis=1)[:, np.newaxis])\n",
      "A:\\anaconda3\\envs\\xmoai\\lib\\site-packages\\topsis\\topsis.py:66: RuntimeWarning: invalid value encountered in true_divide\n",
      "  self.r = self.a/np.array(np.linalg.norm(self.a, axis=1)[:, np.newaxis])\n",
      "A:\\anaconda3\\envs\\xmoai\\lib\\site-packages\\topsis\\topsis.py:66: RuntimeWarning: invalid value encountered in true_divide\n",
      "  self.r = self.a/np.array(np.linalg.norm(self.a, axis=1)[:, np.newaxis])\n",
      "A:\\anaconda3\\envs\\xmoai\\lib\\site-packages\\topsis\\topsis.py:66: RuntimeWarning: invalid value encountered in true_divide\n",
      "  self.r = self.a/np.array(np.linalg.norm(self.a, axis=1)[:, np.newaxis])\n",
      "A:\\anaconda3\\envs\\xmoai\\lib\\site-packages\\topsis\\topsis.py:66: RuntimeWarning: invalid value encountered in true_divide\n",
      "  self.r = self.a/np.array(np.linalg.norm(self.a, axis=1)[:, np.newaxis])\n"
     ]
    },
    {
     "data": {
      "text/plain": [
       "'Training AIF360 - AdversarialDebiasing'"
      ]
     },
     "metadata": {},
     "output_type": "display_data"
    },
    {
     "data": {
      "text/plain": [
       "'Training AIF360 - PostProcessingMeta'"
      ]
     },
     "metadata": {},
     "output_type": "display_data"
    },
    {
     "data": {
      "text/plain": [
       "'Seed 2'"
      ]
     },
     "metadata": {},
     "output_type": "display_data"
    },
    {
     "data": {
      "text/plain": [
       "'Training the Voting Ensemble'"
      ]
     },
     "metadata": {},
     "output_type": "display_data"
    },
    {
     "data": {
      "text/plain": [
       "'Training Fairlearn'"
      ]
     },
     "metadata": {},
     "output_type": "display_data"
    },
    {
     "data": {
      "text/plain": [
       "'Training scikit-lego - DemographicParityClassifier'"
      ]
     },
     "metadata": {},
     "output_type": "display_data"
    },
    {
     "data": {
      "text/plain": [
       "'Training scikit-lego - EqualOpportunityClassifier'"
      ]
     },
     "metadata": {},
     "output_type": "display_data"
    },
    {
     "data": {
      "text/plain": [
       "'Training the proposal (nsga2)'"
      ]
     },
     "metadata": {},
     "output_type": "display_data"
    },
    {
     "name": "stderr",
     "output_type": "stream",
     "text": [
      "A:\\anaconda3\\envs\\xmoai\\lib\\site-packages\\topsis\\topsis.py:66: RuntimeWarning: invalid value encountered in true_divide\n",
      "  self.r = self.a/np.array(np.linalg.norm(self.a, axis=1)[:, np.newaxis])\n",
      "A:\\anaconda3\\envs\\xmoai\\lib\\site-packages\\topsis\\topsis.py:66: RuntimeWarning: invalid value encountered in true_divide\n",
      "  self.r = self.a/np.array(np.linalg.norm(self.a, axis=1)[:, np.newaxis])\n",
      "A:\\anaconda3\\envs\\xmoai\\lib\\site-packages\\topsis\\topsis.py:66: RuntimeWarning: invalid value encountered in true_divide\n",
      "  self.r = self.a/np.array(np.linalg.norm(self.a, axis=1)[:, np.newaxis])\n",
      "A:\\anaconda3\\envs\\xmoai\\lib\\site-packages\\topsis\\topsis.py:66: RuntimeWarning: invalid value encountered in true_divide\n",
      "  self.r = self.a/np.array(np.linalg.norm(self.a, axis=1)[:, np.newaxis])\n",
      "A:\\anaconda3\\envs\\xmoai\\lib\\site-packages\\topsis\\topsis.py:66: RuntimeWarning: invalid value encountered in true_divide\n",
      "  self.r = self.a/np.array(np.linalg.norm(self.a, axis=1)[:, np.newaxis])\n",
      "A:\\anaconda3\\envs\\xmoai\\lib\\site-packages\\topsis\\topsis.py:66: RuntimeWarning: invalid value encountered in true_divide\n",
      "  self.r = self.a/np.array(np.linalg.norm(self.a, axis=1)[:, np.newaxis])\n"
     ]
    },
    {
     "data": {
      "text/plain": [
       "'Training the proposal (rnsga2)'"
      ]
     },
     "metadata": {},
     "output_type": "display_data"
    },
    {
     "name": "stderr",
     "output_type": "stream",
     "text": [
      "A:\\anaconda3\\envs\\xmoai\\lib\\site-packages\\pymoo\\algorithms\\rnsga2.py:183: RuntimeWarning: invalid value encountered in true_divide\n",
      "  N = ((D / (nadir - ideal)) ** 2) * weights\n",
      "A:\\anaconda3\\envs\\xmoai\\lib\\site-packages\\pymoo\\algorithms\\rnsga2.py:183: RuntimeWarning: invalid value encountered in true_divide\n",
      "  N = ((D / (nadir - ideal)) ** 2) * weights\n",
      "A:\\anaconda3\\envs\\xmoai\\lib\\site-packages\\pymoo\\algorithms\\rnsga2.py:183: RuntimeWarning: invalid value encountered in true_divide\n",
      "  N = ((D / (nadir - ideal)) ** 2) * weights\n",
      "A:\\anaconda3\\envs\\xmoai\\lib\\site-packages\\pymoo\\algorithms\\rnsga2.py:183: RuntimeWarning: invalid value encountered in true_divide\n",
      "  N = ((D / (nadir - ideal)) ** 2) * weights\n",
      "A:\\anaconda3\\envs\\xmoai\\lib\\site-packages\\pymoo\\algorithms\\rnsga2.py:183: RuntimeWarning: invalid value encountered in true_divide\n",
      "  N = ((D / (nadir - ideal)) ** 2) * weights\n",
      "A:\\anaconda3\\envs\\xmoai\\lib\\site-packages\\pymoo\\algorithms\\rnsga2.py:183: RuntimeWarning: invalid value encountered in true_divide\n",
      "  N = ((D / (nadir - ideal)) ** 2) * weights\n",
      "A:\\anaconda3\\envs\\xmoai\\lib\\site-packages\\pymoo\\algorithms\\rnsga2.py:183: RuntimeWarning: invalid value encountered in true_divide\n",
      "  N = ((D / (nadir - ideal)) ** 2) * weights\n",
      "A:\\anaconda3\\envs\\xmoai\\lib\\site-packages\\pymoo\\algorithms\\rnsga2.py:183: RuntimeWarning: invalid value encountered in true_divide\n",
      "  N = ((D / (nadir - ideal)) ** 2) * weights\n",
      "A:\\anaconda3\\envs\\xmoai\\lib\\site-packages\\pymoo\\algorithms\\rnsga2.py:183: RuntimeWarning: invalid value encountered in true_divide\n",
      "  N = ((D / (nadir - ideal)) ** 2) * weights\n",
      "A:\\anaconda3\\envs\\xmoai\\lib\\site-packages\\pymoo\\algorithms\\rnsga2.py:183: RuntimeWarning: invalid value encountered in true_divide\n",
      "  N = ((D / (nadir - ideal)) ** 2) * weights\n",
      "A:\\anaconda3\\envs\\xmoai\\lib\\site-packages\\pymoo\\algorithms\\rnsga2.py:183: RuntimeWarning: invalid value encountered in true_divide\n",
      "  N = ((D / (nadir - ideal)) ** 2) * weights\n",
      "A:\\anaconda3\\envs\\xmoai\\lib\\site-packages\\pymoo\\algorithms\\rnsga2.py:183: RuntimeWarning: invalid value encountered in true_divide\n",
      "  N = ((D / (nadir - ideal)) ** 2) * weights\n",
      "A:\\anaconda3\\envs\\xmoai\\lib\\site-packages\\pymoo\\algorithms\\rnsga2.py:183: RuntimeWarning: invalid value encountered in true_divide\n",
      "  N = ((D / (nadir - ideal)) ** 2) * weights\n",
      "A:\\anaconda3\\envs\\xmoai\\lib\\site-packages\\pymoo\\algorithms\\rnsga2.py:183: RuntimeWarning: invalid value encountered in true_divide\n",
      "  N = ((D / (nadir - ideal)) ** 2) * weights\n",
      "A:\\anaconda3\\envs\\xmoai\\lib\\site-packages\\pymoo\\algorithms\\rnsga2.py:183: RuntimeWarning: invalid value encountered in true_divide\n",
      "  N = ((D / (nadir - ideal)) ** 2) * weights\n",
      "A:\\anaconda3\\envs\\xmoai\\lib\\site-packages\\pymoo\\algorithms\\rnsga2.py:183: RuntimeWarning: invalid value encountered in true_divide\n",
      "  N = ((D / (nadir - ideal)) ** 2) * weights\n",
      "A:\\anaconda3\\envs\\xmoai\\lib\\site-packages\\pymoo\\algorithms\\rnsga2.py:183: RuntimeWarning: invalid value encountered in true_divide\n",
      "  N = ((D / (nadir - ideal)) ** 2) * weights\n",
      "A:\\anaconda3\\envs\\xmoai\\lib\\site-packages\\pymoo\\algorithms\\rnsga2.py:183: RuntimeWarning: invalid value encountered in true_divide\n",
      "  N = ((D / (nadir - ideal)) ** 2) * weights\n",
      "A:\\anaconda3\\envs\\xmoai\\lib\\site-packages\\pymoo\\algorithms\\rnsga2.py:183: RuntimeWarning: invalid value encountered in true_divide\n",
      "  N = ((D / (nadir - ideal)) ** 2) * weights\n",
      "A:\\anaconda3\\envs\\xmoai\\lib\\site-packages\\pymoo\\algorithms\\rnsga2.py:183: RuntimeWarning: invalid value encountered in true_divide\n",
      "  N = ((D / (nadir - ideal)) ** 2) * weights\n",
      "A:\\anaconda3\\envs\\xmoai\\lib\\site-packages\\pymoo\\algorithms\\rnsga2.py:183: RuntimeWarning: invalid value encountered in true_divide\n",
      "  N = ((D / (nadir - ideal)) ** 2) * weights\n",
      "A:\\anaconda3\\envs\\xmoai\\lib\\site-packages\\pymoo\\algorithms\\rnsga2.py:183: RuntimeWarning: invalid value encountered in true_divide\n",
      "  N = ((D / (nadir - ideal)) ** 2) * weights\n",
      "A:\\anaconda3\\envs\\xmoai\\lib\\site-packages\\pymoo\\algorithms\\rnsga2.py:183: RuntimeWarning: invalid value encountered in true_divide\n",
      "  N = ((D / (nadir - ideal)) ** 2) * weights\n",
      "A:\\anaconda3\\envs\\xmoai\\lib\\site-packages\\pymoo\\algorithms\\rnsga2.py:183: RuntimeWarning: invalid value encountered in true_divide\n",
      "  N = ((D / (nadir - ideal)) ** 2) * weights\n",
      "A:\\anaconda3\\envs\\xmoai\\lib\\site-packages\\pymoo\\algorithms\\rnsga2.py:183: RuntimeWarning: invalid value encountered in true_divide\n",
      "  N = ((D / (nadir - ideal)) ** 2) * weights\n",
      "A:\\anaconda3\\envs\\xmoai\\lib\\site-packages\\pymoo\\algorithms\\rnsga2.py:183: RuntimeWarning: invalid value encountered in true_divide\n",
      "  N = ((D / (nadir - ideal)) ** 2) * weights\n",
      "A:\\anaconda3\\envs\\xmoai\\lib\\site-packages\\pymoo\\algorithms\\rnsga2.py:183: RuntimeWarning: invalid value encountered in true_divide\n",
      "  N = ((D / (nadir - ideal)) ** 2) * weights\n",
      "A:\\anaconda3\\envs\\xmoai\\lib\\site-packages\\pymoo\\algorithms\\rnsga2.py:183: RuntimeWarning: invalid value encountered in true_divide\n",
      "  N = ((D / (nadir - ideal)) ** 2) * weights\n",
      "A:\\anaconda3\\envs\\xmoai\\lib\\site-packages\\pymoo\\algorithms\\rnsga2.py:183: RuntimeWarning: invalid value encountered in true_divide\n",
      "  N = ((D / (nadir - ideal)) ** 2) * weights\n",
      "A:\\anaconda3\\envs\\xmoai\\lib\\site-packages\\pymoo\\algorithms\\rnsga2.py:183: RuntimeWarning: invalid value encountered in true_divide\n",
      "  N = ((D / (nadir - ideal)) ** 2) * weights\n",
      "A:\\anaconda3\\envs\\xmoai\\lib\\site-packages\\pymoo\\algorithms\\rnsga2.py:183: RuntimeWarning: invalid value encountered in true_divide\n",
      "  N = ((D / (nadir - ideal)) ** 2) * weights\n",
      "A:\\anaconda3\\envs\\xmoai\\lib\\site-packages\\pymoo\\algorithms\\rnsga2.py:183: RuntimeWarning: invalid value encountered in true_divide\n",
      "  N = ((D / (nadir - ideal)) ** 2) * weights\n",
      "A:\\anaconda3\\envs\\xmoai\\lib\\site-packages\\pymoo\\algorithms\\rnsga2.py:183: RuntimeWarning: invalid value encountered in true_divide\n",
      "  N = ((D / (nadir - ideal)) ** 2) * weights\n",
      "A:\\anaconda3\\envs\\xmoai\\lib\\site-packages\\pymoo\\algorithms\\rnsga2.py:183: RuntimeWarning: invalid value encountered in true_divide\n",
      "  N = ((D / (nadir - ideal)) ** 2) * weights\n",
      "A:\\anaconda3\\envs\\xmoai\\lib\\site-packages\\pymoo\\algorithms\\rnsga2.py:183: RuntimeWarning: invalid value encountered in true_divide\n",
      "  N = ((D / (nadir - ideal)) ** 2) * weights\n",
      "A:\\anaconda3\\envs\\xmoai\\lib\\site-packages\\pymoo\\algorithms\\rnsga2.py:183: RuntimeWarning: invalid value encountered in true_divide\n",
      "  N = ((D / (nadir - ideal)) ** 2) * weights\n",
      "A:\\anaconda3\\envs\\xmoai\\lib\\site-packages\\pymoo\\algorithms\\rnsga2.py:183: RuntimeWarning: invalid value encountered in true_divide\n",
      "  N = ((D / (nadir - ideal)) ** 2) * weights\n",
      "A:\\anaconda3\\envs\\xmoai\\lib\\site-packages\\pymoo\\algorithms\\rnsga2.py:183: RuntimeWarning: invalid value encountered in true_divide\n",
      "  N = ((D / (nadir - ideal)) ** 2) * weights\n",
      "A:\\anaconda3\\envs\\xmoai\\lib\\site-packages\\pymoo\\algorithms\\rnsga2.py:183: RuntimeWarning: invalid value encountered in true_divide\n",
      "  N = ((D / (nadir - ideal)) ** 2) * weights\n",
      "A:\\anaconda3\\envs\\xmoai\\lib\\site-packages\\pymoo\\algorithms\\rnsga2.py:183: RuntimeWarning: invalid value encountered in true_divide\n",
      "  N = ((D / (nadir - ideal)) ** 2) * weights\n",
      "A:\\anaconda3\\envs\\xmoai\\lib\\site-packages\\pymoo\\algorithms\\rnsga2.py:183: RuntimeWarning: invalid value encountered in true_divide\n",
      "  N = ((D / (nadir - ideal)) ** 2) * weights\n",
      "A:\\anaconda3\\envs\\xmoai\\lib\\site-packages\\pymoo\\algorithms\\rnsga2.py:183: RuntimeWarning: invalid value encountered in true_divide\n",
      "  N = ((D / (nadir - ideal)) ** 2) * weights\n",
      "A:\\anaconda3\\envs\\xmoai\\lib\\site-packages\\pymoo\\algorithms\\rnsga2.py:183: RuntimeWarning: invalid value encountered in true_divide\n",
      "  N = ((D / (nadir - ideal)) ** 2) * weights\n",
      "A:\\anaconda3\\envs\\xmoai\\lib\\site-packages\\pymoo\\algorithms\\rnsga2.py:183: RuntimeWarning: invalid value encountered in true_divide\n",
      "  N = ((D / (nadir - ideal)) ** 2) * weights\n",
      "A:\\anaconda3\\envs\\xmoai\\lib\\site-packages\\pymoo\\algorithms\\rnsga2.py:183: RuntimeWarning: invalid value encountered in true_divide\n",
      "  N = ((D / (nadir - ideal)) ** 2) * weights\n",
      "A:\\anaconda3\\envs\\xmoai\\lib\\site-packages\\pymoo\\algorithms\\rnsga2.py:183: RuntimeWarning: invalid value encountered in true_divide\n",
      "  N = ((D / (nadir - ideal)) ** 2) * weights\n",
      "A:\\anaconda3\\envs\\xmoai\\lib\\site-packages\\pymoo\\algorithms\\rnsga2.py:183: RuntimeWarning: invalid value encountered in true_divide\n",
      "  N = ((D / (nadir - ideal)) ** 2) * weights\n"
     ]
    },
    {
     "name": "stderr",
     "output_type": "stream",
     "text": [
      "A:\\anaconda3\\envs\\xmoai\\lib\\site-packages\\pymoo\\algorithms\\rnsga2.py:183: RuntimeWarning: invalid value encountered in true_divide\n",
      "  N = ((D / (nadir - ideal)) ** 2) * weights\n",
      "A:\\anaconda3\\envs\\xmoai\\lib\\site-packages\\pymoo\\algorithms\\rnsga2.py:183: RuntimeWarning: invalid value encountered in true_divide\n",
      "  N = ((D / (nadir - ideal)) ** 2) * weights\n",
      "A:\\anaconda3\\envs\\xmoai\\lib\\site-packages\\pymoo\\algorithms\\rnsga2.py:183: RuntimeWarning: invalid value encountered in true_divide\n",
      "  N = ((D / (nadir - ideal)) ** 2) * weights\n",
      "A:\\anaconda3\\envs\\xmoai\\lib\\site-packages\\topsis\\topsis.py:66: RuntimeWarning: invalid value encountered in true_divide\n",
      "  self.r = self.a/np.array(np.linalg.norm(self.a, axis=1)[:, np.newaxis])\n",
      "A:\\anaconda3\\envs\\xmoai\\lib\\site-packages\\topsis\\topsis.py:66: RuntimeWarning: invalid value encountered in true_divide\n",
      "  self.r = self.a/np.array(np.linalg.norm(self.a, axis=1)[:, np.newaxis])\n",
      "A:\\anaconda3\\envs\\xmoai\\lib\\site-packages\\topsis\\topsis.py:66: RuntimeWarning: invalid value encountered in true_divide\n",
      "  self.r = self.a/np.array(np.linalg.norm(self.a, axis=1)[:, np.newaxis])\n",
      "A:\\anaconda3\\envs\\xmoai\\lib\\site-packages\\topsis\\topsis.py:66: RuntimeWarning: invalid value encountered in true_divide\n",
      "  self.r = self.a/np.array(np.linalg.norm(self.a, axis=1)[:, np.newaxis])\n",
      "A:\\anaconda3\\envs\\xmoai\\lib\\site-packages\\topsis\\topsis.py:66: RuntimeWarning: invalid value encountered in true_divide\n",
      "  self.r = self.a/np.array(np.linalg.norm(self.a, axis=1)[:, np.newaxis])\n",
      "A:\\anaconda3\\envs\\xmoai\\lib\\site-packages\\topsis\\topsis.py:66: RuntimeWarning: invalid value encountered in true_divide\n",
      "  self.r = self.a/np.array(np.linalg.norm(self.a, axis=1)[:, np.newaxis])\n"
     ]
    },
    {
     "data": {
      "text/plain": [
       "'Training AIF360 - AdversarialDebiasing'"
      ]
     },
     "metadata": {},
     "output_type": "display_data"
    },
    {
     "data": {
      "text/plain": [
       "'Training AIF360 - PostProcessingMeta'"
      ]
     },
     "metadata": {},
     "output_type": "display_data"
    },
    {
     "data": {
      "text/plain": [
       "'Seed 3'"
      ]
     },
     "metadata": {},
     "output_type": "display_data"
    },
    {
     "data": {
      "text/plain": [
       "'Training the Voting Ensemble'"
      ]
     },
     "metadata": {},
     "output_type": "display_data"
    },
    {
     "data": {
      "text/plain": [
       "'Training Fairlearn'"
      ]
     },
     "metadata": {},
     "output_type": "display_data"
    },
    {
     "data": {
      "text/plain": [
       "'Training scikit-lego - DemographicParityClassifier'"
      ]
     },
     "metadata": {},
     "output_type": "display_data"
    },
    {
     "data": {
      "text/plain": [
       "'Training scikit-lego - EqualOpportunityClassifier'"
      ]
     },
     "metadata": {},
     "output_type": "display_data"
    },
    {
     "data": {
      "text/plain": [
       "'Training the proposal (nsga2)'"
      ]
     },
     "metadata": {},
     "output_type": "display_data"
    },
    {
     "data": {
      "text/plain": [
       "'Training the proposal (rnsga2)'"
      ]
     },
     "metadata": {},
     "output_type": "display_data"
    },
    {
     "name": "stderr",
     "output_type": "stream",
     "text": [
      "A:\\anaconda3\\envs\\xmoai\\lib\\site-packages\\pymoo\\algorithms\\rnsga2.py:183: RuntimeWarning: invalid value encountered in true_divide\n",
      "  N = ((D / (nadir - ideal)) ** 2) * weights\n",
      "A:\\anaconda3\\envs\\xmoai\\lib\\site-packages\\pymoo\\algorithms\\rnsga2.py:183: RuntimeWarning: invalid value encountered in true_divide\n",
      "  N = ((D / (nadir - ideal)) ** 2) * weights\n",
      "A:\\anaconda3\\envs\\xmoai\\lib\\site-packages\\pymoo\\algorithms\\rnsga2.py:183: RuntimeWarning: invalid value encountered in true_divide\n",
      "  N = ((D / (nadir - ideal)) ** 2) * weights\n",
      "A:\\anaconda3\\envs\\xmoai\\lib\\site-packages\\pymoo\\algorithms\\rnsga2.py:183: RuntimeWarning: invalid value encountered in true_divide\n",
      "  N = ((D / (nadir - ideal)) ** 2) * weights\n",
      "A:\\anaconda3\\envs\\xmoai\\lib\\site-packages\\pymoo\\algorithms\\rnsga2.py:183: RuntimeWarning: invalid value encountered in true_divide\n",
      "  N = ((D / (nadir - ideal)) ** 2) * weights\n",
      "A:\\anaconda3\\envs\\xmoai\\lib\\site-packages\\pymoo\\algorithms\\rnsga2.py:183: RuntimeWarning: invalid value encountered in true_divide\n",
      "  N = ((D / (nadir - ideal)) ** 2) * weights\n",
      "A:\\anaconda3\\envs\\xmoai\\lib\\site-packages\\pymoo\\algorithms\\rnsga2.py:183: RuntimeWarning: invalid value encountered in true_divide\n",
      "  N = ((D / (nadir - ideal)) ** 2) * weights\n",
      "A:\\anaconda3\\envs\\xmoai\\lib\\site-packages\\pymoo\\algorithms\\rnsga2.py:183: RuntimeWarning: invalid value encountered in true_divide\n",
      "  N = ((D / (nadir - ideal)) ** 2) * weights\n",
      "A:\\anaconda3\\envs\\xmoai\\lib\\site-packages\\pymoo\\algorithms\\rnsga2.py:183: RuntimeWarning: invalid value encountered in true_divide\n",
      "  N = ((D / (nadir - ideal)) ** 2) * weights\n",
      "A:\\anaconda3\\envs\\xmoai\\lib\\site-packages\\pymoo\\algorithms\\rnsga2.py:183: RuntimeWarning: invalid value encountered in true_divide\n",
      "  N = ((D / (nadir - ideal)) ** 2) * weights\n",
      "A:\\anaconda3\\envs\\xmoai\\lib\\site-packages\\pymoo\\algorithms\\rnsga2.py:183: RuntimeWarning: invalid value encountered in true_divide\n",
      "  N = ((D / (nadir - ideal)) ** 2) * weights\n",
      "A:\\anaconda3\\envs\\xmoai\\lib\\site-packages\\pymoo\\algorithms\\rnsga2.py:183: RuntimeWarning: invalid value encountered in true_divide\n",
      "  N = ((D / (nadir - ideal)) ** 2) * weights\n",
      "A:\\anaconda3\\envs\\xmoai\\lib\\site-packages\\pymoo\\algorithms\\rnsga2.py:183: RuntimeWarning: invalid value encountered in true_divide\n",
      "  N = ((D / (nadir - ideal)) ** 2) * weights\n",
      "A:\\anaconda3\\envs\\xmoai\\lib\\site-packages\\pymoo\\algorithms\\rnsga2.py:183: RuntimeWarning: invalid value encountered in true_divide\n",
      "  N = ((D / (nadir - ideal)) ** 2) * weights\n",
      "A:\\anaconda3\\envs\\xmoai\\lib\\site-packages\\pymoo\\algorithms\\rnsga2.py:183: RuntimeWarning: invalid value encountered in true_divide\n",
      "  N = ((D / (nadir - ideal)) ** 2) * weights\n",
      "A:\\anaconda3\\envs\\xmoai\\lib\\site-packages\\pymoo\\algorithms\\rnsga2.py:183: RuntimeWarning: invalid value encountered in true_divide\n",
      "  N = ((D / (nadir - ideal)) ** 2) * weights\n",
      "A:\\anaconda3\\envs\\xmoai\\lib\\site-packages\\pymoo\\algorithms\\rnsga2.py:183: RuntimeWarning: invalid value encountered in true_divide\n",
      "  N = ((D / (nadir - ideal)) ** 2) * weights\n",
      "A:\\anaconda3\\envs\\xmoai\\lib\\site-packages\\pymoo\\algorithms\\rnsga2.py:183: RuntimeWarning: invalid value encountered in true_divide\n",
      "  N = ((D / (nadir - ideal)) ** 2) * weights\n",
      "A:\\anaconda3\\envs\\xmoai\\lib\\site-packages\\pymoo\\algorithms\\rnsga2.py:183: RuntimeWarning: invalid value encountered in true_divide\n",
      "  N = ((D / (nadir - ideal)) ** 2) * weights\n",
      "A:\\anaconda3\\envs\\xmoai\\lib\\site-packages\\pymoo\\algorithms\\rnsga2.py:183: RuntimeWarning: invalid value encountered in true_divide\n",
      "  N = ((D / (nadir - ideal)) ** 2) * weights\n",
      "A:\\anaconda3\\envs\\xmoai\\lib\\site-packages\\pymoo\\algorithms\\rnsga2.py:183: RuntimeWarning: invalid value encountered in true_divide\n",
      "  N = ((D / (nadir - ideal)) ** 2) * weights\n",
      "A:\\anaconda3\\envs\\xmoai\\lib\\site-packages\\pymoo\\algorithms\\rnsga2.py:183: RuntimeWarning: invalid value encountered in true_divide\n",
      "  N = ((D / (nadir - ideal)) ** 2) * weights\n",
      "A:\\anaconda3\\envs\\xmoai\\lib\\site-packages\\pymoo\\algorithms\\rnsga2.py:183: RuntimeWarning: invalid value encountered in true_divide\n",
      "  N = ((D / (nadir - ideal)) ** 2) * weights\n",
      "A:\\anaconda3\\envs\\xmoai\\lib\\site-packages\\pymoo\\algorithms\\rnsga2.py:183: RuntimeWarning: invalid value encountered in true_divide\n",
      "  N = ((D / (nadir - ideal)) ** 2) * weights\n",
      "A:\\anaconda3\\envs\\xmoai\\lib\\site-packages\\pymoo\\algorithms\\rnsga2.py:183: RuntimeWarning: invalid value encountered in true_divide\n",
      "  N = ((D / (nadir - ideal)) ** 2) * weights\n",
      "A:\\anaconda3\\envs\\xmoai\\lib\\site-packages\\pymoo\\algorithms\\rnsga2.py:183: RuntimeWarning: invalid value encountered in true_divide\n",
      "  N = ((D / (nadir - ideal)) ** 2) * weights\n",
      "A:\\anaconda3\\envs\\xmoai\\lib\\site-packages\\pymoo\\algorithms\\rnsga2.py:183: RuntimeWarning: invalid value encountered in true_divide\n",
      "  N = ((D / (nadir - ideal)) ** 2) * weights\n",
      "A:\\anaconda3\\envs\\xmoai\\lib\\site-packages\\pymoo\\algorithms\\rnsga2.py:183: RuntimeWarning: invalid value encountered in true_divide\n",
      "  N = ((D / (nadir - ideal)) ** 2) * weights\n",
      "A:\\anaconda3\\envs\\xmoai\\lib\\site-packages\\pymoo\\algorithms\\rnsga2.py:183: RuntimeWarning: invalid value encountered in true_divide\n",
      "  N = ((D / (nadir - ideal)) ** 2) * weights\n"
     ]
    },
    {
     "data": {
      "text/plain": [
       "'Training AIF360 - AdversarialDebiasing'"
      ]
     },
     "metadata": {},
     "output_type": "display_data"
    },
    {
     "data": {
      "text/plain": [
       "'Training AIF360 - PostProcessingMeta'"
      ]
     },
     "metadata": {},
     "output_type": "display_data"
    },
    {
     "data": {
      "text/plain": [
       "'Seed 4'"
      ]
     },
     "metadata": {},
     "output_type": "display_data"
    },
    {
     "data": {
      "text/plain": [
       "'Training the Voting Ensemble'"
      ]
     },
     "metadata": {},
     "output_type": "display_data"
    },
    {
     "data": {
      "text/plain": [
       "'Training Fairlearn'"
      ]
     },
     "metadata": {},
     "output_type": "display_data"
    },
    {
     "data": {
      "text/plain": [
       "'Training scikit-lego - DemographicParityClassifier'"
      ]
     },
     "metadata": {},
     "output_type": "display_data"
    },
    {
     "data": {
      "text/plain": [
       "'Training scikit-lego - EqualOpportunityClassifier'"
      ]
     },
     "metadata": {},
     "output_type": "display_data"
    },
    {
     "data": {
      "text/plain": [
       "'Training the proposal (nsga2)'"
      ]
     },
     "metadata": {},
     "output_type": "display_data"
    },
    {
     "name": "stderr",
     "output_type": "stream",
     "text": [
      "A:\\anaconda3\\envs\\xmoai\\lib\\site-packages\\topsis\\topsis.py:66: RuntimeWarning: invalid value encountered in true_divide\n",
      "  self.r = self.a/np.array(np.linalg.norm(self.a, axis=1)[:, np.newaxis])\n",
      "A:\\anaconda3\\envs\\xmoai\\lib\\site-packages\\topsis\\topsis.py:66: RuntimeWarning: invalid value encountered in true_divide\n",
      "  self.r = self.a/np.array(np.linalg.norm(self.a, axis=1)[:, np.newaxis])\n",
      "A:\\anaconda3\\envs\\xmoai\\lib\\site-packages\\topsis\\topsis.py:66: RuntimeWarning: invalid value encountered in true_divide\n",
      "  self.r = self.a/np.array(np.linalg.norm(self.a, axis=1)[:, np.newaxis])\n",
      "A:\\anaconda3\\envs\\xmoai\\lib\\site-packages\\topsis\\topsis.py:66: RuntimeWarning: invalid value encountered in true_divide\n",
      "  self.r = self.a/np.array(np.linalg.norm(self.a, axis=1)[:, np.newaxis])\n",
      "A:\\anaconda3\\envs\\xmoai\\lib\\site-packages\\topsis\\topsis.py:66: RuntimeWarning: invalid value encountered in true_divide\n",
      "  self.r = self.a/np.array(np.linalg.norm(self.a, axis=1)[:, np.newaxis])\n",
      "A:\\anaconda3\\envs\\xmoai\\lib\\site-packages\\topsis\\topsis.py:66: RuntimeWarning: invalid value encountered in true_divide\n",
      "  self.r = self.a/np.array(np.linalg.norm(self.a, axis=1)[:, np.newaxis])\n"
     ]
    },
    {
     "data": {
      "text/plain": [
       "'Training the proposal (rnsga2)'"
      ]
     },
     "metadata": {},
     "output_type": "display_data"
    },
    {
     "name": "stderr",
     "output_type": "stream",
     "text": [
      "A:\\anaconda3\\envs\\xmoai\\lib\\site-packages\\pymoo\\algorithms\\rnsga2.py:183: RuntimeWarning: invalid value encountered in true_divide\n",
      "  N = ((D / (nadir - ideal)) ** 2) * weights\n",
      "A:\\anaconda3\\envs\\xmoai\\lib\\site-packages\\pymoo\\algorithms\\rnsga2.py:183: RuntimeWarning: invalid value encountered in true_divide\n",
      "  N = ((D / (nadir - ideal)) ** 2) * weights\n",
      "A:\\anaconda3\\envs\\xmoai\\lib\\site-packages\\pymoo\\algorithms\\rnsga2.py:183: RuntimeWarning: invalid value encountered in true_divide\n",
      "  N = ((D / (nadir - ideal)) ** 2) * weights\n",
      "A:\\anaconda3\\envs\\xmoai\\lib\\site-packages\\pymoo\\algorithms\\rnsga2.py:183: RuntimeWarning: invalid value encountered in true_divide\n",
      "  N = ((D / (nadir - ideal)) ** 2) * weights\n",
      "A:\\anaconda3\\envs\\xmoai\\lib\\site-packages\\pymoo\\algorithms\\rnsga2.py:183: RuntimeWarning: invalid value encountered in true_divide\n",
      "  N = ((D / (nadir - ideal)) ** 2) * weights\n",
      "A:\\anaconda3\\envs\\xmoai\\lib\\site-packages\\pymoo\\algorithms\\rnsga2.py:183: RuntimeWarning: invalid value encountered in true_divide\n",
      "  N = ((D / (nadir - ideal)) ** 2) * weights\n",
      "A:\\anaconda3\\envs\\xmoai\\lib\\site-packages\\pymoo\\algorithms\\rnsga2.py:183: RuntimeWarning: invalid value encountered in true_divide\n",
      "  N = ((D / (nadir - ideal)) ** 2) * weights\n",
      "A:\\anaconda3\\envs\\xmoai\\lib\\site-packages\\pymoo\\algorithms\\rnsga2.py:183: RuntimeWarning: invalid value encountered in true_divide\n",
      "  N = ((D / (nadir - ideal)) ** 2) * weights\n",
      "A:\\anaconda3\\envs\\xmoai\\lib\\site-packages\\pymoo\\algorithms\\rnsga2.py:183: RuntimeWarning: invalid value encountered in true_divide\n",
      "  N = ((D / (nadir - ideal)) ** 2) * weights\n",
      "A:\\anaconda3\\envs\\xmoai\\lib\\site-packages\\pymoo\\algorithms\\rnsga2.py:183: RuntimeWarning: invalid value encountered in true_divide\n",
      "  N = ((D / (nadir - ideal)) ** 2) * weights\n",
      "A:\\anaconda3\\envs\\xmoai\\lib\\site-packages\\pymoo\\algorithms\\rnsga2.py:183: RuntimeWarning: invalid value encountered in true_divide\n",
      "  N = ((D / (nadir - ideal)) ** 2) * weights\n",
      "A:\\anaconda3\\envs\\xmoai\\lib\\site-packages\\pymoo\\algorithms\\rnsga2.py:183: RuntimeWarning: invalid value encountered in true_divide\n",
      "  N = ((D / (nadir - ideal)) ** 2) * weights\n",
      "A:\\anaconda3\\envs\\xmoai\\lib\\site-packages\\pymoo\\algorithms\\rnsga2.py:183: RuntimeWarning: invalid value encountered in true_divide\n",
      "  N = ((D / (nadir - ideal)) ** 2) * weights\n",
      "A:\\anaconda3\\envs\\xmoai\\lib\\site-packages\\pymoo\\algorithms\\rnsga2.py:183: RuntimeWarning: invalid value encountered in true_divide\n",
      "  N = ((D / (nadir - ideal)) ** 2) * weights\n",
      "A:\\anaconda3\\envs\\xmoai\\lib\\site-packages\\pymoo\\algorithms\\rnsga2.py:183: RuntimeWarning: invalid value encountered in true_divide\n",
      "  N = ((D / (nadir - ideal)) ** 2) * weights\n",
      "A:\\anaconda3\\envs\\xmoai\\lib\\site-packages\\pymoo\\algorithms\\rnsga2.py:183: RuntimeWarning: invalid value encountered in true_divide\n",
      "  N = ((D / (nadir - ideal)) ** 2) * weights\n",
      "A:\\anaconda3\\envs\\xmoai\\lib\\site-packages\\pymoo\\algorithms\\rnsga2.py:183: RuntimeWarning: invalid value encountered in true_divide\n",
      "  N = ((D / (nadir - ideal)) ** 2) * weights\n",
      "A:\\anaconda3\\envs\\xmoai\\lib\\site-packages\\pymoo\\algorithms\\rnsga2.py:183: RuntimeWarning: invalid value encountered in true_divide\n",
      "  N = ((D / (nadir - ideal)) ** 2) * weights\n",
      "A:\\anaconda3\\envs\\xmoai\\lib\\site-packages\\pymoo\\algorithms\\rnsga2.py:183: RuntimeWarning: invalid value encountered in true_divide\n",
      "  N = ((D / (nadir - ideal)) ** 2) * weights\n",
      "A:\\anaconda3\\envs\\xmoai\\lib\\site-packages\\pymoo\\algorithms\\rnsga2.py:183: RuntimeWarning: invalid value encountered in true_divide\n",
      "  N = ((D / (nadir - ideal)) ** 2) * weights\n",
      "A:\\anaconda3\\envs\\xmoai\\lib\\site-packages\\pymoo\\algorithms\\rnsga2.py:183: RuntimeWarning: invalid value encountered in true_divide\n",
      "  N = ((D / (nadir - ideal)) ** 2) * weights\n",
      "A:\\anaconda3\\envs\\xmoai\\lib\\site-packages\\pymoo\\algorithms\\rnsga2.py:183: RuntimeWarning: invalid value encountered in true_divide\n",
      "  N = ((D / (nadir - ideal)) ** 2) * weights\n",
      "A:\\anaconda3\\envs\\xmoai\\lib\\site-packages\\pymoo\\algorithms\\rnsga2.py:183: RuntimeWarning: invalid value encountered in true_divide\n",
      "  N = ((D / (nadir - ideal)) ** 2) * weights\n",
      "A:\\anaconda3\\envs\\xmoai\\lib\\site-packages\\pymoo\\algorithms\\rnsga2.py:183: RuntimeWarning: invalid value encountered in true_divide\n",
      "  N = ((D / (nadir - ideal)) ** 2) * weights\n",
      "A:\\anaconda3\\envs\\xmoai\\lib\\site-packages\\pymoo\\algorithms\\rnsga2.py:183: RuntimeWarning: invalid value encountered in true_divide\n",
      "  N = ((D / (nadir - ideal)) ** 2) * weights\n",
      "A:\\anaconda3\\envs\\xmoai\\lib\\site-packages\\pymoo\\algorithms\\rnsga2.py:183: RuntimeWarning: invalid value encountered in true_divide\n",
      "  N = ((D / (nadir - ideal)) ** 2) * weights\n",
      "A:\\anaconda3\\envs\\xmoai\\lib\\site-packages\\pymoo\\algorithms\\rnsga2.py:183: RuntimeWarning: invalid value encountered in true_divide\n",
      "  N = ((D / (nadir - ideal)) ** 2) * weights\n",
      "A:\\anaconda3\\envs\\xmoai\\lib\\site-packages\\pymoo\\algorithms\\rnsga2.py:183: RuntimeWarning: invalid value encountered in true_divide\n",
      "  N = ((D / (nadir - ideal)) ** 2) * weights\n",
      "A:\\anaconda3\\envs\\xmoai\\lib\\site-packages\\pymoo\\algorithms\\rnsga2.py:183: RuntimeWarning: invalid value encountered in true_divide\n",
      "  N = ((D / (nadir - ideal)) ** 2) * weights\n",
      "A:\\anaconda3\\envs\\xmoai\\lib\\site-packages\\pymoo\\algorithms\\rnsga2.py:183: RuntimeWarning: invalid value encountered in true_divide\n",
      "  N = ((D / (nadir - ideal)) ** 2) * weights\n",
      "A:\\anaconda3\\envs\\xmoai\\lib\\site-packages\\pymoo\\algorithms\\rnsga2.py:183: RuntimeWarning: invalid value encountered in true_divide\n",
      "  N = ((D / (nadir - ideal)) ** 2) * weights\n",
      "A:\\anaconda3\\envs\\xmoai\\lib\\site-packages\\pymoo\\algorithms\\rnsga2.py:183: RuntimeWarning: invalid value encountered in true_divide\n",
      "  N = ((D / (nadir - ideal)) ** 2) * weights\n",
      "A:\\anaconda3\\envs\\xmoai\\lib\\site-packages\\pymoo\\algorithms\\rnsga2.py:183: RuntimeWarning: invalid value encountered in true_divide\n",
      "  N = ((D / (nadir - ideal)) ** 2) * weights\n",
      "A:\\anaconda3\\envs\\xmoai\\lib\\site-packages\\pymoo\\algorithms\\rnsga2.py:183: RuntimeWarning: invalid value encountered in true_divide\n",
      "  N = ((D / (nadir - ideal)) ** 2) * weights\n",
      "A:\\anaconda3\\envs\\xmoai\\lib\\site-packages\\pymoo\\algorithms\\rnsga2.py:183: RuntimeWarning: invalid value encountered in true_divide\n",
      "  N = ((D / (nadir - ideal)) ** 2) * weights\n",
      "A:\\anaconda3\\envs\\xmoai\\lib\\site-packages\\pymoo\\algorithms\\rnsga2.py:183: RuntimeWarning: invalid value encountered in true_divide\n",
      "  N = ((D / (nadir - ideal)) ** 2) * weights\n",
      "A:\\anaconda3\\envs\\xmoai\\lib\\site-packages\\pymoo\\algorithms\\rnsga2.py:183: RuntimeWarning: invalid value encountered in true_divide\n",
      "  N = ((D / (nadir - ideal)) ** 2) * weights\n",
      "A:\\anaconda3\\envs\\xmoai\\lib\\site-packages\\pymoo\\algorithms\\rnsga2.py:183: RuntimeWarning: invalid value encountered in true_divide\n",
      "  N = ((D / (nadir - ideal)) ** 2) * weights\n",
      "A:\\anaconda3\\envs\\xmoai\\lib\\site-packages\\pymoo\\algorithms\\rnsga2.py:183: RuntimeWarning: invalid value encountered in true_divide\n",
      "  N = ((D / (nadir - ideal)) ** 2) * weights\n",
      "A:\\anaconda3\\envs\\xmoai\\lib\\site-packages\\pymoo\\algorithms\\rnsga2.py:183: RuntimeWarning: invalid value encountered in true_divide\n",
      "  N = ((D / (nadir - ideal)) ** 2) * weights\n",
      "A:\\anaconda3\\envs\\xmoai\\lib\\site-packages\\pymoo\\algorithms\\rnsga2.py:183: RuntimeWarning: invalid value encountered in true_divide\n",
      "  N = ((D / (nadir - ideal)) ** 2) * weights\n",
      "A:\\anaconda3\\envs\\xmoai\\lib\\site-packages\\pymoo\\algorithms\\rnsga2.py:183: RuntimeWarning: invalid value encountered in true_divide\n",
      "  N = ((D / (nadir - ideal)) ** 2) * weights\n",
      "A:\\anaconda3\\envs\\xmoai\\lib\\site-packages\\pymoo\\algorithms\\rnsga2.py:183: RuntimeWarning: invalid value encountered in true_divide\n",
      "  N = ((D / (nadir - ideal)) ** 2) * weights\n",
      "A:\\anaconda3\\envs\\xmoai\\lib\\site-packages\\pymoo\\algorithms\\rnsga2.py:183: RuntimeWarning: invalid value encountered in true_divide\n",
      "  N = ((D / (nadir - ideal)) ** 2) * weights\n",
      "A:\\anaconda3\\envs\\xmoai\\lib\\site-packages\\pymoo\\algorithms\\rnsga2.py:183: RuntimeWarning: invalid value encountered in true_divide\n",
      "  N = ((D / (nadir - ideal)) ** 2) * weights\n",
      "A:\\anaconda3\\envs\\xmoai\\lib\\site-packages\\pymoo\\algorithms\\rnsga2.py:183: RuntimeWarning: invalid value encountered in true_divide\n",
      "  N = ((D / (nadir - ideal)) ** 2) * weights\n",
      "A:\\anaconda3\\envs\\xmoai\\lib\\site-packages\\pymoo\\algorithms\\rnsga2.py:183: RuntimeWarning: invalid value encountered in true_divide\n",
      "  N = ((D / (nadir - ideal)) ** 2) * weights\n"
     ]
    },
    {
     "name": "stderr",
     "output_type": "stream",
     "text": [
      "A:\\anaconda3\\envs\\xmoai\\lib\\site-packages\\pymoo\\algorithms\\rnsga2.py:183: RuntimeWarning: invalid value encountered in true_divide\n",
      "  N = ((D / (nadir - ideal)) ** 2) * weights\n",
      "A:\\anaconda3\\envs\\xmoai\\lib\\site-packages\\pymoo\\algorithms\\rnsga2.py:183: RuntimeWarning: invalid value encountered in true_divide\n",
      "  N = ((D / (nadir - ideal)) ** 2) * weights\n",
      "A:\\anaconda3\\envs\\xmoai\\lib\\site-packages\\pymoo\\algorithms\\rnsga2.py:183: RuntimeWarning: invalid value encountered in true_divide\n",
      "  N = ((D / (nadir - ideal)) ** 2) * weights\n",
      "A:\\anaconda3\\envs\\xmoai\\lib\\site-packages\\topsis\\topsis.py:66: RuntimeWarning: invalid value encountered in true_divide\n",
      "  self.r = self.a/np.array(np.linalg.norm(self.a, axis=1)[:, np.newaxis])\n",
      "A:\\anaconda3\\envs\\xmoai\\lib\\site-packages\\topsis\\topsis.py:66: RuntimeWarning: invalid value encountered in true_divide\n",
      "  self.r = self.a/np.array(np.linalg.norm(self.a, axis=1)[:, np.newaxis])\n",
      "A:\\anaconda3\\envs\\xmoai\\lib\\site-packages\\topsis\\topsis.py:66: RuntimeWarning: invalid value encountered in true_divide\n",
      "  self.r = self.a/np.array(np.linalg.norm(self.a, axis=1)[:, np.newaxis])\n",
      "A:\\anaconda3\\envs\\xmoai\\lib\\site-packages\\topsis\\topsis.py:66: RuntimeWarning: invalid value encountered in true_divide\n",
      "  self.r = self.a/np.array(np.linalg.norm(self.a, axis=1)[:, np.newaxis])\n",
      "A:\\anaconda3\\envs\\xmoai\\lib\\site-packages\\topsis\\topsis.py:66: RuntimeWarning: invalid value encountered in true_divide\n",
      "  self.r = self.a/np.array(np.linalg.norm(self.a, axis=1)[:, np.newaxis])\n",
      "A:\\anaconda3\\envs\\xmoai\\lib\\site-packages\\topsis\\topsis.py:66: RuntimeWarning: invalid value encountered in true_divide\n",
      "  self.r = self.a/np.array(np.linalg.norm(self.a, axis=1)[:, np.newaxis])\n"
     ]
    },
    {
     "data": {
      "text/plain": [
       "'Training AIF360 - AdversarialDebiasing'"
      ]
     },
     "metadata": {},
     "output_type": "display_data"
    },
    {
     "data": {
      "text/plain": [
       "'Training AIF360 - PostProcessingMeta'"
      ]
     },
     "metadata": {},
     "output_type": "display_data"
    },
    {
     "data": {
      "text/plain": [
       "'Seed 5'"
      ]
     },
     "metadata": {},
     "output_type": "display_data"
    },
    {
     "data": {
      "text/plain": [
       "'Training the Voting Ensemble'"
      ]
     },
     "metadata": {},
     "output_type": "display_data"
    },
    {
     "data": {
      "text/plain": [
       "'Training Fairlearn'"
      ]
     },
     "metadata": {},
     "output_type": "display_data"
    },
    {
     "data": {
      "text/plain": [
       "'Training scikit-lego - DemographicParityClassifier'"
      ]
     },
     "metadata": {},
     "output_type": "display_data"
    },
    {
     "data": {
      "text/plain": [
       "'Training scikit-lego - EqualOpportunityClassifier'"
      ]
     },
     "metadata": {},
     "output_type": "display_data"
    },
    {
     "data": {
      "text/plain": [
       "'Training the proposal (nsga2)'"
      ]
     },
     "metadata": {},
     "output_type": "display_data"
    },
    {
     "data": {
      "text/plain": [
       "'Training the proposal (rnsga2)'"
      ]
     },
     "metadata": {},
     "output_type": "display_data"
    },
    {
     "name": "stderr",
     "output_type": "stream",
     "text": [
      "A:\\anaconda3\\envs\\xmoai\\lib\\site-packages\\pymoo\\algorithms\\rnsga2.py:183: RuntimeWarning: invalid value encountered in true_divide\n",
      "  N = ((D / (nadir - ideal)) ** 2) * weights\n",
      "A:\\anaconda3\\envs\\xmoai\\lib\\site-packages\\pymoo\\algorithms\\rnsga2.py:183: RuntimeWarning: invalid value encountered in true_divide\n",
      "  N = ((D / (nadir - ideal)) ** 2) * weights\n",
      "A:\\anaconda3\\envs\\xmoai\\lib\\site-packages\\pymoo\\algorithms\\rnsga2.py:183: RuntimeWarning: invalid value encountered in true_divide\n",
      "  N = ((D / (nadir - ideal)) ** 2) * weights\n",
      "A:\\anaconda3\\envs\\xmoai\\lib\\site-packages\\pymoo\\algorithms\\rnsga2.py:183: RuntimeWarning: invalid value encountered in true_divide\n",
      "  N = ((D / (nadir - ideal)) ** 2) * weights\n",
      "A:\\anaconda3\\envs\\xmoai\\lib\\site-packages\\pymoo\\algorithms\\rnsga2.py:183: RuntimeWarning: invalid value encountered in true_divide\n",
      "  N = ((D / (nadir - ideal)) ** 2) * weights\n",
      "A:\\anaconda3\\envs\\xmoai\\lib\\site-packages\\pymoo\\algorithms\\rnsga2.py:183: RuntimeWarning: invalid value encountered in true_divide\n",
      "  N = ((D / (nadir - ideal)) ** 2) * weights\n",
      "A:\\anaconda3\\envs\\xmoai\\lib\\site-packages\\pymoo\\algorithms\\rnsga2.py:183: RuntimeWarning: invalid value encountered in true_divide\n",
      "  N = ((D / (nadir - ideal)) ** 2) * weights\n",
      "A:\\anaconda3\\envs\\xmoai\\lib\\site-packages\\pymoo\\algorithms\\rnsga2.py:183: RuntimeWarning: invalid value encountered in true_divide\n",
      "  N = ((D / (nadir - ideal)) ** 2) * weights\n",
      "A:\\anaconda3\\envs\\xmoai\\lib\\site-packages\\pymoo\\algorithms\\rnsga2.py:183: RuntimeWarning: invalid value encountered in true_divide\n",
      "  N = ((D / (nadir - ideal)) ** 2) * weights\n",
      "A:\\anaconda3\\envs\\xmoai\\lib\\site-packages\\pymoo\\algorithms\\rnsga2.py:183: RuntimeWarning: invalid value encountered in true_divide\n",
      "  N = ((D / (nadir - ideal)) ** 2) * weights\n",
      "A:\\anaconda3\\envs\\xmoai\\lib\\site-packages\\pymoo\\algorithms\\rnsga2.py:183: RuntimeWarning: invalid value encountered in true_divide\n",
      "  N = ((D / (nadir - ideal)) ** 2) * weights\n",
      "A:\\anaconda3\\envs\\xmoai\\lib\\site-packages\\pymoo\\algorithms\\rnsga2.py:183: RuntimeWarning: invalid value encountered in true_divide\n",
      "  N = ((D / (nadir - ideal)) ** 2) * weights\n",
      "A:\\anaconda3\\envs\\xmoai\\lib\\site-packages\\pymoo\\algorithms\\rnsga2.py:183: RuntimeWarning: invalid value encountered in true_divide\n",
      "  N = ((D / (nadir - ideal)) ** 2) * weights\n",
      "A:\\anaconda3\\envs\\xmoai\\lib\\site-packages\\pymoo\\algorithms\\rnsga2.py:183: RuntimeWarning: invalid value encountered in true_divide\n",
      "  N = ((D / (nadir - ideal)) ** 2) * weights\n",
      "A:\\anaconda3\\envs\\xmoai\\lib\\site-packages\\pymoo\\algorithms\\rnsga2.py:183: RuntimeWarning: invalid value encountered in true_divide\n",
      "  N = ((D / (nadir - ideal)) ** 2) * weights\n",
      "A:\\anaconda3\\envs\\xmoai\\lib\\site-packages\\pymoo\\algorithms\\rnsga2.py:183: RuntimeWarning: invalid value encountered in true_divide\n",
      "  N = ((D / (nadir - ideal)) ** 2) * weights\n",
      "A:\\anaconda3\\envs\\xmoai\\lib\\site-packages\\pymoo\\algorithms\\rnsga2.py:183: RuntimeWarning: invalid value encountered in true_divide\n",
      "  N = ((D / (nadir - ideal)) ** 2) * weights\n",
      "A:\\anaconda3\\envs\\xmoai\\lib\\site-packages\\pymoo\\algorithms\\rnsga2.py:183: RuntimeWarning: invalid value encountered in true_divide\n",
      "  N = ((D / (nadir - ideal)) ** 2) * weights\n",
      "A:\\anaconda3\\envs\\xmoai\\lib\\site-packages\\pymoo\\algorithms\\rnsga2.py:183: RuntimeWarning: invalid value encountered in true_divide\n",
      "  N = ((D / (nadir - ideal)) ** 2) * weights\n",
      "A:\\anaconda3\\envs\\xmoai\\lib\\site-packages\\pymoo\\algorithms\\rnsga2.py:183: RuntimeWarning: invalid value encountered in true_divide\n",
      "  N = ((D / (nadir - ideal)) ** 2) * weights\n",
      "A:\\anaconda3\\envs\\xmoai\\lib\\site-packages\\pymoo\\algorithms\\rnsga2.py:183: RuntimeWarning: invalid value encountered in true_divide\n",
      "  N = ((D / (nadir - ideal)) ** 2) * weights\n",
      "A:\\anaconda3\\envs\\xmoai\\lib\\site-packages\\pymoo\\algorithms\\rnsga2.py:183: RuntimeWarning: invalid value encountered in true_divide\n",
      "  N = ((D / (nadir - ideal)) ** 2) * weights\n",
      "A:\\anaconda3\\envs\\xmoai\\lib\\site-packages\\pymoo\\algorithms\\rnsga2.py:183: RuntimeWarning: invalid value encountered in true_divide\n",
      "  N = ((D / (nadir - ideal)) ** 2) * weights\n",
      "A:\\anaconda3\\envs\\xmoai\\lib\\site-packages\\pymoo\\algorithms\\rnsga2.py:183: RuntimeWarning: invalid value encountered in true_divide\n",
      "  N = ((D / (nadir - ideal)) ** 2) * weights\n",
      "A:\\anaconda3\\envs\\xmoai\\lib\\site-packages\\pymoo\\algorithms\\rnsga2.py:183: RuntimeWarning: invalid value encountered in true_divide\n",
      "  N = ((D / (nadir - ideal)) ** 2) * weights\n",
      "A:\\anaconda3\\envs\\xmoai\\lib\\site-packages\\pymoo\\algorithms\\rnsga2.py:183: RuntimeWarning: invalid value encountered in true_divide\n",
      "  N = ((D / (nadir - ideal)) ** 2) * weights\n",
      "A:\\anaconda3\\envs\\xmoai\\lib\\site-packages\\pymoo\\algorithms\\rnsga2.py:183: RuntimeWarning: invalid value encountered in true_divide\n",
      "  N = ((D / (nadir - ideal)) ** 2) * weights\n",
      "A:\\anaconda3\\envs\\xmoai\\lib\\site-packages\\pymoo\\algorithms\\rnsga2.py:183: RuntimeWarning: invalid value encountered in true_divide\n",
      "  N = ((D / (nadir - ideal)) ** 2) * weights\n",
      "A:\\anaconda3\\envs\\xmoai\\lib\\site-packages\\pymoo\\algorithms\\rnsga2.py:183: RuntimeWarning: invalid value encountered in true_divide\n",
      "  N = ((D / (nadir - ideal)) ** 2) * weights\n",
      "A:\\anaconda3\\envs\\xmoai\\lib\\site-packages\\pymoo\\algorithms\\rnsga2.py:183: RuntimeWarning: invalid value encountered in true_divide\n",
      "  N = ((D / (nadir - ideal)) ** 2) * weights\n",
      "A:\\anaconda3\\envs\\xmoai\\lib\\site-packages\\pymoo\\algorithms\\rnsga2.py:183: RuntimeWarning: invalid value encountered in true_divide\n",
      "  N = ((D / (nadir - ideal)) ** 2) * weights\n",
      "A:\\anaconda3\\envs\\xmoai\\lib\\site-packages\\pymoo\\algorithms\\rnsga2.py:183: RuntimeWarning: invalid value encountered in true_divide\n",
      "  N = ((D / (nadir - ideal)) ** 2) * weights\n",
      "A:\\anaconda3\\envs\\xmoai\\lib\\site-packages\\pymoo\\algorithms\\rnsga2.py:183: RuntimeWarning: invalid value encountered in true_divide\n",
      "  N = ((D / (nadir - ideal)) ** 2) * weights\n",
      "A:\\anaconda3\\envs\\xmoai\\lib\\site-packages\\pymoo\\algorithms\\rnsga2.py:183: RuntimeWarning: invalid value encountered in true_divide\n",
      "  N = ((D / (nadir - ideal)) ** 2) * weights\n",
      "A:\\anaconda3\\envs\\xmoai\\lib\\site-packages\\pymoo\\algorithms\\rnsga2.py:183: RuntimeWarning: invalid value encountered in true_divide\n",
      "  N = ((D / (nadir - ideal)) ** 2) * weights\n",
      "A:\\anaconda3\\envs\\xmoai\\lib\\site-packages\\pymoo\\algorithms\\rnsga2.py:183: RuntimeWarning: divide by zero encountered in true_divide\n",
      "  N = ((D / (nadir - ideal)) ** 2) * weights\n",
      "A:\\anaconda3\\envs\\xmoai\\lib\\site-packages\\pymoo\\algorithms\\rnsga2.py:183: RuntimeWarning: invalid value encountered in true_divide\n",
      "  N = ((D / (nadir - ideal)) ** 2) * weights\n",
      "A:\\anaconda3\\envs\\xmoai\\lib\\site-packages\\pymoo\\algorithms\\rnsga2.py:183: RuntimeWarning: invalid value encountered in true_divide\n",
      "  N = ((D / (nadir - ideal)) ** 2) * weights\n",
      "A:\\anaconda3\\envs\\xmoai\\lib\\site-packages\\pymoo\\algorithms\\rnsga2.py:183: RuntimeWarning: invalid value encountered in true_divide\n",
      "  N = ((D / (nadir - ideal)) ** 2) * weights\n",
      "A:\\anaconda3\\envs\\xmoai\\lib\\site-packages\\pymoo\\algorithms\\rnsga2.py:183: RuntimeWarning: invalid value encountered in true_divide\n",
      "  N = ((D / (nadir - ideal)) ** 2) * weights\n",
      "A:\\anaconda3\\envs\\xmoai\\lib\\site-packages\\pymoo\\algorithms\\rnsga2.py:183: RuntimeWarning: divide by zero encountered in true_divide\n",
      "  N = ((D / (nadir - ideal)) ** 2) * weights\n",
      "A:\\anaconda3\\envs\\xmoai\\lib\\site-packages\\pymoo\\algorithms\\rnsga2.py:183: RuntimeWarning: invalid value encountered in true_divide\n",
      "  N = ((D / (nadir - ideal)) ** 2) * weights\n",
      "A:\\anaconda3\\envs\\xmoai\\lib\\site-packages\\pymoo\\algorithms\\rnsga2.py:183: RuntimeWarning: divide by zero encountered in true_divide\n",
      "  N = ((D / (nadir - ideal)) ** 2) * weights\n",
      "A:\\anaconda3\\envs\\xmoai\\lib\\site-packages\\pymoo\\algorithms\\rnsga2.py:183: RuntimeWarning: invalid value encountered in true_divide\n",
      "  N = ((D / (nadir - ideal)) ** 2) * weights\n",
      "A:\\anaconda3\\envs\\xmoai\\lib\\site-packages\\pymoo\\algorithms\\rnsga2.py:183: RuntimeWarning: divide by zero encountered in true_divide\n",
      "  N = ((D / (nadir - ideal)) ** 2) * weights\n",
      "A:\\anaconda3\\envs\\xmoai\\lib\\site-packages\\pymoo\\algorithms\\rnsga2.py:183: RuntimeWarning: invalid value encountered in true_divide\n",
      "  N = ((D / (nadir - ideal)) ** 2) * weights\n",
      "A:\\anaconda3\\envs\\xmoai\\lib\\site-packages\\pymoo\\algorithms\\rnsga2.py:183: RuntimeWarning: divide by zero encountered in true_divide\n",
      "  N = ((D / (nadir - ideal)) ** 2) * weights\n",
      "A:\\anaconda3\\envs\\xmoai\\lib\\site-packages\\pymoo\\algorithms\\rnsga2.py:183: RuntimeWarning: invalid value encountered in true_divide\n",
      "  N = ((D / (nadir - ideal)) ** 2) * weights\n"
     ]
    },
    {
     "name": "stderr",
     "output_type": "stream",
     "text": [
      "A:\\anaconda3\\envs\\xmoai\\lib\\site-packages\\pymoo\\algorithms\\rnsga2.py:183: RuntimeWarning: invalid value encountered in true_divide\n",
      "  N = ((D / (nadir - ideal)) ** 2) * weights\n",
      "A:\\anaconda3\\envs\\xmoai\\lib\\site-packages\\pymoo\\algorithms\\rnsga2.py:183: RuntimeWarning: invalid value encountered in true_divide\n",
      "  N = ((D / (nadir - ideal)) ** 2) * weights\n",
      "A:\\anaconda3\\envs\\xmoai\\lib\\site-packages\\pymoo\\algorithms\\rnsga2.py:183: RuntimeWarning: divide by zero encountered in true_divide\n",
      "  N = ((D / (nadir - ideal)) ** 2) * weights\n",
      "A:\\anaconda3\\envs\\xmoai\\lib\\site-packages\\pymoo\\algorithms\\rnsga2.py:183: RuntimeWarning: invalid value encountered in true_divide\n",
      "  N = ((D / (nadir - ideal)) ** 2) * weights\n",
      "A:\\anaconda3\\envs\\xmoai\\lib\\site-packages\\pymoo\\algorithms\\rnsga2.py:183: RuntimeWarning: divide by zero encountered in true_divide\n",
      "  N = ((D / (nadir - ideal)) ** 2) * weights\n",
      "A:\\anaconda3\\envs\\xmoai\\lib\\site-packages\\pymoo\\algorithms\\rnsga2.py:183: RuntimeWarning: invalid value encountered in true_divide\n",
      "  N = ((D / (nadir - ideal)) ** 2) * weights\n",
      "A:\\anaconda3\\envs\\xmoai\\lib\\site-packages\\pymoo\\algorithms\\rnsga2.py:183: RuntimeWarning: invalid value encountered in true_divide\n",
      "  N = ((D / (nadir - ideal)) ** 2) * weights\n",
      "A:\\anaconda3\\envs\\xmoai\\lib\\site-packages\\pymoo\\algorithms\\rnsga2.py:183: RuntimeWarning: invalid value encountered in true_divide\n",
      "  N = ((D / (nadir - ideal)) ** 2) * weights\n",
      "A:\\anaconda3\\envs\\xmoai\\lib\\site-packages\\pymoo\\algorithms\\rnsga2.py:183: RuntimeWarning: invalid value encountered in true_divide\n",
      "  N = ((D / (nadir - ideal)) ** 2) * weights\n",
      "A:\\anaconda3\\envs\\xmoai\\lib\\site-packages\\topsis\\topsis.py:66: RuntimeWarning: invalid value encountered in true_divide\n",
      "  self.r = self.a/np.array(np.linalg.norm(self.a, axis=1)[:, np.newaxis])\n",
      "A:\\anaconda3\\envs\\xmoai\\lib\\site-packages\\topsis\\topsis.py:66: RuntimeWarning: invalid value encountered in true_divide\n",
      "  self.r = self.a/np.array(np.linalg.norm(self.a, axis=1)[:, np.newaxis])\n",
      "A:\\anaconda3\\envs\\xmoai\\lib\\site-packages\\topsis\\topsis.py:66: RuntimeWarning: invalid value encountered in true_divide\n",
      "  self.r = self.a/np.array(np.linalg.norm(self.a, axis=1)[:, np.newaxis])\n",
      "A:\\anaconda3\\envs\\xmoai\\lib\\site-packages\\topsis\\topsis.py:66: RuntimeWarning: invalid value encountered in true_divide\n",
      "  self.r = self.a/np.array(np.linalg.norm(self.a, axis=1)[:, np.newaxis])\n",
      "A:\\anaconda3\\envs\\xmoai\\lib\\site-packages\\topsis\\topsis.py:66: RuntimeWarning: invalid value encountered in true_divide\n",
      "  self.r = self.a/np.array(np.linalg.norm(self.a, axis=1)[:, np.newaxis])\n",
      "A:\\anaconda3\\envs\\xmoai\\lib\\site-packages\\topsis\\topsis.py:66: RuntimeWarning: invalid value encountered in true_divide\n",
      "  self.r = self.a/np.array(np.linalg.norm(self.a, axis=1)[:, np.newaxis])\n"
     ]
    },
    {
     "data": {
      "text/plain": [
       "'Training AIF360 - AdversarialDebiasing'"
      ]
     },
     "metadata": {},
     "output_type": "display_data"
    },
    {
     "data": {
      "text/plain": [
       "'Training AIF360 - PostProcessingMeta'"
      ]
     },
     "metadata": {},
     "output_type": "display_data"
    },
    {
     "data": {
      "text/plain": [
       "'Seed 6'"
      ]
     },
     "metadata": {},
     "output_type": "display_data"
    },
    {
     "data": {
      "text/plain": [
       "'Training the Voting Ensemble'"
      ]
     },
     "metadata": {},
     "output_type": "display_data"
    },
    {
     "data": {
      "text/plain": [
       "'Training Fairlearn'"
      ]
     },
     "metadata": {},
     "output_type": "display_data"
    },
    {
     "data": {
      "text/plain": [
       "'Training scikit-lego - DemographicParityClassifier'"
      ]
     },
     "metadata": {},
     "output_type": "display_data"
    },
    {
     "data": {
      "text/plain": [
       "'Training scikit-lego - EqualOpportunityClassifier'"
      ]
     },
     "metadata": {},
     "output_type": "display_data"
    },
    {
     "data": {
      "text/plain": [
       "'Training the proposal (nsga2)'"
      ]
     },
     "metadata": {},
     "output_type": "display_data"
    },
    {
     "name": "stderr",
     "output_type": "stream",
     "text": [
      "A:\\anaconda3\\envs\\xmoai\\lib\\site-packages\\topsis\\topsis.py:66: RuntimeWarning: invalid value encountered in true_divide\n",
      "  self.r = self.a/np.array(np.linalg.norm(self.a, axis=1)[:, np.newaxis])\n",
      "A:\\anaconda3\\envs\\xmoai\\lib\\site-packages\\topsis\\topsis.py:66: RuntimeWarning: invalid value encountered in true_divide\n",
      "  self.r = self.a/np.array(np.linalg.norm(self.a, axis=1)[:, np.newaxis])\n",
      "A:\\anaconda3\\envs\\xmoai\\lib\\site-packages\\topsis\\topsis.py:66: RuntimeWarning: invalid value encountered in true_divide\n",
      "  self.r = self.a/np.array(np.linalg.norm(self.a, axis=1)[:, np.newaxis])\n",
      "A:\\anaconda3\\envs\\xmoai\\lib\\site-packages\\topsis\\topsis.py:66: RuntimeWarning: invalid value encountered in true_divide\n",
      "  self.r = self.a/np.array(np.linalg.norm(self.a, axis=1)[:, np.newaxis])\n",
      "A:\\anaconda3\\envs\\xmoai\\lib\\site-packages\\topsis\\topsis.py:66: RuntimeWarning: invalid value encountered in true_divide\n",
      "  self.r = self.a/np.array(np.linalg.norm(self.a, axis=1)[:, np.newaxis])\n",
      "A:\\anaconda3\\envs\\xmoai\\lib\\site-packages\\topsis\\topsis.py:66: RuntimeWarning: invalid value encountered in true_divide\n",
      "  self.r = self.a/np.array(np.linalg.norm(self.a, axis=1)[:, np.newaxis])\n"
     ]
    },
    {
     "data": {
      "text/plain": [
       "'Training the proposal (rnsga2)'"
      ]
     },
     "metadata": {},
     "output_type": "display_data"
    },
    {
     "name": "stderr",
     "output_type": "stream",
     "text": [
      "A:\\anaconda3\\envs\\xmoai\\lib\\site-packages\\pymoo\\algorithms\\rnsga2.py:183: RuntimeWarning: invalid value encountered in true_divide\n",
      "  N = ((D / (nadir - ideal)) ** 2) * weights\n",
      "A:\\anaconda3\\envs\\xmoai\\lib\\site-packages\\pymoo\\algorithms\\rnsga2.py:183: RuntimeWarning: invalid value encountered in true_divide\n",
      "  N = ((D / (nadir - ideal)) ** 2) * weights\n",
      "A:\\anaconda3\\envs\\xmoai\\lib\\site-packages\\pymoo\\algorithms\\rnsga2.py:183: RuntimeWarning: invalid value encountered in true_divide\n",
      "  N = ((D / (nadir - ideal)) ** 2) * weights\n",
      "A:\\anaconda3\\envs\\xmoai\\lib\\site-packages\\pymoo\\algorithms\\rnsga2.py:183: RuntimeWarning: invalid value encountered in true_divide\n",
      "  N = ((D / (nadir - ideal)) ** 2) * weights\n",
      "A:\\anaconda3\\envs\\xmoai\\lib\\site-packages\\pymoo\\algorithms\\rnsga2.py:183: RuntimeWarning: invalid value encountered in true_divide\n",
      "  N = ((D / (nadir - ideal)) ** 2) * weights\n",
      "A:\\anaconda3\\envs\\xmoai\\lib\\site-packages\\pymoo\\algorithms\\rnsga2.py:183: RuntimeWarning: invalid value encountered in true_divide\n",
      "  N = ((D / (nadir - ideal)) ** 2) * weights\n",
      "A:\\anaconda3\\envs\\xmoai\\lib\\site-packages\\pymoo\\algorithms\\rnsga2.py:183: RuntimeWarning: invalid value encountered in true_divide\n",
      "  N = ((D / (nadir - ideal)) ** 2) * weights\n",
      "A:\\anaconda3\\envs\\xmoai\\lib\\site-packages\\pymoo\\algorithms\\rnsga2.py:183: RuntimeWarning: invalid value encountered in true_divide\n",
      "  N = ((D / (nadir - ideal)) ** 2) * weights\n",
      "A:\\anaconda3\\envs\\xmoai\\lib\\site-packages\\pymoo\\algorithms\\rnsga2.py:183: RuntimeWarning: invalid value encountered in true_divide\n",
      "  N = ((D / (nadir - ideal)) ** 2) * weights\n",
      "A:\\anaconda3\\envs\\xmoai\\lib\\site-packages\\pymoo\\algorithms\\rnsga2.py:183: RuntimeWarning: invalid value encountered in true_divide\n",
      "  N = ((D / (nadir - ideal)) ** 2) * weights\n",
      "A:\\anaconda3\\envs\\xmoai\\lib\\site-packages\\pymoo\\algorithms\\rnsga2.py:183: RuntimeWarning: invalid value encountered in true_divide\n",
      "  N = ((D / (nadir - ideal)) ** 2) * weights\n",
      "A:\\anaconda3\\envs\\xmoai\\lib\\site-packages\\pymoo\\algorithms\\rnsga2.py:183: RuntimeWarning: invalid value encountered in true_divide\n",
      "  N = ((D / (nadir - ideal)) ** 2) * weights\n",
      "A:\\anaconda3\\envs\\xmoai\\lib\\site-packages\\pymoo\\algorithms\\rnsga2.py:183: RuntimeWarning: invalid value encountered in true_divide\n",
      "  N = ((D / (nadir - ideal)) ** 2) * weights\n",
      "A:\\anaconda3\\envs\\xmoai\\lib\\site-packages\\pymoo\\algorithms\\rnsga2.py:183: RuntimeWarning: invalid value encountered in true_divide\n",
      "  N = ((D / (nadir - ideal)) ** 2) * weights\n",
      "A:\\anaconda3\\envs\\xmoai\\lib\\site-packages\\pymoo\\algorithms\\rnsga2.py:183: RuntimeWarning: invalid value encountered in true_divide\n",
      "  N = ((D / (nadir - ideal)) ** 2) * weights\n",
      "A:\\anaconda3\\envs\\xmoai\\lib\\site-packages\\pymoo\\algorithms\\rnsga2.py:183: RuntimeWarning: invalid value encountered in true_divide\n",
      "  N = ((D / (nadir - ideal)) ** 2) * weights\n",
      "A:\\anaconda3\\envs\\xmoai\\lib\\site-packages\\pymoo\\algorithms\\rnsga2.py:183: RuntimeWarning: invalid value encountered in true_divide\n",
      "  N = ((D / (nadir - ideal)) ** 2) * weights\n",
      "A:\\anaconda3\\envs\\xmoai\\lib\\site-packages\\pymoo\\algorithms\\rnsga2.py:183: RuntimeWarning: invalid value encountered in true_divide\n",
      "  N = ((D / (nadir - ideal)) ** 2) * weights\n",
      "A:\\anaconda3\\envs\\xmoai\\lib\\site-packages\\pymoo\\algorithms\\rnsga2.py:183: RuntimeWarning: invalid value encountered in true_divide\n",
      "  N = ((D / (nadir - ideal)) ** 2) * weights\n",
      "A:\\anaconda3\\envs\\xmoai\\lib\\site-packages\\pymoo\\algorithms\\rnsga2.py:183: RuntimeWarning: invalid value encountered in true_divide\n",
      "  N = ((D / (nadir - ideal)) ** 2) * weights\n",
      "A:\\anaconda3\\envs\\xmoai\\lib\\site-packages\\pymoo\\algorithms\\rnsga2.py:183: RuntimeWarning: invalid value encountered in true_divide\n",
      "  N = ((D / (nadir - ideal)) ** 2) * weights\n",
      "A:\\anaconda3\\envs\\xmoai\\lib\\site-packages\\pymoo\\algorithms\\rnsga2.py:183: RuntimeWarning: invalid value encountered in true_divide\n",
      "  N = ((D / (nadir - ideal)) ** 2) * weights\n",
      "A:\\anaconda3\\envs\\xmoai\\lib\\site-packages\\pymoo\\algorithms\\rnsga2.py:183: RuntimeWarning: invalid value encountered in true_divide\n",
      "  N = ((D / (nadir - ideal)) ** 2) * weights\n",
      "A:\\anaconda3\\envs\\xmoai\\lib\\site-packages\\pymoo\\algorithms\\rnsga2.py:183: RuntimeWarning: invalid value encountered in true_divide\n",
      "  N = ((D / (nadir - ideal)) ** 2) * weights\n",
      "A:\\anaconda3\\envs\\xmoai\\lib\\site-packages\\pymoo\\algorithms\\rnsga2.py:183: RuntimeWarning: invalid value encountered in true_divide\n",
      "  N = ((D / (nadir - ideal)) ** 2) * weights\n",
      "A:\\anaconda3\\envs\\xmoai\\lib\\site-packages\\pymoo\\algorithms\\rnsga2.py:183: RuntimeWarning: invalid value encountered in true_divide\n",
      "  N = ((D / (nadir - ideal)) ** 2) * weights\n",
      "A:\\anaconda3\\envs\\xmoai\\lib\\site-packages\\pymoo\\algorithms\\rnsga2.py:183: RuntimeWarning: invalid value encountered in true_divide\n",
      "  N = ((D / (nadir - ideal)) ** 2) * weights\n",
      "A:\\anaconda3\\envs\\xmoai\\lib\\site-packages\\pymoo\\algorithms\\rnsga2.py:183: RuntimeWarning: invalid value encountered in true_divide\n",
      "  N = ((D / (nadir - ideal)) ** 2) * weights\n",
      "A:\\anaconda3\\envs\\xmoai\\lib\\site-packages\\pymoo\\algorithms\\rnsga2.py:183: RuntimeWarning: invalid value encountered in true_divide\n",
      "  N = ((D / (nadir - ideal)) ** 2) * weights\n",
      "A:\\anaconda3\\envs\\xmoai\\lib\\site-packages\\pymoo\\algorithms\\rnsga2.py:183: RuntimeWarning: invalid value encountered in true_divide\n",
      "  N = ((D / (nadir - ideal)) ** 2) * weights\n",
      "A:\\anaconda3\\envs\\xmoai\\lib\\site-packages\\pymoo\\algorithms\\rnsga2.py:183: RuntimeWarning: invalid value encountered in true_divide\n",
      "  N = ((D / (nadir - ideal)) ** 2) * weights\n",
      "A:\\anaconda3\\envs\\xmoai\\lib\\site-packages\\pymoo\\algorithms\\rnsga2.py:183: RuntimeWarning: invalid value encountered in true_divide\n",
      "  N = ((D / (nadir - ideal)) ** 2) * weights\n",
      "A:\\anaconda3\\envs\\xmoai\\lib\\site-packages\\pymoo\\algorithms\\rnsga2.py:183: RuntimeWarning: invalid value encountered in true_divide\n",
      "  N = ((D / (nadir - ideal)) ** 2) * weights\n",
      "A:\\anaconda3\\envs\\xmoai\\lib\\site-packages\\pymoo\\algorithms\\rnsga2.py:183: RuntimeWarning: invalid value encountered in true_divide\n",
      "  N = ((D / (nadir - ideal)) ** 2) * weights\n",
      "A:\\anaconda3\\envs\\xmoai\\lib\\site-packages\\pymoo\\algorithms\\rnsga2.py:183: RuntimeWarning: invalid value encountered in true_divide\n",
      "  N = ((D / (nadir - ideal)) ** 2) * weights\n",
      "A:\\anaconda3\\envs\\xmoai\\lib\\site-packages\\pymoo\\algorithms\\rnsga2.py:183: RuntimeWarning: invalid value encountered in true_divide\n",
      "  N = ((D / (nadir - ideal)) ** 2) * weights\n",
      "A:\\anaconda3\\envs\\xmoai\\lib\\site-packages\\pymoo\\algorithms\\rnsga2.py:183: RuntimeWarning: invalid value encountered in true_divide\n",
      "  N = ((D / (nadir - ideal)) ** 2) * weights\n",
      "A:\\anaconda3\\envs\\xmoai\\lib\\site-packages\\pymoo\\algorithms\\rnsga2.py:183: RuntimeWarning: invalid value encountered in true_divide\n",
      "  N = ((D / (nadir - ideal)) ** 2) * weights\n",
      "A:\\anaconda3\\envs\\xmoai\\lib\\site-packages\\pymoo\\algorithms\\rnsga2.py:183: RuntimeWarning: invalid value encountered in true_divide\n",
      "  N = ((D / (nadir - ideal)) ** 2) * weights\n",
      "A:\\anaconda3\\envs\\xmoai\\lib\\site-packages\\pymoo\\algorithms\\rnsga2.py:183: RuntimeWarning: invalid value encountered in true_divide\n",
      "  N = ((D / (nadir - ideal)) ** 2) * weights\n",
      "A:\\anaconda3\\envs\\xmoai\\lib\\site-packages\\pymoo\\algorithms\\rnsga2.py:183: RuntimeWarning: invalid value encountered in true_divide\n",
      "  N = ((D / (nadir - ideal)) ** 2) * weights\n",
      "A:\\anaconda3\\envs\\xmoai\\lib\\site-packages\\pymoo\\algorithms\\rnsga2.py:183: RuntimeWarning: invalid value encountered in true_divide\n",
      "  N = ((D / (nadir - ideal)) ** 2) * weights\n",
      "A:\\anaconda3\\envs\\xmoai\\lib\\site-packages\\pymoo\\algorithms\\rnsga2.py:183: RuntimeWarning: invalid value encountered in true_divide\n",
      "  N = ((D / (nadir - ideal)) ** 2) * weights\n",
      "A:\\anaconda3\\envs\\xmoai\\lib\\site-packages\\pymoo\\algorithms\\rnsga2.py:183: RuntimeWarning: invalid value encountered in true_divide\n",
      "  N = ((D / (nadir - ideal)) ** 2) * weights\n",
      "A:\\anaconda3\\envs\\xmoai\\lib\\site-packages\\pymoo\\algorithms\\rnsga2.py:183: RuntimeWarning: invalid value encountered in true_divide\n",
      "  N = ((D / (nadir - ideal)) ** 2) * weights\n",
      "A:\\anaconda3\\envs\\xmoai\\lib\\site-packages\\pymoo\\algorithms\\rnsga2.py:183: RuntimeWarning: invalid value encountered in true_divide\n",
      "  N = ((D / (nadir - ideal)) ** 2) * weights\n",
      "A:\\anaconda3\\envs\\xmoai\\lib\\site-packages\\pymoo\\algorithms\\rnsga2.py:183: RuntimeWarning: invalid value encountered in true_divide\n",
      "  N = ((D / (nadir - ideal)) ** 2) * weights\n"
     ]
    },
    {
     "name": "stderr",
     "output_type": "stream",
     "text": [
      "A:\\anaconda3\\envs\\xmoai\\lib\\site-packages\\pymoo\\algorithms\\rnsga2.py:183: RuntimeWarning: invalid value encountered in true_divide\n",
      "  N = ((D / (nadir - ideal)) ** 2) * weights\n",
      "A:\\anaconda3\\envs\\xmoai\\lib\\site-packages\\pymoo\\algorithms\\rnsga2.py:183: RuntimeWarning: invalid value encountered in true_divide\n",
      "  N = ((D / (nadir - ideal)) ** 2) * weights\n",
      "A:\\anaconda3\\envs\\xmoai\\lib\\site-packages\\pymoo\\algorithms\\rnsga2.py:183: RuntimeWarning: invalid value encountered in true_divide\n",
      "  N = ((D / (nadir - ideal)) ** 2) * weights\n",
      "A:\\anaconda3\\envs\\xmoai\\lib\\site-packages\\topsis\\topsis.py:66: RuntimeWarning: invalid value encountered in true_divide\n",
      "  self.r = self.a/np.array(np.linalg.norm(self.a, axis=1)[:, np.newaxis])\n",
      "A:\\anaconda3\\envs\\xmoai\\lib\\site-packages\\topsis\\topsis.py:66: RuntimeWarning: invalid value encountered in true_divide\n",
      "  self.r = self.a/np.array(np.linalg.norm(self.a, axis=1)[:, np.newaxis])\n",
      "A:\\anaconda3\\envs\\xmoai\\lib\\site-packages\\topsis\\topsis.py:66: RuntimeWarning: invalid value encountered in true_divide\n",
      "  self.r = self.a/np.array(np.linalg.norm(self.a, axis=1)[:, np.newaxis])\n",
      "A:\\anaconda3\\envs\\xmoai\\lib\\site-packages\\topsis\\topsis.py:66: RuntimeWarning: invalid value encountered in true_divide\n",
      "  self.r = self.a/np.array(np.linalg.norm(self.a, axis=1)[:, np.newaxis])\n",
      "A:\\anaconda3\\envs\\xmoai\\lib\\site-packages\\topsis\\topsis.py:66: RuntimeWarning: invalid value encountered in true_divide\n",
      "  self.r = self.a/np.array(np.linalg.norm(self.a, axis=1)[:, np.newaxis])\n",
      "A:\\anaconda3\\envs\\xmoai\\lib\\site-packages\\topsis\\topsis.py:66: RuntimeWarning: invalid value encountered in true_divide\n",
      "  self.r = self.a/np.array(np.linalg.norm(self.a, axis=1)[:, np.newaxis])\n"
     ]
    },
    {
     "data": {
      "text/plain": [
       "'Training AIF360 - AdversarialDebiasing'"
      ]
     },
     "metadata": {},
     "output_type": "display_data"
    },
    {
     "data": {
      "text/plain": [
       "'Training AIF360 - PostProcessingMeta'"
      ]
     },
     "metadata": {},
     "output_type": "display_data"
    },
    {
     "data": {
      "text/plain": [
       "'Seed 7'"
      ]
     },
     "metadata": {},
     "output_type": "display_data"
    },
    {
     "data": {
      "text/plain": [
       "'Training the Voting Ensemble'"
      ]
     },
     "metadata": {},
     "output_type": "display_data"
    },
    {
     "data": {
      "text/plain": [
       "'Training Fairlearn'"
      ]
     },
     "metadata": {},
     "output_type": "display_data"
    },
    {
     "data": {
      "text/plain": [
       "'Training scikit-lego - DemographicParityClassifier'"
      ]
     },
     "metadata": {},
     "output_type": "display_data"
    },
    {
     "data": {
      "text/plain": [
       "'Training scikit-lego - EqualOpportunityClassifier'"
      ]
     },
     "metadata": {},
     "output_type": "display_data"
    },
    {
     "data": {
      "text/plain": [
       "'Training the proposal (nsga2)'"
      ]
     },
     "metadata": {},
     "output_type": "display_data"
    },
    {
     "name": "stderr",
     "output_type": "stream",
     "text": [
      "A:\\anaconda3\\envs\\xmoai\\lib\\site-packages\\topsis\\topsis.py:66: RuntimeWarning: invalid value encountered in true_divide\n",
      "  self.r = self.a/np.array(np.linalg.norm(self.a, axis=1)[:, np.newaxis])\n",
      "A:\\anaconda3\\envs\\xmoai\\lib\\site-packages\\topsis\\topsis.py:66: RuntimeWarning: invalid value encountered in true_divide\n",
      "  self.r = self.a/np.array(np.linalg.norm(self.a, axis=1)[:, np.newaxis])\n",
      "A:\\anaconda3\\envs\\xmoai\\lib\\site-packages\\topsis\\topsis.py:66: RuntimeWarning: invalid value encountered in true_divide\n",
      "  self.r = self.a/np.array(np.linalg.norm(self.a, axis=1)[:, np.newaxis])\n",
      "A:\\anaconda3\\envs\\xmoai\\lib\\site-packages\\topsis\\topsis.py:66: RuntimeWarning: invalid value encountered in true_divide\n",
      "  self.r = self.a/np.array(np.linalg.norm(self.a, axis=1)[:, np.newaxis])\n",
      "A:\\anaconda3\\envs\\xmoai\\lib\\site-packages\\topsis\\topsis.py:66: RuntimeWarning: invalid value encountered in true_divide\n",
      "  self.r = self.a/np.array(np.linalg.norm(self.a, axis=1)[:, np.newaxis])\n",
      "A:\\anaconda3\\envs\\xmoai\\lib\\site-packages\\topsis\\topsis.py:66: RuntimeWarning: invalid value encountered in true_divide\n",
      "  self.r = self.a/np.array(np.linalg.norm(self.a, axis=1)[:, np.newaxis])\n"
     ]
    },
    {
     "data": {
      "text/plain": [
       "'Training the proposal (rnsga2)'"
      ]
     },
     "metadata": {},
     "output_type": "display_data"
    },
    {
     "name": "stderr",
     "output_type": "stream",
     "text": [
      "A:\\anaconda3\\envs\\xmoai\\lib\\site-packages\\pymoo\\algorithms\\rnsga2.py:183: RuntimeWarning: invalid value encountered in true_divide\n",
      "  N = ((D / (nadir - ideal)) ** 2) * weights\n",
      "A:\\anaconda3\\envs\\xmoai\\lib\\site-packages\\pymoo\\algorithms\\rnsga2.py:183: RuntimeWarning: invalid value encountered in true_divide\n",
      "  N = ((D / (nadir - ideal)) ** 2) * weights\n",
      "A:\\anaconda3\\envs\\xmoai\\lib\\site-packages\\pymoo\\algorithms\\rnsga2.py:183: RuntimeWarning: invalid value encountered in true_divide\n",
      "  N = ((D / (nadir - ideal)) ** 2) * weights\n",
      "A:\\anaconda3\\envs\\xmoai\\lib\\site-packages\\pymoo\\algorithms\\rnsga2.py:183: RuntimeWarning: invalid value encountered in true_divide\n",
      "  N = ((D / (nadir - ideal)) ** 2) * weights\n",
      "A:\\anaconda3\\envs\\xmoai\\lib\\site-packages\\pymoo\\algorithms\\rnsga2.py:183: RuntimeWarning: invalid value encountered in true_divide\n",
      "  N = ((D / (nadir - ideal)) ** 2) * weights\n",
      "A:\\anaconda3\\envs\\xmoai\\lib\\site-packages\\pymoo\\algorithms\\rnsga2.py:183: RuntimeWarning: invalid value encountered in true_divide\n",
      "  N = ((D / (nadir - ideal)) ** 2) * weights\n",
      "A:\\anaconda3\\envs\\xmoai\\lib\\site-packages\\pymoo\\algorithms\\rnsga2.py:183: RuntimeWarning: invalid value encountered in true_divide\n",
      "  N = ((D / (nadir - ideal)) ** 2) * weights\n",
      "A:\\anaconda3\\envs\\xmoai\\lib\\site-packages\\pymoo\\algorithms\\rnsga2.py:183: RuntimeWarning: invalid value encountered in true_divide\n",
      "  N = ((D / (nadir - ideal)) ** 2) * weights\n",
      "A:\\anaconda3\\envs\\xmoai\\lib\\site-packages\\pymoo\\algorithms\\rnsga2.py:183: RuntimeWarning: invalid value encountered in true_divide\n",
      "  N = ((D / (nadir - ideal)) ** 2) * weights\n",
      "A:\\anaconda3\\envs\\xmoai\\lib\\site-packages\\pymoo\\algorithms\\rnsga2.py:183: RuntimeWarning: invalid value encountered in true_divide\n",
      "  N = ((D / (nadir - ideal)) ** 2) * weights\n",
      "A:\\anaconda3\\envs\\xmoai\\lib\\site-packages\\pymoo\\algorithms\\rnsga2.py:183: RuntimeWarning: invalid value encountered in true_divide\n",
      "  N = ((D / (nadir - ideal)) ** 2) * weights\n",
      "A:\\anaconda3\\envs\\xmoai\\lib\\site-packages\\pymoo\\algorithms\\rnsga2.py:183: RuntimeWarning: invalid value encountered in true_divide\n",
      "  N = ((D / (nadir - ideal)) ** 2) * weights\n",
      "A:\\anaconda3\\envs\\xmoai\\lib\\site-packages\\pymoo\\algorithms\\rnsga2.py:183: RuntimeWarning: invalid value encountered in true_divide\n",
      "  N = ((D / (nadir - ideal)) ** 2) * weights\n",
      "A:\\anaconda3\\envs\\xmoai\\lib\\site-packages\\pymoo\\algorithms\\rnsga2.py:183: RuntimeWarning: invalid value encountered in true_divide\n",
      "  N = ((D / (nadir - ideal)) ** 2) * weights\n",
      "A:\\anaconda3\\envs\\xmoai\\lib\\site-packages\\pymoo\\algorithms\\rnsga2.py:183: RuntimeWarning: invalid value encountered in true_divide\n",
      "  N = ((D / (nadir - ideal)) ** 2) * weights\n",
      "A:\\anaconda3\\envs\\xmoai\\lib\\site-packages\\pymoo\\algorithms\\rnsga2.py:183: RuntimeWarning: invalid value encountered in true_divide\n",
      "  N = ((D / (nadir - ideal)) ** 2) * weights\n",
      "A:\\anaconda3\\envs\\xmoai\\lib\\site-packages\\pymoo\\algorithms\\rnsga2.py:183: RuntimeWarning: invalid value encountered in true_divide\n",
      "  N = ((D / (nadir - ideal)) ** 2) * weights\n",
      "A:\\anaconda3\\envs\\xmoai\\lib\\site-packages\\pymoo\\algorithms\\rnsga2.py:183: RuntimeWarning: invalid value encountered in true_divide\n",
      "  N = ((D / (nadir - ideal)) ** 2) * weights\n",
      "A:\\anaconda3\\envs\\xmoai\\lib\\site-packages\\pymoo\\algorithms\\rnsga2.py:183: RuntimeWarning: invalid value encountered in true_divide\n",
      "  N = ((D / (nadir - ideal)) ** 2) * weights\n",
      "A:\\anaconda3\\envs\\xmoai\\lib\\site-packages\\pymoo\\algorithms\\rnsga2.py:183: RuntimeWarning: invalid value encountered in true_divide\n",
      "  N = ((D / (nadir - ideal)) ** 2) * weights\n",
      "A:\\anaconda3\\envs\\xmoai\\lib\\site-packages\\pymoo\\algorithms\\rnsga2.py:183: RuntimeWarning: invalid value encountered in true_divide\n",
      "  N = ((D / (nadir - ideal)) ** 2) * weights\n",
      "A:\\anaconda3\\envs\\xmoai\\lib\\site-packages\\pymoo\\algorithms\\rnsga2.py:183: RuntimeWarning: invalid value encountered in true_divide\n",
      "  N = ((D / (nadir - ideal)) ** 2) * weights\n",
      "A:\\anaconda3\\envs\\xmoai\\lib\\site-packages\\pymoo\\algorithms\\rnsga2.py:183: RuntimeWarning: invalid value encountered in true_divide\n",
      "  N = ((D / (nadir - ideal)) ** 2) * weights\n",
      "A:\\anaconda3\\envs\\xmoai\\lib\\site-packages\\pymoo\\algorithms\\rnsga2.py:183: RuntimeWarning: invalid value encountered in true_divide\n",
      "  N = ((D / (nadir - ideal)) ** 2) * weights\n",
      "A:\\anaconda3\\envs\\xmoai\\lib\\site-packages\\pymoo\\algorithms\\rnsga2.py:183: RuntimeWarning: invalid value encountered in true_divide\n",
      "  N = ((D / (nadir - ideal)) ** 2) * weights\n",
      "A:\\anaconda3\\envs\\xmoai\\lib\\site-packages\\pymoo\\algorithms\\rnsga2.py:183: RuntimeWarning: invalid value encountered in true_divide\n",
      "  N = ((D / (nadir - ideal)) ** 2) * weights\n",
      "A:\\anaconda3\\envs\\xmoai\\lib\\site-packages\\pymoo\\algorithms\\rnsga2.py:183: RuntimeWarning: invalid value encountered in true_divide\n",
      "  N = ((D / (nadir - ideal)) ** 2) * weights\n",
      "A:\\anaconda3\\envs\\xmoai\\lib\\site-packages\\pymoo\\algorithms\\rnsga2.py:183: RuntimeWarning: invalid value encountered in true_divide\n",
      "  N = ((D / (nadir - ideal)) ** 2) * weights\n",
      "A:\\anaconda3\\envs\\xmoai\\lib\\site-packages\\pymoo\\algorithms\\rnsga2.py:183: RuntimeWarning: invalid value encountered in true_divide\n",
      "  N = ((D / (nadir - ideal)) ** 2) * weights\n",
      "A:\\anaconda3\\envs\\xmoai\\lib\\site-packages\\pymoo\\algorithms\\rnsga2.py:183: RuntimeWarning: invalid value encountered in true_divide\n",
      "  N = ((D / (nadir - ideal)) ** 2) * weights\n",
      "A:\\anaconda3\\envs\\xmoai\\lib\\site-packages\\pymoo\\algorithms\\rnsga2.py:183: RuntimeWarning: invalid value encountered in true_divide\n",
      "  N = ((D / (nadir - ideal)) ** 2) * weights\n",
      "A:\\anaconda3\\envs\\xmoai\\lib\\site-packages\\pymoo\\algorithms\\rnsga2.py:183: RuntimeWarning: invalid value encountered in true_divide\n",
      "  N = ((D / (nadir - ideal)) ** 2) * weights\n",
      "A:\\anaconda3\\envs\\xmoai\\lib\\site-packages\\pymoo\\algorithms\\rnsga2.py:183: RuntimeWarning: invalid value encountered in true_divide\n",
      "  N = ((D / (nadir - ideal)) ** 2) * weights\n",
      "A:\\anaconda3\\envs\\xmoai\\lib\\site-packages\\pymoo\\algorithms\\rnsga2.py:183: RuntimeWarning: invalid value encountered in true_divide\n",
      "  N = ((D / (nadir - ideal)) ** 2) * weights\n",
      "A:\\anaconda3\\envs\\xmoai\\lib\\site-packages\\pymoo\\algorithms\\rnsga2.py:183: RuntimeWarning: invalid value encountered in true_divide\n",
      "  N = ((D / (nadir - ideal)) ** 2) * weights\n",
      "A:\\anaconda3\\envs\\xmoai\\lib\\site-packages\\pymoo\\algorithms\\rnsga2.py:183: RuntimeWarning: invalid value encountered in true_divide\n",
      "  N = ((D / (nadir - ideal)) ** 2) * weights\n",
      "A:\\anaconda3\\envs\\xmoai\\lib\\site-packages\\pymoo\\algorithms\\rnsga2.py:183: RuntimeWarning: invalid value encountered in true_divide\n",
      "  N = ((D / (nadir - ideal)) ** 2) * weights\n",
      "A:\\anaconda3\\envs\\xmoai\\lib\\site-packages\\pymoo\\algorithms\\rnsga2.py:183: RuntimeWarning: invalid value encountered in true_divide\n",
      "  N = ((D / (nadir - ideal)) ** 2) * weights\n",
      "A:\\anaconda3\\envs\\xmoai\\lib\\site-packages\\pymoo\\algorithms\\rnsga2.py:183: RuntimeWarning: invalid value encountered in true_divide\n",
      "  N = ((D / (nadir - ideal)) ** 2) * weights\n",
      "A:\\anaconda3\\envs\\xmoai\\lib\\site-packages\\pymoo\\algorithms\\rnsga2.py:183: RuntimeWarning: invalid value encountered in true_divide\n",
      "  N = ((D / (nadir - ideal)) ** 2) * weights\n",
      "A:\\anaconda3\\envs\\xmoai\\lib\\site-packages\\pymoo\\algorithms\\rnsga2.py:183: RuntimeWarning: invalid value encountered in true_divide\n",
      "  N = ((D / (nadir - ideal)) ** 2) * weights\n",
      "A:\\anaconda3\\envs\\xmoai\\lib\\site-packages\\pymoo\\algorithms\\rnsga2.py:183: RuntimeWarning: invalid value encountered in true_divide\n",
      "  N = ((D / (nadir - ideal)) ** 2) * weights\n",
      "A:\\anaconda3\\envs\\xmoai\\lib\\site-packages\\pymoo\\algorithms\\rnsga2.py:183: RuntimeWarning: invalid value encountered in true_divide\n",
      "  N = ((D / (nadir - ideal)) ** 2) * weights\n",
      "A:\\anaconda3\\envs\\xmoai\\lib\\site-packages\\pymoo\\algorithms\\rnsga2.py:183: RuntimeWarning: invalid value encountered in true_divide\n",
      "  N = ((D / (nadir - ideal)) ** 2) * weights\n",
      "A:\\anaconda3\\envs\\xmoai\\lib\\site-packages\\pymoo\\algorithms\\rnsga2.py:183: RuntimeWarning: invalid value encountered in true_divide\n",
      "  N = ((D / (nadir - ideal)) ** 2) * weights\n",
      "A:\\anaconda3\\envs\\xmoai\\lib\\site-packages\\pymoo\\algorithms\\rnsga2.py:183: RuntimeWarning: invalid value encountered in true_divide\n",
      "  N = ((D / (nadir - ideal)) ** 2) * weights\n",
      "A:\\anaconda3\\envs\\xmoai\\lib\\site-packages\\pymoo\\algorithms\\rnsga2.py:183: RuntimeWarning: invalid value encountered in true_divide\n",
      "  N = ((D / (nadir - ideal)) ** 2) * weights\n"
     ]
    },
    {
     "name": "stderr",
     "output_type": "stream",
     "text": [
      "A:\\anaconda3\\envs\\xmoai\\lib\\site-packages\\pymoo\\algorithms\\rnsga2.py:183: RuntimeWarning: invalid value encountered in true_divide\n",
      "  N = ((D / (nadir - ideal)) ** 2) * weights\n",
      "A:\\anaconda3\\envs\\xmoai\\lib\\site-packages\\pymoo\\algorithms\\rnsga2.py:183: RuntimeWarning: invalid value encountered in true_divide\n",
      "  N = ((D / (nadir - ideal)) ** 2) * weights\n",
      "A:\\anaconda3\\envs\\xmoai\\lib\\site-packages\\pymoo\\algorithms\\rnsga2.py:183: RuntimeWarning: invalid value encountered in true_divide\n",
      "  N = ((D / (nadir - ideal)) ** 2) * weights\n",
      "A:\\anaconda3\\envs\\xmoai\\lib\\site-packages\\topsis\\topsis.py:66: RuntimeWarning: invalid value encountered in true_divide\n",
      "  self.r = self.a/np.array(np.linalg.norm(self.a, axis=1)[:, np.newaxis])\n",
      "A:\\anaconda3\\envs\\xmoai\\lib\\site-packages\\topsis\\topsis.py:66: RuntimeWarning: invalid value encountered in true_divide\n",
      "  self.r = self.a/np.array(np.linalg.norm(self.a, axis=1)[:, np.newaxis])\n",
      "A:\\anaconda3\\envs\\xmoai\\lib\\site-packages\\topsis\\topsis.py:66: RuntimeWarning: invalid value encountered in true_divide\n",
      "  self.r = self.a/np.array(np.linalg.norm(self.a, axis=1)[:, np.newaxis])\n",
      "A:\\anaconda3\\envs\\xmoai\\lib\\site-packages\\topsis\\topsis.py:66: RuntimeWarning: invalid value encountered in true_divide\n",
      "  self.r = self.a/np.array(np.linalg.norm(self.a, axis=1)[:, np.newaxis])\n",
      "A:\\anaconda3\\envs\\xmoai\\lib\\site-packages\\topsis\\topsis.py:66: RuntimeWarning: invalid value encountered in true_divide\n",
      "  self.r = self.a/np.array(np.linalg.norm(self.a, axis=1)[:, np.newaxis])\n",
      "A:\\anaconda3\\envs\\xmoai\\lib\\site-packages\\topsis\\topsis.py:66: RuntimeWarning: invalid value encountered in true_divide\n",
      "  self.r = self.a/np.array(np.linalg.norm(self.a, axis=1)[:, np.newaxis])\n"
     ]
    },
    {
     "data": {
      "text/plain": [
       "'Training AIF360 - AdversarialDebiasing'"
      ]
     },
     "metadata": {},
     "output_type": "display_data"
    },
    {
     "data": {
      "text/plain": [
       "'Training AIF360 - PostProcessingMeta'"
      ]
     },
     "metadata": {},
     "output_type": "display_data"
    },
    {
     "data": {
      "text/plain": [
       "'Seed 8'"
      ]
     },
     "metadata": {},
     "output_type": "display_data"
    },
    {
     "data": {
      "text/plain": [
       "'Training the Voting Ensemble'"
      ]
     },
     "metadata": {},
     "output_type": "display_data"
    },
    {
     "data": {
      "text/plain": [
       "'Training Fairlearn'"
      ]
     },
     "metadata": {},
     "output_type": "display_data"
    },
    {
     "data": {
      "text/plain": [
       "'Training scikit-lego - DemographicParityClassifier'"
      ]
     },
     "metadata": {},
     "output_type": "display_data"
    },
    {
     "data": {
      "text/plain": [
       "'Training scikit-lego - EqualOpportunityClassifier'"
      ]
     },
     "metadata": {},
     "output_type": "display_data"
    },
    {
     "data": {
      "text/plain": [
       "'Training the proposal (nsga2)'"
      ]
     },
     "metadata": {},
     "output_type": "display_data"
    },
    {
     "name": "stderr",
     "output_type": "stream",
     "text": [
      "A:\\anaconda3\\envs\\xmoai\\lib\\site-packages\\topsis\\topsis.py:66: RuntimeWarning: invalid value encountered in true_divide\n",
      "  self.r = self.a/np.array(np.linalg.norm(self.a, axis=1)[:, np.newaxis])\n",
      "A:\\anaconda3\\envs\\xmoai\\lib\\site-packages\\topsis\\topsis.py:66: RuntimeWarning: invalid value encountered in true_divide\n",
      "  self.r = self.a/np.array(np.linalg.norm(self.a, axis=1)[:, np.newaxis])\n",
      "A:\\anaconda3\\envs\\xmoai\\lib\\site-packages\\topsis\\topsis.py:66: RuntimeWarning: invalid value encountered in true_divide\n",
      "  self.r = self.a/np.array(np.linalg.norm(self.a, axis=1)[:, np.newaxis])\n",
      "A:\\anaconda3\\envs\\xmoai\\lib\\site-packages\\topsis\\topsis.py:66: RuntimeWarning: invalid value encountered in true_divide\n",
      "  self.r = self.a/np.array(np.linalg.norm(self.a, axis=1)[:, np.newaxis])\n",
      "A:\\anaconda3\\envs\\xmoai\\lib\\site-packages\\topsis\\topsis.py:66: RuntimeWarning: invalid value encountered in true_divide\n",
      "  self.r = self.a/np.array(np.linalg.norm(self.a, axis=1)[:, np.newaxis])\n",
      "A:\\anaconda3\\envs\\xmoai\\lib\\site-packages\\topsis\\topsis.py:66: RuntimeWarning: invalid value encountered in true_divide\n",
      "  self.r = self.a/np.array(np.linalg.norm(self.a, axis=1)[:, np.newaxis])\n"
     ]
    },
    {
     "data": {
      "text/plain": [
       "'Training the proposal (rnsga2)'"
      ]
     },
     "metadata": {},
     "output_type": "display_data"
    },
    {
     "name": "stderr",
     "output_type": "stream",
     "text": [
      "A:\\anaconda3\\envs\\xmoai\\lib\\site-packages\\pymoo\\algorithms\\rnsga2.py:183: RuntimeWarning: invalid value encountered in true_divide\n",
      "  N = ((D / (nadir - ideal)) ** 2) * weights\n",
      "A:\\anaconda3\\envs\\xmoai\\lib\\site-packages\\pymoo\\algorithms\\rnsga2.py:183: RuntimeWarning: invalid value encountered in true_divide\n",
      "  N = ((D / (nadir - ideal)) ** 2) * weights\n",
      "A:\\anaconda3\\envs\\xmoai\\lib\\site-packages\\pymoo\\algorithms\\rnsga2.py:183: RuntimeWarning: invalid value encountered in true_divide\n",
      "  N = ((D / (nadir - ideal)) ** 2) * weights\n",
      "A:\\anaconda3\\envs\\xmoai\\lib\\site-packages\\pymoo\\algorithms\\rnsga2.py:183: RuntimeWarning: invalid value encountered in true_divide\n",
      "  N = ((D / (nadir - ideal)) ** 2) * weights\n",
      "A:\\anaconda3\\envs\\xmoai\\lib\\site-packages\\pymoo\\algorithms\\rnsga2.py:183: RuntimeWarning: invalid value encountered in true_divide\n",
      "  N = ((D / (nadir - ideal)) ** 2) * weights\n",
      "A:\\anaconda3\\envs\\xmoai\\lib\\site-packages\\pymoo\\algorithms\\rnsga2.py:183: RuntimeWarning: invalid value encountered in true_divide\n",
      "  N = ((D / (nadir - ideal)) ** 2) * weights\n",
      "A:\\anaconda3\\envs\\xmoai\\lib\\site-packages\\pymoo\\algorithms\\rnsga2.py:183: RuntimeWarning: invalid value encountered in true_divide\n",
      "  N = ((D / (nadir - ideal)) ** 2) * weights\n",
      "A:\\anaconda3\\envs\\xmoai\\lib\\site-packages\\pymoo\\algorithms\\rnsga2.py:183: RuntimeWarning: invalid value encountered in true_divide\n",
      "  N = ((D / (nadir - ideal)) ** 2) * weights\n",
      "A:\\anaconda3\\envs\\xmoai\\lib\\site-packages\\pymoo\\algorithms\\rnsga2.py:183: RuntimeWarning: invalid value encountered in true_divide\n",
      "  N = ((D / (nadir - ideal)) ** 2) * weights\n",
      "A:\\anaconda3\\envs\\xmoai\\lib\\site-packages\\pymoo\\algorithms\\rnsga2.py:183: RuntimeWarning: invalid value encountered in true_divide\n",
      "  N = ((D / (nadir - ideal)) ** 2) * weights\n",
      "A:\\anaconda3\\envs\\xmoai\\lib\\site-packages\\pymoo\\algorithms\\rnsga2.py:183: RuntimeWarning: invalid value encountered in true_divide\n",
      "  N = ((D / (nadir - ideal)) ** 2) * weights\n",
      "A:\\anaconda3\\envs\\xmoai\\lib\\site-packages\\pymoo\\algorithms\\rnsga2.py:183: RuntimeWarning: invalid value encountered in true_divide\n",
      "  N = ((D / (nadir - ideal)) ** 2) * weights\n",
      "A:\\anaconda3\\envs\\xmoai\\lib\\site-packages\\pymoo\\algorithms\\rnsga2.py:183: RuntimeWarning: invalid value encountered in true_divide\n",
      "  N = ((D / (nadir - ideal)) ** 2) * weights\n",
      "A:\\anaconda3\\envs\\xmoai\\lib\\site-packages\\pymoo\\algorithms\\rnsga2.py:183: RuntimeWarning: invalid value encountered in true_divide\n",
      "  N = ((D / (nadir - ideal)) ** 2) * weights\n",
      "A:\\anaconda3\\envs\\xmoai\\lib\\site-packages\\pymoo\\algorithms\\rnsga2.py:183: RuntimeWarning: invalid value encountered in true_divide\n",
      "  N = ((D / (nadir - ideal)) ** 2) * weights\n",
      "A:\\anaconda3\\envs\\xmoai\\lib\\site-packages\\pymoo\\algorithms\\rnsga2.py:183: RuntimeWarning: invalid value encountered in true_divide\n",
      "  N = ((D / (nadir - ideal)) ** 2) * weights\n",
      "A:\\anaconda3\\envs\\xmoai\\lib\\site-packages\\pymoo\\algorithms\\rnsga2.py:183: RuntimeWarning: invalid value encountered in true_divide\n",
      "  N = ((D / (nadir - ideal)) ** 2) * weights\n",
      "A:\\anaconda3\\envs\\xmoai\\lib\\site-packages\\pymoo\\algorithms\\rnsga2.py:183: RuntimeWarning: invalid value encountered in true_divide\n",
      "  N = ((D / (nadir - ideal)) ** 2) * weights\n",
      "A:\\anaconda3\\envs\\xmoai\\lib\\site-packages\\pymoo\\algorithms\\rnsga2.py:183: RuntimeWarning: invalid value encountered in true_divide\n",
      "  N = ((D / (nadir - ideal)) ** 2) * weights\n",
      "A:\\anaconda3\\envs\\xmoai\\lib\\site-packages\\pymoo\\algorithms\\rnsga2.py:183: RuntimeWarning: invalid value encountered in true_divide\n",
      "  N = ((D / (nadir - ideal)) ** 2) * weights\n",
      "A:\\anaconda3\\envs\\xmoai\\lib\\site-packages\\pymoo\\algorithms\\rnsga2.py:183: RuntimeWarning: invalid value encountered in true_divide\n",
      "  N = ((D / (nadir - ideal)) ** 2) * weights\n",
      "A:\\anaconda3\\envs\\xmoai\\lib\\site-packages\\pymoo\\algorithms\\rnsga2.py:183: RuntimeWarning: invalid value encountered in true_divide\n",
      "  N = ((D / (nadir - ideal)) ** 2) * weights\n",
      "A:\\anaconda3\\envs\\xmoai\\lib\\site-packages\\pymoo\\algorithms\\rnsga2.py:183: RuntimeWarning: invalid value encountered in true_divide\n",
      "  N = ((D / (nadir - ideal)) ** 2) * weights\n",
      "A:\\anaconda3\\envs\\xmoai\\lib\\site-packages\\pymoo\\algorithms\\rnsga2.py:183: RuntimeWarning: invalid value encountered in true_divide\n",
      "  N = ((D / (nadir - ideal)) ** 2) * weights\n",
      "A:\\anaconda3\\envs\\xmoai\\lib\\site-packages\\pymoo\\algorithms\\rnsga2.py:183: RuntimeWarning: invalid value encountered in true_divide\n",
      "  N = ((D / (nadir - ideal)) ** 2) * weights\n",
      "A:\\anaconda3\\envs\\xmoai\\lib\\site-packages\\pymoo\\algorithms\\rnsga2.py:183: RuntimeWarning: invalid value encountered in true_divide\n",
      "  N = ((D / (nadir - ideal)) ** 2) * weights\n",
      "A:\\anaconda3\\envs\\xmoai\\lib\\site-packages\\pymoo\\algorithms\\rnsga2.py:183: RuntimeWarning: invalid value encountered in true_divide\n",
      "  N = ((D / (nadir - ideal)) ** 2) * weights\n",
      "A:\\anaconda3\\envs\\xmoai\\lib\\site-packages\\pymoo\\algorithms\\rnsga2.py:183: RuntimeWarning: invalid value encountered in true_divide\n",
      "  N = ((D / (nadir - ideal)) ** 2) * weights\n",
      "A:\\anaconda3\\envs\\xmoai\\lib\\site-packages\\pymoo\\algorithms\\rnsga2.py:183: RuntimeWarning: invalid value encountered in true_divide\n",
      "  N = ((D / (nadir - ideal)) ** 2) * weights\n",
      "A:\\anaconda3\\envs\\xmoai\\lib\\site-packages\\pymoo\\algorithms\\rnsga2.py:183: RuntimeWarning: invalid value encountered in true_divide\n",
      "  N = ((D / (nadir - ideal)) ** 2) * weights\n",
      "A:\\anaconda3\\envs\\xmoai\\lib\\site-packages\\pymoo\\algorithms\\rnsga2.py:183: RuntimeWarning: invalid value encountered in true_divide\n",
      "  N = ((D / (nadir - ideal)) ** 2) * weights\n",
      "A:\\anaconda3\\envs\\xmoai\\lib\\site-packages\\pymoo\\algorithms\\rnsga2.py:183: RuntimeWarning: invalid value encountered in true_divide\n",
      "  N = ((D / (nadir - ideal)) ** 2) * weights\n",
      "A:\\anaconda3\\envs\\xmoai\\lib\\site-packages\\pymoo\\algorithms\\rnsga2.py:183: RuntimeWarning: invalid value encountered in true_divide\n",
      "  N = ((D / (nadir - ideal)) ** 2) * weights\n",
      "A:\\anaconda3\\envs\\xmoai\\lib\\site-packages\\pymoo\\algorithms\\rnsga2.py:183: RuntimeWarning: invalid value encountered in true_divide\n",
      "  N = ((D / (nadir - ideal)) ** 2) * weights\n",
      "A:\\anaconda3\\envs\\xmoai\\lib\\site-packages\\pymoo\\algorithms\\rnsga2.py:183: RuntimeWarning: invalid value encountered in true_divide\n",
      "  N = ((D / (nadir - ideal)) ** 2) * weights\n",
      "A:\\anaconda3\\envs\\xmoai\\lib\\site-packages\\pymoo\\algorithms\\rnsga2.py:183: RuntimeWarning: invalid value encountered in true_divide\n",
      "  N = ((D / (nadir - ideal)) ** 2) * weights\n",
      "A:\\anaconda3\\envs\\xmoai\\lib\\site-packages\\pymoo\\algorithms\\rnsga2.py:183: RuntimeWarning: invalid value encountered in true_divide\n",
      "  N = ((D / (nadir - ideal)) ** 2) * weights\n",
      "A:\\anaconda3\\envs\\xmoai\\lib\\site-packages\\pymoo\\algorithms\\rnsga2.py:183: RuntimeWarning: invalid value encountered in true_divide\n",
      "  N = ((D / (nadir - ideal)) ** 2) * weights\n",
      "A:\\anaconda3\\envs\\xmoai\\lib\\site-packages\\pymoo\\algorithms\\rnsga2.py:183: RuntimeWarning: invalid value encountered in true_divide\n",
      "  N = ((D / (nadir - ideal)) ** 2) * weights\n",
      "A:\\anaconda3\\envs\\xmoai\\lib\\site-packages\\pymoo\\algorithms\\rnsga2.py:183: RuntimeWarning: invalid value encountered in true_divide\n",
      "  N = ((D / (nadir - ideal)) ** 2) * weights\n",
      "A:\\anaconda3\\envs\\xmoai\\lib\\site-packages\\pymoo\\algorithms\\rnsga2.py:183: RuntimeWarning: invalid value encountered in true_divide\n",
      "  N = ((D / (nadir - ideal)) ** 2) * weights\n",
      "A:\\anaconda3\\envs\\xmoai\\lib\\site-packages\\pymoo\\algorithms\\rnsga2.py:183: RuntimeWarning: invalid value encountered in true_divide\n",
      "  N = ((D / (nadir - ideal)) ** 2) * weights\n",
      "A:\\anaconda3\\envs\\xmoai\\lib\\site-packages\\pymoo\\algorithms\\rnsga2.py:183: RuntimeWarning: invalid value encountered in true_divide\n",
      "  N = ((D / (nadir - ideal)) ** 2) * weights\n",
      "A:\\anaconda3\\envs\\xmoai\\lib\\site-packages\\pymoo\\algorithms\\rnsga2.py:183: RuntimeWarning: invalid value encountered in true_divide\n",
      "  N = ((D / (nadir - ideal)) ** 2) * weights\n",
      "A:\\anaconda3\\envs\\xmoai\\lib\\site-packages\\pymoo\\algorithms\\rnsga2.py:183: RuntimeWarning: invalid value encountered in true_divide\n",
      "  N = ((D / (nadir - ideal)) ** 2) * weights\n",
      "A:\\anaconda3\\envs\\xmoai\\lib\\site-packages\\pymoo\\algorithms\\rnsga2.py:183: RuntimeWarning: invalid value encountered in true_divide\n",
      "  N = ((D / (nadir - ideal)) ** 2) * weights\n",
      "A:\\anaconda3\\envs\\xmoai\\lib\\site-packages\\pymoo\\algorithms\\rnsga2.py:183: RuntimeWarning: invalid value encountered in true_divide\n",
      "  N = ((D / (nadir - ideal)) ** 2) * weights\n"
     ]
    },
    {
     "name": "stderr",
     "output_type": "stream",
     "text": [
      "A:\\anaconda3\\envs\\xmoai\\lib\\site-packages\\pymoo\\algorithms\\rnsga2.py:183: RuntimeWarning: invalid value encountered in true_divide\n",
      "  N = ((D / (nadir - ideal)) ** 2) * weights\n",
      "A:\\anaconda3\\envs\\xmoai\\lib\\site-packages\\pymoo\\algorithms\\rnsga2.py:183: RuntimeWarning: invalid value encountered in true_divide\n",
      "  N = ((D / (nadir - ideal)) ** 2) * weights\n",
      "A:\\anaconda3\\envs\\xmoai\\lib\\site-packages\\pymoo\\algorithms\\rnsga2.py:183: RuntimeWarning: invalid value encountered in true_divide\n",
      "  N = ((D / (nadir - ideal)) ** 2) * weights\n",
      "A:\\anaconda3\\envs\\xmoai\\lib\\site-packages\\topsis\\topsis.py:66: RuntimeWarning: invalid value encountered in true_divide\n",
      "  self.r = self.a/np.array(np.linalg.norm(self.a, axis=1)[:, np.newaxis])\n",
      "A:\\anaconda3\\envs\\xmoai\\lib\\site-packages\\topsis\\topsis.py:66: RuntimeWarning: invalid value encountered in true_divide\n",
      "  self.r = self.a/np.array(np.linalg.norm(self.a, axis=1)[:, np.newaxis])\n",
      "A:\\anaconda3\\envs\\xmoai\\lib\\site-packages\\topsis\\topsis.py:66: RuntimeWarning: invalid value encountered in true_divide\n",
      "  self.r = self.a/np.array(np.linalg.norm(self.a, axis=1)[:, np.newaxis])\n",
      "A:\\anaconda3\\envs\\xmoai\\lib\\site-packages\\topsis\\topsis.py:66: RuntimeWarning: invalid value encountered in true_divide\n",
      "  self.r = self.a/np.array(np.linalg.norm(self.a, axis=1)[:, np.newaxis])\n",
      "A:\\anaconda3\\envs\\xmoai\\lib\\site-packages\\topsis\\topsis.py:66: RuntimeWarning: invalid value encountered in true_divide\n",
      "  self.r = self.a/np.array(np.linalg.norm(self.a, axis=1)[:, np.newaxis])\n",
      "A:\\anaconda3\\envs\\xmoai\\lib\\site-packages\\topsis\\topsis.py:66: RuntimeWarning: invalid value encountered in true_divide\n",
      "  self.r = self.a/np.array(np.linalg.norm(self.a, axis=1)[:, np.newaxis])\n"
     ]
    },
    {
     "data": {
      "text/plain": [
       "'Training AIF360 - AdversarialDebiasing'"
      ]
     },
     "metadata": {},
     "output_type": "display_data"
    },
    {
     "data": {
      "text/plain": [
       "'Training AIF360 - PostProcessingMeta'"
      ]
     },
     "metadata": {},
     "output_type": "display_data"
    },
    {
     "data": {
      "text/plain": [
       "'Seed 9'"
      ]
     },
     "metadata": {},
     "output_type": "display_data"
    },
    {
     "data": {
      "text/plain": [
       "'Training the Voting Ensemble'"
      ]
     },
     "metadata": {},
     "output_type": "display_data"
    },
    {
     "data": {
      "text/plain": [
       "'Training Fairlearn'"
      ]
     },
     "metadata": {},
     "output_type": "display_data"
    },
    {
     "data": {
      "text/plain": [
       "'Training scikit-lego - DemographicParityClassifier'"
      ]
     },
     "metadata": {},
     "output_type": "display_data"
    },
    {
     "data": {
      "text/plain": [
       "'Training scikit-lego - EqualOpportunityClassifier'"
      ]
     },
     "metadata": {},
     "output_type": "display_data"
    },
    {
     "data": {
      "text/plain": [
       "'Training the proposal (nsga2)'"
      ]
     },
     "metadata": {},
     "output_type": "display_data"
    },
    {
     "data": {
      "text/plain": [
       "'Training the proposal (rnsga2)'"
      ]
     },
     "metadata": {},
     "output_type": "display_data"
    },
    {
     "name": "stderr",
     "output_type": "stream",
     "text": [
      "A:\\anaconda3\\envs\\xmoai\\lib\\site-packages\\pymoo\\algorithms\\rnsga2.py:183: RuntimeWarning: invalid value encountered in true_divide\n",
      "  N = ((D / (nadir - ideal)) ** 2) * weights\n",
      "A:\\anaconda3\\envs\\xmoai\\lib\\site-packages\\pymoo\\algorithms\\rnsga2.py:183: RuntimeWarning: invalid value encountered in true_divide\n",
      "  N = ((D / (nadir - ideal)) ** 2) * weights\n",
      "A:\\anaconda3\\envs\\xmoai\\lib\\site-packages\\pymoo\\algorithms\\rnsga2.py:183: RuntimeWarning: invalid value encountered in true_divide\n",
      "  N = ((D / (nadir - ideal)) ** 2) * weights\n"
     ]
    },
    {
     "data": {
      "text/plain": [
       "'Training AIF360 - AdversarialDebiasing'"
      ]
     },
     "metadata": {},
     "output_type": "display_data"
    },
    {
     "data": {
      "text/plain": [
       "'Training AIF360 - PostProcessingMeta'"
      ]
     },
     "metadata": {},
     "output_type": "display_data"
    },
    {
     "data": {
      "text/plain": [
       "'Seed 10'"
      ]
     },
     "metadata": {},
     "output_type": "display_data"
    },
    {
     "data": {
      "text/plain": [
       "'Training the Voting Ensemble'"
      ]
     },
     "metadata": {},
     "output_type": "display_data"
    },
    {
     "data": {
      "text/plain": [
       "'Training Fairlearn'"
      ]
     },
     "metadata": {},
     "output_type": "display_data"
    },
    {
     "data": {
      "text/plain": [
       "'Training scikit-lego - DemographicParityClassifier'"
      ]
     },
     "metadata": {},
     "output_type": "display_data"
    },
    {
     "data": {
      "text/plain": [
       "'Training scikit-lego - EqualOpportunityClassifier'"
      ]
     },
     "metadata": {},
     "output_type": "display_data"
    },
    {
     "data": {
      "text/plain": [
       "'Training the proposal (nsga2)'"
      ]
     },
     "metadata": {},
     "output_type": "display_data"
    },
    {
     "name": "stderr",
     "output_type": "stream",
     "text": [
      "A:\\anaconda3\\envs\\xmoai\\lib\\site-packages\\topsis\\topsis.py:66: RuntimeWarning: invalid value encountered in true_divide\n",
      "  self.r = self.a/np.array(np.linalg.norm(self.a, axis=1)[:, np.newaxis])\n",
      "A:\\anaconda3\\envs\\xmoai\\lib\\site-packages\\topsis\\topsis.py:66: RuntimeWarning: invalid value encountered in true_divide\n",
      "  self.r = self.a/np.array(np.linalg.norm(self.a, axis=1)[:, np.newaxis])\n",
      "A:\\anaconda3\\envs\\xmoai\\lib\\site-packages\\topsis\\topsis.py:66: RuntimeWarning: invalid value encountered in true_divide\n",
      "  self.r = self.a/np.array(np.linalg.norm(self.a, axis=1)[:, np.newaxis])\n",
      "A:\\anaconda3\\envs\\xmoai\\lib\\site-packages\\topsis\\topsis.py:66: RuntimeWarning: invalid value encountered in true_divide\n",
      "  self.r = self.a/np.array(np.linalg.norm(self.a, axis=1)[:, np.newaxis])\n",
      "A:\\anaconda3\\envs\\xmoai\\lib\\site-packages\\topsis\\topsis.py:66: RuntimeWarning: invalid value encountered in true_divide\n",
      "  self.r = self.a/np.array(np.linalg.norm(self.a, axis=1)[:, np.newaxis])\n",
      "A:\\anaconda3\\envs\\xmoai\\lib\\site-packages\\topsis\\topsis.py:66: RuntimeWarning: invalid value encountered in true_divide\n",
      "  self.r = self.a/np.array(np.linalg.norm(self.a, axis=1)[:, np.newaxis])\n"
     ]
    },
    {
     "data": {
      "text/plain": [
       "'Training the proposal (rnsga2)'"
      ]
     },
     "metadata": {},
     "output_type": "display_data"
    },
    {
     "name": "stderr",
     "output_type": "stream",
     "text": [
      "A:\\anaconda3\\envs\\xmoai\\lib\\site-packages\\pymoo\\algorithms\\rnsga2.py:183: RuntimeWarning: invalid value encountered in true_divide\n",
      "  N = ((D / (nadir - ideal)) ** 2) * weights\n",
      "A:\\anaconda3\\envs\\xmoai\\lib\\site-packages\\pymoo\\algorithms\\rnsga2.py:183: RuntimeWarning: invalid value encountered in true_divide\n",
      "  N = ((D / (nadir - ideal)) ** 2) * weights\n",
      "A:\\anaconda3\\envs\\xmoai\\lib\\site-packages\\pymoo\\algorithms\\rnsga2.py:183: RuntimeWarning: invalid value encountered in true_divide\n",
      "  N = ((D / (nadir - ideal)) ** 2) * weights\n",
      "A:\\anaconda3\\envs\\xmoai\\lib\\site-packages\\pymoo\\algorithms\\rnsga2.py:183: RuntimeWarning: invalid value encountered in true_divide\n",
      "  N = ((D / (nadir - ideal)) ** 2) * weights\n",
      "A:\\anaconda3\\envs\\xmoai\\lib\\site-packages\\pymoo\\algorithms\\rnsga2.py:183: RuntimeWarning: invalid value encountered in true_divide\n",
      "  N = ((D / (nadir - ideal)) ** 2) * weights\n",
      "A:\\anaconda3\\envs\\xmoai\\lib\\site-packages\\pymoo\\algorithms\\rnsga2.py:183: RuntimeWarning: invalid value encountered in true_divide\n",
      "  N = ((D / (nadir - ideal)) ** 2) * weights\n",
      "A:\\anaconda3\\envs\\xmoai\\lib\\site-packages\\pymoo\\algorithms\\rnsga2.py:183: RuntimeWarning: invalid value encountered in true_divide\n",
      "  N = ((D / (nadir - ideal)) ** 2) * weights\n",
      "A:\\anaconda3\\envs\\xmoai\\lib\\site-packages\\pymoo\\algorithms\\rnsga2.py:183: RuntimeWarning: invalid value encountered in true_divide\n",
      "  N = ((D / (nadir - ideal)) ** 2) * weights\n",
      "A:\\anaconda3\\envs\\xmoai\\lib\\site-packages\\pymoo\\algorithms\\rnsga2.py:183: RuntimeWarning: invalid value encountered in true_divide\n",
      "  N = ((D / (nadir - ideal)) ** 2) * weights\n",
      "A:\\anaconda3\\envs\\xmoai\\lib\\site-packages\\pymoo\\algorithms\\rnsga2.py:183: RuntimeWarning: invalid value encountered in true_divide\n",
      "  N = ((D / (nadir - ideal)) ** 2) * weights\n",
      "A:\\anaconda3\\envs\\xmoai\\lib\\site-packages\\pymoo\\algorithms\\rnsga2.py:183: RuntimeWarning: invalid value encountered in true_divide\n",
      "  N = ((D / (nadir - ideal)) ** 2) * weights\n",
      "A:\\anaconda3\\envs\\xmoai\\lib\\site-packages\\pymoo\\algorithms\\rnsga2.py:183: RuntimeWarning: invalid value encountered in true_divide\n",
      "  N = ((D / (nadir - ideal)) ** 2) * weights\n",
      "A:\\anaconda3\\envs\\xmoai\\lib\\site-packages\\pymoo\\algorithms\\rnsga2.py:183: RuntimeWarning: invalid value encountered in true_divide\n",
      "  N = ((D / (nadir - ideal)) ** 2) * weights\n",
      "A:\\anaconda3\\envs\\xmoai\\lib\\site-packages\\pymoo\\algorithms\\rnsga2.py:183: RuntimeWarning: invalid value encountered in true_divide\n",
      "  N = ((D / (nadir - ideal)) ** 2) * weights\n",
      "A:\\anaconda3\\envs\\xmoai\\lib\\site-packages\\pymoo\\algorithms\\rnsga2.py:183: RuntimeWarning: invalid value encountered in true_divide\n",
      "  N = ((D / (nadir - ideal)) ** 2) * weights\n",
      "A:\\anaconda3\\envs\\xmoai\\lib\\site-packages\\pymoo\\algorithms\\rnsga2.py:183: RuntimeWarning: invalid value encountered in true_divide\n",
      "  N = ((D / (nadir - ideal)) ** 2) * weights\n",
      "A:\\anaconda3\\envs\\xmoai\\lib\\site-packages\\pymoo\\algorithms\\rnsga2.py:183: RuntimeWarning: invalid value encountered in true_divide\n",
      "  N = ((D / (nadir - ideal)) ** 2) * weights\n",
      "A:\\anaconda3\\envs\\xmoai\\lib\\site-packages\\pymoo\\algorithms\\rnsga2.py:183: RuntimeWarning: invalid value encountered in true_divide\n",
      "  N = ((D / (nadir - ideal)) ** 2) * weights\n",
      "A:\\anaconda3\\envs\\xmoai\\lib\\site-packages\\pymoo\\algorithms\\rnsga2.py:183: RuntimeWarning: invalid value encountered in true_divide\n",
      "  N = ((D / (nadir - ideal)) ** 2) * weights\n",
      "A:\\anaconda3\\envs\\xmoai\\lib\\site-packages\\pymoo\\algorithms\\rnsga2.py:183: RuntimeWarning: invalid value encountered in true_divide\n",
      "  N = ((D / (nadir - ideal)) ** 2) * weights\n",
      "A:\\anaconda3\\envs\\xmoai\\lib\\site-packages\\pymoo\\algorithms\\rnsga2.py:183: RuntimeWarning: invalid value encountered in true_divide\n",
      "  N = ((D / (nadir - ideal)) ** 2) * weights\n",
      "A:\\anaconda3\\envs\\xmoai\\lib\\site-packages\\pymoo\\algorithms\\rnsga2.py:183: RuntimeWarning: invalid value encountered in true_divide\n",
      "  N = ((D / (nadir - ideal)) ** 2) * weights\n",
      "A:\\anaconda3\\envs\\xmoai\\lib\\site-packages\\pymoo\\algorithms\\rnsga2.py:183: RuntimeWarning: invalid value encountered in true_divide\n",
      "  N = ((D / (nadir - ideal)) ** 2) * weights\n",
      "A:\\anaconda3\\envs\\xmoai\\lib\\site-packages\\pymoo\\algorithms\\rnsga2.py:183: RuntimeWarning: invalid value encountered in true_divide\n",
      "  N = ((D / (nadir - ideal)) ** 2) * weights\n",
      "A:\\anaconda3\\envs\\xmoai\\lib\\site-packages\\pymoo\\algorithms\\rnsga2.py:183: RuntimeWarning: invalid value encountered in true_divide\n",
      "  N = ((D / (nadir - ideal)) ** 2) * weights\n",
      "A:\\anaconda3\\envs\\xmoai\\lib\\site-packages\\pymoo\\algorithms\\rnsga2.py:183: RuntimeWarning: invalid value encountered in true_divide\n",
      "  N = ((D / (nadir - ideal)) ** 2) * weights\n",
      "A:\\anaconda3\\envs\\xmoai\\lib\\site-packages\\pymoo\\algorithms\\rnsga2.py:183: RuntimeWarning: invalid value encountered in true_divide\n",
      "  N = ((D / (nadir - ideal)) ** 2) * weights\n",
      "A:\\anaconda3\\envs\\xmoai\\lib\\site-packages\\pymoo\\algorithms\\rnsga2.py:183: RuntimeWarning: invalid value encountered in true_divide\n",
      "  N = ((D / (nadir - ideal)) ** 2) * weights\n",
      "A:\\anaconda3\\envs\\xmoai\\lib\\site-packages\\pymoo\\algorithms\\rnsga2.py:183: RuntimeWarning: invalid value encountered in true_divide\n",
      "  N = ((D / (nadir - ideal)) ** 2) * weights\n",
      "A:\\anaconda3\\envs\\xmoai\\lib\\site-packages\\pymoo\\algorithms\\rnsga2.py:183: RuntimeWarning: invalid value encountered in true_divide\n",
      "  N = ((D / (nadir - ideal)) ** 2) * weights\n",
      "A:\\anaconda3\\envs\\xmoai\\lib\\site-packages\\pymoo\\algorithms\\rnsga2.py:183: RuntimeWarning: invalid value encountered in true_divide\n",
      "  N = ((D / (nadir - ideal)) ** 2) * weights\n",
      "A:\\anaconda3\\envs\\xmoai\\lib\\site-packages\\pymoo\\algorithms\\rnsga2.py:183: RuntimeWarning: invalid value encountered in true_divide\n",
      "  N = ((D / (nadir - ideal)) ** 2) * weights\n",
      "A:\\anaconda3\\envs\\xmoai\\lib\\site-packages\\pymoo\\algorithms\\rnsga2.py:183: RuntimeWarning: invalid value encountered in true_divide\n",
      "  N = ((D / (nadir - ideal)) ** 2) * weights\n",
      "A:\\anaconda3\\envs\\xmoai\\lib\\site-packages\\pymoo\\algorithms\\rnsga2.py:183: RuntimeWarning: invalid value encountered in true_divide\n",
      "  N = ((D / (nadir - ideal)) ** 2) * weights\n",
      "A:\\anaconda3\\envs\\xmoai\\lib\\site-packages\\pymoo\\algorithms\\rnsga2.py:183: RuntimeWarning: invalid value encountered in true_divide\n",
      "  N = ((D / (nadir - ideal)) ** 2) * weights\n",
      "A:\\anaconda3\\envs\\xmoai\\lib\\site-packages\\pymoo\\algorithms\\rnsga2.py:183: RuntimeWarning: invalid value encountered in true_divide\n",
      "  N = ((D / (nadir - ideal)) ** 2) * weights\n",
      "A:\\anaconda3\\envs\\xmoai\\lib\\site-packages\\pymoo\\algorithms\\rnsga2.py:183: RuntimeWarning: invalid value encountered in true_divide\n",
      "  N = ((D / (nadir - ideal)) ** 2) * weights\n",
      "A:\\anaconda3\\envs\\xmoai\\lib\\site-packages\\pymoo\\algorithms\\rnsga2.py:183: RuntimeWarning: invalid value encountered in true_divide\n",
      "  N = ((D / (nadir - ideal)) ** 2) * weights\n",
      "A:\\anaconda3\\envs\\xmoai\\lib\\site-packages\\pymoo\\algorithms\\rnsga2.py:183: RuntimeWarning: invalid value encountered in true_divide\n",
      "  N = ((D / (nadir - ideal)) ** 2) * weights\n",
      "A:\\anaconda3\\envs\\xmoai\\lib\\site-packages\\pymoo\\algorithms\\rnsga2.py:183: RuntimeWarning: invalid value encountered in true_divide\n",
      "  N = ((D / (nadir - ideal)) ** 2) * weights\n",
      "A:\\anaconda3\\envs\\xmoai\\lib\\site-packages\\pymoo\\algorithms\\rnsga2.py:183: RuntimeWarning: invalid value encountered in true_divide\n",
      "  N = ((D / (nadir - ideal)) ** 2) * weights\n",
      "A:\\anaconda3\\envs\\xmoai\\lib\\site-packages\\pymoo\\algorithms\\rnsga2.py:183: RuntimeWarning: invalid value encountered in true_divide\n",
      "  N = ((D / (nadir - ideal)) ** 2) * weights\n",
      "A:\\anaconda3\\envs\\xmoai\\lib\\site-packages\\pymoo\\algorithms\\rnsga2.py:183: RuntimeWarning: invalid value encountered in true_divide\n",
      "  N = ((D / (nadir - ideal)) ** 2) * weights\n",
      "A:\\anaconda3\\envs\\xmoai\\lib\\site-packages\\pymoo\\algorithms\\rnsga2.py:183: RuntimeWarning: invalid value encountered in true_divide\n",
      "  N = ((D / (nadir - ideal)) ** 2) * weights\n",
      "A:\\anaconda3\\envs\\xmoai\\lib\\site-packages\\pymoo\\algorithms\\rnsga2.py:183: RuntimeWarning: invalid value encountered in true_divide\n",
      "  N = ((D / (nadir - ideal)) ** 2) * weights\n",
      "A:\\anaconda3\\envs\\xmoai\\lib\\site-packages\\pymoo\\algorithms\\rnsga2.py:183: RuntimeWarning: invalid value encountered in true_divide\n",
      "  N = ((D / (nadir - ideal)) ** 2) * weights\n",
      "A:\\anaconda3\\envs\\xmoai\\lib\\site-packages\\pymoo\\algorithms\\rnsga2.py:183: RuntimeWarning: invalid value encountered in true_divide\n",
      "  N = ((D / (nadir - ideal)) ** 2) * weights\n"
     ]
    },
    {
     "name": "stderr",
     "output_type": "stream",
     "text": [
      "A:\\anaconda3\\envs\\xmoai\\lib\\site-packages\\pymoo\\algorithms\\rnsga2.py:183: RuntimeWarning: invalid value encountered in true_divide\n",
      "  N = ((D / (nadir - ideal)) ** 2) * weights\n",
      "A:\\anaconda3\\envs\\xmoai\\lib\\site-packages\\pymoo\\algorithms\\rnsga2.py:183: RuntimeWarning: invalid value encountered in true_divide\n",
      "  N = ((D / (nadir - ideal)) ** 2) * weights\n",
      "A:\\anaconda3\\envs\\xmoai\\lib\\site-packages\\pymoo\\algorithms\\rnsga2.py:183: RuntimeWarning: invalid value encountered in true_divide\n",
      "  N = ((D / (nadir - ideal)) ** 2) * weights\n",
      "A:\\anaconda3\\envs\\xmoai\\lib\\site-packages\\topsis\\topsis.py:66: RuntimeWarning: invalid value encountered in true_divide\n",
      "  self.r = self.a/np.array(np.linalg.norm(self.a, axis=1)[:, np.newaxis])\n",
      "A:\\anaconda3\\envs\\xmoai\\lib\\site-packages\\topsis\\topsis.py:66: RuntimeWarning: invalid value encountered in true_divide\n",
      "  self.r = self.a/np.array(np.linalg.norm(self.a, axis=1)[:, np.newaxis])\n",
      "A:\\anaconda3\\envs\\xmoai\\lib\\site-packages\\topsis\\topsis.py:66: RuntimeWarning: invalid value encountered in true_divide\n",
      "  self.r = self.a/np.array(np.linalg.norm(self.a, axis=1)[:, np.newaxis])\n",
      "A:\\anaconda3\\envs\\xmoai\\lib\\site-packages\\topsis\\topsis.py:66: RuntimeWarning: invalid value encountered in true_divide\n",
      "  self.r = self.a/np.array(np.linalg.norm(self.a, axis=1)[:, np.newaxis])\n",
      "A:\\anaconda3\\envs\\xmoai\\lib\\site-packages\\topsis\\topsis.py:66: RuntimeWarning: invalid value encountered in true_divide\n",
      "  self.r = self.a/np.array(np.linalg.norm(self.a, axis=1)[:, np.newaxis])\n",
      "A:\\anaconda3\\envs\\xmoai\\lib\\site-packages\\topsis\\topsis.py:66: RuntimeWarning: invalid value encountered in true_divide\n",
      "  self.r = self.a/np.array(np.linalg.norm(self.a, axis=1)[:, np.newaxis])\n"
     ]
    },
    {
     "data": {
      "text/plain": [
       "'Training AIF360 - AdversarialDebiasing'"
      ]
     },
     "metadata": {},
     "output_type": "display_data"
    },
    {
     "data": {
      "text/plain": [
       "'Training AIF360 - PostProcessingMeta'"
      ]
     },
     "metadata": {},
     "output_type": "display_data"
    },
    {
     "data": {
      "text/plain": [
       "'Seed 11'"
      ]
     },
     "metadata": {},
     "output_type": "display_data"
    },
    {
     "data": {
      "text/plain": [
       "'Training the Voting Ensemble'"
      ]
     },
     "metadata": {},
     "output_type": "display_data"
    },
    {
     "data": {
      "text/plain": [
       "'Training Fairlearn'"
      ]
     },
     "metadata": {},
     "output_type": "display_data"
    },
    {
     "data": {
      "text/plain": [
       "'Training scikit-lego - DemographicParityClassifier'"
      ]
     },
     "metadata": {},
     "output_type": "display_data"
    },
    {
     "data": {
      "text/plain": [
       "'Training scikit-lego - EqualOpportunityClassifier'"
      ]
     },
     "metadata": {},
     "output_type": "display_data"
    },
    {
     "data": {
      "text/plain": [
       "'Training the proposal (nsga2)'"
      ]
     },
     "metadata": {},
     "output_type": "display_data"
    },
    {
     "name": "stderr",
     "output_type": "stream",
     "text": [
      "A:\\anaconda3\\envs\\xmoai\\lib\\site-packages\\topsis\\topsis.py:66: RuntimeWarning: invalid value encountered in true_divide\n",
      "  self.r = self.a/np.array(np.linalg.norm(self.a, axis=1)[:, np.newaxis])\n",
      "A:\\anaconda3\\envs\\xmoai\\lib\\site-packages\\topsis\\topsis.py:66: RuntimeWarning: invalid value encountered in true_divide\n",
      "  self.r = self.a/np.array(np.linalg.norm(self.a, axis=1)[:, np.newaxis])\n",
      "A:\\anaconda3\\envs\\xmoai\\lib\\site-packages\\topsis\\topsis.py:66: RuntimeWarning: invalid value encountered in true_divide\n",
      "  self.r = self.a/np.array(np.linalg.norm(self.a, axis=1)[:, np.newaxis])\n",
      "A:\\anaconda3\\envs\\xmoai\\lib\\site-packages\\topsis\\topsis.py:66: RuntimeWarning: invalid value encountered in true_divide\n",
      "  self.r = self.a/np.array(np.linalg.norm(self.a, axis=1)[:, np.newaxis])\n",
      "A:\\anaconda3\\envs\\xmoai\\lib\\site-packages\\topsis\\topsis.py:66: RuntimeWarning: invalid value encountered in true_divide\n",
      "  self.r = self.a/np.array(np.linalg.norm(self.a, axis=1)[:, np.newaxis])\n",
      "A:\\anaconda3\\envs\\xmoai\\lib\\site-packages\\topsis\\topsis.py:66: RuntimeWarning: invalid value encountered in true_divide\n",
      "  self.r = self.a/np.array(np.linalg.norm(self.a, axis=1)[:, np.newaxis])\n"
     ]
    },
    {
     "data": {
      "text/plain": [
       "'Training the proposal (rnsga2)'"
      ]
     },
     "metadata": {},
     "output_type": "display_data"
    },
    {
     "name": "stderr",
     "output_type": "stream",
     "text": [
      "A:\\anaconda3\\envs\\xmoai\\lib\\site-packages\\pymoo\\algorithms\\rnsga2.py:183: RuntimeWarning: invalid value encountered in true_divide\n",
      "  N = ((D / (nadir - ideal)) ** 2) * weights\n",
      "A:\\anaconda3\\envs\\xmoai\\lib\\site-packages\\pymoo\\algorithms\\rnsga2.py:183: RuntimeWarning: invalid value encountered in true_divide\n",
      "  N = ((D / (nadir - ideal)) ** 2) * weights\n",
      "A:\\anaconda3\\envs\\xmoai\\lib\\site-packages\\pymoo\\algorithms\\rnsga2.py:183: RuntimeWarning: invalid value encountered in true_divide\n",
      "  N = ((D / (nadir - ideal)) ** 2) * weights\n",
      "A:\\anaconda3\\envs\\xmoai\\lib\\site-packages\\pymoo\\algorithms\\rnsga2.py:183: RuntimeWarning: invalid value encountered in true_divide\n",
      "  N = ((D / (nadir - ideal)) ** 2) * weights\n",
      "A:\\anaconda3\\envs\\xmoai\\lib\\site-packages\\pymoo\\algorithms\\rnsga2.py:183: RuntimeWarning: invalid value encountered in true_divide\n",
      "  N = ((D / (nadir - ideal)) ** 2) * weights\n",
      "A:\\anaconda3\\envs\\xmoai\\lib\\site-packages\\pymoo\\algorithms\\rnsga2.py:183: RuntimeWarning: invalid value encountered in true_divide\n",
      "  N = ((D / (nadir - ideal)) ** 2) * weights\n",
      "A:\\anaconda3\\envs\\xmoai\\lib\\site-packages\\pymoo\\algorithms\\rnsga2.py:183: RuntimeWarning: invalid value encountered in true_divide\n",
      "  N = ((D / (nadir - ideal)) ** 2) * weights\n",
      "A:\\anaconda3\\envs\\xmoai\\lib\\site-packages\\pymoo\\algorithms\\rnsga2.py:183: RuntimeWarning: invalid value encountered in true_divide\n",
      "  N = ((D / (nadir - ideal)) ** 2) * weights\n",
      "A:\\anaconda3\\envs\\xmoai\\lib\\site-packages\\pymoo\\algorithms\\rnsga2.py:183: RuntimeWarning: invalid value encountered in true_divide\n",
      "  N = ((D / (nadir - ideal)) ** 2) * weights\n",
      "A:\\anaconda3\\envs\\xmoai\\lib\\site-packages\\pymoo\\algorithms\\rnsga2.py:183: RuntimeWarning: invalid value encountered in true_divide\n",
      "  N = ((D / (nadir - ideal)) ** 2) * weights\n",
      "A:\\anaconda3\\envs\\xmoai\\lib\\site-packages\\pymoo\\algorithms\\rnsga2.py:183: RuntimeWarning: invalid value encountered in true_divide\n",
      "  N = ((D / (nadir - ideal)) ** 2) * weights\n",
      "A:\\anaconda3\\envs\\xmoai\\lib\\site-packages\\pymoo\\algorithms\\rnsga2.py:183: RuntimeWarning: invalid value encountered in true_divide\n",
      "  N = ((D / (nadir - ideal)) ** 2) * weights\n",
      "A:\\anaconda3\\envs\\xmoai\\lib\\site-packages\\pymoo\\algorithms\\rnsga2.py:183: RuntimeWarning: invalid value encountered in true_divide\n",
      "  N = ((D / (nadir - ideal)) ** 2) * weights\n",
      "A:\\anaconda3\\envs\\xmoai\\lib\\site-packages\\pymoo\\algorithms\\rnsga2.py:183: RuntimeWarning: invalid value encountered in true_divide\n",
      "  N = ((D / (nadir - ideal)) ** 2) * weights\n",
      "A:\\anaconda3\\envs\\xmoai\\lib\\site-packages\\pymoo\\algorithms\\rnsga2.py:183: RuntimeWarning: invalid value encountered in true_divide\n",
      "  N = ((D / (nadir - ideal)) ** 2) * weights\n",
      "A:\\anaconda3\\envs\\xmoai\\lib\\site-packages\\pymoo\\algorithms\\rnsga2.py:183: RuntimeWarning: invalid value encountered in true_divide\n",
      "  N = ((D / (nadir - ideal)) ** 2) * weights\n",
      "A:\\anaconda3\\envs\\xmoai\\lib\\site-packages\\pymoo\\algorithms\\rnsga2.py:183: RuntimeWarning: invalid value encountered in true_divide\n",
      "  N = ((D / (nadir - ideal)) ** 2) * weights\n",
      "A:\\anaconda3\\envs\\xmoai\\lib\\site-packages\\pymoo\\algorithms\\rnsga2.py:183: RuntimeWarning: invalid value encountered in true_divide\n",
      "  N = ((D / (nadir - ideal)) ** 2) * weights\n",
      "A:\\anaconda3\\envs\\xmoai\\lib\\site-packages\\pymoo\\algorithms\\rnsga2.py:183: RuntimeWarning: invalid value encountered in true_divide\n",
      "  N = ((D / (nadir - ideal)) ** 2) * weights\n",
      "A:\\anaconda3\\envs\\xmoai\\lib\\site-packages\\pymoo\\algorithms\\rnsga2.py:183: RuntimeWarning: invalid value encountered in true_divide\n",
      "  N = ((D / (nadir - ideal)) ** 2) * weights\n",
      "A:\\anaconda3\\envs\\xmoai\\lib\\site-packages\\pymoo\\algorithms\\rnsga2.py:183: RuntimeWarning: invalid value encountered in true_divide\n",
      "  N = ((D / (nadir - ideal)) ** 2) * weights\n",
      "A:\\anaconda3\\envs\\xmoai\\lib\\site-packages\\pymoo\\algorithms\\rnsga2.py:183: RuntimeWarning: invalid value encountered in true_divide\n",
      "  N = ((D / (nadir - ideal)) ** 2) * weights\n",
      "A:\\anaconda3\\envs\\xmoai\\lib\\site-packages\\pymoo\\algorithms\\rnsga2.py:183: RuntimeWarning: invalid value encountered in true_divide\n",
      "  N = ((D / (nadir - ideal)) ** 2) * weights\n",
      "A:\\anaconda3\\envs\\xmoai\\lib\\site-packages\\pymoo\\algorithms\\rnsga2.py:183: RuntimeWarning: invalid value encountered in true_divide\n",
      "  N = ((D / (nadir - ideal)) ** 2) * weights\n",
      "A:\\anaconda3\\envs\\xmoai\\lib\\site-packages\\pymoo\\algorithms\\rnsga2.py:183: RuntimeWarning: invalid value encountered in true_divide\n",
      "  N = ((D / (nadir - ideal)) ** 2) * weights\n",
      "A:\\anaconda3\\envs\\xmoai\\lib\\site-packages\\pymoo\\algorithms\\rnsga2.py:183: RuntimeWarning: invalid value encountered in true_divide\n",
      "  N = ((D / (nadir - ideal)) ** 2) * weights\n",
      "A:\\anaconda3\\envs\\xmoai\\lib\\site-packages\\pymoo\\algorithms\\rnsga2.py:183: RuntimeWarning: invalid value encountered in true_divide\n",
      "  N = ((D / (nadir - ideal)) ** 2) * weights\n",
      "A:\\anaconda3\\envs\\xmoai\\lib\\site-packages\\pymoo\\algorithms\\rnsga2.py:183: RuntimeWarning: invalid value encountered in true_divide\n",
      "  N = ((D / (nadir - ideal)) ** 2) * weights\n",
      "A:\\anaconda3\\envs\\xmoai\\lib\\site-packages\\pymoo\\algorithms\\rnsga2.py:183: RuntimeWarning: invalid value encountered in true_divide\n",
      "  N = ((D / (nadir - ideal)) ** 2) * weights\n",
      "A:\\anaconda3\\envs\\xmoai\\lib\\site-packages\\pymoo\\algorithms\\rnsga2.py:183: RuntimeWarning: invalid value encountered in true_divide\n",
      "  N = ((D / (nadir - ideal)) ** 2) * weights\n",
      "A:\\anaconda3\\envs\\xmoai\\lib\\site-packages\\pymoo\\algorithms\\rnsga2.py:183: RuntimeWarning: invalid value encountered in true_divide\n",
      "  N = ((D / (nadir - ideal)) ** 2) * weights\n",
      "A:\\anaconda3\\envs\\xmoai\\lib\\site-packages\\pymoo\\algorithms\\rnsga2.py:183: RuntimeWarning: invalid value encountered in true_divide\n",
      "  N = ((D / (nadir - ideal)) ** 2) * weights\n",
      "A:\\anaconda3\\envs\\xmoai\\lib\\site-packages\\pymoo\\algorithms\\rnsga2.py:183: RuntimeWarning: invalid value encountered in true_divide\n",
      "  N = ((D / (nadir - ideal)) ** 2) * weights\n",
      "A:\\anaconda3\\envs\\xmoai\\lib\\site-packages\\pymoo\\algorithms\\rnsga2.py:183: RuntimeWarning: invalid value encountered in true_divide\n",
      "  N = ((D / (nadir - ideal)) ** 2) * weights\n",
      "A:\\anaconda3\\envs\\xmoai\\lib\\site-packages\\pymoo\\algorithms\\rnsga2.py:183: RuntimeWarning: invalid value encountered in true_divide\n",
      "  N = ((D / (nadir - ideal)) ** 2) * weights\n",
      "A:\\anaconda3\\envs\\xmoai\\lib\\site-packages\\pymoo\\algorithms\\rnsga2.py:183: RuntimeWarning: invalid value encountered in true_divide\n",
      "  N = ((D / (nadir - ideal)) ** 2) * weights\n",
      "A:\\anaconda3\\envs\\xmoai\\lib\\site-packages\\pymoo\\algorithms\\rnsga2.py:183: RuntimeWarning: invalid value encountered in true_divide\n",
      "  N = ((D / (nadir - ideal)) ** 2) * weights\n",
      "A:\\anaconda3\\envs\\xmoai\\lib\\site-packages\\pymoo\\algorithms\\rnsga2.py:183: RuntimeWarning: invalid value encountered in true_divide\n",
      "  N = ((D / (nadir - ideal)) ** 2) * weights\n",
      "A:\\anaconda3\\envs\\xmoai\\lib\\site-packages\\pymoo\\algorithms\\rnsga2.py:183: RuntimeWarning: invalid value encountered in true_divide\n",
      "  N = ((D / (nadir - ideal)) ** 2) * weights\n",
      "A:\\anaconda3\\envs\\xmoai\\lib\\site-packages\\pymoo\\algorithms\\rnsga2.py:183: RuntimeWarning: invalid value encountered in true_divide\n",
      "  N = ((D / (nadir - ideal)) ** 2) * weights\n",
      "A:\\anaconda3\\envs\\xmoai\\lib\\site-packages\\pymoo\\algorithms\\rnsga2.py:183: RuntimeWarning: invalid value encountered in true_divide\n",
      "  N = ((D / (nadir - ideal)) ** 2) * weights\n",
      "A:\\anaconda3\\envs\\xmoai\\lib\\site-packages\\pymoo\\algorithms\\rnsga2.py:183: RuntimeWarning: invalid value encountered in true_divide\n",
      "  N = ((D / (nadir - ideal)) ** 2) * weights\n",
      "A:\\anaconda3\\envs\\xmoai\\lib\\site-packages\\pymoo\\algorithms\\rnsga2.py:183: RuntimeWarning: invalid value encountered in true_divide\n",
      "  N = ((D / (nadir - ideal)) ** 2) * weights\n",
      "A:\\anaconda3\\envs\\xmoai\\lib\\site-packages\\pymoo\\algorithms\\rnsga2.py:183: RuntimeWarning: invalid value encountered in true_divide\n",
      "  N = ((D / (nadir - ideal)) ** 2) * weights\n",
      "A:\\anaconda3\\envs\\xmoai\\lib\\site-packages\\pymoo\\algorithms\\rnsga2.py:183: RuntimeWarning: invalid value encountered in true_divide\n",
      "  N = ((D / (nadir - ideal)) ** 2) * weights\n",
      "A:\\anaconda3\\envs\\xmoai\\lib\\site-packages\\pymoo\\algorithms\\rnsga2.py:183: RuntimeWarning: invalid value encountered in true_divide\n",
      "  N = ((D / (nadir - ideal)) ** 2) * weights\n",
      "A:\\anaconda3\\envs\\xmoai\\lib\\site-packages\\pymoo\\algorithms\\rnsga2.py:183: RuntimeWarning: invalid value encountered in true_divide\n",
      "  N = ((D / (nadir - ideal)) ** 2) * weights\n"
     ]
    },
    {
     "name": "stderr",
     "output_type": "stream",
     "text": [
      "A:\\anaconda3\\envs\\xmoai\\lib\\site-packages\\pymoo\\algorithms\\rnsga2.py:183: RuntimeWarning: invalid value encountered in true_divide\n",
      "  N = ((D / (nadir - ideal)) ** 2) * weights\n",
      "A:\\anaconda3\\envs\\xmoai\\lib\\site-packages\\pymoo\\algorithms\\rnsga2.py:183: RuntimeWarning: invalid value encountered in true_divide\n",
      "  N = ((D / (nadir - ideal)) ** 2) * weights\n",
      "A:\\anaconda3\\envs\\xmoai\\lib\\site-packages\\pymoo\\algorithms\\rnsga2.py:183: RuntimeWarning: invalid value encountered in true_divide\n",
      "  N = ((D / (nadir - ideal)) ** 2) * weights\n",
      "A:\\anaconda3\\envs\\xmoai\\lib\\site-packages\\topsis\\topsis.py:66: RuntimeWarning: invalid value encountered in true_divide\n",
      "  self.r = self.a/np.array(np.linalg.norm(self.a, axis=1)[:, np.newaxis])\n",
      "A:\\anaconda3\\envs\\xmoai\\lib\\site-packages\\topsis\\topsis.py:66: RuntimeWarning: invalid value encountered in true_divide\n",
      "  self.r = self.a/np.array(np.linalg.norm(self.a, axis=1)[:, np.newaxis])\n",
      "A:\\anaconda3\\envs\\xmoai\\lib\\site-packages\\topsis\\topsis.py:66: RuntimeWarning: invalid value encountered in true_divide\n",
      "  self.r = self.a/np.array(np.linalg.norm(self.a, axis=1)[:, np.newaxis])\n",
      "A:\\anaconda3\\envs\\xmoai\\lib\\site-packages\\topsis\\topsis.py:66: RuntimeWarning: invalid value encountered in true_divide\n",
      "  self.r = self.a/np.array(np.linalg.norm(self.a, axis=1)[:, np.newaxis])\n",
      "A:\\anaconda3\\envs\\xmoai\\lib\\site-packages\\topsis\\topsis.py:66: RuntimeWarning: invalid value encountered in true_divide\n",
      "  self.r = self.a/np.array(np.linalg.norm(self.a, axis=1)[:, np.newaxis])\n",
      "A:\\anaconda3\\envs\\xmoai\\lib\\site-packages\\topsis\\topsis.py:66: RuntimeWarning: invalid value encountered in true_divide\n",
      "  self.r = self.a/np.array(np.linalg.norm(self.a, axis=1)[:, np.newaxis])\n"
     ]
    },
    {
     "data": {
      "text/plain": [
       "'Training AIF360 - AdversarialDebiasing'"
      ]
     },
     "metadata": {},
     "output_type": "display_data"
    },
    {
     "data": {
      "text/plain": [
       "'Training AIF360 - PostProcessingMeta'"
      ]
     },
     "metadata": {},
     "output_type": "display_data"
    },
    {
     "data": {
      "text/plain": [
       "'Seed 12'"
      ]
     },
     "metadata": {},
     "output_type": "display_data"
    },
    {
     "data": {
      "text/plain": [
       "'Training the Voting Ensemble'"
      ]
     },
     "metadata": {},
     "output_type": "display_data"
    },
    {
     "data": {
      "text/plain": [
       "'Training Fairlearn'"
      ]
     },
     "metadata": {},
     "output_type": "display_data"
    },
    {
     "data": {
      "text/plain": [
       "'Training scikit-lego - DemographicParityClassifier'"
      ]
     },
     "metadata": {},
     "output_type": "display_data"
    },
    {
     "data": {
      "text/plain": [
       "'Training scikit-lego - EqualOpportunityClassifier'"
      ]
     },
     "metadata": {},
     "output_type": "display_data"
    },
    {
     "data": {
      "text/plain": [
       "'Training the proposal (nsga2)'"
      ]
     },
     "metadata": {},
     "output_type": "display_data"
    },
    {
     "data": {
      "text/plain": [
       "'Training the proposal (rnsga2)'"
      ]
     },
     "metadata": {},
     "output_type": "display_data"
    },
    {
     "name": "stderr",
     "output_type": "stream",
     "text": [
      "A:\\anaconda3\\envs\\xmoai\\lib\\site-packages\\pymoo\\algorithms\\rnsga2.py:183: RuntimeWarning: invalid value encountered in true_divide\n",
      "  N = ((D / (nadir - ideal)) ** 2) * weights\n",
      "A:\\anaconda3\\envs\\xmoai\\lib\\site-packages\\pymoo\\algorithms\\rnsga2.py:183: RuntimeWarning: invalid value encountered in true_divide\n",
      "  N = ((D / (nadir - ideal)) ** 2) * weights\n",
      "A:\\anaconda3\\envs\\xmoai\\lib\\site-packages\\pymoo\\algorithms\\rnsga2.py:183: RuntimeWarning: invalid value encountered in true_divide\n",
      "  N = ((D / (nadir - ideal)) ** 2) * weights\n",
      "A:\\anaconda3\\envs\\xmoai\\lib\\site-packages\\pymoo\\algorithms\\rnsga2.py:183: RuntimeWarning: invalid value encountered in true_divide\n",
      "  N = ((D / (nadir - ideal)) ** 2) * weights\n",
      "A:\\anaconda3\\envs\\xmoai\\lib\\site-packages\\pymoo\\algorithms\\rnsga2.py:183: RuntimeWarning: invalid value encountered in true_divide\n",
      "  N = ((D / (nadir - ideal)) ** 2) * weights\n",
      "A:\\anaconda3\\envs\\xmoai\\lib\\site-packages\\pymoo\\algorithms\\rnsga2.py:183: RuntimeWarning: invalid value encountered in true_divide\n",
      "  N = ((D / (nadir - ideal)) ** 2) * weights\n",
      "A:\\anaconda3\\envs\\xmoai\\lib\\site-packages\\pymoo\\algorithms\\rnsga2.py:183: RuntimeWarning: invalid value encountered in true_divide\n",
      "  N = ((D / (nadir - ideal)) ** 2) * weights\n",
      "A:\\anaconda3\\envs\\xmoai\\lib\\site-packages\\pymoo\\algorithms\\rnsga2.py:183: RuntimeWarning: invalid value encountered in true_divide\n",
      "  N = ((D / (nadir - ideal)) ** 2) * weights\n",
      "A:\\anaconda3\\envs\\xmoai\\lib\\site-packages\\pymoo\\algorithms\\rnsga2.py:183: RuntimeWarning: invalid value encountered in true_divide\n",
      "  N = ((D / (nadir - ideal)) ** 2) * weights\n",
      "A:\\anaconda3\\envs\\xmoai\\lib\\site-packages\\pymoo\\algorithms\\rnsga2.py:183: RuntimeWarning: invalid value encountered in true_divide\n",
      "  N = ((D / (nadir - ideal)) ** 2) * weights\n",
      "A:\\anaconda3\\envs\\xmoai\\lib\\site-packages\\pymoo\\algorithms\\rnsga2.py:183: RuntimeWarning: invalid value encountered in true_divide\n",
      "  N = ((D / (nadir - ideal)) ** 2) * weights\n",
      "A:\\anaconda3\\envs\\xmoai\\lib\\site-packages\\pymoo\\algorithms\\rnsga2.py:183: RuntimeWarning: invalid value encountered in true_divide\n",
      "  N = ((D / (nadir - ideal)) ** 2) * weights\n",
      "A:\\anaconda3\\envs\\xmoai\\lib\\site-packages\\pymoo\\algorithms\\rnsga2.py:183: RuntimeWarning: invalid value encountered in true_divide\n",
      "  N = ((D / (nadir - ideal)) ** 2) * weights\n",
      "A:\\anaconda3\\envs\\xmoai\\lib\\site-packages\\pymoo\\algorithms\\rnsga2.py:183: RuntimeWarning: invalid value encountered in true_divide\n",
      "  N = ((D / (nadir - ideal)) ** 2) * weights\n",
      "A:\\anaconda3\\envs\\xmoai\\lib\\site-packages\\pymoo\\algorithms\\rnsga2.py:183: RuntimeWarning: invalid value encountered in true_divide\n",
      "  N = ((D / (nadir - ideal)) ** 2) * weights\n",
      "A:\\anaconda3\\envs\\xmoai\\lib\\site-packages\\pymoo\\algorithms\\rnsga2.py:183: RuntimeWarning: invalid value encountered in true_divide\n",
      "  N = ((D / (nadir - ideal)) ** 2) * weights\n",
      "A:\\anaconda3\\envs\\xmoai\\lib\\site-packages\\pymoo\\algorithms\\rnsga2.py:183: RuntimeWarning: invalid value encountered in true_divide\n",
      "  N = ((D / (nadir - ideal)) ** 2) * weights\n",
      "A:\\anaconda3\\envs\\xmoai\\lib\\site-packages\\pymoo\\algorithms\\rnsga2.py:183: RuntimeWarning: invalid value encountered in true_divide\n",
      "  N = ((D / (nadir - ideal)) ** 2) * weights\n",
      "A:\\anaconda3\\envs\\xmoai\\lib\\site-packages\\pymoo\\algorithms\\rnsga2.py:183: RuntimeWarning: invalid value encountered in true_divide\n",
      "  N = ((D / (nadir - ideal)) ** 2) * weights\n",
      "A:\\anaconda3\\envs\\xmoai\\lib\\site-packages\\pymoo\\algorithms\\rnsga2.py:183: RuntimeWarning: invalid value encountered in true_divide\n",
      "  N = ((D / (nadir - ideal)) ** 2) * weights\n",
      "A:\\anaconda3\\envs\\xmoai\\lib\\site-packages\\pymoo\\algorithms\\rnsga2.py:183: RuntimeWarning: invalid value encountered in true_divide\n",
      "  N = ((D / (nadir - ideal)) ** 2) * weights\n",
      "A:\\anaconda3\\envs\\xmoai\\lib\\site-packages\\pymoo\\algorithms\\rnsga2.py:183: RuntimeWarning: invalid value encountered in true_divide\n",
      "  N = ((D / (nadir - ideal)) ** 2) * weights\n",
      "A:\\anaconda3\\envs\\xmoai\\lib\\site-packages\\pymoo\\algorithms\\rnsga2.py:183: RuntimeWarning: invalid value encountered in true_divide\n",
      "  N = ((D / (nadir - ideal)) ** 2) * weights\n",
      "A:\\anaconda3\\envs\\xmoai\\lib\\site-packages\\pymoo\\algorithms\\rnsga2.py:183: RuntimeWarning: invalid value encountered in true_divide\n",
      "  N = ((D / (nadir - ideal)) ** 2) * weights\n",
      "A:\\anaconda3\\envs\\xmoai\\lib\\site-packages\\pymoo\\algorithms\\rnsga2.py:183: RuntimeWarning: invalid value encountered in true_divide\n",
      "  N = ((D / (nadir - ideal)) ** 2) * weights\n",
      "A:\\anaconda3\\envs\\xmoai\\lib\\site-packages\\pymoo\\algorithms\\rnsga2.py:183: RuntimeWarning: invalid value encountered in true_divide\n",
      "  N = ((D / (nadir - ideal)) ** 2) * weights\n",
      "A:\\anaconda3\\envs\\xmoai\\lib\\site-packages\\pymoo\\algorithms\\rnsga2.py:183: RuntimeWarning: invalid value encountered in true_divide\n",
      "  N = ((D / (nadir - ideal)) ** 2) * weights\n",
      "A:\\anaconda3\\envs\\xmoai\\lib\\site-packages\\pymoo\\algorithms\\rnsga2.py:183: RuntimeWarning: invalid value encountered in true_divide\n",
      "  N = ((D / (nadir - ideal)) ** 2) * weights\n",
      "A:\\anaconda3\\envs\\xmoai\\lib\\site-packages\\pymoo\\algorithms\\rnsga2.py:183: RuntimeWarning: invalid value encountered in true_divide\n",
      "  N = ((D / (nadir - ideal)) ** 2) * weights\n",
      "A:\\anaconda3\\envs\\xmoai\\lib\\site-packages\\pymoo\\algorithms\\rnsga2.py:183: RuntimeWarning: invalid value encountered in true_divide\n",
      "  N = ((D / (nadir - ideal)) ** 2) * weights\n"
     ]
    },
    {
     "data": {
      "text/plain": [
       "'Training AIF360 - AdversarialDebiasing'"
      ]
     },
     "metadata": {},
     "output_type": "display_data"
    },
    {
     "data": {
      "text/plain": [
       "'Training AIF360 - PostProcessingMeta'"
      ]
     },
     "metadata": {},
     "output_type": "display_data"
    },
    {
     "data": {
      "text/plain": [
       "'Seed 13'"
      ]
     },
     "metadata": {},
     "output_type": "display_data"
    },
    {
     "data": {
      "text/plain": [
       "'Training the Voting Ensemble'"
      ]
     },
     "metadata": {},
     "output_type": "display_data"
    },
    {
     "data": {
      "text/plain": [
       "'Training Fairlearn'"
      ]
     },
     "metadata": {},
     "output_type": "display_data"
    },
    {
     "data": {
      "text/plain": [
       "'Training scikit-lego - DemographicParityClassifier'"
      ]
     },
     "metadata": {},
     "output_type": "display_data"
    },
    {
     "data": {
      "text/plain": [
       "'Training scikit-lego - EqualOpportunityClassifier'"
      ]
     },
     "metadata": {},
     "output_type": "display_data"
    },
    {
     "data": {
      "text/plain": [
       "'Training the proposal (nsga2)'"
      ]
     },
     "metadata": {},
     "output_type": "display_data"
    },
    {
     "name": "stderr",
     "output_type": "stream",
     "text": [
      "A:\\anaconda3\\envs\\xmoai\\lib\\site-packages\\topsis\\topsis.py:66: RuntimeWarning: invalid value encountered in true_divide\n",
      "  self.r = self.a/np.array(np.linalg.norm(self.a, axis=1)[:, np.newaxis])\n",
      "A:\\anaconda3\\envs\\xmoai\\lib\\site-packages\\topsis\\topsis.py:66: RuntimeWarning: invalid value encountered in true_divide\n",
      "  self.r = self.a/np.array(np.linalg.norm(self.a, axis=1)[:, np.newaxis])\n",
      "A:\\anaconda3\\envs\\xmoai\\lib\\site-packages\\topsis\\topsis.py:66: RuntimeWarning: invalid value encountered in true_divide\n",
      "  self.r = self.a/np.array(np.linalg.norm(self.a, axis=1)[:, np.newaxis])\n",
      "A:\\anaconda3\\envs\\xmoai\\lib\\site-packages\\topsis\\topsis.py:66: RuntimeWarning: invalid value encountered in true_divide\n",
      "  self.r = self.a/np.array(np.linalg.norm(self.a, axis=1)[:, np.newaxis])\n",
      "A:\\anaconda3\\envs\\xmoai\\lib\\site-packages\\topsis\\topsis.py:66: RuntimeWarning: invalid value encountered in true_divide\n",
      "  self.r = self.a/np.array(np.linalg.norm(self.a, axis=1)[:, np.newaxis])\n",
      "A:\\anaconda3\\envs\\xmoai\\lib\\site-packages\\topsis\\topsis.py:66: RuntimeWarning: invalid value encountered in true_divide\n",
      "  self.r = self.a/np.array(np.linalg.norm(self.a, axis=1)[:, np.newaxis])\n"
     ]
    },
    {
     "data": {
      "text/plain": [
       "'Training the proposal (rnsga2)'"
      ]
     },
     "metadata": {},
     "output_type": "display_data"
    },
    {
     "name": "stderr",
     "output_type": "stream",
     "text": [
      "A:\\anaconda3\\envs\\xmoai\\lib\\site-packages\\pymoo\\algorithms\\rnsga2.py:183: RuntimeWarning: invalid value encountered in true_divide\n",
      "  N = ((D / (nadir - ideal)) ** 2) * weights\n",
      "A:\\anaconda3\\envs\\xmoai\\lib\\site-packages\\pymoo\\algorithms\\rnsga2.py:183: RuntimeWarning: invalid value encountered in true_divide\n",
      "  N = ((D / (nadir - ideal)) ** 2) * weights\n",
      "A:\\anaconda3\\envs\\xmoai\\lib\\site-packages\\pymoo\\algorithms\\rnsga2.py:183: RuntimeWarning: invalid value encountered in true_divide\n",
      "  N = ((D / (nadir - ideal)) ** 2) * weights\n",
      "A:\\anaconda3\\envs\\xmoai\\lib\\site-packages\\pymoo\\algorithms\\rnsga2.py:183: RuntimeWarning: invalid value encountered in true_divide\n",
      "  N = ((D / (nadir - ideal)) ** 2) * weights\n",
      "A:\\anaconda3\\envs\\xmoai\\lib\\site-packages\\pymoo\\algorithms\\rnsga2.py:183: RuntimeWarning: invalid value encountered in true_divide\n",
      "  N = ((D / (nadir - ideal)) ** 2) * weights\n",
      "A:\\anaconda3\\envs\\xmoai\\lib\\site-packages\\pymoo\\algorithms\\rnsga2.py:183: RuntimeWarning: invalid value encountered in true_divide\n",
      "  N = ((D / (nadir - ideal)) ** 2) * weights\n",
      "A:\\anaconda3\\envs\\xmoai\\lib\\site-packages\\pymoo\\algorithms\\rnsga2.py:183: RuntimeWarning: invalid value encountered in true_divide\n",
      "  N = ((D / (nadir - ideal)) ** 2) * weights\n",
      "A:\\anaconda3\\envs\\xmoai\\lib\\site-packages\\pymoo\\algorithms\\rnsga2.py:183: RuntimeWarning: invalid value encountered in true_divide\n",
      "  N = ((D / (nadir - ideal)) ** 2) * weights\n",
      "A:\\anaconda3\\envs\\xmoai\\lib\\site-packages\\pymoo\\algorithms\\rnsga2.py:183: RuntimeWarning: invalid value encountered in true_divide\n",
      "  N = ((D / (nadir - ideal)) ** 2) * weights\n",
      "A:\\anaconda3\\envs\\xmoai\\lib\\site-packages\\pymoo\\algorithms\\rnsga2.py:183: RuntimeWarning: invalid value encountered in true_divide\n",
      "  N = ((D / (nadir - ideal)) ** 2) * weights\n",
      "A:\\anaconda3\\envs\\xmoai\\lib\\site-packages\\pymoo\\algorithms\\rnsga2.py:183: RuntimeWarning: invalid value encountered in true_divide\n",
      "  N = ((D / (nadir - ideal)) ** 2) * weights\n",
      "A:\\anaconda3\\envs\\xmoai\\lib\\site-packages\\pymoo\\algorithms\\rnsga2.py:183: RuntimeWarning: invalid value encountered in true_divide\n",
      "  N = ((D / (nadir - ideal)) ** 2) * weights\n",
      "A:\\anaconda3\\envs\\xmoai\\lib\\site-packages\\pymoo\\algorithms\\rnsga2.py:183: RuntimeWarning: invalid value encountered in true_divide\n",
      "  N = ((D / (nadir - ideal)) ** 2) * weights\n",
      "A:\\anaconda3\\envs\\xmoai\\lib\\site-packages\\pymoo\\algorithms\\rnsga2.py:183: RuntimeWarning: invalid value encountered in true_divide\n",
      "  N = ((D / (nadir - ideal)) ** 2) * weights\n",
      "A:\\anaconda3\\envs\\xmoai\\lib\\site-packages\\pymoo\\algorithms\\rnsga2.py:183: RuntimeWarning: invalid value encountered in true_divide\n",
      "  N = ((D / (nadir - ideal)) ** 2) * weights\n",
      "A:\\anaconda3\\envs\\xmoai\\lib\\site-packages\\pymoo\\algorithms\\rnsga2.py:183: RuntimeWarning: invalid value encountered in true_divide\n",
      "  N = ((D / (nadir - ideal)) ** 2) * weights\n",
      "A:\\anaconda3\\envs\\xmoai\\lib\\site-packages\\pymoo\\algorithms\\rnsga2.py:183: RuntimeWarning: invalid value encountered in true_divide\n",
      "  N = ((D / (nadir - ideal)) ** 2) * weights\n",
      "A:\\anaconda3\\envs\\xmoai\\lib\\site-packages\\pymoo\\algorithms\\rnsga2.py:183: RuntimeWarning: invalid value encountered in true_divide\n",
      "  N = ((D / (nadir - ideal)) ** 2) * weights\n",
      "A:\\anaconda3\\envs\\xmoai\\lib\\site-packages\\pymoo\\algorithms\\rnsga2.py:183: RuntimeWarning: invalid value encountered in true_divide\n",
      "  N = ((D / (nadir - ideal)) ** 2) * weights\n",
      "A:\\anaconda3\\envs\\xmoai\\lib\\site-packages\\pymoo\\algorithms\\rnsga2.py:183: RuntimeWarning: invalid value encountered in true_divide\n",
      "  N = ((D / (nadir - ideal)) ** 2) * weights\n",
      "A:\\anaconda3\\envs\\xmoai\\lib\\site-packages\\pymoo\\algorithms\\rnsga2.py:183: RuntimeWarning: invalid value encountered in true_divide\n",
      "  N = ((D / (nadir - ideal)) ** 2) * weights\n",
      "A:\\anaconda3\\envs\\xmoai\\lib\\site-packages\\pymoo\\algorithms\\rnsga2.py:183: RuntimeWarning: invalid value encountered in true_divide\n",
      "  N = ((D / (nadir - ideal)) ** 2) * weights\n",
      "A:\\anaconda3\\envs\\xmoai\\lib\\site-packages\\pymoo\\algorithms\\rnsga2.py:183: RuntimeWarning: invalid value encountered in true_divide\n",
      "  N = ((D / (nadir - ideal)) ** 2) * weights\n",
      "A:\\anaconda3\\envs\\xmoai\\lib\\site-packages\\pymoo\\algorithms\\rnsga2.py:183: RuntimeWarning: invalid value encountered in true_divide\n",
      "  N = ((D / (nadir - ideal)) ** 2) * weights\n",
      "A:\\anaconda3\\envs\\xmoai\\lib\\site-packages\\pymoo\\algorithms\\rnsga2.py:183: RuntimeWarning: invalid value encountered in true_divide\n",
      "  N = ((D / (nadir - ideal)) ** 2) * weights\n",
      "A:\\anaconda3\\envs\\xmoai\\lib\\site-packages\\pymoo\\algorithms\\rnsga2.py:183: RuntimeWarning: invalid value encountered in true_divide\n",
      "  N = ((D / (nadir - ideal)) ** 2) * weights\n",
      "A:\\anaconda3\\envs\\xmoai\\lib\\site-packages\\pymoo\\algorithms\\rnsga2.py:183: RuntimeWarning: invalid value encountered in true_divide\n",
      "  N = ((D / (nadir - ideal)) ** 2) * weights\n",
      "A:\\anaconda3\\envs\\xmoai\\lib\\site-packages\\pymoo\\algorithms\\rnsga2.py:183: RuntimeWarning: invalid value encountered in true_divide\n",
      "  N = ((D / (nadir - ideal)) ** 2) * weights\n",
      "A:\\anaconda3\\envs\\xmoai\\lib\\site-packages\\pymoo\\algorithms\\rnsga2.py:183: RuntimeWarning: invalid value encountered in true_divide\n",
      "  N = ((D / (nadir - ideal)) ** 2) * weights\n",
      "A:\\anaconda3\\envs\\xmoai\\lib\\site-packages\\pymoo\\algorithms\\rnsga2.py:183: RuntimeWarning: invalid value encountered in true_divide\n",
      "  N = ((D / (nadir - ideal)) ** 2) * weights\n",
      "A:\\anaconda3\\envs\\xmoai\\lib\\site-packages\\pymoo\\algorithms\\rnsga2.py:183: RuntimeWarning: invalid value encountered in true_divide\n",
      "  N = ((D / (nadir - ideal)) ** 2) * weights\n",
      "A:\\anaconda3\\envs\\xmoai\\lib\\site-packages\\pymoo\\algorithms\\rnsga2.py:183: RuntimeWarning: invalid value encountered in true_divide\n",
      "  N = ((D / (nadir - ideal)) ** 2) * weights\n",
      "A:\\anaconda3\\envs\\xmoai\\lib\\site-packages\\pymoo\\algorithms\\rnsga2.py:183: RuntimeWarning: invalid value encountered in true_divide\n",
      "  N = ((D / (nadir - ideal)) ** 2) * weights\n",
      "A:\\anaconda3\\envs\\xmoai\\lib\\site-packages\\pymoo\\algorithms\\rnsga2.py:183: RuntimeWarning: divide by zero encountered in true_divide\n",
      "  N = ((D / (nadir - ideal)) ** 2) * weights\n",
      "A:\\anaconda3\\envs\\xmoai\\lib\\site-packages\\pymoo\\algorithms\\rnsga2.py:183: RuntimeWarning: invalid value encountered in true_divide\n",
      "  N = ((D / (nadir - ideal)) ** 2) * weights\n",
      "A:\\anaconda3\\envs\\xmoai\\lib\\site-packages\\pymoo\\algorithms\\rnsga2.py:183: RuntimeWarning: invalid value encountered in true_divide\n",
      "  N = ((D / (nadir - ideal)) ** 2) * weights\n",
      "A:\\anaconda3\\envs\\xmoai\\lib\\site-packages\\pymoo\\algorithms\\rnsga2.py:183: RuntimeWarning: invalid value encountered in true_divide\n",
      "  N = ((D / (nadir - ideal)) ** 2) * weights\n",
      "A:\\anaconda3\\envs\\xmoai\\lib\\site-packages\\pymoo\\algorithms\\rnsga2.py:183: RuntimeWarning: invalid value encountered in true_divide\n",
      "  N = ((D / (nadir - ideal)) ** 2) * weights\n",
      "A:\\anaconda3\\envs\\xmoai\\lib\\site-packages\\pymoo\\algorithms\\rnsga2.py:183: RuntimeWarning: invalid value encountered in true_divide\n",
      "  N = ((D / (nadir - ideal)) ** 2) * weights\n",
      "A:\\anaconda3\\envs\\xmoai\\lib\\site-packages\\pymoo\\algorithms\\rnsga2.py:183: RuntimeWarning: invalid value encountered in true_divide\n",
      "  N = ((D / (nadir - ideal)) ** 2) * weights\n",
      "A:\\anaconda3\\envs\\xmoai\\lib\\site-packages\\pymoo\\algorithms\\rnsga2.py:183: RuntimeWarning: invalid value encountered in true_divide\n",
      "  N = ((D / (nadir - ideal)) ** 2) * weights\n",
      "A:\\anaconda3\\envs\\xmoai\\lib\\site-packages\\pymoo\\algorithms\\rnsga2.py:183: RuntimeWarning: invalid value encountered in true_divide\n",
      "  N = ((D / (nadir - ideal)) ** 2) * weights\n",
      "A:\\anaconda3\\envs\\xmoai\\lib\\site-packages\\pymoo\\algorithms\\rnsga2.py:183: RuntimeWarning: invalid value encountered in true_divide\n",
      "  N = ((D / (nadir - ideal)) ** 2) * weights\n",
      "A:\\anaconda3\\envs\\xmoai\\lib\\site-packages\\pymoo\\algorithms\\rnsga2.py:183: RuntimeWarning: invalid value encountered in true_divide\n",
      "  N = ((D / (nadir - ideal)) ** 2) * weights\n",
      "A:\\anaconda3\\envs\\xmoai\\lib\\site-packages\\pymoo\\algorithms\\rnsga2.py:183: RuntimeWarning: invalid value encountered in true_divide\n",
      "  N = ((D / (nadir - ideal)) ** 2) * weights\n",
      "A:\\anaconda3\\envs\\xmoai\\lib\\site-packages\\pymoo\\algorithms\\rnsga2.py:183: RuntimeWarning: invalid value encountered in true_divide\n",
      "  N = ((D / (nadir - ideal)) ** 2) * weights\n",
      "A:\\anaconda3\\envs\\xmoai\\lib\\site-packages\\pymoo\\algorithms\\rnsga2.py:183: RuntimeWarning: invalid value encountered in true_divide\n",
      "  N = ((D / (nadir - ideal)) ** 2) * weights\n"
     ]
    },
    {
     "name": "stderr",
     "output_type": "stream",
     "text": [
      "A:\\anaconda3\\envs\\xmoai\\lib\\site-packages\\pymoo\\algorithms\\rnsga2.py:183: RuntimeWarning: invalid value encountered in true_divide\n",
      "  N = ((D / (nadir - ideal)) ** 2) * weights\n",
      "A:\\anaconda3\\envs\\xmoai\\lib\\site-packages\\pymoo\\algorithms\\rnsga2.py:183: RuntimeWarning: invalid value encountered in true_divide\n",
      "  N = ((D / (nadir - ideal)) ** 2) * weights\n",
      "A:\\anaconda3\\envs\\xmoai\\lib\\site-packages\\pymoo\\algorithms\\rnsga2.py:183: RuntimeWarning: invalid value encountered in true_divide\n",
      "  N = ((D / (nadir - ideal)) ** 2) * weights\n",
      "A:\\anaconda3\\envs\\xmoai\\lib\\site-packages\\pymoo\\algorithms\\rnsga2.py:183: RuntimeWarning: invalid value encountered in true_divide\n",
      "  N = ((D / (nadir - ideal)) ** 2) * weights\n",
      "A:\\anaconda3\\envs\\xmoai\\lib\\site-packages\\topsis\\topsis.py:66: RuntimeWarning: invalid value encountered in true_divide\n",
      "  self.r = self.a/np.array(np.linalg.norm(self.a, axis=1)[:, np.newaxis])\n",
      "A:\\anaconda3\\envs\\xmoai\\lib\\site-packages\\topsis\\topsis.py:66: RuntimeWarning: invalid value encountered in true_divide\n",
      "  self.r = self.a/np.array(np.linalg.norm(self.a, axis=1)[:, np.newaxis])\n",
      "A:\\anaconda3\\envs\\xmoai\\lib\\site-packages\\topsis\\topsis.py:66: RuntimeWarning: invalid value encountered in true_divide\n",
      "  self.r = self.a/np.array(np.linalg.norm(self.a, axis=1)[:, np.newaxis])\n",
      "A:\\anaconda3\\envs\\xmoai\\lib\\site-packages\\topsis\\topsis.py:66: RuntimeWarning: invalid value encountered in true_divide\n",
      "  self.r = self.a/np.array(np.linalg.norm(self.a, axis=1)[:, np.newaxis])\n",
      "A:\\anaconda3\\envs\\xmoai\\lib\\site-packages\\topsis\\topsis.py:66: RuntimeWarning: invalid value encountered in true_divide\n",
      "  self.r = self.a/np.array(np.linalg.norm(self.a, axis=1)[:, np.newaxis])\n",
      "A:\\anaconda3\\envs\\xmoai\\lib\\site-packages\\topsis\\topsis.py:66: RuntimeWarning: invalid value encountered in true_divide\n",
      "  self.r = self.a/np.array(np.linalg.norm(self.a, axis=1)[:, np.newaxis])\n"
     ]
    },
    {
     "data": {
      "text/plain": [
       "'Training AIF360 - AdversarialDebiasing'"
      ]
     },
     "metadata": {},
     "output_type": "display_data"
    },
    {
     "data": {
      "text/plain": [
       "'Training AIF360 - PostProcessingMeta'"
      ]
     },
     "metadata": {},
     "output_type": "display_data"
    },
    {
     "data": {
      "text/plain": [
       "'Seed 14'"
      ]
     },
     "metadata": {},
     "output_type": "display_data"
    },
    {
     "data": {
      "text/plain": [
       "'Training the Voting Ensemble'"
      ]
     },
     "metadata": {},
     "output_type": "display_data"
    },
    {
     "data": {
      "text/plain": [
       "'Training Fairlearn'"
      ]
     },
     "metadata": {},
     "output_type": "display_data"
    },
    {
     "data": {
      "text/plain": [
       "'Training scikit-lego - DemographicParityClassifier'"
      ]
     },
     "metadata": {},
     "output_type": "display_data"
    },
    {
     "data": {
      "text/plain": [
       "'Training scikit-lego - EqualOpportunityClassifier'"
      ]
     },
     "metadata": {},
     "output_type": "display_data"
    },
    {
     "data": {
      "text/plain": [
       "'Training the proposal (nsga2)'"
      ]
     },
     "metadata": {},
     "output_type": "display_data"
    },
    {
     "data": {
      "text/plain": [
       "'Training the proposal (rnsga2)'"
      ]
     },
     "metadata": {},
     "output_type": "display_data"
    },
    {
     "name": "stderr",
     "output_type": "stream",
     "text": [
      "A:\\anaconda3\\envs\\xmoai\\lib\\site-packages\\pymoo\\algorithms\\rnsga2.py:183: RuntimeWarning: invalid value encountered in true_divide\n",
      "  N = ((D / (nadir - ideal)) ** 2) * weights\n"
     ]
    },
    {
     "data": {
      "text/plain": [
       "'Training AIF360 - AdversarialDebiasing'"
      ]
     },
     "metadata": {},
     "output_type": "display_data"
    },
    {
     "data": {
      "text/plain": [
       "'Training AIF360 - PostProcessingMeta'"
      ]
     },
     "metadata": {},
     "output_type": "display_data"
    },
    {
     "data": {
      "text/plain": [
       "'Seed 15'"
      ]
     },
     "metadata": {},
     "output_type": "display_data"
    },
    {
     "data": {
      "text/plain": [
       "'Training the Voting Ensemble'"
      ]
     },
     "metadata": {},
     "output_type": "display_data"
    },
    {
     "data": {
      "text/plain": [
       "'Training Fairlearn'"
      ]
     },
     "metadata": {},
     "output_type": "display_data"
    },
    {
     "data": {
      "text/plain": [
       "'Training scikit-lego - DemographicParityClassifier'"
      ]
     },
     "metadata": {},
     "output_type": "display_data"
    },
    {
     "data": {
      "text/plain": [
       "'Training scikit-lego - EqualOpportunityClassifier'"
      ]
     },
     "metadata": {},
     "output_type": "display_data"
    },
    {
     "data": {
      "text/plain": [
       "'Training the proposal (nsga2)'"
      ]
     },
     "metadata": {},
     "output_type": "display_data"
    },
    {
     "data": {
      "text/plain": [
       "'Training the proposal (rnsga2)'"
      ]
     },
     "metadata": {},
     "output_type": "display_data"
    },
    {
     "data": {
      "text/plain": [
       "'Training AIF360 - AdversarialDebiasing'"
      ]
     },
     "metadata": {},
     "output_type": "display_data"
    },
    {
     "data": {
      "text/plain": [
       "'Training AIF360 - PostProcessingMeta'"
      ]
     },
     "metadata": {},
     "output_type": "display_data"
    },
    {
     "data": {
      "text/plain": [
       "'Seed 16'"
      ]
     },
     "metadata": {},
     "output_type": "display_data"
    },
    {
     "data": {
      "text/plain": [
       "'Training the Voting Ensemble'"
      ]
     },
     "metadata": {},
     "output_type": "display_data"
    },
    {
     "data": {
      "text/plain": [
       "'Training Fairlearn'"
      ]
     },
     "metadata": {},
     "output_type": "display_data"
    },
    {
     "data": {
      "text/plain": [
       "'Training scikit-lego - DemographicParityClassifier'"
      ]
     },
     "metadata": {},
     "output_type": "display_data"
    },
    {
     "data": {
      "text/plain": [
       "'Training scikit-lego - EqualOpportunityClassifier'"
      ]
     },
     "metadata": {},
     "output_type": "display_data"
    },
    {
     "data": {
      "text/plain": [
       "'Training the proposal (nsga2)'"
      ]
     },
     "metadata": {},
     "output_type": "display_data"
    },
    {
     "name": "stderr",
     "output_type": "stream",
     "text": [
      "A:\\anaconda3\\envs\\xmoai\\lib\\site-packages\\topsis\\topsis.py:66: RuntimeWarning: invalid value encountered in true_divide\n",
      "  self.r = self.a/np.array(np.linalg.norm(self.a, axis=1)[:, np.newaxis])\n",
      "A:\\anaconda3\\envs\\xmoai\\lib\\site-packages\\topsis\\topsis.py:66: RuntimeWarning: invalid value encountered in true_divide\n",
      "  self.r = self.a/np.array(np.linalg.norm(self.a, axis=1)[:, np.newaxis])\n",
      "A:\\anaconda3\\envs\\xmoai\\lib\\site-packages\\topsis\\topsis.py:66: RuntimeWarning: invalid value encountered in true_divide\n",
      "  self.r = self.a/np.array(np.linalg.norm(self.a, axis=1)[:, np.newaxis])\n",
      "A:\\anaconda3\\envs\\xmoai\\lib\\site-packages\\topsis\\topsis.py:66: RuntimeWarning: invalid value encountered in true_divide\n",
      "  self.r = self.a/np.array(np.linalg.norm(self.a, axis=1)[:, np.newaxis])\n",
      "A:\\anaconda3\\envs\\xmoai\\lib\\site-packages\\topsis\\topsis.py:66: RuntimeWarning: invalid value encountered in true_divide\n",
      "  self.r = self.a/np.array(np.linalg.norm(self.a, axis=1)[:, np.newaxis])\n",
      "A:\\anaconda3\\envs\\xmoai\\lib\\site-packages\\topsis\\topsis.py:66: RuntimeWarning: invalid value encountered in true_divide\n",
      "  self.r = self.a/np.array(np.linalg.norm(self.a, axis=1)[:, np.newaxis])\n"
     ]
    },
    {
     "data": {
      "text/plain": [
       "'Training the proposal (rnsga2)'"
      ]
     },
     "metadata": {},
     "output_type": "display_data"
    },
    {
     "name": "stderr",
     "output_type": "stream",
     "text": [
      "A:\\anaconda3\\envs\\xmoai\\lib\\site-packages\\pymoo\\algorithms\\rnsga2.py:183: RuntimeWarning: invalid value encountered in true_divide\n",
      "  N = ((D / (nadir - ideal)) ** 2) * weights\n",
      "A:\\anaconda3\\envs\\xmoai\\lib\\site-packages\\pymoo\\algorithms\\rnsga2.py:183: RuntimeWarning: invalid value encountered in true_divide\n",
      "  N = ((D / (nadir - ideal)) ** 2) * weights\n",
      "A:\\anaconda3\\envs\\xmoai\\lib\\site-packages\\pymoo\\algorithms\\rnsga2.py:183: RuntimeWarning: invalid value encountered in true_divide\n",
      "  N = ((D / (nadir - ideal)) ** 2) * weights\n",
      "A:\\anaconda3\\envs\\xmoai\\lib\\site-packages\\pymoo\\algorithms\\rnsga2.py:183: RuntimeWarning: invalid value encountered in true_divide\n",
      "  N = ((D / (nadir - ideal)) ** 2) * weights\n",
      "A:\\anaconda3\\envs\\xmoai\\lib\\site-packages\\pymoo\\algorithms\\rnsga2.py:183: RuntimeWarning: invalid value encountered in true_divide\n",
      "  N = ((D / (nadir - ideal)) ** 2) * weights\n",
      "A:\\anaconda3\\envs\\xmoai\\lib\\site-packages\\pymoo\\algorithms\\rnsga2.py:183: RuntimeWarning: invalid value encountered in true_divide\n",
      "  N = ((D / (nadir - ideal)) ** 2) * weights\n",
      "A:\\anaconda3\\envs\\xmoai\\lib\\site-packages\\pymoo\\algorithms\\rnsga2.py:183: RuntimeWarning: invalid value encountered in true_divide\n",
      "  N = ((D / (nadir - ideal)) ** 2) * weights\n",
      "A:\\anaconda3\\envs\\xmoai\\lib\\site-packages\\pymoo\\algorithms\\rnsga2.py:183: RuntimeWarning: invalid value encountered in true_divide\n",
      "  N = ((D / (nadir - ideal)) ** 2) * weights\n",
      "A:\\anaconda3\\envs\\xmoai\\lib\\site-packages\\pymoo\\algorithms\\rnsga2.py:183: RuntimeWarning: invalid value encountered in true_divide\n",
      "  N = ((D / (nadir - ideal)) ** 2) * weights\n",
      "A:\\anaconda3\\envs\\xmoai\\lib\\site-packages\\pymoo\\algorithms\\rnsga2.py:183: RuntimeWarning: invalid value encountered in true_divide\n",
      "  N = ((D / (nadir - ideal)) ** 2) * weights\n",
      "A:\\anaconda3\\envs\\xmoai\\lib\\site-packages\\pymoo\\algorithms\\rnsga2.py:183: RuntimeWarning: invalid value encountered in true_divide\n",
      "  N = ((D / (nadir - ideal)) ** 2) * weights\n",
      "A:\\anaconda3\\envs\\xmoai\\lib\\site-packages\\pymoo\\algorithms\\rnsga2.py:183: RuntimeWarning: invalid value encountered in true_divide\n",
      "  N = ((D / (nadir - ideal)) ** 2) * weights\n",
      "A:\\anaconda3\\envs\\xmoai\\lib\\site-packages\\pymoo\\algorithms\\rnsga2.py:183: RuntimeWarning: invalid value encountered in true_divide\n",
      "  N = ((D / (nadir - ideal)) ** 2) * weights\n",
      "A:\\anaconda3\\envs\\xmoai\\lib\\site-packages\\pymoo\\algorithms\\rnsga2.py:183: RuntimeWarning: invalid value encountered in true_divide\n",
      "  N = ((D / (nadir - ideal)) ** 2) * weights\n",
      "A:\\anaconda3\\envs\\xmoai\\lib\\site-packages\\pymoo\\algorithms\\rnsga2.py:183: RuntimeWarning: invalid value encountered in true_divide\n",
      "  N = ((D / (nadir - ideal)) ** 2) * weights\n",
      "A:\\anaconda3\\envs\\xmoai\\lib\\site-packages\\pymoo\\algorithms\\rnsga2.py:183: RuntimeWarning: invalid value encountered in true_divide\n",
      "  N = ((D / (nadir - ideal)) ** 2) * weights\n",
      "A:\\anaconda3\\envs\\xmoai\\lib\\site-packages\\pymoo\\algorithms\\rnsga2.py:183: RuntimeWarning: invalid value encountered in true_divide\n",
      "  N = ((D / (nadir - ideal)) ** 2) * weights\n",
      "A:\\anaconda3\\envs\\xmoai\\lib\\site-packages\\pymoo\\algorithms\\rnsga2.py:183: RuntimeWarning: invalid value encountered in true_divide\n",
      "  N = ((D / (nadir - ideal)) ** 2) * weights\n",
      "A:\\anaconda3\\envs\\xmoai\\lib\\site-packages\\pymoo\\algorithms\\rnsga2.py:183: RuntimeWarning: invalid value encountered in true_divide\n",
      "  N = ((D / (nadir - ideal)) ** 2) * weights\n",
      "A:\\anaconda3\\envs\\xmoai\\lib\\site-packages\\pymoo\\algorithms\\rnsga2.py:183: RuntimeWarning: invalid value encountered in true_divide\n",
      "  N = ((D / (nadir - ideal)) ** 2) * weights\n",
      "A:\\anaconda3\\envs\\xmoai\\lib\\site-packages\\pymoo\\algorithms\\rnsga2.py:183: RuntimeWarning: invalid value encountered in true_divide\n",
      "  N = ((D / (nadir - ideal)) ** 2) * weights\n",
      "A:\\anaconda3\\envs\\xmoai\\lib\\site-packages\\pymoo\\algorithms\\rnsga2.py:183: RuntimeWarning: invalid value encountered in true_divide\n",
      "  N = ((D / (nadir - ideal)) ** 2) * weights\n",
      "A:\\anaconda3\\envs\\xmoai\\lib\\site-packages\\pymoo\\algorithms\\rnsga2.py:183: RuntimeWarning: invalid value encountered in true_divide\n",
      "  N = ((D / (nadir - ideal)) ** 2) * weights\n",
      "A:\\anaconda3\\envs\\xmoai\\lib\\site-packages\\pymoo\\algorithms\\rnsga2.py:183: RuntimeWarning: invalid value encountered in true_divide\n",
      "  N = ((D / (nadir - ideal)) ** 2) * weights\n",
      "A:\\anaconda3\\envs\\xmoai\\lib\\site-packages\\pymoo\\algorithms\\rnsga2.py:183: RuntimeWarning: invalid value encountered in true_divide\n",
      "  N = ((D / (nadir - ideal)) ** 2) * weights\n",
      "A:\\anaconda3\\envs\\xmoai\\lib\\site-packages\\pymoo\\algorithms\\rnsga2.py:183: RuntimeWarning: invalid value encountered in true_divide\n",
      "  N = ((D / (nadir - ideal)) ** 2) * weights\n",
      "A:\\anaconda3\\envs\\xmoai\\lib\\site-packages\\pymoo\\algorithms\\rnsga2.py:183: RuntimeWarning: invalid value encountered in true_divide\n",
      "  N = ((D / (nadir - ideal)) ** 2) * weights\n",
      "A:\\anaconda3\\envs\\xmoai\\lib\\site-packages\\pymoo\\algorithms\\rnsga2.py:183: RuntimeWarning: invalid value encountered in true_divide\n",
      "  N = ((D / (nadir - ideal)) ** 2) * weights\n",
      "A:\\anaconda3\\envs\\xmoai\\lib\\site-packages\\pymoo\\algorithms\\rnsga2.py:183: RuntimeWarning: invalid value encountered in true_divide\n",
      "  N = ((D / (nadir - ideal)) ** 2) * weights\n",
      "A:\\anaconda3\\envs\\xmoai\\lib\\site-packages\\pymoo\\algorithms\\rnsga2.py:183: RuntimeWarning: invalid value encountered in true_divide\n",
      "  N = ((D / (nadir - ideal)) ** 2) * weights\n",
      "A:\\anaconda3\\envs\\xmoai\\lib\\site-packages\\pymoo\\algorithms\\rnsga2.py:183: RuntimeWarning: invalid value encountered in true_divide\n",
      "  N = ((D / (nadir - ideal)) ** 2) * weights\n",
      "A:\\anaconda3\\envs\\xmoai\\lib\\site-packages\\pymoo\\algorithms\\rnsga2.py:183: RuntimeWarning: invalid value encountered in true_divide\n",
      "  N = ((D / (nadir - ideal)) ** 2) * weights\n",
      "A:\\anaconda3\\envs\\xmoai\\lib\\site-packages\\pymoo\\algorithms\\rnsga2.py:183: RuntimeWarning: invalid value encountered in true_divide\n",
      "  N = ((D / (nadir - ideal)) ** 2) * weights\n",
      "A:\\anaconda3\\envs\\xmoai\\lib\\site-packages\\pymoo\\algorithms\\rnsga2.py:183: RuntimeWarning: invalid value encountered in true_divide\n",
      "  N = ((D / (nadir - ideal)) ** 2) * weights\n",
      "A:\\anaconda3\\envs\\xmoai\\lib\\site-packages\\pymoo\\algorithms\\rnsga2.py:183: RuntimeWarning: invalid value encountered in true_divide\n",
      "  N = ((D / (nadir - ideal)) ** 2) * weights\n",
      "A:\\anaconda3\\envs\\xmoai\\lib\\site-packages\\pymoo\\algorithms\\rnsga2.py:183: RuntimeWarning: invalid value encountered in true_divide\n",
      "  N = ((D / (nadir - ideal)) ** 2) * weights\n",
      "A:\\anaconda3\\envs\\xmoai\\lib\\site-packages\\pymoo\\algorithms\\rnsga2.py:183: RuntimeWarning: invalid value encountered in true_divide\n",
      "  N = ((D / (nadir - ideal)) ** 2) * weights\n",
      "A:\\anaconda3\\envs\\xmoai\\lib\\site-packages\\pymoo\\algorithms\\rnsga2.py:183: RuntimeWarning: invalid value encountered in true_divide\n",
      "  N = ((D / (nadir - ideal)) ** 2) * weights\n",
      "A:\\anaconda3\\envs\\xmoai\\lib\\site-packages\\pymoo\\algorithms\\rnsga2.py:183: RuntimeWarning: invalid value encountered in true_divide\n",
      "  N = ((D / (nadir - ideal)) ** 2) * weights\n",
      "A:\\anaconda3\\envs\\xmoai\\lib\\site-packages\\pymoo\\algorithms\\rnsga2.py:183: RuntimeWarning: invalid value encountered in true_divide\n",
      "  N = ((D / (nadir - ideal)) ** 2) * weights\n",
      "A:\\anaconda3\\envs\\xmoai\\lib\\site-packages\\pymoo\\algorithms\\rnsga2.py:183: RuntimeWarning: invalid value encountered in true_divide\n",
      "  N = ((D / (nadir - ideal)) ** 2) * weights\n",
      "A:\\anaconda3\\envs\\xmoai\\lib\\site-packages\\pymoo\\algorithms\\rnsga2.py:183: RuntimeWarning: invalid value encountered in true_divide\n",
      "  N = ((D / (nadir - ideal)) ** 2) * weights\n",
      "A:\\anaconda3\\envs\\xmoai\\lib\\site-packages\\pymoo\\algorithms\\rnsga2.py:183: RuntimeWarning: invalid value encountered in true_divide\n",
      "  N = ((D / (nadir - ideal)) ** 2) * weights\n",
      "A:\\anaconda3\\envs\\xmoai\\lib\\site-packages\\pymoo\\algorithms\\rnsga2.py:183: RuntimeWarning: invalid value encountered in true_divide\n",
      "  N = ((D / (nadir - ideal)) ** 2) * weights\n",
      "A:\\anaconda3\\envs\\xmoai\\lib\\site-packages\\pymoo\\algorithms\\rnsga2.py:183: RuntimeWarning: invalid value encountered in true_divide\n",
      "  N = ((D / (nadir - ideal)) ** 2) * weights\n",
      "A:\\anaconda3\\envs\\xmoai\\lib\\site-packages\\pymoo\\algorithms\\rnsga2.py:183: RuntimeWarning: invalid value encountered in true_divide\n",
      "  N = ((D / (nadir - ideal)) ** 2) * weights\n",
      "A:\\anaconda3\\envs\\xmoai\\lib\\site-packages\\pymoo\\algorithms\\rnsga2.py:183: RuntimeWarning: invalid value encountered in true_divide\n",
      "  N = ((D / (nadir - ideal)) ** 2) * weights\n"
     ]
    },
    {
     "name": "stderr",
     "output_type": "stream",
     "text": [
      "A:\\anaconda3\\envs\\xmoai\\lib\\site-packages\\pymoo\\algorithms\\rnsga2.py:183: RuntimeWarning: invalid value encountered in true_divide\n",
      "  N = ((D / (nadir - ideal)) ** 2) * weights\n",
      "A:\\anaconda3\\envs\\xmoai\\lib\\site-packages\\pymoo\\algorithms\\rnsga2.py:183: RuntimeWarning: invalid value encountered in true_divide\n",
      "  N = ((D / (nadir - ideal)) ** 2) * weights\n",
      "A:\\anaconda3\\envs\\xmoai\\lib\\site-packages\\pymoo\\algorithms\\rnsga2.py:183: RuntimeWarning: invalid value encountered in true_divide\n",
      "  N = ((D / (nadir - ideal)) ** 2) * weights\n",
      "A:\\anaconda3\\envs\\xmoai\\lib\\site-packages\\topsis\\topsis.py:66: RuntimeWarning: invalid value encountered in true_divide\n",
      "  self.r = self.a/np.array(np.linalg.norm(self.a, axis=1)[:, np.newaxis])\n",
      "A:\\anaconda3\\envs\\xmoai\\lib\\site-packages\\topsis\\topsis.py:66: RuntimeWarning: invalid value encountered in true_divide\n",
      "  self.r = self.a/np.array(np.linalg.norm(self.a, axis=1)[:, np.newaxis])\n",
      "A:\\anaconda3\\envs\\xmoai\\lib\\site-packages\\topsis\\topsis.py:66: RuntimeWarning: invalid value encountered in true_divide\n",
      "  self.r = self.a/np.array(np.linalg.norm(self.a, axis=1)[:, np.newaxis])\n",
      "A:\\anaconda3\\envs\\xmoai\\lib\\site-packages\\topsis\\topsis.py:66: RuntimeWarning: invalid value encountered in true_divide\n",
      "  self.r = self.a/np.array(np.linalg.norm(self.a, axis=1)[:, np.newaxis])\n",
      "A:\\anaconda3\\envs\\xmoai\\lib\\site-packages\\topsis\\topsis.py:66: RuntimeWarning: invalid value encountered in true_divide\n",
      "  self.r = self.a/np.array(np.linalg.norm(self.a, axis=1)[:, np.newaxis])\n",
      "A:\\anaconda3\\envs\\xmoai\\lib\\site-packages\\topsis\\topsis.py:66: RuntimeWarning: invalid value encountered in true_divide\n",
      "  self.r = self.a/np.array(np.linalg.norm(self.a, axis=1)[:, np.newaxis])\n"
     ]
    },
    {
     "data": {
      "text/plain": [
       "'Training AIF360 - AdversarialDebiasing'"
      ]
     },
     "metadata": {},
     "output_type": "display_data"
    },
    {
     "data": {
      "text/plain": [
       "'Training AIF360 - PostProcessingMeta'"
      ]
     },
     "metadata": {},
     "output_type": "display_data"
    },
    {
     "data": {
      "text/plain": [
       "'Seed 17'"
      ]
     },
     "metadata": {},
     "output_type": "display_data"
    },
    {
     "data": {
      "text/plain": [
       "'Training the Voting Ensemble'"
      ]
     },
     "metadata": {},
     "output_type": "display_data"
    },
    {
     "data": {
      "text/plain": [
       "'Training Fairlearn'"
      ]
     },
     "metadata": {},
     "output_type": "display_data"
    },
    {
     "data": {
      "text/plain": [
       "'Training scikit-lego - DemographicParityClassifier'"
      ]
     },
     "metadata": {},
     "output_type": "display_data"
    },
    {
     "data": {
      "text/plain": [
       "'Training scikit-lego - EqualOpportunityClassifier'"
      ]
     },
     "metadata": {},
     "output_type": "display_data"
    },
    {
     "data": {
      "text/plain": [
       "'Training the proposal (nsga2)'"
      ]
     },
     "metadata": {},
     "output_type": "display_data"
    },
    {
     "name": "stderr",
     "output_type": "stream",
     "text": [
      "A:\\anaconda3\\envs\\xmoai\\lib\\site-packages\\topsis\\topsis.py:66: RuntimeWarning: invalid value encountered in true_divide\n",
      "  self.r = self.a/np.array(np.linalg.norm(self.a, axis=1)[:, np.newaxis])\n",
      "A:\\anaconda3\\envs\\xmoai\\lib\\site-packages\\topsis\\topsis.py:66: RuntimeWarning: invalid value encountered in true_divide\n",
      "  self.r = self.a/np.array(np.linalg.norm(self.a, axis=1)[:, np.newaxis])\n",
      "A:\\anaconda3\\envs\\xmoai\\lib\\site-packages\\topsis\\topsis.py:66: RuntimeWarning: invalid value encountered in true_divide\n",
      "  self.r = self.a/np.array(np.linalg.norm(self.a, axis=1)[:, np.newaxis])\n",
      "A:\\anaconda3\\envs\\xmoai\\lib\\site-packages\\topsis\\topsis.py:66: RuntimeWarning: invalid value encountered in true_divide\n",
      "  self.r = self.a/np.array(np.linalg.norm(self.a, axis=1)[:, np.newaxis])\n",
      "A:\\anaconda3\\envs\\xmoai\\lib\\site-packages\\topsis\\topsis.py:66: RuntimeWarning: invalid value encountered in true_divide\n",
      "  self.r = self.a/np.array(np.linalg.norm(self.a, axis=1)[:, np.newaxis])\n",
      "A:\\anaconda3\\envs\\xmoai\\lib\\site-packages\\topsis\\topsis.py:66: RuntimeWarning: invalid value encountered in true_divide\n",
      "  self.r = self.a/np.array(np.linalg.norm(self.a, axis=1)[:, np.newaxis])\n"
     ]
    },
    {
     "data": {
      "text/plain": [
       "'Training the proposal (rnsga2)'"
      ]
     },
     "metadata": {},
     "output_type": "display_data"
    },
    {
     "name": "stderr",
     "output_type": "stream",
     "text": [
      "A:\\anaconda3\\envs\\xmoai\\lib\\site-packages\\pymoo\\algorithms\\rnsga2.py:183: RuntimeWarning: invalid value encountered in true_divide\n",
      "  N = ((D / (nadir - ideal)) ** 2) * weights\n",
      "A:\\anaconda3\\envs\\xmoai\\lib\\site-packages\\pymoo\\algorithms\\rnsga2.py:183: RuntimeWarning: invalid value encountered in true_divide\n",
      "  N = ((D / (nadir - ideal)) ** 2) * weights\n",
      "A:\\anaconda3\\envs\\xmoai\\lib\\site-packages\\pymoo\\algorithms\\rnsga2.py:183: RuntimeWarning: invalid value encountered in true_divide\n",
      "  N = ((D / (nadir - ideal)) ** 2) * weights\n",
      "A:\\anaconda3\\envs\\xmoai\\lib\\site-packages\\pymoo\\algorithms\\rnsga2.py:183: RuntimeWarning: invalid value encountered in true_divide\n",
      "  N = ((D / (nadir - ideal)) ** 2) * weights\n",
      "A:\\anaconda3\\envs\\xmoai\\lib\\site-packages\\pymoo\\algorithms\\rnsga2.py:183: RuntimeWarning: invalid value encountered in true_divide\n",
      "  N = ((D / (nadir - ideal)) ** 2) * weights\n",
      "A:\\anaconda3\\envs\\xmoai\\lib\\site-packages\\pymoo\\algorithms\\rnsga2.py:183: RuntimeWarning: invalid value encountered in true_divide\n",
      "  N = ((D / (nadir - ideal)) ** 2) * weights\n",
      "A:\\anaconda3\\envs\\xmoai\\lib\\site-packages\\pymoo\\algorithms\\rnsga2.py:183: RuntimeWarning: invalid value encountered in true_divide\n",
      "  N = ((D / (nadir - ideal)) ** 2) * weights\n",
      "A:\\anaconda3\\envs\\xmoai\\lib\\site-packages\\pymoo\\algorithms\\rnsga2.py:183: RuntimeWarning: invalid value encountered in true_divide\n",
      "  N = ((D / (nadir - ideal)) ** 2) * weights\n",
      "A:\\anaconda3\\envs\\xmoai\\lib\\site-packages\\pymoo\\algorithms\\rnsga2.py:183: RuntimeWarning: invalid value encountered in true_divide\n",
      "  N = ((D / (nadir - ideal)) ** 2) * weights\n",
      "A:\\anaconda3\\envs\\xmoai\\lib\\site-packages\\pymoo\\algorithms\\rnsga2.py:183: RuntimeWarning: invalid value encountered in true_divide\n",
      "  N = ((D / (nadir - ideal)) ** 2) * weights\n",
      "A:\\anaconda3\\envs\\xmoai\\lib\\site-packages\\pymoo\\algorithms\\rnsga2.py:183: RuntimeWarning: invalid value encountered in true_divide\n",
      "  N = ((D / (nadir - ideal)) ** 2) * weights\n",
      "A:\\anaconda3\\envs\\xmoai\\lib\\site-packages\\pymoo\\algorithms\\rnsga2.py:183: RuntimeWarning: invalid value encountered in true_divide\n",
      "  N = ((D / (nadir - ideal)) ** 2) * weights\n",
      "A:\\anaconda3\\envs\\xmoai\\lib\\site-packages\\pymoo\\algorithms\\rnsga2.py:183: RuntimeWarning: invalid value encountered in true_divide\n",
      "  N = ((D / (nadir - ideal)) ** 2) * weights\n",
      "A:\\anaconda3\\envs\\xmoai\\lib\\site-packages\\pymoo\\algorithms\\rnsga2.py:183: RuntimeWarning: invalid value encountered in true_divide\n",
      "  N = ((D / (nadir - ideal)) ** 2) * weights\n",
      "A:\\anaconda3\\envs\\xmoai\\lib\\site-packages\\pymoo\\algorithms\\rnsga2.py:183: RuntimeWarning: invalid value encountered in true_divide\n",
      "  N = ((D / (nadir - ideal)) ** 2) * weights\n",
      "A:\\anaconda3\\envs\\xmoai\\lib\\site-packages\\pymoo\\algorithms\\rnsga2.py:183: RuntimeWarning: invalid value encountered in true_divide\n",
      "  N = ((D / (nadir - ideal)) ** 2) * weights\n",
      "A:\\anaconda3\\envs\\xmoai\\lib\\site-packages\\pymoo\\algorithms\\rnsga2.py:183: RuntimeWarning: invalid value encountered in true_divide\n",
      "  N = ((D / (nadir - ideal)) ** 2) * weights\n",
      "A:\\anaconda3\\envs\\xmoai\\lib\\site-packages\\pymoo\\algorithms\\rnsga2.py:183: RuntimeWarning: invalid value encountered in true_divide\n",
      "  N = ((D / (nadir - ideal)) ** 2) * weights\n",
      "A:\\anaconda3\\envs\\xmoai\\lib\\site-packages\\pymoo\\algorithms\\rnsga2.py:183: RuntimeWarning: invalid value encountered in true_divide\n",
      "  N = ((D / (nadir - ideal)) ** 2) * weights\n",
      "A:\\anaconda3\\envs\\xmoai\\lib\\site-packages\\pymoo\\algorithms\\rnsga2.py:183: RuntimeWarning: invalid value encountered in true_divide\n",
      "  N = ((D / (nadir - ideal)) ** 2) * weights\n",
      "A:\\anaconda3\\envs\\xmoai\\lib\\site-packages\\pymoo\\algorithms\\rnsga2.py:183: RuntimeWarning: invalid value encountered in true_divide\n",
      "  N = ((D / (nadir - ideal)) ** 2) * weights\n",
      "A:\\anaconda3\\envs\\xmoai\\lib\\site-packages\\pymoo\\algorithms\\rnsga2.py:183: RuntimeWarning: invalid value encountered in true_divide\n",
      "  N = ((D / (nadir - ideal)) ** 2) * weights\n",
      "A:\\anaconda3\\envs\\xmoai\\lib\\site-packages\\pymoo\\algorithms\\rnsga2.py:183: RuntimeWarning: invalid value encountered in true_divide\n",
      "  N = ((D / (nadir - ideal)) ** 2) * weights\n",
      "A:\\anaconda3\\envs\\xmoai\\lib\\site-packages\\pymoo\\algorithms\\rnsga2.py:183: RuntimeWarning: invalid value encountered in true_divide\n",
      "  N = ((D / (nadir - ideal)) ** 2) * weights\n",
      "A:\\anaconda3\\envs\\xmoai\\lib\\site-packages\\pymoo\\algorithms\\rnsga2.py:183: RuntimeWarning: invalid value encountered in true_divide\n",
      "  N = ((D / (nadir - ideal)) ** 2) * weights\n",
      "A:\\anaconda3\\envs\\xmoai\\lib\\site-packages\\pymoo\\algorithms\\rnsga2.py:183: RuntimeWarning: invalid value encountered in true_divide\n",
      "  N = ((D / (nadir - ideal)) ** 2) * weights\n",
      "A:\\anaconda3\\envs\\xmoai\\lib\\site-packages\\pymoo\\algorithms\\rnsga2.py:183: RuntimeWarning: invalid value encountered in true_divide\n",
      "  N = ((D / (nadir - ideal)) ** 2) * weights\n",
      "A:\\anaconda3\\envs\\xmoai\\lib\\site-packages\\pymoo\\algorithms\\rnsga2.py:183: RuntimeWarning: invalid value encountered in true_divide\n",
      "  N = ((D / (nadir - ideal)) ** 2) * weights\n",
      "A:\\anaconda3\\envs\\xmoai\\lib\\site-packages\\pymoo\\algorithms\\rnsga2.py:183: RuntimeWarning: invalid value encountered in true_divide\n",
      "  N = ((D / (nadir - ideal)) ** 2) * weights\n",
      "A:\\anaconda3\\envs\\xmoai\\lib\\site-packages\\pymoo\\algorithms\\rnsga2.py:183: RuntimeWarning: invalid value encountered in true_divide\n",
      "  N = ((D / (nadir - ideal)) ** 2) * weights\n",
      "A:\\anaconda3\\envs\\xmoai\\lib\\site-packages\\pymoo\\algorithms\\rnsga2.py:183: RuntimeWarning: invalid value encountered in true_divide\n",
      "  N = ((D / (nadir - ideal)) ** 2) * weights\n",
      "A:\\anaconda3\\envs\\xmoai\\lib\\site-packages\\pymoo\\algorithms\\rnsga2.py:183: RuntimeWarning: invalid value encountered in true_divide\n",
      "  N = ((D / (nadir - ideal)) ** 2) * weights\n",
      "A:\\anaconda3\\envs\\xmoai\\lib\\site-packages\\pymoo\\algorithms\\rnsga2.py:183: RuntimeWarning: invalid value encountered in true_divide\n",
      "  N = ((D / (nadir - ideal)) ** 2) * weights\n",
      "A:\\anaconda3\\envs\\xmoai\\lib\\site-packages\\pymoo\\algorithms\\rnsga2.py:183: RuntimeWarning: invalid value encountered in true_divide\n",
      "  N = ((D / (nadir - ideal)) ** 2) * weights\n",
      "A:\\anaconda3\\envs\\xmoai\\lib\\site-packages\\pymoo\\algorithms\\rnsga2.py:183: RuntimeWarning: invalid value encountered in true_divide\n",
      "  N = ((D / (nadir - ideal)) ** 2) * weights\n",
      "A:\\anaconda3\\envs\\xmoai\\lib\\site-packages\\pymoo\\algorithms\\rnsga2.py:183: RuntimeWarning: invalid value encountered in true_divide\n",
      "  N = ((D / (nadir - ideal)) ** 2) * weights\n",
      "A:\\anaconda3\\envs\\xmoai\\lib\\site-packages\\pymoo\\algorithms\\rnsga2.py:183: RuntimeWarning: invalid value encountered in true_divide\n",
      "  N = ((D / (nadir - ideal)) ** 2) * weights\n",
      "A:\\anaconda3\\envs\\xmoai\\lib\\site-packages\\pymoo\\algorithms\\rnsga2.py:183: RuntimeWarning: invalid value encountered in true_divide\n",
      "  N = ((D / (nadir - ideal)) ** 2) * weights\n",
      "A:\\anaconda3\\envs\\xmoai\\lib\\site-packages\\pymoo\\algorithms\\rnsga2.py:183: RuntimeWarning: invalid value encountered in true_divide\n",
      "  N = ((D / (nadir - ideal)) ** 2) * weights\n",
      "A:\\anaconda3\\envs\\xmoai\\lib\\site-packages\\pymoo\\algorithms\\rnsga2.py:183: RuntimeWarning: invalid value encountered in true_divide\n",
      "  N = ((D / (nadir - ideal)) ** 2) * weights\n",
      "A:\\anaconda3\\envs\\xmoai\\lib\\site-packages\\pymoo\\algorithms\\rnsga2.py:183: RuntimeWarning: invalid value encountered in true_divide\n",
      "  N = ((D / (nadir - ideal)) ** 2) * weights\n",
      "A:\\anaconda3\\envs\\xmoai\\lib\\site-packages\\pymoo\\algorithms\\rnsga2.py:183: RuntimeWarning: invalid value encountered in true_divide\n",
      "  N = ((D / (nadir - ideal)) ** 2) * weights\n",
      "A:\\anaconda3\\envs\\xmoai\\lib\\site-packages\\pymoo\\algorithms\\rnsga2.py:183: RuntimeWarning: invalid value encountered in true_divide\n",
      "  N = ((D / (nadir - ideal)) ** 2) * weights\n",
      "A:\\anaconda3\\envs\\xmoai\\lib\\site-packages\\pymoo\\algorithms\\rnsga2.py:183: RuntimeWarning: invalid value encountered in true_divide\n",
      "  N = ((D / (nadir - ideal)) ** 2) * weights\n",
      "A:\\anaconda3\\envs\\xmoai\\lib\\site-packages\\pymoo\\algorithms\\rnsga2.py:183: RuntimeWarning: divide by zero encountered in true_divide\n",
      "  N = ((D / (nadir - ideal)) ** 2) * weights\n",
      "A:\\anaconda3\\envs\\xmoai\\lib\\site-packages\\pymoo\\algorithms\\rnsga2.py:183: RuntimeWarning: invalid value encountered in true_divide\n",
      "  N = ((D / (nadir - ideal)) ** 2) * weights\n",
      "A:\\anaconda3\\envs\\xmoai\\lib\\site-packages\\pymoo\\algorithms\\rnsga2.py:183: RuntimeWarning: divide by zero encountered in true_divide\n",
      "  N = ((D / (nadir - ideal)) ** 2) * weights\n",
      "A:\\anaconda3\\envs\\xmoai\\lib\\site-packages\\pymoo\\algorithms\\rnsga2.py:183: RuntimeWarning: invalid value encountered in true_divide\n",
      "  N = ((D / (nadir - ideal)) ** 2) * weights\n"
     ]
    },
    {
     "name": "stderr",
     "output_type": "stream",
     "text": [
      "A:\\anaconda3\\envs\\xmoai\\lib\\site-packages\\pymoo\\algorithms\\rnsga2.py:183: RuntimeWarning: divide by zero encountered in true_divide\n",
      "  N = ((D / (nadir - ideal)) ** 2) * weights\n",
      "A:\\anaconda3\\envs\\xmoai\\lib\\site-packages\\pymoo\\algorithms\\rnsga2.py:183: RuntimeWarning: invalid value encountered in true_divide\n",
      "  N = ((D / (nadir - ideal)) ** 2) * weights\n",
      "A:\\anaconda3\\envs\\xmoai\\lib\\site-packages\\pymoo\\algorithms\\rnsga2.py:183: RuntimeWarning: divide by zero encountered in true_divide\n",
      "  N = ((D / (nadir - ideal)) ** 2) * weights\n",
      "A:\\anaconda3\\envs\\xmoai\\lib\\site-packages\\pymoo\\algorithms\\rnsga2.py:183: RuntimeWarning: invalid value encountered in true_divide\n",
      "  N = ((D / (nadir - ideal)) ** 2) * weights\n",
      "A:\\anaconda3\\envs\\xmoai\\lib\\site-packages\\pymoo\\algorithms\\rnsga2.py:183: RuntimeWarning: divide by zero encountered in true_divide\n",
      "  N = ((D / (nadir - ideal)) ** 2) * weights\n",
      "A:\\anaconda3\\envs\\xmoai\\lib\\site-packages\\pymoo\\algorithms\\rnsga2.py:183: RuntimeWarning: invalid value encountered in true_divide\n",
      "  N = ((D / (nadir - ideal)) ** 2) * weights\n",
      "A:\\anaconda3\\envs\\xmoai\\lib\\site-packages\\pymoo\\algorithms\\rnsga2.py:183: RuntimeWarning: invalid value encountered in true_divide\n",
      "  N = ((D / (nadir - ideal)) ** 2) * weights\n",
      "A:\\anaconda3\\envs\\xmoai\\lib\\site-packages\\topsis\\topsis.py:66: RuntimeWarning: invalid value encountered in true_divide\n",
      "  self.r = self.a/np.array(np.linalg.norm(self.a, axis=1)[:, np.newaxis])\n",
      "A:\\anaconda3\\envs\\xmoai\\lib\\site-packages\\topsis\\topsis.py:66: RuntimeWarning: invalid value encountered in true_divide\n",
      "  self.r = self.a/np.array(np.linalg.norm(self.a, axis=1)[:, np.newaxis])\n",
      "A:\\anaconda3\\envs\\xmoai\\lib\\site-packages\\topsis\\topsis.py:66: RuntimeWarning: invalid value encountered in true_divide\n",
      "  self.r = self.a/np.array(np.linalg.norm(self.a, axis=1)[:, np.newaxis])\n",
      "A:\\anaconda3\\envs\\xmoai\\lib\\site-packages\\topsis\\topsis.py:66: RuntimeWarning: invalid value encountered in true_divide\n",
      "  self.r = self.a/np.array(np.linalg.norm(self.a, axis=1)[:, np.newaxis])\n",
      "A:\\anaconda3\\envs\\xmoai\\lib\\site-packages\\topsis\\topsis.py:66: RuntimeWarning: invalid value encountered in true_divide\n",
      "  self.r = self.a/np.array(np.linalg.norm(self.a, axis=1)[:, np.newaxis])\n",
      "A:\\anaconda3\\envs\\xmoai\\lib\\site-packages\\topsis\\topsis.py:66: RuntimeWarning: invalid value encountered in true_divide\n",
      "  self.r = self.a/np.array(np.linalg.norm(self.a, axis=1)[:, np.newaxis])\n"
     ]
    },
    {
     "data": {
      "text/plain": [
       "'Training AIF360 - AdversarialDebiasing'"
      ]
     },
     "metadata": {},
     "output_type": "display_data"
    },
    {
     "data": {
      "text/plain": [
       "'Training AIF360 - PostProcessingMeta'"
      ]
     },
     "metadata": {},
     "output_type": "display_data"
    },
    {
     "data": {
      "text/plain": [
       "'Seed 18'"
      ]
     },
     "metadata": {},
     "output_type": "display_data"
    },
    {
     "data": {
      "text/plain": [
       "'Training the Voting Ensemble'"
      ]
     },
     "metadata": {},
     "output_type": "display_data"
    },
    {
     "data": {
      "text/plain": [
       "'Training Fairlearn'"
      ]
     },
     "metadata": {},
     "output_type": "display_data"
    },
    {
     "data": {
      "text/plain": [
       "'Training scikit-lego - DemographicParityClassifier'"
      ]
     },
     "metadata": {},
     "output_type": "display_data"
    },
    {
     "data": {
      "text/plain": [
       "'Training scikit-lego - EqualOpportunityClassifier'"
      ]
     },
     "metadata": {},
     "output_type": "display_data"
    },
    {
     "data": {
      "text/plain": [
       "'Training the proposal (nsga2)'"
      ]
     },
     "metadata": {},
     "output_type": "display_data"
    },
    {
     "name": "stderr",
     "output_type": "stream",
     "text": [
      "A:\\anaconda3\\envs\\xmoai\\lib\\site-packages\\topsis\\topsis.py:66: RuntimeWarning: invalid value encountered in true_divide\n",
      "  self.r = self.a/np.array(np.linalg.norm(self.a, axis=1)[:, np.newaxis])\n",
      "A:\\anaconda3\\envs\\xmoai\\lib\\site-packages\\topsis\\topsis.py:66: RuntimeWarning: invalid value encountered in true_divide\n",
      "  self.r = self.a/np.array(np.linalg.norm(self.a, axis=1)[:, np.newaxis])\n",
      "A:\\anaconda3\\envs\\xmoai\\lib\\site-packages\\topsis\\topsis.py:66: RuntimeWarning: invalid value encountered in true_divide\n",
      "  self.r = self.a/np.array(np.linalg.norm(self.a, axis=1)[:, np.newaxis])\n",
      "A:\\anaconda3\\envs\\xmoai\\lib\\site-packages\\topsis\\topsis.py:66: RuntimeWarning: invalid value encountered in true_divide\n",
      "  self.r = self.a/np.array(np.linalg.norm(self.a, axis=1)[:, np.newaxis])\n",
      "A:\\anaconda3\\envs\\xmoai\\lib\\site-packages\\topsis\\topsis.py:66: RuntimeWarning: invalid value encountered in true_divide\n",
      "  self.r = self.a/np.array(np.linalg.norm(self.a, axis=1)[:, np.newaxis])\n",
      "A:\\anaconda3\\envs\\xmoai\\lib\\site-packages\\topsis\\topsis.py:66: RuntimeWarning: invalid value encountered in true_divide\n",
      "  self.r = self.a/np.array(np.linalg.norm(self.a, axis=1)[:, np.newaxis])\n"
     ]
    },
    {
     "data": {
      "text/plain": [
       "'Training the proposal (rnsga2)'"
      ]
     },
     "metadata": {},
     "output_type": "display_data"
    },
    {
     "name": "stderr",
     "output_type": "stream",
     "text": [
      "A:\\anaconda3\\envs\\xmoai\\lib\\site-packages\\pymoo\\algorithms\\rnsga2.py:183: RuntimeWarning: invalid value encountered in true_divide\n",
      "  N = ((D / (nadir - ideal)) ** 2) * weights\n",
      "A:\\anaconda3\\envs\\xmoai\\lib\\site-packages\\pymoo\\algorithms\\rnsga2.py:183: RuntimeWarning: invalid value encountered in true_divide\n",
      "  N = ((D / (nadir - ideal)) ** 2) * weights\n",
      "A:\\anaconda3\\envs\\xmoai\\lib\\site-packages\\pymoo\\algorithms\\rnsga2.py:183: RuntimeWarning: invalid value encountered in true_divide\n",
      "  N = ((D / (nadir - ideal)) ** 2) * weights\n",
      "A:\\anaconda3\\envs\\xmoai\\lib\\site-packages\\pymoo\\algorithms\\rnsga2.py:183: RuntimeWarning: invalid value encountered in true_divide\n",
      "  N = ((D / (nadir - ideal)) ** 2) * weights\n",
      "A:\\anaconda3\\envs\\xmoai\\lib\\site-packages\\pymoo\\algorithms\\rnsga2.py:183: RuntimeWarning: invalid value encountered in true_divide\n",
      "  N = ((D / (nadir - ideal)) ** 2) * weights\n",
      "A:\\anaconda3\\envs\\xmoai\\lib\\site-packages\\pymoo\\algorithms\\rnsga2.py:183: RuntimeWarning: invalid value encountered in true_divide\n",
      "  N = ((D / (nadir - ideal)) ** 2) * weights\n",
      "A:\\anaconda3\\envs\\xmoai\\lib\\site-packages\\pymoo\\algorithms\\rnsga2.py:183: RuntimeWarning: invalid value encountered in true_divide\n",
      "  N = ((D / (nadir - ideal)) ** 2) * weights\n",
      "A:\\anaconda3\\envs\\xmoai\\lib\\site-packages\\pymoo\\algorithms\\rnsga2.py:183: RuntimeWarning: invalid value encountered in true_divide\n",
      "  N = ((D / (nadir - ideal)) ** 2) * weights\n",
      "A:\\anaconda3\\envs\\xmoai\\lib\\site-packages\\pymoo\\algorithms\\rnsga2.py:183: RuntimeWarning: invalid value encountered in true_divide\n",
      "  N = ((D / (nadir - ideal)) ** 2) * weights\n",
      "A:\\anaconda3\\envs\\xmoai\\lib\\site-packages\\pymoo\\algorithms\\rnsga2.py:183: RuntimeWarning: invalid value encountered in true_divide\n",
      "  N = ((D / (nadir - ideal)) ** 2) * weights\n",
      "A:\\anaconda3\\envs\\xmoai\\lib\\site-packages\\pymoo\\algorithms\\rnsga2.py:183: RuntimeWarning: invalid value encountered in true_divide\n",
      "  N = ((D / (nadir - ideal)) ** 2) * weights\n",
      "A:\\anaconda3\\envs\\xmoai\\lib\\site-packages\\pymoo\\algorithms\\rnsga2.py:183: RuntimeWarning: invalid value encountered in true_divide\n",
      "  N = ((D / (nadir - ideal)) ** 2) * weights\n",
      "A:\\anaconda3\\envs\\xmoai\\lib\\site-packages\\pymoo\\algorithms\\rnsga2.py:183: RuntimeWarning: invalid value encountered in true_divide\n",
      "  N = ((D / (nadir - ideal)) ** 2) * weights\n",
      "A:\\anaconda3\\envs\\xmoai\\lib\\site-packages\\pymoo\\algorithms\\rnsga2.py:183: RuntimeWarning: invalid value encountered in true_divide\n",
      "  N = ((D / (nadir - ideal)) ** 2) * weights\n",
      "A:\\anaconda3\\envs\\xmoai\\lib\\site-packages\\pymoo\\algorithms\\rnsga2.py:183: RuntimeWarning: invalid value encountered in true_divide\n",
      "  N = ((D / (nadir - ideal)) ** 2) * weights\n",
      "A:\\anaconda3\\envs\\xmoai\\lib\\site-packages\\pymoo\\algorithms\\rnsga2.py:183: RuntimeWarning: invalid value encountered in true_divide\n",
      "  N = ((D / (nadir - ideal)) ** 2) * weights\n",
      "A:\\anaconda3\\envs\\xmoai\\lib\\site-packages\\pymoo\\algorithms\\rnsga2.py:183: RuntimeWarning: divide by zero encountered in true_divide\n",
      "  N = ((D / (nadir - ideal)) ** 2) * weights\n",
      "A:\\anaconda3\\envs\\xmoai\\lib\\site-packages\\pymoo\\algorithms\\rnsga2.py:183: RuntimeWarning: invalid value encountered in true_divide\n",
      "  N = ((D / (nadir - ideal)) ** 2) * weights\n",
      "A:\\anaconda3\\envs\\xmoai\\lib\\site-packages\\pymoo\\algorithms\\rnsga2.py:183: RuntimeWarning: invalid value encountered in true_divide\n",
      "  N = ((D / (nadir - ideal)) ** 2) * weights\n",
      "A:\\anaconda3\\envs\\xmoai\\lib\\site-packages\\pymoo\\algorithms\\rnsga2.py:183: RuntimeWarning: invalid value encountered in true_divide\n",
      "  N = ((D / (nadir - ideal)) ** 2) * weights\n",
      "A:\\anaconda3\\envs\\xmoai\\lib\\site-packages\\pymoo\\algorithms\\rnsga2.py:183: RuntimeWarning: divide by zero encountered in true_divide\n",
      "  N = ((D / (nadir - ideal)) ** 2) * weights\n",
      "A:\\anaconda3\\envs\\xmoai\\lib\\site-packages\\pymoo\\algorithms\\rnsga2.py:183: RuntimeWarning: invalid value encountered in true_divide\n",
      "  N = ((D / (nadir - ideal)) ** 2) * weights\n",
      "A:\\anaconda3\\envs\\xmoai\\lib\\site-packages\\pymoo\\algorithms\\rnsga2.py:183: RuntimeWarning: divide by zero encountered in true_divide\n",
      "  N = ((D / (nadir - ideal)) ** 2) * weights\n",
      "A:\\anaconda3\\envs\\xmoai\\lib\\site-packages\\pymoo\\algorithms\\rnsga2.py:183: RuntimeWarning: invalid value encountered in true_divide\n",
      "  N = ((D / (nadir - ideal)) ** 2) * weights\n",
      "A:\\anaconda3\\envs\\xmoai\\lib\\site-packages\\pymoo\\algorithms\\rnsga2.py:183: RuntimeWarning: divide by zero encountered in true_divide\n",
      "  N = ((D / (nadir - ideal)) ** 2) * weights\n",
      "A:\\anaconda3\\envs\\xmoai\\lib\\site-packages\\pymoo\\algorithms\\rnsga2.py:183: RuntimeWarning: invalid value encountered in true_divide\n",
      "  N = ((D / (nadir - ideal)) ** 2) * weights\n",
      "A:\\anaconda3\\envs\\xmoai\\lib\\site-packages\\pymoo\\algorithms\\rnsga2.py:183: RuntimeWarning: divide by zero encountered in true_divide\n",
      "  N = ((D / (nadir - ideal)) ** 2) * weights\n",
      "A:\\anaconda3\\envs\\xmoai\\lib\\site-packages\\pymoo\\algorithms\\rnsga2.py:183: RuntimeWarning: invalid value encountered in true_divide\n",
      "  N = ((D / (nadir - ideal)) ** 2) * weights\n",
      "A:\\anaconda3\\envs\\xmoai\\lib\\site-packages\\pymoo\\algorithms\\rnsga2.py:183: RuntimeWarning: divide by zero encountered in true_divide\n",
      "  N = ((D / (nadir - ideal)) ** 2) * weights\n",
      "A:\\anaconda3\\envs\\xmoai\\lib\\site-packages\\pymoo\\algorithms\\rnsga2.py:183: RuntimeWarning: invalid value encountered in true_divide\n",
      "  N = ((D / (nadir - ideal)) ** 2) * weights\n",
      "A:\\anaconda3\\envs\\xmoai\\lib\\site-packages\\pymoo\\algorithms\\rnsga2.py:183: RuntimeWarning: invalid value encountered in true_divide\n",
      "  N = ((D / (nadir - ideal)) ** 2) * weights\n",
      "A:\\anaconda3\\envs\\xmoai\\lib\\site-packages\\pymoo\\algorithms\\rnsga2.py:183: RuntimeWarning: invalid value encountered in true_divide\n",
      "  N = ((D / (nadir - ideal)) ** 2) * weights\n",
      "A:\\anaconda3\\envs\\xmoai\\lib\\site-packages\\pymoo\\algorithms\\rnsga2.py:183: RuntimeWarning: invalid value encountered in true_divide\n",
      "  N = ((D / (nadir - ideal)) ** 2) * weights\n",
      "A:\\anaconda3\\envs\\xmoai\\lib\\site-packages\\pymoo\\algorithms\\rnsga2.py:183: RuntimeWarning: invalid value encountered in true_divide\n",
      "  N = ((D / (nadir - ideal)) ** 2) * weights\n",
      "A:\\anaconda3\\envs\\xmoai\\lib\\site-packages\\pymoo\\algorithms\\rnsga2.py:183: RuntimeWarning: invalid value encountered in true_divide\n",
      "  N = ((D / (nadir - ideal)) ** 2) * weights\n",
      "A:\\anaconda3\\envs\\xmoai\\lib\\site-packages\\pymoo\\algorithms\\rnsga2.py:183: RuntimeWarning: divide by zero encountered in true_divide\n",
      "  N = ((D / (nadir - ideal)) ** 2) * weights\n",
      "A:\\anaconda3\\envs\\xmoai\\lib\\site-packages\\pymoo\\algorithms\\rnsga2.py:183: RuntimeWarning: invalid value encountered in true_divide\n",
      "  N = ((D / (nadir - ideal)) ** 2) * weights\n",
      "A:\\anaconda3\\envs\\xmoai\\lib\\site-packages\\pymoo\\algorithms\\rnsga2.py:183: RuntimeWarning: divide by zero encountered in true_divide\n",
      "  N = ((D / (nadir - ideal)) ** 2) * weights\n",
      "A:\\anaconda3\\envs\\xmoai\\lib\\site-packages\\pymoo\\algorithms\\rnsga2.py:183: RuntimeWarning: invalid value encountered in true_divide\n",
      "  N = ((D / (nadir - ideal)) ** 2) * weights\n",
      "A:\\anaconda3\\envs\\xmoai\\lib\\site-packages\\pymoo\\algorithms\\rnsga2.py:183: RuntimeWarning: divide by zero encountered in true_divide\n",
      "  N = ((D / (nadir - ideal)) ** 2) * weights\n",
      "A:\\anaconda3\\envs\\xmoai\\lib\\site-packages\\pymoo\\algorithms\\rnsga2.py:183: RuntimeWarning: invalid value encountered in true_divide\n",
      "  N = ((D / (nadir - ideal)) ** 2) * weights\n",
      "A:\\anaconda3\\envs\\xmoai\\lib\\site-packages\\pymoo\\algorithms\\rnsga2.py:183: RuntimeWarning: divide by zero encountered in true_divide\n",
      "  N = ((D / (nadir - ideal)) ** 2) * weights\n",
      "A:\\anaconda3\\envs\\xmoai\\lib\\site-packages\\pymoo\\algorithms\\rnsga2.py:183: RuntimeWarning: invalid value encountered in true_divide\n",
      "  N = ((D / (nadir - ideal)) ** 2) * weights\n",
      "A:\\anaconda3\\envs\\xmoai\\lib\\site-packages\\pymoo\\algorithms\\rnsga2.py:183: RuntimeWarning: divide by zero encountered in true_divide\n",
      "  N = ((D / (nadir - ideal)) ** 2) * weights\n",
      "A:\\anaconda3\\envs\\xmoai\\lib\\site-packages\\pymoo\\algorithms\\rnsga2.py:183: RuntimeWarning: invalid value encountered in true_divide\n",
      "  N = ((D / (nadir - ideal)) ** 2) * weights\n",
      "A:\\anaconda3\\envs\\xmoai\\lib\\site-packages\\pymoo\\algorithms\\rnsga2.py:183: RuntimeWarning: divide by zero encountered in true_divide\n",
      "  N = ((D / (nadir - ideal)) ** 2) * weights\n",
      "A:\\anaconda3\\envs\\xmoai\\lib\\site-packages\\pymoo\\algorithms\\rnsga2.py:183: RuntimeWarning: invalid value encountered in true_divide\n",
      "  N = ((D / (nadir - ideal)) ** 2) * weights\n"
     ]
    },
    {
     "name": "stderr",
     "output_type": "stream",
     "text": [
      "A:\\anaconda3\\envs\\xmoai\\lib\\site-packages\\pymoo\\algorithms\\rnsga2.py:183: RuntimeWarning: divide by zero encountered in true_divide\n",
      "  N = ((D / (nadir - ideal)) ** 2) * weights\n",
      "A:\\anaconda3\\envs\\xmoai\\lib\\site-packages\\pymoo\\algorithms\\rnsga2.py:183: RuntimeWarning: invalid value encountered in true_divide\n",
      "  N = ((D / (nadir - ideal)) ** 2) * weights\n",
      "A:\\anaconda3\\envs\\xmoai\\lib\\site-packages\\pymoo\\algorithms\\rnsga2.py:183: RuntimeWarning: divide by zero encountered in true_divide\n",
      "  N = ((D / (nadir - ideal)) ** 2) * weights\n",
      "A:\\anaconda3\\envs\\xmoai\\lib\\site-packages\\pymoo\\algorithms\\rnsga2.py:183: RuntimeWarning: invalid value encountered in true_divide\n",
      "  N = ((D / (nadir - ideal)) ** 2) * weights\n",
      "A:\\anaconda3\\envs\\xmoai\\lib\\site-packages\\pymoo\\algorithms\\rnsga2.py:183: RuntimeWarning: invalid value encountered in true_divide\n",
      "  N = ((D / (nadir - ideal)) ** 2) * weights\n",
      "A:\\anaconda3\\envs\\xmoai\\lib\\site-packages\\pymoo\\algorithms\\rnsga2.py:183: RuntimeWarning: invalid value encountered in true_divide\n",
      "  N = ((D / (nadir - ideal)) ** 2) * weights\n",
      "A:\\anaconda3\\envs\\xmoai\\lib\\site-packages\\pymoo\\algorithms\\rnsga2.py:183: RuntimeWarning: divide by zero encountered in true_divide\n",
      "  N = ((D / (nadir - ideal)) ** 2) * weights\n",
      "A:\\anaconda3\\envs\\xmoai\\lib\\site-packages\\pymoo\\algorithms\\rnsga2.py:183: RuntimeWarning: invalid value encountered in true_divide\n",
      "  N = ((D / (nadir - ideal)) ** 2) * weights\n",
      "A:\\anaconda3\\envs\\xmoai\\lib\\site-packages\\pymoo\\algorithms\\rnsga2.py:183: RuntimeWarning: divide by zero encountered in true_divide\n",
      "  N = ((D / (nadir - ideal)) ** 2) * weights\n",
      "A:\\anaconda3\\envs\\xmoai\\lib\\site-packages\\pymoo\\algorithms\\rnsga2.py:183: RuntimeWarning: invalid value encountered in true_divide\n",
      "  N = ((D / (nadir - ideal)) ** 2) * weights\n",
      "A:\\anaconda3\\envs\\xmoai\\lib\\site-packages\\pymoo\\algorithms\\rnsga2.py:183: RuntimeWarning: divide by zero encountered in true_divide\n",
      "  N = ((D / (nadir - ideal)) ** 2) * weights\n",
      "A:\\anaconda3\\envs\\xmoai\\lib\\site-packages\\pymoo\\algorithms\\rnsga2.py:183: RuntimeWarning: invalid value encountered in true_divide\n",
      "  N = ((D / (nadir - ideal)) ** 2) * weights\n",
      "A:\\anaconda3\\envs\\xmoai\\lib\\site-packages\\pymoo\\algorithms\\rnsga2.py:183: RuntimeWarning: divide by zero encountered in true_divide\n",
      "  N = ((D / (nadir - ideal)) ** 2) * weights\n",
      "A:\\anaconda3\\envs\\xmoai\\lib\\site-packages\\pymoo\\algorithms\\rnsga2.py:183: RuntimeWarning: invalid value encountered in true_divide\n",
      "  N = ((D / (nadir - ideal)) ** 2) * weights\n",
      "A:\\anaconda3\\envs\\xmoai\\lib\\site-packages\\pymoo\\algorithms\\rnsga2.py:183: RuntimeWarning: divide by zero encountered in true_divide\n",
      "  N = ((D / (nadir - ideal)) ** 2) * weights\n",
      "A:\\anaconda3\\envs\\xmoai\\lib\\site-packages\\pymoo\\algorithms\\rnsga2.py:183: RuntimeWarning: invalid value encountered in true_divide\n",
      "  N = ((D / (nadir - ideal)) ** 2) * weights\n",
      "A:\\anaconda3\\envs\\xmoai\\lib\\site-packages\\pymoo\\algorithms\\rnsga2.py:183: RuntimeWarning: divide by zero encountered in true_divide\n",
      "  N = ((D / (nadir - ideal)) ** 2) * weights\n",
      "A:\\anaconda3\\envs\\xmoai\\lib\\site-packages\\pymoo\\algorithms\\rnsga2.py:183: RuntimeWarning: invalid value encountered in true_divide\n",
      "  N = ((D / (nadir - ideal)) ** 2) * weights\n",
      "A:\\anaconda3\\envs\\xmoai\\lib\\site-packages\\pymoo\\algorithms\\rnsga2.py:183: RuntimeWarning: divide by zero encountered in true_divide\n",
      "  N = ((D / (nadir - ideal)) ** 2) * weights\n",
      "A:\\anaconda3\\envs\\xmoai\\lib\\site-packages\\pymoo\\algorithms\\rnsga2.py:183: RuntimeWarning: invalid value encountered in true_divide\n",
      "  N = ((D / (nadir - ideal)) ** 2) * weights\n",
      "A:\\anaconda3\\envs\\xmoai\\lib\\site-packages\\pymoo\\algorithms\\rnsga2.py:183: RuntimeWarning: divide by zero encountered in true_divide\n",
      "  N = ((D / (nadir - ideal)) ** 2) * weights\n",
      "A:\\anaconda3\\envs\\xmoai\\lib\\site-packages\\pymoo\\algorithms\\rnsga2.py:183: RuntimeWarning: invalid value encountered in true_divide\n",
      "  N = ((D / (nadir - ideal)) ** 2) * weights\n",
      "A:\\anaconda3\\envs\\xmoai\\lib\\site-packages\\pymoo\\algorithms\\rnsga2.py:183: RuntimeWarning: divide by zero encountered in true_divide\n",
      "  N = ((D / (nadir - ideal)) ** 2) * weights\n",
      "A:\\anaconda3\\envs\\xmoai\\lib\\site-packages\\pymoo\\algorithms\\rnsga2.py:183: RuntimeWarning: invalid value encountered in true_divide\n",
      "  N = ((D / (nadir - ideal)) ** 2) * weights\n",
      "A:\\anaconda3\\envs\\xmoai\\lib\\site-packages\\pymoo\\algorithms\\rnsga2.py:183: RuntimeWarning: divide by zero encountered in true_divide\n",
      "  N = ((D / (nadir - ideal)) ** 2) * weights\n",
      "A:\\anaconda3\\envs\\xmoai\\lib\\site-packages\\pymoo\\algorithms\\rnsga2.py:183: RuntimeWarning: invalid value encountered in true_divide\n",
      "  N = ((D / (nadir - ideal)) ** 2) * weights\n",
      "A:\\anaconda3\\envs\\xmoai\\lib\\site-packages\\pymoo\\algorithms\\rnsga2.py:183: RuntimeWarning: divide by zero encountered in true_divide\n",
      "  N = ((D / (nadir - ideal)) ** 2) * weights\n",
      "A:\\anaconda3\\envs\\xmoai\\lib\\site-packages\\pymoo\\algorithms\\rnsga2.py:183: RuntimeWarning: invalid value encountered in true_divide\n",
      "  N = ((D / (nadir - ideal)) ** 2) * weights\n",
      "A:\\anaconda3\\envs\\xmoai\\lib\\site-packages\\topsis\\topsis.py:66: RuntimeWarning: invalid value encountered in true_divide\n",
      "  self.r = self.a/np.array(np.linalg.norm(self.a, axis=1)[:, np.newaxis])\n",
      "A:\\anaconda3\\envs\\xmoai\\lib\\site-packages\\topsis\\topsis.py:66: RuntimeWarning: invalid value encountered in true_divide\n",
      "  self.r = self.a/np.array(np.linalg.norm(self.a, axis=1)[:, np.newaxis])\n",
      "A:\\anaconda3\\envs\\xmoai\\lib\\site-packages\\topsis\\topsis.py:66: RuntimeWarning: invalid value encountered in true_divide\n",
      "  self.r = self.a/np.array(np.linalg.norm(self.a, axis=1)[:, np.newaxis])\n",
      "A:\\anaconda3\\envs\\xmoai\\lib\\site-packages\\topsis\\topsis.py:66: RuntimeWarning: invalid value encountered in true_divide\n",
      "  self.r = self.a/np.array(np.linalg.norm(self.a, axis=1)[:, np.newaxis])\n",
      "A:\\anaconda3\\envs\\xmoai\\lib\\site-packages\\topsis\\topsis.py:66: RuntimeWarning: invalid value encountered in true_divide\n",
      "  self.r = self.a/np.array(np.linalg.norm(self.a, axis=1)[:, np.newaxis])\n",
      "A:\\anaconda3\\envs\\xmoai\\lib\\site-packages\\topsis\\topsis.py:66: RuntimeWarning: invalid value encountered in true_divide\n",
      "  self.r = self.a/np.array(np.linalg.norm(self.a, axis=1)[:, np.newaxis])\n"
     ]
    },
    {
     "data": {
      "text/plain": [
       "'Training AIF360 - AdversarialDebiasing'"
      ]
     },
     "metadata": {},
     "output_type": "display_data"
    },
    {
     "data": {
      "text/plain": [
       "'Training AIF360 - PostProcessingMeta'"
      ]
     },
     "metadata": {},
     "output_type": "display_data"
    },
    {
     "data": {
      "text/plain": [
       "'Seed 19'"
      ]
     },
     "metadata": {},
     "output_type": "display_data"
    },
    {
     "data": {
      "text/plain": [
       "'Training the Voting Ensemble'"
      ]
     },
     "metadata": {},
     "output_type": "display_data"
    },
    {
     "data": {
      "text/plain": [
       "'Training Fairlearn'"
      ]
     },
     "metadata": {},
     "output_type": "display_data"
    },
    {
     "data": {
      "text/plain": [
       "'Training scikit-lego - DemographicParityClassifier'"
      ]
     },
     "metadata": {},
     "output_type": "display_data"
    },
    {
     "data": {
      "text/plain": [
       "'Training scikit-lego - EqualOpportunityClassifier'"
      ]
     },
     "metadata": {},
     "output_type": "display_data"
    },
    {
     "data": {
      "text/plain": [
       "'Training the proposal (nsga2)'"
      ]
     },
     "metadata": {},
     "output_type": "display_data"
    },
    {
     "name": "stderr",
     "output_type": "stream",
     "text": [
      "A:\\anaconda3\\envs\\xmoai\\lib\\site-packages\\topsis\\topsis.py:66: RuntimeWarning: invalid value encountered in true_divide\n",
      "  self.r = self.a/np.array(np.linalg.norm(self.a, axis=1)[:, np.newaxis])\n",
      "A:\\anaconda3\\envs\\xmoai\\lib\\site-packages\\topsis\\topsis.py:66: RuntimeWarning: invalid value encountered in true_divide\n",
      "  self.r = self.a/np.array(np.linalg.norm(self.a, axis=1)[:, np.newaxis])\n",
      "A:\\anaconda3\\envs\\xmoai\\lib\\site-packages\\topsis\\topsis.py:66: RuntimeWarning: invalid value encountered in true_divide\n",
      "  self.r = self.a/np.array(np.linalg.norm(self.a, axis=1)[:, np.newaxis])\n",
      "A:\\anaconda3\\envs\\xmoai\\lib\\site-packages\\topsis\\topsis.py:66: RuntimeWarning: invalid value encountered in true_divide\n",
      "  self.r = self.a/np.array(np.linalg.norm(self.a, axis=1)[:, np.newaxis])\n",
      "A:\\anaconda3\\envs\\xmoai\\lib\\site-packages\\topsis\\topsis.py:66: RuntimeWarning: invalid value encountered in true_divide\n",
      "  self.r = self.a/np.array(np.linalg.norm(self.a, axis=1)[:, np.newaxis])\n",
      "A:\\anaconda3\\envs\\xmoai\\lib\\site-packages\\topsis\\topsis.py:66: RuntimeWarning: invalid value encountered in true_divide\n",
      "  self.r = self.a/np.array(np.linalg.norm(self.a, axis=1)[:, np.newaxis])\n"
     ]
    },
    {
     "data": {
      "text/plain": [
       "'Training the proposal (rnsga2)'"
      ]
     },
     "metadata": {},
     "output_type": "display_data"
    },
    {
     "name": "stderr",
     "output_type": "stream",
     "text": [
      "A:\\anaconda3\\envs\\xmoai\\lib\\site-packages\\pymoo\\algorithms\\rnsga2.py:183: RuntimeWarning: invalid value encountered in true_divide\n",
      "  N = ((D / (nadir - ideal)) ** 2) * weights\n",
      "A:\\anaconda3\\envs\\xmoai\\lib\\site-packages\\pymoo\\algorithms\\rnsga2.py:183: RuntimeWarning: invalid value encountered in true_divide\n",
      "  N = ((D / (nadir - ideal)) ** 2) * weights\n",
      "A:\\anaconda3\\envs\\xmoai\\lib\\site-packages\\pymoo\\algorithms\\rnsga2.py:183: RuntimeWarning: invalid value encountered in true_divide\n",
      "  N = ((D / (nadir - ideal)) ** 2) * weights\n",
      "A:\\anaconda3\\envs\\xmoai\\lib\\site-packages\\pymoo\\algorithms\\rnsga2.py:183: RuntimeWarning: invalid value encountered in true_divide\n",
      "  N = ((D / (nadir - ideal)) ** 2) * weights\n",
      "A:\\anaconda3\\envs\\xmoai\\lib\\site-packages\\pymoo\\algorithms\\rnsga2.py:183: RuntimeWarning: invalid value encountered in true_divide\n",
      "  N = ((D / (nadir - ideal)) ** 2) * weights\n",
      "A:\\anaconda3\\envs\\xmoai\\lib\\site-packages\\pymoo\\algorithms\\rnsga2.py:183: RuntimeWarning: invalid value encountered in true_divide\n",
      "  N = ((D / (nadir - ideal)) ** 2) * weights\n",
      "A:\\anaconda3\\envs\\xmoai\\lib\\site-packages\\pymoo\\algorithms\\rnsga2.py:183: RuntimeWarning: invalid value encountered in true_divide\n",
      "  N = ((D / (nadir - ideal)) ** 2) * weights\n",
      "A:\\anaconda3\\envs\\xmoai\\lib\\site-packages\\pymoo\\algorithms\\rnsga2.py:183: RuntimeWarning: invalid value encountered in true_divide\n",
      "  N = ((D / (nadir - ideal)) ** 2) * weights\n",
      "A:\\anaconda3\\envs\\xmoai\\lib\\site-packages\\pymoo\\algorithms\\rnsga2.py:183: RuntimeWarning: invalid value encountered in true_divide\n",
      "  N = ((D / (nadir - ideal)) ** 2) * weights\n",
      "A:\\anaconda3\\envs\\xmoai\\lib\\site-packages\\pymoo\\algorithms\\rnsga2.py:183: RuntimeWarning: invalid value encountered in true_divide\n",
      "  N = ((D / (nadir - ideal)) ** 2) * weights\n",
      "A:\\anaconda3\\envs\\xmoai\\lib\\site-packages\\pymoo\\algorithms\\rnsga2.py:183: RuntimeWarning: invalid value encountered in true_divide\n",
      "  N = ((D / (nadir - ideal)) ** 2) * weights\n",
      "A:\\anaconda3\\envs\\xmoai\\lib\\site-packages\\pymoo\\algorithms\\rnsga2.py:183: RuntimeWarning: invalid value encountered in true_divide\n",
      "  N = ((D / (nadir - ideal)) ** 2) * weights\n",
      "A:\\anaconda3\\envs\\xmoai\\lib\\site-packages\\pymoo\\algorithms\\rnsga2.py:183: RuntimeWarning: invalid value encountered in true_divide\n",
      "  N = ((D / (nadir - ideal)) ** 2) * weights\n",
      "A:\\anaconda3\\envs\\xmoai\\lib\\site-packages\\pymoo\\algorithms\\rnsga2.py:183: RuntimeWarning: invalid value encountered in true_divide\n",
      "  N = ((D / (nadir - ideal)) ** 2) * weights\n",
      "A:\\anaconda3\\envs\\xmoai\\lib\\site-packages\\pymoo\\algorithms\\rnsga2.py:183: RuntimeWarning: invalid value encountered in true_divide\n",
      "  N = ((D / (nadir - ideal)) ** 2) * weights\n",
      "A:\\anaconda3\\envs\\xmoai\\lib\\site-packages\\pymoo\\algorithms\\rnsga2.py:183: RuntimeWarning: invalid value encountered in true_divide\n",
      "  N = ((D / (nadir - ideal)) ** 2) * weights\n",
      "A:\\anaconda3\\envs\\xmoai\\lib\\site-packages\\pymoo\\algorithms\\rnsga2.py:183: RuntimeWarning: invalid value encountered in true_divide\n",
      "  N = ((D / (nadir - ideal)) ** 2) * weights\n",
      "A:\\anaconda3\\envs\\xmoai\\lib\\site-packages\\pymoo\\algorithms\\rnsga2.py:183: RuntimeWarning: invalid value encountered in true_divide\n",
      "  N = ((D / (nadir - ideal)) ** 2) * weights\n",
      "A:\\anaconda3\\envs\\xmoai\\lib\\site-packages\\pymoo\\algorithms\\rnsga2.py:183: RuntimeWarning: invalid value encountered in true_divide\n",
      "  N = ((D / (nadir - ideal)) ** 2) * weights\n",
      "A:\\anaconda3\\envs\\xmoai\\lib\\site-packages\\pymoo\\algorithms\\rnsga2.py:183: RuntimeWarning: invalid value encountered in true_divide\n",
      "  N = ((D / (nadir - ideal)) ** 2) * weights\n",
      "A:\\anaconda3\\envs\\xmoai\\lib\\site-packages\\pymoo\\algorithms\\rnsga2.py:183: RuntimeWarning: invalid value encountered in true_divide\n",
      "  N = ((D / (nadir - ideal)) ** 2) * weights\n",
      "A:\\anaconda3\\envs\\xmoai\\lib\\site-packages\\pymoo\\algorithms\\rnsga2.py:183: RuntimeWarning: invalid value encountered in true_divide\n",
      "  N = ((D / (nadir - ideal)) ** 2) * weights\n",
      "A:\\anaconda3\\envs\\xmoai\\lib\\site-packages\\pymoo\\algorithms\\rnsga2.py:183: RuntimeWarning: invalid value encountered in true_divide\n",
      "  N = ((D / (nadir - ideal)) ** 2) * weights\n",
      "A:\\anaconda3\\envs\\xmoai\\lib\\site-packages\\pymoo\\algorithms\\rnsga2.py:183: RuntimeWarning: invalid value encountered in true_divide\n",
      "  N = ((D / (nadir - ideal)) ** 2) * weights\n",
      "A:\\anaconda3\\envs\\xmoai\\lib\\site-packages\\pymoo\\algorithms\\rnsga2.py:183: RuntimeWarning: invalid value encountered in true_divide\n",
      "  N = ((D / (nadir - ideal)) ** 2) * weights\n",
      "A:\\anaconda3\\envs\\xmoai\\lib\\site-packages\\pymoo\\algorithms\\rnsga2.py:183: RuntimeWarning: invalid value encountered in true_divide\n",
      "  N = ((D / (nadir - ideal)) ** 2) * weights\n",
      "A:\\anaconda3\\envs\\xmoai\\lib\\site-packages\\pymoo\\algorithms\\rnsga2.py:183: RuntimeWarning: invalid value encountered in true_divide\n",
      "  N = ((D / (nadir - ideal)) ** 2) * weights\n",
      "A:\\anaconda3\\envs\\xmoai\\lib\\site-packages\\pymoo\\algorithms\\rnsga2.py:183: RuntimeWarning: invalid value encountered in true_divide\n",
      "  N = ((D / (nadir - ideal)) ** 2) * weights\n",
      "A:\\anaconda3\\envs\\xmoai\\lib\\site-packages\\pymoo\\algorithms\\rnsga2.py:183: RuntimeWarning: invalid value encountered in true_divide\n",
      "  N = ((D / (nadir - ideal)) ** 2) * weights\n",
      "A:\\anaconda3\\envs\\xmoai\\lib\\site-packages\\pymoo\\algorithms\\rnsga2.py:183: RuntimeWarning: invalid value encountered in true_divide\n",
      "  N = ((D / (nadir - ideal)) ** 2) * weights\n",
      "A:\\anaconda3\\envs\\xmoai\\lib\\site-packages\\pymoo\\algorithms\\rnsga2.py:183: RuntimeWarning: invalid value encountered in true_divide\n",
      "  N = ((D / (nadir - ideal)) ** 2) * weights\n",
      "A:\\anaconda3\\envs\\xmoai\\lib\\site-packages\\pymoo\\algorithms\\rnsga2.py:183: RuntimeWarning: invalid value encountered in true_divide\n",
      "  N = ((D / (nadir - ideal)) ** 2) * weights\n",
      "A:\\anaconda3\\envs\\xmoai\\lib\\site-packages\\pymoo\\algorithms\\rnsga2.py:183: RuntimeWarning: invalid value encountered in true_divide\n",
      "  N = ((D / (nadir - ideal)) ** 2) * weights\n",
      "A:\\anaconda3\\envs\\xmoai\\lib\\site-packages\\pymoo\\algorithms\\rnsga2.py:183: RuntimeWarning: invalid value encountered in true_divide\n",
      "  N = ((D / (nadir - ideal)) ** 2) * weights\n",
      "A:\\anaconda3\\envs\\xmoai\\lib\\site-packages\\pymoo\\algorithms\\rnsga2.py:183: RuntimeWarning: invalid value encountered in true_divide\n",
      "  N = ((D / (nadir - ideal)) ** 2) * weights\n",
      "A:\\anaconda3\\envs\\xmoai\\lib\\site-packages\\pymoo\\algorithms\\rnsga2.py:183: RuntimeWarning: invalid value encountered in true_divide\n",
      "  N = ((D / (nadir - ideal)) ** 2) * weights\n",
      "A:\\anaconda3\\envs\\xmoai\\lib\\site-packages\\pymoo\\algorithms\\rnsga2.py:183: RuntimeWarning: invalid value encountered in true_divide\n",
      "  N = ((D / (nadir - ideal)) ** 2) * weights\n",
      "A:\\anaconda3\\envs\\xmoai\\lib\\site-packages\\pymoo\\algorithms\\rnsga2.py:183: RuntimeWarning: invalid value encountered in true_divide\n",
      "  N = ((D / (nadir - ideal)) ** 2) * weights\n",
      "A:\\anaconda3\\envs\\xmoai\\lib\\site-packages\\pymoo\\algorithms\\rnsga2.py:183: RuntimeWarning: invalid value encountered in true_divide\n",
      "  N = ((D / (nadir - ideal)) ** 2) * weights\n",
      "A:\\anaconda3\\envs\\xmoai\\lib\\site-packages\\pymoo\\algorithms\\rnsga2.py:183: RuntimeWarning: invalid value encountered in true_divide\n",
      "  N = ((D / (nadir - ideal)) ** 2) * weights\n",
      "A:\\anaconda3\\envs\\xmoai\\lib\\site-packages\\pymoo\\algorithms\\rnsga2.py:183: RuntimeWarning: invalid value encountered in true_divide\n",
      "  N = ((D / (nadir - ideal)) ** 2) * weights\n",
      "A:\\anaconda3\\envs\\xmoai\\lib\\site-packages\\pymoo\\algorithms\\rnsga2.py:183: RuntimeWarning: invalid value encountered in true_divide\n",
      "  N = ((D / (nadir - ideal)) ** 2) * weights\n",
      "A:\\anaconda3\\envs\\xmoai\\lib\\site-packages\\pymoo\\algorithms\\rnsga2.py:183: RuntimeWarning: invalid value encountered in true_divide\n",
      "  N = ((D / (nadir - ideal)) ** 2) * weights\n",
      "A:\\anaconda3\\envs\\xmoai\\lib\\site-packages\\pymoo\\algorithms\\rnsga2.py:183: RuntimeWarning: invalid value encountered in true_divide\n",
      "  N = ((D / (nadir - ideal)) ** 2) * weights\n",
      "A:\\anaconda3\\envs\\xmoai\\lib\\site-packages\\pymoo\\algorithms\\rnsga2.py:183: RuntimeWarning: invalid value encountered in true_divide\n",
      "  N = ((D / (nadir - ideal)) ** 2) * weights\n",
      "A:\\anaconda3\\envs\\xmoai\\lib\\site-packages\\pymoo\\algorithms\\rnsga2.py:183: RuntimeWarning: invalid value encountered in true_divide\n",
      "  N = ((D / (nadir - ideal)) ** 2) * weights\n",
      "A:\\anaconda3\\envs\\xmoai\\lib\\site-packages\\pymoo\\algorithms\\rnsga2.py:183: RuntimeWarning: invalid value encountered in true_divide\n",
      "  N = ((D / (nadir - ideal)) ** 2) * weights\n"
     ]
    },
    {
     "name": "stderr",
     "output_type": "stream",
     "text": [
      "A:\\anaconda3\\envs\\xmoai\\lib\\site-packages\\pymoo\\algorithms\\rnsga2.py:183: RuntimeWarning: invalid value encountered in true_divide\n",
      "  N = ((D / (nadir - ideal)) ** 2) * weights\n",
      "A:\\anaconda3\\envs\\xmoai\\lib\\site-packages\\pymoo\\algorithms\\rnsga2.py:183: RuntimeWarning: invalid value encountered in true_divide\n",
      "  N = ((D / (nadir - ideal)) ** 2) * weights\n",
      "A:\\anaconda3\\envs\\xmoai\\lib\\site-packages\\pymoo\\algorithms\\rnsga2.py:183: RuntimeWarning: invalid value encountered in true_divide\n",
      "  N = ((D / (nadir - ideal)) ** 2) * weights\n",
      "A:\\anaconda3\\envs\\xmoai\\lib\\site-packages\\topsis\\topsis.py:66: RuntimeWarning: invalid value encountered in true_divide\n",
      "  self.r = self.a/np.array(np.linalg.norm(self.a, axis=1)[:, np.newaxis])\n",
      "A:\\anaconda3\\envs\\xmoai\\lib\\site-packages\\topsis\\topsis.py:66: RuntimeWarning: invalid value encountered in true_divide\n",
      "  self.r = self.a/np.array(np.linalg.norm(self.a, axis=1)[:, np.newaxis])\n",
      "A:\\anaconda3\\envs\\xmoai\\lib\\site-packages\\topsis\\topsis.py:66: RuntimeWarning: invalid value encountered in true_divide\n",
      "  self.r = self.a/np.array(np.linalg.norm(self.a, axis=1)[:, np.newaxis])\n",
      "A:\\anaconda3\\envs\\xmoai\\lib\\site-packages\\topsis\\topsis.py:66: RuntimeWarning: invalid value encountered in true_divide\n",
      "  self.r = self.a/np.array(np.linalg.norm(self.a, axis=1)[:, np.newaxis])\n",
      "A:\\anaconda3\\envs\\xmoai\\lib\\site-packages\\topsis\\topsis.py:66: RuntimeWarning: invalid value encountered in true_divide\n",
      "  self.r = self.a/np.array(np.linalg.norm(self.a, axis=1)[:, np.newaxis])\n",
      "A:\\anaconda3\\envs\\xmoai\\lib\\site-packages\\topsis\\topsis.py:66: RuntimeWarning: invalid value encountered in true_divide\n",
      "  self.r = self.a/np.array(np.linalg.norm(self.a, axis=1)[:, np.newaxis])\n"
     ]
    },
    {
     "data": {
      "text/plain": [
       "'Training AIF360 - AdversarialDebiasing'"
      ]
     },
     "metadata": {},
     "output_type": "display_data"
    },
    {
     "data": {
      "text/plain": [
       "'Training AIF360 - PostProcessingMeta'"
      ]
     },
     "metadata": {},
     "output_type": "display_data"
    },
    {
     "data": {
      "text/plain": [
       "'Seed 20'"
      ]
     },
     "metadata": {},
     "output_type": "display_data"
    },
    {
     "data": {
      "text/plain": [
       "'Training the Voting Ensemble'"
      ]
     },
     "metadata": {},
     "output_type": "display_data"
    },
    {
     "data": {
      "text/plain": [
       "'Training Fairlearn'"
      ]
     },
     "metadata": {},
     "output_type": "display_data"
    },
    {
     "data": {
      "text/plain": [
       "'Training scikit-lego - DemographicParityClassifier'"
      ]
     },
     "metadata": {},
     "output_type": "display_data"
    },
    {
     "data": {
      "text/plain": [
       "'Training scikit-lego - EqualOpportunityClassifier'"
      ]
     },
     "metadata": {},
     "output_type": "display_data"
    },
    {
     "data": {
      "text/plain": [
       "'Training the proposal (nsga2)'"
      ]
     },
     "metadata": {},
     "output_type": "display_data"
    },
    {
     "name": "stderr",
     "output_type": "stream",
     "text": [
      "A:\\anaconda3\\envs\\xmoai\\lib\\site-packages\\topsis\\topsis.py:66: RuntimeWarning: invalid value encountered in true_divide\n",
      "  self.r = self.a/np.array(np.linalg.norm(self.a, axis=1)[:, np.newaxis])\n",
      "A:\\anaconda3\\envs\\xmoai\\lib\\site-packages\\topsis\\topsis.py:66: RuntimeWarning: invalid value encountered in true_divide\n",
      "  self.r = self.a/np.array(np.linalg.norm(self.a, axis=1)[:, np.newaxis])\n",
      "A:\\anaconda3\\envs\\xmoai\\lib\\site-packages\\topsis\\topsis.py:66: RuntimeWarning: invalid value encountered in true_divide\n",
      "  self.r = self.a/np.array(np.linalg.norm(self.a, axis=1)[:, np.newaxis])\n",
      "A:\\anaconda3\\envs\\xmoai\\lib\\site-packages\\topsis\\topsis.py:66: RuntimeWarning: invalid value encountered in true_divide\n",
      "  self.r = self.a/np.array(np.linalg.norm(self.a, axis=1)[:, np.newaxis])\n",
      "A:\\anaconda3\\envs\\xmoai\\lib\\site-packages\\topsis\\topsis.py:66: RuntimeWarning: invalid value encountered in true_divide\n",
      "  self.r = self.a/np.array(np.linalg.norm(self.a, axis=1)[:, np.newaxis])\n",
      "A:\\anaconda3\\envs\\xmoai\\lib\\site-packages\\topsis\\topsis.py:66: RuntimeWarning: invalid value encountered in true_divide\n",
      "  self.r = self.a/np.array(np.linalg.norm(self.a, axis=1)[:, np.newaxis])\n"
     ]
    },
    {
     "data": {
      "text/plain": [
       "'Training the proposal (rnsga2)'"
      ]
     },
     "metadata": {},
     "output_type": "display_data"
    },
    {
     "name": "stderr",
     "output_type": "stream",
     "text": [
      "A:\\anaconda3\\envs\\xmoai\\lib\\site-packages\\pymoo\\algorithms\\rnsga2.py:183: RuntimeWarning: invalid value encountered in true_divide\n",
      "  N = ((D / (nadir - ideal)) ** 2) * weights\n",
      "A:\\anaconda3\\envs\\xmoai\\lib\\site-packages\\pymoo\\algorithms\\rnsga2.py:183: RuntimeWarning: invalid value encountered in true_divide\n",
      "  N = ((D / (nadir - ideal)) ** 2) * weights\n",
      "A:\\anaconda3\\envs\\xmoai\\lib\\site-packages\\pymoo\\algorithms\\rnsga2.py:183: RuntimeWarning: invalid value encountered in true_divide\n",
      "  N = ((D / (nadir - ideal)) ** 2) * weights\n",
      "A:\\anaconda3\\envs\\xmoai\\lib\\site-packages\\pymoo\\algorithms\\rnsga2.py:183: RuntimeWarning: invalid value encountered in true_divide\n",
      "  N = ((D / (nadir - ideal)) ** 2) * weights\n",
      "A:\\anaconda3\\envs\\xmoai\\lib\\site-packages\\pymoo\\algorithms\\rnsga2.py:183: RuntimeWarning: invalid value encountered in true_divide\n",
      "  N = ((D / (nadir - ideal)) ** 2) * weights\n",
      "A:\\anaconda3\\envs\\xmoai\\lib\\site-packages\\pymoo\\algorithms\\rnsga2.py:183: RuntimeWarning: invalid value encountered in true_divide\n",
      "  N = ((D / (nadir - ideal)) ** 2) * weights\n",
      "A:\\anaconda3\\envs\\xmoai\\lib\\site-packages\\pymoo\\algorithms\\rnsga2.py:183: RuntimeWarning: invalid value encountered in true_divide\n",
      "  N = ((D / (nadir - ideal)) ** 2) * weights\n",
      "A:\\anaconda3\\envs\\xmoai\\lib\\site-packages\\pymoo\\algorithms\\rnsga2.py:183: RuntimeWarning: invalid value encountered in true_divide\n",
      "  N = ((D / (nadir - ideal)) ** 2) * weights\n",
      "A:\\anaconda3\\envs\\xmoai\\lib\\site-packages\\pymoo\\algorithms\\rnsga2.py:183: RuntimeWarning: invalid value encountered in true_divide\n",
      "  N = ((D / (nadir - ideal)) ** 2) * weights\n",
      "A:\\anaconda3\\envs\\xmoai\\lib\\site-packages\\pymoo\\algorithms\\rnsga2.py:183: RuntimeWarning: invalid value encountered in true_divide\n",
      "  N = ((D / (nadir - ideal)) ** 2) * weights\n",
      "A:\\anaconda3\\envs\\xmoai\\lib\\site-packages\\pymoo\\algorithms\\rnsga2.py:183: RuntimeWarning: invalid value encountered in true_divide\n",
      "  N = ((D / (nadir - ideal)) ** 2) * weights\n",
      "A:\\anaconda3\\envs\\xmoai\\lib\\site-packages\\pymoo\\algorithms\\rnsga2.py:183: RuntimeWarning: invalid value encountered in true_divide\n",
      "  N = ((D / (nadir - ideal)) ** 2) * weights\n",
      "A:\\anaconda3\\envs\\xmoai\\lib\\site-packages\\pymoo\\algorithms\\rnsga2.py:183: RuntimeWarning: invalid value encountered in true_divide\n",
      "  N = ((D / (nadir - ideal)) ** 2) * weights\n",
      "A:\\anaconda3\\envs\\xmoai\\lib\\site-packages\\pymoo\\algorithms\\rnsga2.py:183: RuntimeWarning: invalid value encountered in true_divide\n",
      "  N = ((D / (nadir - ideal)) ** 2) * weights\n",
      "A:\\anaconda3\\envs\\xmoai\\lib\\site-packages\\pymoo\\algorithms\\rnsga2.py:183: RuntimeWarning: invalid value encountered in true_divide\n",
      "  N = ((D / (nadir - ideal)) ** 2) * weights\n",
      "A:\\anaconda3\\envs\\xmoai\\lib\\site-packages\\pymoo\\algorithms\\rnsga2.py:183: RuntimeWarning: invalid value encountered in true_divide\n",
      "  N = ((D / (nadir - ideal)) ** 2) * weights\n",
      "A:\\anaconda3\\envs\\xmoai\\lib\\site-packages\\pymoo\\algorithms\\rnsga2.py:183: RuntimeWarning: invalid value encountered in true_divide\n",
      "  N = ((D / (nadir - ideal)) ** 2) * weights\n",
      "A:\\anaconda3\\envs\\xmoai\\lib\\site-packages\\pymoo\\algorithms\\rnsga2.py:183: RuntimeWarning: invalid value encountered in true_divide\n",
      "  N = ((D / (nadir - ideal)) ** 2) * weights\n",
      "A:\\anaconda3\\envs\\xmoai\\lib\\site-packages\\pymoo\\algorithms\\rnsga2.py:183: RuntimeWarning: invalid value encountered in true_divide\n",
      "  N = ((D / (nadir - ideal)) ** 2) * weights\n",
      "A:\\anaconda3\\envs\\xmoai\\lib\\site-packages\\pymoo\\algorithms\\rnsga2.py:183: RuntimeWarning: invalid value encountered in true_divide\n",
      "  N = ((D / (nadir - ideal)) ** 2) * weights\n",
      "A:\\anaconda3\\envs\\xmoai\\lib\\site-packages\\pymoo\\algorithms\\rnsga2.py:183: RuntimeWarning: invalid value encountered in true_divide\n",
      "  N = ((D / (nadir - ideal)) ** 2) * weights\n",
      "A:\\anaconda3\\envs\\xmoai\\lib\\site-packages\\pymoo\\algorithms\\rnsga2.py:183: RuntimeWarning: invalid value encountered in true_divide\n",
      "  N = ((D / (nadir - ideal)) ** 2) * weights\n",
      "A:\\anaconda3\\envs\\xmoai\\lib\\site-packages\\pymoo\\algorithms\\rnsga2.py:183: RuntimeWarning: invalid value encountered in true_divide\n",
      "  N = ((D / (nadir - ideal)) ** 2) * weights\n",
      "A:\\anaconda3\\envs\\xmoai\\lib\\site-packages\\pymoo\\algorithms\\rnsga2.py:183: RuntimeWarning: invalid value encountered in true_divide\n",
      "  N = ((D / (nadir - ideal)) ** 2) * weights\n",
      "A:\\anaconda3\\envs\\xmoai\\lib\\site-packages\\pymoo\\algorithms\\rnsga2.py:183: RuntimeWarning: invalid value encountered in true_divide\n",
      "  N = ((D / (nadir - ideal)) ** 2) * weights\n",
      "A:\\anaconda3\\envs\\xmoai\\lib\\site-packages\\pymoo\\algorithms\\rnsga2.py:183: RuntimeWarning: invalid value encountered in true_divide\n",
      "  N = ((D / (nadir - ideal)) ** 2) * weights\n",
      "A:\\anaconda3\\envs\\xmoai\\lib\\site-packages\\pymoo\\algorithms\\rnsga2.py:183: RuntimeWarning: invalid value encountered in true_divide\n",
      "  N = ((D / (nadir - ideal)) ** 2) * weights\n",
      "A:\\anaconda3\\envs\\xmoai\\lib\\site-packages\\pymoo\\algorithms\\rnsga2.py:183: RuntimeWarning: invalid value encountered in true_divide\n",
      "  N = ((D / (nadir - ideal)) ** 2) * weights\n",
      "A:\\anaconda3\\envs\\xmoai\\lib\\site-packages\\pymoo\\algorithms\\rnsga2.py:183: RuntimeWarning: divide by zero encountered in true_divide\n",
      "  N = ((D / (nadir - ideal)) ** 2) * weights\n",
      "A:\\anaconda3\\envs\\xmoai\\lib\\site-packages\\pymoo\\algorithms\\rnsga2.py:183: RuntimeWarning: invalid value encountered in true_divide\n",
      "  N = ((D / (nadir - ideal)) ** 2) * weights\n",
      "A:\\anaconda3\\envs\\xmoai\\lib\\site-packages\\pymoo\\algorithms\\rnsga2.py:183: RuntimeWarning: divide by zero encountered in true_divide\n",
      "  N = ((D / (nadir - ideal)) ** 2) * weights\n",
      "A:\\anaconda3\\envs\\xmoai\\lib\\site-packages\\pymoo\\algorithms\\rnsga2.py:183: RuntimeWarning: invalid value encountered in true_divide\n",
      "  N = ((D / (nadir - ideal)) ** 2) * weights\n",
      "A:\\anaconda3\\envs\\xmoai\\lib\\site-packages\\pymoo\\algorithms\\rnsga2.py:183: RuntimeWarning: divide by zero encountered in true_divide\n",
      "  N = ((D / (nadir - ideal)) ** 2) * weights\n",
      "A:\\anaconda3\\envs\\xmoai\\lib\\site-packages\\pymoo\\algorithms\\rnsga2.py:183: RuntimeWarning: invalid value encountered in true_divide\n",
      "  N = ((D / (nadir - ideal)) ** 2) * weights\n",
      "A:\\anaconda3\\envs\\xmoai\\lib\\site-packages\\pymoo\\algorithms\\rnsga2.py:183: RuntimeWarning: divide by zero encountered in true_divide\n",
      "  N = ((D / (nadir - ideal)) ** 2) * weights\n",
      "A:\\anaconda3\\envs\\xmoai\\lib\\site-packages\\pymoo\\algorithms\\rnsga2.py:183: RuntimeWarning: invalid value encountered in true_divide\n",
      "  N = ((D / (nadir - ideal)) ** 2) * weights\n",
      "A:\\anaconda3\\envs\\xmoai\\lib\\site-packages\\pymoo\\algorithms\\rnsga2.py:183: RuntimeWarning: divide by zero encountered in true_divide\n",
      "  N = ((D / (nadir - ideal)) ** 2) * weights\n",
      "A:\\anaconda3\\envs\\xmoai\\lib\\site-packages\\pymoo\\algorithms\\rnsga2.py:183: RuntimeWarning: invalid value encountered in true_divide\n",
      "  N = ((D / (nadir - ideal)) ** 2) * weights\n",
      "A:\\anaconda3\\envs\\xmoai\\lib\\site-packages\\pymoo\\algorithms\\rnsga2.py:183: RuntimeWarning: invalid value encountered in true_divide\n",
      "  N = ((D / (nadir - ideal)) ** 2) * weights\n",
      "A:\\anaconda3\\envs\\xmoai\\lib\\site-packages\\pymoo\\algorithms\\rnsga2.py:183: RuntimeWarning: invalid value encountered in true_divide\n",
      "  N = ((D / (nadir - ideal)) ** 2) * weights\n",
      "A:\\anaconda3\\envs\\xmoai\\lib\\site-packages\\pymoo\\algorithms\\rnsga2.py:183: RuntimeWarning: invalid value encountered in true_divide\n",
      "  N = ((D / (nadir - ideal)) ** 2) * weights\n",
      "A:\\anaconda3\\envs\\xmoai\\lib\\site-packages\\pymoo\\algorithms\\rnsga2.py:183: RuntimeWarning: invalid value encountered in true_divide\n",
      "  N = ((D / (nadir - ideal)) ** 2) * weights\n",
      "A:\\anaconda3\\envs\\xmoai\\lib\\site-packages\\pymoo\\algorithms\\rnsga2.py:183: RuntimeWarning: invalid value encountered in true_divide\n",
      "  N = ((D / (nadir - ideal)) ** 2) * weights\n",
      "A:\\anaconda3\\envs\\xmoai\\lib\\site-packages\\pymoo\\algorithms\\rnsga2.py:183: RuntimeWarning: invalid value encountered in true_divide\n",
      "  N = ((D / (nadir - ideal)) ** 2) * weights\n",
      "A:\\anaconda3\\envs\\xmoai\\lib\\site-packages\\pymoo\\algorithms\\rnsga2.py:183: RuntimeWarning: divide by zero encountered in true_divide\n",
      "  N = ((D / (nadir - ideal)) ** 2) * weights\n",
      "A:\\anaconda3\\envs\\xmoai\\lib\\site-packages\\pymoo\\algorithms\\rnsga2.py:183: RuntimeWarning: invalid value encountered in true_divide\n",
      "  N = ((D / (nadir - ideal)) ** 2) * weights\n",
      "A:\\anaconda3\\envs\\xmoai\\lib\\site-packages\\pymoo\\algorithms\\rnsga2.py:183: RuntimeWarning: divide by zero encountered in true_divide\n",
      "  N = ((D / (nadir - ideal)) ** 2) * weights\n",
      "A:\\anaconda3\\envs\\xmoai\\lib\\site-packages\\pymoo\\algorithms\\rnsga2.py:183: RuntimeWarning: invalid value encountered in true_divide\n",
      "  N = ((D / (nadir - ideal)) ** 2) * weights\n"
     ]
    },
    {
     "name": "stderr",
     "output_type": "stream",
     "text": [
      "A:\\anaconda3\\envs\\xmoai\\lib\\site-packages\\pymoo\\algorithms\\rnsga2.py:183: RuntimeWarning: invalid value encountered in true_divide\n",
      "  N = ((D / (nadir - ideal)) ** 2) * weights\n",
      "A:\\anaconda3\\envs\\xmoai\\lib\\site-packages\\pymoo\\algorithms\\rnsga2.py:183: RuntimeWarning: invalid value encountered in true_divide\n",
      "  N = ((D / (nadir - ideal)) ** 2) * weights\n",
      "A:\\anaconda3\\envs\\xmoai\\lib\\site-packages\\pymoo\\algorithms\\rnsga2.py:183: RuntimeWarning: invalid value encountered in true_divide\n",
      "  N = ((D / (nadir - ideal)) ** 2) * weights\n",
      "A:\\anaconda3\\envs\\xmoai\\lib\\site-packages\\pymoo\\algorithms\\rnsga2.py:183: RuntimeWarning: invalid value encountered in true_divide\n",
      "  N = ((D / (nadir - ideal)) ** 2) * weights\n",
      "A:\\anaconda3\\envs\\xmoai\\lib\\site-packages\\pymoo\\algorithms\\rnsga2.py:183: RuntimeWarning: invalid value encountered in true_divide\n",
      "  N = ((D / (nadir - ideal)) ** 2) * weights\n",
      "A:\\anaconda3\\envs\\xmoai\\lib\\site-packages\\pymoo\\algorithms\\rnsga2.py:183: RuntimeWarning: invalid value encountered in true_divide\n",
      "  N = ((D / (nadir - ideal)) ** 2) * weights\n",
      "A:\\anaconda3\\envs\\xmoai\\lib\\site-packages\\pymoo\\algorithms\\rnsga2.py:183: RuntimeWarning: invalid value encountered in true_divide\n",
      "  N = ((D / (nadir - ideal)) ** 2) * weights\n",
      "A:\\anaconda3\\envs\\xmoai\\lib\\site-packages\\pymoo\\algorithms\\rnsga2.py:183: RuntimeWarning: invalid value encountered in true_divide\n",
      "  N = ((D / (nadir - ideal)) ** 2) * weights\n",
      "A:\\anaconda3\\envs\\xmoai\\lib\\site-packages\\pymoo\\algorithms\\rnsga2.py:183: RuntimeWarning: invalid value encountered in true_divide\n",
      "  N = ((D / (nadir - ideal)) ** 2) * weights\n",
      "A:\\anaconda3\\envs\\xmoai\\lib\\site-packages\\topsis\\topsis.py:66: RuntimeWarning: invalid value encountered in true_divide\n",
      "  self.r = self.a/np.array(np.linalg.norm(self.a, axis=1)[:, np.newaxis])\n",
      "A:\\anaconda3\\envs\\xmoai\\lib\\site-packages\\topsis\\topsis.py:66: RuntimeWarning: invalid value encountered in true_divide\n",
      "  self.r = self.a/np.array(np.linalg.norm(self.a, axis=1)[:, np.newaxis])\n",
      "A:\\anaconda3\\envs\\xmoai\\lib\\site-packages\\topsis\\topsis.py:66: RuntimeWarning: invalid value encountered in true_divide\n",
      "  self.r = self.a/np.array(np.linalg.norm(self.a, axis=1)[:, np.newaxis])\n",
      "A:\\anaconda3\\envs\\xmoai\\lib\\site-packages\\topsis\\topsis.py:66: RuntimeWarning: invalid value encountered in true_divide\n",
      "  self.r = self.a/np.array(np.linalg.norm(self.a, axis=1)[:, np.newaxis])\n",
      "A:\\anaconda3\\envs\\xmoai\\lib\\site-packages\\topsis\\topsis.py:66: RuntimeWarning: invalid value encountered in true_divide\n",
      "  self.r = self.a/np.array(np.linalg.norm(self.a, axis=1)[:, np.newaxis])\n",
      "A:\\anaconda3\\envs\\xmoai\\lib\\site-packages\\topsis\\topsis.py:66: RuntimeWarning: invalid value encountered in true_divide\n",
      "  self.r = self.a/np.array(np.linalg.norm(self.a, axis=1)[:, np.newaxis])\n"
     ]
    },
    {
     "data": {
      "text/plain": [
       "'Training AIF360 - AdversarialDebiasing'"
      ]
     },
     "metadata": {},
     "output_type": "display_data"
    },
    {
     "data": {
      "text/plain": [
       "'Training AIF360 - PostProcessingMeta'"
      ]
     },
     "metadata": {},
     "output_type": "display_data"
    },
    {
     "data": {
      "text/plain": [
       "'Seed 21'"
      ]
     },
     "metadata": {},
     "output_type": "display_data"
    },
    {
     "data": {
      "text/plain": [
       "'Training the Voting Ensemble'"
      ]
     },
     "metadata": {},
     "output_type": "display_data"
    },
    {
     "data": {
      "text/plain": [
       "'Training Fairlearn'"
      ]
     },
     "metadata": {},
     "output_type": "display_data"
    },
    {
     "data": {
      "text/plain": [
       "'Training scikit-lego - DemographicParityClassifier'"
      ]
     },
     "metadata": {},
     "output_type": "display_data"
    },
    {
     "data": {
      "text/plain": [
       "'Training scikit-lego - EqualOpportunityClassifier'"
      ]
     },
     "metadata": {},
     "output_type": "display_data"
    },
    {
     "data": {
      "text/plain": [
       "'Training the proposal (nsga2)'"
      ]
     },
     "metadata": {},
     "output_type": "display_data"
    },
    {
     "name": "stderr",
     "output_type": "stream",
     "text": [
      "A:\\anaconda3\\envs\\xmoai\\lib\\site-packages\\topsis\\topsis.py:66: RuntimeWarning: invalid value encountered in true_divide\n",
      "  self.r = self.a/np.array(np.linalg.norm(self.a, axis=1)[:, np.newaxis])\n",
      "A:\\anaconda3\\envs\\xmoai\\lib\\site-packages\\topsis\\topsis.py:66: RuntimeWarning: invalid value encountered in true_divide\n",
      "  self.r = self.a/np.array(np.linalg.norm(self.a, axis=1)[:, np.newaxis])\n",
      "A:\\anaconda3\\envs\\xmoai\\lib\\site-packages\\topsis\\topsis.py:66: RuntimeWarning: invalid value encountered in true_divide\n",
      "  self.r = self.a/np.array(np.linalg.norm(self.a, axis=1)[:, np.newaxis])\n",
      "A:\\anaconda3\\envs\\xmoai\\lib\\site-packages\\topsis\\topsis.py:66: RuntimeWarning: invalid value encountered in true_divide\n",
      "  self.r = self.a/np.array(np.linalg.norm(self.a, axis=1)[:, np.newaxis])\n",
      "A:\\anaconda3\\envs\\xmoai\\lib\\site-packages\\topsis\\topsis.py:66: RuntimeWarning: invalid value encountered in true_divide\n",
      "  self.r = self.a/np.array(np.linalg.norm(self.a, axis=1)[:, np.newaxis])\n",
      "A:\\anaconda3\\envs\\xmoai\\lib\\site-packages\\topsis\\topsis.py:66: RuntimeWarning: invalid value encountered in true_divide\n",
      "  self.r = self.a/np.array(np.linalg.norm(self.a, axis=1)[:, np.newaxis])\n"
     ]
    },
    {
     "data": {
      "text/plain": [
       "'Training the proposal (rnsga2)'"
      ]
     },
     "metadata": {},
     "output_type": "display_data"
    },
    {
     "name": "stderr",
     "output_type": "stream",
     "text": [
      "A:\\anaconda3\\envs\\xmoai\\lib\\site-packages\\pymoo\\algorithms\\rnsga2.py:183: RuntimeWarning: invalid value encountered in true_divide\n",
      "  N = ((D / (nadir - ideal)) ** 2) * weights\n",
      "A:\\anaconda3\\envs\\xmoai\\lib\\site-packages\\pymoo\\algorithms\\rnsga2.py:183: RuntimeWarning: invalid value encountered in true_divide\n",
      "  N = ((D / (nadir - ideal)) ** 2) * weights\n",
      "A:\\anaconda3\\envs\\xmoai\\lib\\site-packages\\pymoo\\algorithms\\rnsga2.py:183: RuntimeWarning: invalid value encountered in true_divide\n",
      "  N = ((D / (nadir - ideal)) ** 2) * weights\n",
      "A:\\anaconda3\\envs\\xmoai\\lib\\site-packages\\pymoo\\algorithms\\rnsga2.py:183: RuntimeWarning: invalid value encountered in true_divide\n",
      "  N = ((D / (nadir - ideal)) ** 2) * weights\n",
      "A:\\anaconda3\\envs\\xmoai\\lib\\site-packages\\pymoo\\algorithms\\rnsga2.py:183: RuntimeWarning: invalid value encountered in true_divide\n",
      "  N = ((D / (nadir - ideal)) ** 2) * weights\n",
      "A:\\anaconda3\\envs\\xmoai\\lib\\site-packages\\pymoo\\algorithms\\rnsga2.py:183: RuntimeWarning: invalid value encountered in true_divide\n",
      "  N = ((D / (nadir - ideal)) ** 2) * weights\n",
      "A:\\anaconda3\\envs\\xmoai\\lib\\site-packages\\pymoo\\algorithms\\rnsga2.py:183: RuntimeWarning: invalid value encountered in true_divide\n",
      "  N = ((D / (nadir - ideal)) ** 2) * weights\n",
      "A:\\anaconda3\\envs\\xmoai\\lib\\site-packages\\pymoo\\algorithms\\rnsga2.py:183: RuntimeWarning: invalid value encountered in true_divide\n",
      "  N = ((D / (nadir - ideal)) ** 2) * weights\n",
      "A:\\anaconda3\\envs\\xmoai\\lib\\site-packages\\pymoo\\algorithms\\rnsga2.py:183: RuntimeWarning: invalid value encountered in true_divide\n",
      "  N = ((D / (nadir - ideal)) ** 2) * weights\n",
      "A:\\anaconda3\\envs\\xmoai\\lib\\site-packages\\pymoo\\algorithms\\rnsga2.py:183: RuntimeWarning: invalid value encountered in true_divide\n",
      "  N = ((D / (nadir - ideal)) ** 2) * weights\n",
      "A:\\anaconda3\\envs\\xmoai\\lib\\site-packages\\pymoo\\algorithms\\rnsga2.py:183: RuntimeWarning: invalid value encountered in true_divide\n",
      "  N = ((D / (nadir - ideal)) ** 2) * weights\n",
      "A:\\anaconda3\\envs\\xmoai\\lib\\site-packages\\pymoo\\algorithms\\rnsga2.py:183: RuntimeWarning: invalid value encountered in true_divide\n",
      "  N = ((D / (nadir - ideal)) ** 2) * weights\n",
      "A:\\anaconda3\\envs\\xmoai\\lib\\site-packages\\pymoo\\algorithms\\rnsga2.py:183: RuntimeWarning: invalid value encountered in true_divide\n",
      "  N = ((D / (nadir - ideal)) ** 2) * weights\n",
      "A:\\anaconda3\\envs\\xmoai\\lib\\site-packages\\pymoo\\algorithms\\rnsga2.py:183: RuntimeWarning: invalid value encountered in true_divide\n",
      "  N = ((D / (nadir - ideal)) ** 2) * weights\n",
      "A:\\anaconda3\\envs\\xmoai\\lib\\site-packages\\pymoo\\algorithms\\rnsga2.py:183: RuntimeWarning: invalid value encountered in true_divide\n",
      "  N = ((D / (nadir - ideal)) ** 2) * weights\n",
      "A:\\anaconda3\\envs\\xmoai\\lib\\site-packages\\pymoo\\algorithms\\rnsga2.py:183: RuntimeWarning: invalid value encountered in true_divide\n",
      "  N = ((D / (nadir - ideal)) ** 2) * weights\n",
      "A:\\anaconda3\\envs\\xmoai\\lib\\site-packages\\pymoo\\algorithms\\rnsga2.py:183: RuntimeWarning: invalid value encountered in true_divide\n",
      "  N = ((D / (nadir - ideal)) ** 2) * weights\n",
      "A:\\anaconda3\\envs\\xmoai\\lib\\site-packages\\pymoo\\algorithms\\rnsga2.py:183: RuntimeWarning: invalid value encountered in true_divide\n",
      "  N = ((D / (nadir - ideal)) ** 2) * weights\n",
      "A:\\anaconda3\\envs\\xmoai\\lib\\site-packages\\pymoo\\algorithms\\rnsga2.py:183: RuntimeWarning: invalid value encountered in true_divide\n",
      "  N = ((D / (nadir - ideal)) ** 2) * weights\n",
      "A:\\anaconda3\\envs\\xmoai\\lib\\site-packages\\pymoo\\algorithms\\rnsga2.py:183: RuntimeWarning: invalid value encountered in true_divide\n",
      "  N = ((D / (nadir - ideal)) ** 2) * weights\n",
      "A:\\anaconda3\\envs\\xmoai\\lib\\site-packages\\pymoo\\algorithms\\rnsga2.py:183: RuntimeWarning: invalid value encountered in true_divide\n",
      "  N = ((D / (nadir - ideal)) ** 2) * weights\n",
      "A:\\anaconda3\\envs\\xmoai\\lib\\site-packages\\pymoo\\algorithms\\rnsga2.py:183: RuntimeWarning: invalid value encountered in true_divide\n",
      "  N = ((D / (nadir - ideal)) ** 2) * weights\n",
      "A:\\anaconda3\\envs\\xmoai\\lib\\site-packages\\pymoo\\algorithms\\rnsga2.py:183: RuntimeWarning: invalid value encountered in true_divide\n",
      "  N = ((D / (nadir - ideal)) ** 2) * weights\n",
      "A:\\anaconda3\\envs\\xmoai\\lib\\site-packages\\pymoo\\algorithms\\rnsga2.py:183: RuntimeWarning: invalid value encountered in true_divide\n",
      "  N = ((D / (nadir - ideal)) ** 2) * weights\n",
      "A:\\anaconda3\\envs\\xmoai\\lib\\site-packages\\pymoo\\algorithms\\rnsga2.py:183: RuntimeWarning: invalid value encountered in true_divide\n",
      "  N = ((D / (nadir - ideal)) ** 2) * weights\n",
      "A:\\anaconda3\\envs\\xmoai\\lib\\site-packages\\pymoo\\algorithms\\rnsga2.py:183: RuntimeWarning: invalid value encountered in true_divide\n",
      "  N = ((D / (nadir - ideal)) ** 2) * weights\n",
      "A:\\anaconda3\\envs\\xmoai\\lib\\site-packages\\pymoo\\algorithms\\rnsga2.py:183: RuntimeWarning: invalid value encountered in true_divide\n",
      "  N = ((D / (nadir - ideal)) ** 2) * weights\n",
      "A:\\anaconda3\\envs\\xmoai\\lib\\site-packages\\pymoo\\algorithms\\rnsga2.py:183: RuntimeWarning: invalid value encountered in true_divide\n",
      "  N = ((D / (nadir - ideal)) ** 2) * weights\n",
      "A:\\anaconda3\\envs\\xmoai\\lib\\site-packages\\pymoo\\algorithms\\rnsga2.py:183: RuntimeWarning: invalid value encountered in true_divide\n",
      "  N = ((D / (nadir - ideal)) ** 2) * weights\n",
      "A:\\anaconda3\\envs\\xmoai\\lib\\site-packages\\pymoo\\algorithms\\rnsga2.py:183: RuntimeWarning: invalid value encountered in true_divide\n",
      "  N = ((D / (nadir - ideal)) ** 2) * weights\n",
      "A:\\anaconda3\\envs\\xmoai\\lib\\site-packages\\pymoo\\algorithms\\rnsga2.py:183: RuntimeWarning: invalid value encountered in true_divide\n",
      "  N = ((D / (nadir - ideal)) ** 2) * weights\n",
      "A:\\anaconda3\\envs\\xmoai\\lib\\site-packages\\pymoo\\algorithms\\rnsga2.py:183: RuntimeWarning: invalid value encountered in true_divide\n",
      "  N = ((D / (nadir - ideal)) ** 2) * weights\n",
      "A:\\anaconda3\\envs\\xmoai\\lib\\site-packages\\pymoo\\algorithms\\rnsga2.py:183: RuntimeWarning: invalid value encountered in true_divide\n",
      "  N = ((D / (nadir - ideal)) ** 2) * weights\n",
      "A:\\anaconda3\\envs\\xmoai\\lib\\site-packages\\pymoo\\algorithms\\rnsga2.py:183: RuntimeWarning: invalid value encountered in true_divide\n",
      "  N = ((D / (nadir - ideal)) ** 2) * weights\n",
      "A:\\anaconda3\\envs\\xmoai\\lib\\site-packages\\pymoo\\algorithms\\rnsga2.py:183: RuntimeWarning: invalid value encountered in true_divide\n",
      "  N = ((D / (nadir - ideal)) ** 2) * weights\n",
      "A:\\anaconda3\\envs\\xmoai\\lib\\site-packages\\pymoo\\algorithms\\rnsga2.py:183: RuntimeWarning: invalid value encountered in true_divide\n",
      "  N = ((D / (nadir - ideal)) ** 2) * weights\n",
      "A:\\anaconda3\\envs\\xmoai\\lib\\site-packages\\pymoo\\algorithms\\rnsga2.py:183: RuntimeWarning: invalid value encountered in true_divide\n",
      "  N = ((D / (nadir - ideal)) ** 2) * weights\n",
      "A:\\anaconda3\\envs\\xmoai\\lib\\site-packages\\pymoo\\algorithms\\rnsga2.py:183: RuntimeWarning: invalid value encountered in true_divide\n",
      "  N = ((D / (nadir - ideal)) ** 2) * weights\n",
      "A:\\anaconda3\\envs\\xmoai\\lib\\site-packages\\pymoo\\algorithms\\rnsga2.py:183: RuntimeWarning: invalid value encountered in true_divide\n",
      "  N = ((D / (nadir - ideal)) ** 2) * weights\n",
      "A:\\anaconda3\\envs\\xmoai\\lib\\site-packages\\pymoo\\algorithms\\rnsga2.py:183: RuntimeWarning: invalid value encountered in true_divide\n",
      "  N = ((D / (nadir - ideal)) ** 2) * weights\n",
      "A:\\anaconda3\\envs\\xmoai\\lib\\site-packages\\pymoo\\algorithms\\rnsga2.py:183: RuntimeWarning: invalid value encountered in true_divide\n",
      "  N = ((D / (nadir - ideal)) ** 2) * weights\n",
      "A:\\anaconda3\\envs\\xmoai\\lib\\site-packages\\pymoo\\algorithms\\rnsga2.py:183: RuntimeWarning: invalid value encountered in true_divide\n",
      "  N = ((D / (nadir - ideal)) ** 2) * weights\n",
      "A:\\anaconda3\\envs\\xmoai\\lib\\site-packages\\pymoo\\algorithms\\rnsga2.py:183: RuntimeWarning: invalid value encountered in true_divide\n",
      "  N = ((D / (nadir - ideal)) ** 2) * weights\n",
      "A:\\anaconda3\\envs\\xmoai\\lib\\site-packages\\pymoo\\algorithms\\rnsga2.py:183: RuntimeWarning: invalid value encountered in true_divide\n",
      "  N = ((D / (nadir - ideal)) ** 2) * weights\n",
      "A:\\anaconda3\\envs\\xmoai\\lib\\site-packages\\pymoo\\algorithms\\rnsga2.py:183: RuntimeWarning: invalid value encountered in true_divide\n",
      "  N = ((D / (nadir - ideal)) ** 2) * weights\n",
      "A:\\anaconda3\\envs\\xmoai\\lib\\site-packages\\pymoo\\algorithms\\rnsga2.py:183: RuntimeWarning: invalid value encountered in true_divide\n",
      "  N = ((D / (nadir - ideal)) ** 2) * weights\n",
      "A:\\anaconda3\\envs\\xmoai\\lib\\site-packages\\pymoo\\algorithms\\rnsga2.py:183: RuntimeWarning: invalid value encountered in true_divide\n",
      "  N = ((D / (nadir - ideal)) ** 2) * weights\n"
     ]
    },
    {
     "name": "stderr",
     "output_type": "stream",
     "text": [
      "A:\\anaconda3\\envs\\xmoai\\lib\\site-packages\\pymoo\\algorithms\\rnsga2.py:183: RuntimeWarning: invalid value encountered in true_divide\n",
      "  N = ((D / (nadir - ideal)) ** 2) * weights\n",
      "A:\\anaconda3\\envs\\xmoai\\lib\\site-packages\\pymoo\\algorithms\\rnsga2.py:183: RuntimeWarning: invalid value encountered in true_divide\n",
      "  N = ((D / (nadir - ideal)) ** 2) * weights\n",
      "A:\\anaconda3\\envs\\xmoai\\lib\\site-packages\\pymoo\\algorithms\\rnsga2.py:183: RuntimeWarning: invalid value encountered in true_divide\n",
      "  N = ((D / (nadir - ideal)) ** 2) * weights\n",
      "A:\\anaconda3\\envs\\xmoai\\lib\\site-packages\\topsis\\topsis.py:66: RuntimeWarning: invalid value encountered in true_divide\n",
      "  self.r = self.a/np.array(np.linalg.norm(self.a, axis=1)[:, np.newaxis])\n",
      "A:\\anaconda3\\envs\\xmoai\\lib\\site-packages\\topsis\\topsis.py:66: RuntimeWarning: invalid value encountered in true_divide\n",
      "  self.r = self.a/np.array(np.linalg.norm(self.a, axis=1)[:, np.newaxis])\n",
      "A:\\anaconda3\\envs\\xmoai\\lib\\site-packages\\topsis\\topsis.py:66: RuntimeWarning: invalid value encountered in true_divide\n",
      "  self.r = self.a/np.array(np.linalg.norm(self.a, axis=1)[:, np.newaxis])\n",
      "A:\\anaconda3\\envs\\xmoai\\lib\\site-packages\\topsis\\topsis.py:66: RuntimeWarning: invalid value encountered in true_divide\n",
      "  self.r = self.a/np.array(np.linalg.norm(self.a, axis=1)[:, np.newaxis])\n",
      "A:\\anaconda3\\envs\\xmoai\\lib\\site-packages\\topsis\\topsis.py:66: RuntimeWarning: invalid value encountered in true_divide\n",
      "  self.r = self.a/np.array(np.linalg.norm(self.a, axis=1)[:, np.newaxis])\n",
      "A:\\anaconda3\\envs\\xmoai\\lib\\site-packages\\topsis\\topsis.py:66: RuntimeWarning: invalid value encountered in true_divide\n",
      "  self.r = self.a/np.array(np.linalg.norm(self.a, axis=1)[:, np.newaxis])\n"
     ]
    },
    {
     "data": {
      "text/plain": [
       "'Training AIF360 - AdversarialDebiasing'"
      ]
     },
     "metadata": {},
     "output_type": "display_data"
    },
    {
     "data": {
      "text/plain": [
       "'Training AIF360 - PostProcessingMeta'"
      ]
     },
     "metadata": {},
     "output_type": "display_data"
    },
    {
     "data": {
      "text/plain": [
       "'Seed 22'"
      ]
     },
     "metadata": {},
     "output_type": "display_data"
    },
    {
     "data": {
      "text/plain": [
       "'Training the Voting Ensemble'"
      ]
     },
     "metadata": {},
     "output_type": "display_data"
    },
    {
     "data": {
      "text/plain": [
       "'Training Fairlearn'"
      ]
     },
     "metadata": {},
     "output_type": "display_data"
    },
    {
     "data": {
      "text/plain": [
       "'Training scikit-lego - DemographicParityClassifier'"
      ]
     },
     "metadata": {},
     "output_type": "display_data"
    },
    {
     "data": {
      "text/plain": [
       "'Training scikit-lego - EqualOpportunityClassifier'"
      ]
     },
     "metadata": {},
     "output_type": "display_data"
    },
    {
     "data": {
      "text/plain": [
       "'Training the proposal (nsga2)'"
      ]
     },
     "metadata": {},
     "output_type": "display_data"
    },
    {
     "name": "stderr",
     "output_type": "stream",
     "text": [
      "A:\\anaconda3\\envs\\xmoai\\lib\\site-packages\\topsis\\topsis.py:66: RuntimeWarning: invalid value encountered in true_divide\n",
      "  self.r = self.a/np.array(np.linalg.norm(self.a, axis=1)[:, np.newaxis])\n",
      "A:\\anaconda3\\envs\\xmoai\\lib\\site-packages\\topsis\\topsis.py:66: RuntimeWarning: invalid value encountered in true_divide\n",
      "  self.r = self.a/np.array(np.linalg.norm(self.a, axis=1)[:, np.newaxis])\n",
      "A:\\anaconda3\\envs\\xmoai\\lib\\site-packages\\topsis\\topsis.py:66: RuntimeWarning: invalid value encountered in true_divide\n",
      "  self.r = self.a/np.array(np.linalg.norm(self.a, axis=1)[:, np.newaxis])\n",
      "A:\\anaconda3\\envs\\xmoai\\lib\\site-packages\\topsis\\topsis.py:66: RuntimeWarning: invalid value encountered in true_divide\n",
      "  self.r = self.a/np.array(np.linalg.norm(self.a, axis=1)[:, np.newaxis])\n",
      "A:\\anaconda3\\envs\\xmoai\\lib\\site-packages\\topsis\\topsis.py:66: RuntimeWarning: invalid value encountered in true_divide\n",
      "  self.r = self.a/np.array(np.linalg.norm(self.a, axis=1)[:, np.newaxis])\n",
      "A:\\anaconda3\\envs\\xmoai\\lib\\site-packages\\topsis\\topsis.py:66: RuntimeWarning: invalid value encountered in true_divide\n",
      "  self.r = self.a/np.array(np.linalg.norm(self.a, axis=1)[:, np.newaxis])\n"
     ]
    },
    {
     "data": {
      "text/plain": [
       "'Training the proposal (rnsga2)'"
      ]
     },
     "metadata": {},
     "output_type": "display_data"
    },
    {
     "name": "stderr",
     "output_type": "stream",
     "text": [
      "A:\\anaconda3\\envs\\xmoai\\lib\\site-packages\\pymoo\\algorithms\\rnsga2.py:183: RuntimeWarning: invalid value encountered in true_divide\n",
      "  N = ((D / (nadir - ideal)) ** 2) * weights\n",
      "A:\\anaconda3\\envs\\xmoai\\lib\\site-packages\\pymoo\\algorithms\\rnsga2.py:183: RuntimeWarning: invalid value encountered in true_divide\n",
      "  N = ((D / (nadir - ideal)) ** 2) * weights\n",
      "A:\\anaconda3\\envs\\xmoai\\lib\\site-packages\\pymoo\\algorithms\\rnsga2.py:183: RuntimeWarning: invalid value encountered in true_divide\n",
      "  N = ((D / (nadir - ideal)) ** 2) * weights\n",
      "A:\\anaconda3\\envs\\xmoai\\lib\\site-packages\\pymoo\\algorithms\\rnsga2.py:183: RuntimeWarning: invalid value encountered in true_divide\n",
      "  N = ((D / (nadir - ideal)) ** 2) * weights\n",
      "A:\\anaconda3\\envs\\xmoai\\lib\\site-packages\\pymoo\\algorithms\\rnsga2.py:183: RuntimeWarning: invalid value encountered in true_divide\n",
      "  N = ((D / (nadir - ideal)) ** 2) * weights\n",
      "A:\\anaconda3\\envs\\xmoai\\lib\\site-packages\\pymoo\\algorithms\\rnsga2.py:183: RuntimeWarning: invalid value encountered in true_divide\n",
      "  N = ((D / (nadir - ideal)) ** 2) * weights\n",
      "A:\\anaconda3\\envs\\xmoai\\lib\\site-packages\\pymoo\\algorithms\\rnsga2.py:183: RuntimeWarning: invalid value encountered in true_divide\n",
      "  N = ((D / (nadir - ideal)) ** 2) * weights\n",
      "A:\\anaconda3\\envs\\xmoai\\lib\\site-packages\\pymoo\\algorithms\\rnsga2.py:183: RuntimeWarning: invalid value encountered in true_divide\n",
      "  N = ((D / (nadir - ideal)) ** 2) * weights\n",
      "A:\\anaconda3\\envs\\xmoai\\lib\\site-packages\\pymoo\\algorithms\\rnsga2.py:183: RuntimeWarning: invalid value encountered in true_divide\n",
      "  N = ((D / (nadir - ideal)) ** 2) * weights\n",
      "A:\\anaconda3\\envs\\xmoai\\lib\\site-packages\\pymoo\\algorithms\\rnsga2.py:183: RuntimeWarning: invalid value encountered in true_divide\n",
      "  N = ((D / (nadir - ideal)) ** 2) * weights\n",
      "A:\\anaconda3\\envs\\xmoai\\lib\\site-packages\\pymoo\\algorithms\\rnsga2.py:183: RuntimeWarning: invalid value encountered in true_divide\n",
      "  N = ((D / (nadir - ideal)) ** 2) * weights\n",
      "A:\\anaconda3\\envs\\xmoai\\lib\\site-packages\\pymoo\\algorithms\\rnsga2.py:183: RuntimeWarning: invalid value encountered in true_divide\n",
      "  N = ((D / (nadir - ideal)) ** 2) * weights\n",
      "A:\\anaconda3\\envs\\xmoai\\lib\\site-packages\\pymoo\\algorithms\\rnsga2.py:183: RuntimeWarning: invalid value encountered in true_divide\n",
      "  N = ((D / (nadir - ideal)) ** 2) * weights\n",
      "A:\\anaconda3\\envs\\xmoai\\lib\\site-packages\\pymoo\\algorithms\\rnsga2.py:183: RuntimeWarning: invalid value encountered in true_divide\n",
      "  N = ((D / (nadir - ideal)) ** 2) * weights\n",
      "A:\\anaconda3\\envs\\xmoai\\lib\\site-packages\\pymoo\\algorithms\\rnsga2.py:183: RuntimeWarning: invalid value encountered in true_divide\n",
      "  N = ((D / (nadir - ideal)) ** 2) * weights\n",
      "A:\\anaconda3\\envs\\xmoai\\lib\\site-packages\\pymoo\\algorithms\\rnsga2.py:183: RuntimeWarning: invalid value encountered in true_divide\n",
      "  N = ((D / (nadir - ideal)) ** 2) * weights\n",
      "A:\\anaconda3\\envs\\xmoai\\lib\\site-packages\\pymoo\\algorithms\\rnsga2.py:183: RuntimeWarning: invalid value encountered in true_divide\n",
      "  N = ((D / (nadir - ideal)) ** 2) * weights\n",
      "A:\\anaconda3\\envs\\xmoai\\lib\\site-packages\\pymoo\\algorithms\\rnsga2.py:183: RuntimeWarning: invalid value encountered in true_divide\n",
      "  N = ((D / (nadir - ideal)) ** 2) * weights\n",
      "A:\\anaconda3\\envs\\xmoai\\lib\\site-packages\\pymoo\\algorithms\\rnsga2.py:183: RuntimeWarning: invalid value encountered in true_divide\n",
      "  N = ((D / (nadir - ideal)) ** 2) * weights\n",
      "A:\\anaconda3\\envs\\xmoai\\lib\\site-packages\\pymoo\\algorithms\\rnsga2.py:183: RuntimeWarning: invalid value encountered in true_divide\n",
      "  N = ((D / (nadir - ideal)) ** 2) * weights\n",
      "A:\\anaconda3\\envs\\xmoai\\lib\\site-packages\\pymoo\\algorithms\\rnsga2.py:183: RuntimeWarning: invalid value encountered in true_divide\n",
      "  N = ((D / (nadir - ideal)) ** 2) * weights\n",
      "A:\\anaconda3\\envs\\xmoai\\lib\\site-packages\\pymoo\\algorithms\\rnsga2.py:183: RuntimeWarning: invalid value encountered in true_divide\n",
      "  N = ((D / (nadir - ideal)) ** 2) * weights\n",
      "A:\\anaconda3\\envs\\xmoai\\lib\\site-packages\\pymoo\\algorithms\\rnsga2.py:183: RuntimeWarning: invalid value encountered in true_divide\n",
      "  N = ((D / (nadir - ideal)) ** 2) * weights\n",
      "A:\\anaconda3\\envs\\xmoai\\lib\\site-packages\\pymoo\\algorithms\\rnsga2.py:183: RuntimeWarning: invalid value encountered in true_divide\n",
      "  N = ((D / (nadir - ideal)) ** 2) * weights\n",
      "A:\\anaconda3\\envs\\xmoai\\lib\\site-packages\\pymoo\\algorithms\\rnsga2.py:183: RuntimeWarning: invalid value encountered in true_divide\n",
      "  N = ((D / (nadir - ideal)) ** 2) * weights\n",
      "A:\\anaconda3\\envs\\xmoai\\lib\\site-packages\\pymoo\\algorithms\\rnsga2.py:183: RuntimeWarning: invalid value encountered in true_divide\n",
      "  N = ((D / (nadir - ideal)) ** 2) * weights\n",
      "A:\\anaconda3\\envs\\xmoai\\lib\\site-packages\\pymoo\\algorithms\\rnsga2.py:183: RuntimeWarning: invalid value encountered in true_divide\n",
      "  N = ((D / (nadir - ideal)) ** 2) * weights\n",
      "A:\\anaconda3\\envs\\xmoai\\lib\\site-packages\\pymoo\\algorithms\\rnsga2.py:183: RuntimeWarning: invalid value encountered in true_divide\n",
      "  N = ((D / (nadir - ideal)) ** 2) * weights\n",
      "A:\\anaconda3\\envs\\xmoai\\lib\\site-packages\\pymoo\\algorithms\\rnsga2.py:183: RuntimeWarning: invalid value encountered in true_divide\n",
      "  N = ((D / (nadir - ideal)) ** 2) * weights\n",
      "A:\\anaconda3\\envs\\xmoai\\lib\\site-packages\\pymoo\\algorithms\\rnsga2.py:183: RuntimeWarning: invalid value encountered in true_divide\n",
      "  N = ((D / (nadir - ideal)) ** 2) * weights\n",
      "A:\\anaconda3\\envs\\xmoai\\lib\\site-packages\\pymoo\\algorithms\\rnsga2.py:183: RuntimeWarning: invalid value encountered in true_divide\n",
      "  N = ((D / (nadir - ideal)) ** 2) * weights\n",
      "A:\\anaconda3\\envs\\xmoai\\lib\\site-packages\\pymoo\\algorithms\\rnsga2.py:183: RuntimeWarning: invalid value encountered in true_divide\n",
      "  N = ((D / (nadir - ideal)) ** 2) * weights\n",
      "A:\\anaconda3\\envs\\xmoai\\lib\\site-packages\\pymoo\\algorithms\\rnsga2.py:183: RuntimeWarning: invalid value encountered in true_divide\n",
      "  N = ((D / (nadir - ideal)) ** 2) * weights\n",
      "A:\\anaconda3\\envs\\xmoai\\lib\\site-packages\\pymoo\\algorithms\\rnsga2.py:183: RuntimeWarning: invalid value encountered in true_divide\n",
      "  N = ((D / (nadir - ideal)) ** 2) * weights\n",
      "A:\\anaconda3\\envs\\xmoai\\lib\\site-packages\\pymoo\\algorithms\\rnsga2.py:183: RuntimeWarning: invalid value encountered in true_divide\n",
      "  N = ((D / (nadir - ideal)) ** 2) * weights\n",
      "A:\\anaconda3\\envs\\xmoai\\lib\\site-packages\\pymoo\\algorithms\\rnsga2.py:183: RuntimeWarning: invalid value encountered in true_divide\n",
      "  N = ((D / (nadir - ideal)) ** 2) * weights\n",
      "A:\\anaconda3\\envs\\xmoai\\lib\\site-packages\\pymoo\\algorithms\\rnsga2.py:183: RuntimeWarning: invalid value encountered in true_divide\n",
      "  N = ((D / (nadir - ideal)) ** 2) * weights\n",
      "A:\\anaconda3\\envs\\xmoai\\lib\\site-packages\\pymoo\\algorithms\\rnsga2.py:183: RuntimeWarning: invalid value encountered in true_divide\n",
      "  N = ((D / (nadir - ideal)) ** 2) * weights\n",
      "A:\\anaconda3\\envs\\xmoai\\lib\\site-packages\\pymoo\\algorithms\\rnsga2.py:183: RuntimeWarning: invalid value encountered in true_divide\n",
      "  N = ((D / (nadir - ideal)) ** 2) * weights\n",
      "A:\\anaconda3\\envs\\xmoai\\lib\\site-packages\\pymoo\\algorithms\\rnsga2.py:183: RuntimeWarning: invalid value encountered in true_divide\n",
      "  N = ((D / (nadir - ideal)) ** 2) * weights\n",
      "A:\\anaconda3\\envs\\xmoai\\lib\\site-packages\\pymoo\\algorithms\\rnsga2.py:183: RuntimeWarning: invalid value encountered in true_divide\n",
      "  N = ((D / (nadir - ideal)) ** 2) * weights\n",
      "A:\\anaconda3\\envs\\xmoai\\lib\\site-packages\\pymoo\\algorithms\\rnsga2.py:183: RuntimeWarning: invalid value encountered in true_divide\n",
      "  N = ((D / (nadir - ideal)) ** 2) * weights\n",
      "A:\\anaconda3\\envs\\xmoai\\lib\\site-packages\\pymoo\\algorithms\\rnsga2.py:183: RuntimeWarning: invalid value encountered in true_divide\n",
      "  N = ((D / (nadir - ideal)) ** 2) * weights\n",
      "A:\\anaconda3\\envs\\xmoai\\lib\\site-packages\\pymoo\\algorithms\\rnsga2.py:183: RuntimeWarning: invalid value encountered in true_divide\n",
      "  N = ((D / (nadir - ideal)) ** 2) * weights\n",
      "A:\\anaconda3\\envs\\xmoai\\lib\\site-packages\\pymoo\\algorithms\\rnsga2.py:183: RuntimeWarning: invalid value encountered in true_divide\n",
      "  N = ((D / (nadir - ideal)) ** 2) * weights\n",
      "A:\\anaconda3\\envs\\xmoai\\lib\\site-packages\\pymoo\\algorithms\\rnsga2.py:183: RuntimeWarning: invalid value encountered in true_divide\n",
      "  N = ((D / (nadir - ideal)) ** 2) * weights\n",
      "A:\\anaconda3\\envs\\xmoai\\lib\\site-packages\\pymoo\\algorithms\\rnsga2.py:183: RuntimeWarning: invalid value encountered in true_divide\n",
      "  N = ((D / (nadir - ideal)) ** 2) * weights\n"
     ]
    },
    {
     "name": "stderr",
     "output_type": "stream",
     "text": [
      "A:\\anaconda3\\envs\\xmoai\\lib\\site-packages\\pymoo\\algorithms\\rnsga2.py:183: RuntimeWarning: invalid value encountered in true_divide\n",
      "  N = ((D / (nadir - ideal)) ** 2) * weights\n",
      "A:\\anaconda3\\envs\\xmoai\\lib\\site-packages\\pymoo\\algorithms\\rnsga2.py:183: RuntimeWarning: invalid value encountered in true_divide\n",
      "  N = ((D / (nadir - ideal)) ** 2) * weights\n",
      "A:\\anaconda3\\envs\\xmoai\\lib\\site-packages\\pymoo\\algorithms\\rnsga2.py:183: RuntimeWarning: invalid value encountered in true_divide\n",
      "  N = ((D / (nadir - ideal)) ** 2) * weights\n",
      "A:\\anaconda3\\envs\\xmoai\\lib\\site-packages\\topsis\\topsis.py:66: RuntimeWarning: invalid value encountered in true_divide\n",
      "  self.r = self.a/np.array(np.linalg.norm(self.a, axis=1)[:, np.newaxis])\n",
      "A:\\anaconda3\\envs\\xmoai\\lib\\site-packages\\topsis\\topsis.py:66: RuntimeWarning: invalid value encountered in true_divide\n",
      "  self.r = self.a/np.array(np.linalg.norm(self.a, axis=1)[:, np.newaxis])\n",
      "A:\\anaconda3\\envs\\xmoai\\lib\\site-packages\\topsis\\topsis.py:66: RuntimeWarning: invalid value encountered in true_divide\n",
      "  self.r = self.a/np.array(np.linalg.norm(self.a, axis=1)[:, np.newaxis])\n",
      "A:\\anaconda3\\envs\\xmoai\\lib\\site-packages\\topsis\\topsis.py:66: RuntimeWarning: invalid value encountered in true_divide\n",
      "  self.r = self.a/np.array(np.linalg.norm(self.a, axis=1)[:, np.newaxis])\n",
      "A:\\anaconda3\\envs\\xmoai\\lib\\site-packages\\topsis\\topsis.py:66: RuntimeWarning: invalid value encountered in true_divide\n",
      "  self.r = self.a/np.array(np.linalg.norm(self.a, axis=1)[:, np.newaxis])\n",
      "A:\\anaconda3\\envs\\xmoai\\lib\\site-packages\\topsis\\topsis.py:66: RuntimeWarning: invalid value encountered in true_divide\n",
      "  self.r = self.a/np.array(np.linalg.norm(self.a, axis=1)[:, np.newaxis])\n"
     ]
    },
    {
     "data": {
      "text/plain": [
       "'Training AIF360 - AdversarialDebiasing'"
      ]
     },
     "metadata": {},
     "output_type": "display_data"
    },
    {
     "data": {
      "text/plain": [
       "'Training AIF360 - PostProcessingMeta'"
      ]
     },
     "metadata": {},
     "output_type": "display_data"
    },
    {
     "data": {
      "text/plain": [
       "'Seed 23'"
      ]
     },
     "metadata": {},
     "output_type": "display_data"
    },
    {
     "data": {
      "text/plain": [
       "'Training the Voting Ensemble'"
      ]
     },
     "metadata": {},
     "output_type": "display_data"
    },
    {
     "data": {
      "text/plain": [
       "'Training Fairlearn'"
      ]
     },
     "metadata": {},
     "output_type": "display_data"
    },
    {
     "data": {
      "text/plain": [
       "'Training scikit-lego - DemographicParityClassifier'"
      ]
     },
     "metadata": {},
     "output_type": "display_data"
    },
    {
     "data": {
      "text/plain": [
       "'Training scikit-lego - EqualOpportunityClassifier'"
      ]
     },
     "metadata": {},
     "output_type": "display_data"
    },
    {
     "data": {
      "text/plain": [
       "'Training the proposal (nsga2)'"
      ]
     },
     "metadata": {},
     "output_type": "display_data"
    },
    {
     "data": {
      "text/plain": [
       "'Training the proposal (rnsga2)'"
      ]
     },
     "metadata": {},
     "output_type": "display_data"
    },
    {
     "data": {
      "text/plain": [
       "'Training AIF360 - AdversarialDebiasing'"
      ]
     },
     "metadata": {},
     "output_type": "display_data"
    },
    {
     "data": {
      "text/plain": [
       "'Training AIF360 - PostProcessingMeta'"
      ]
     },
     "metadata": {},
     "output_type": "display_data"
    },
    {
     "data": {
      "text/plain": [
       "'Seed 24'"
      ]
     },
     "metadata": {},
     "output_type": "display_data"
    },
    {
     "data": {
      "text/plain": [
       "'Training the Voting Ensemble'"
      ]
     },
     "metadata": {},
     "output_type": "display_data"
    },
    {
     "data": {
      "text/plain": [
       "'Training Fairlearn'"
      ]
     },
     "metadata": {},
     "output_type": "display_data"
    },
    {
     "data": {
      "text/plain": [
       "'Training scikit-lego - DemographicParityClassifier'"
      ]
     },
     "metadata": {},
     "output_type": "display_data"
    },
    {
     "data": {
      "text/plain": [
       "'Training scikit-lego - EqualOpportunityClassifier'"
      ]
     },
     "metadata": {},
     "output_type": "display_data"
    },
    {
     "data": {
      "text/plain": [
       "'Training the proposal (nsga2)'"
      ]
     },
     "metadata": {},
     "output_type": "display_data"
    },
    {
     "name": "stderr",
     "output_type": "stream",
     "text": [
      "A:\\anaconda3\\envs\\xmoai\\lib\\site-packages\\topsis\\topsis.py:66: RuntimeWarning: invalid value encountered in true_divide\n",
      "  self.r = self.a/np.array(np.linalg.norm(self.a, axis=1)[:, np.newaxis])\n",
      "A:\\anaconda3\\envs\\xmoai\\lib\\site-packages\\topsis\\topsis.py:66: RuntimeWarning: invalid value encountered in true_divide\n",
      "  self.r = self.a/np.array(np.linalg.norm(self.a, axis=1)[:, np.newaxis])\n",
      "A:\\anaconda3\\envs\\xmoai\\lib\\site-packages\\topsis\\topsis.py:66: RuntimeWarning: invalid value encountered in true_divide\n",
      "  self.r = self.a/np.array(np.linalg.norm(self.a, axis=1)[:, np.newaxis])\n",
      "A:\\anaconda3\\envs\\xmoai\\lib\\site-packages\\topsis\\topsis.py:66: RuntimeWarning: invalid value encountered in true_divide\n",
      "  self.r = self.a/np.array(np.linalg.norm(self.a, axis=1)[:, np.newaxis])\n",
      "A:\\anaconda3\\envs\\xmoai\\lib\\site-packages\\topsis\\topsis.py:66: RuntimeWarning: invalid value encountered in true_divide\n",
      "  self.r = self.a/np.array(np.linalg.norm(self.a, axis=1)[:, np.newaxis])\n",
      "A:\\anaconda3\\envs\\xmoai\\lib\\site-packages\\topsis\\topsis.py:66: RuntimeWarning: invalid value encountered in true_divide\n",
      "  self.r = self.a/np.array(np.linalg.norm(self.a, axis=1)[:, np.newaxis])\n"
     ]
    },
    {
     "data": {
      "text/plain": [
       "'Training the proposal (rnsga2)'"
      ]
     },
     "metadata": {},
     "output_type": "display_data"
    },
    {
     "name": "stderr",
     "output_type": "stream",
     "text": [
      "A:\\anaconda3\\envs\\xmoai\\lib\\site-packages\\pymoo\\algorithms\\rnsga2.py:183: RuntimeWarning: invalid value encountered in true_divide\n",
      "  N = ((D / (nadir - ideal)) ** 2) * weights\n",
      "A:\\anaconda3\\envs\\xmoai\\lib\\site-packages\\pymoo\\algorithms\\rnsga2.py:183: RuntimeWarning: invalid value encountered in true_divide\n",
      "  N = ((D / (nadir - ideal)) ** 2) * weights\n",
      "A:\\anaconda3\\envs\\xmoai\\lib\\site-packages\\pymoo\\algorithms\\rnsga2.py:183: RuntimeWarning: invalid value encountered in true_divide\n",
      "  N = ((D / (nadir - ideal)) ** 2) * weights\n",
      "A:\\anaconda3\\envs\\xmoai\\lib\\site-packages\\pymoo\\algorithms\\rnsga2.py:183: RuntimeWarning: invalid value encountered in true_divide\n",
      "  N = ((D / (nadir - ideal)) ** 2) * weights\n",
      "A:\\anaconda3\\envs\\xmoai\\lib\\site-packages\\pymoo\\algorithms\\rnsga2.py:183: RuntimeWarning: invalid value encountered in true_divide\n",
      "  N = ((D / (nadir - ideal)) ** 2) * weights\n",
      "A:\\anaconda3\\envs\\xmoai\\lib\\site-packages\\pymoo\\algorithms\\rnsga2.py:183: RuntimeWarning: invalid value encountered in true_divide\n",
      "  N = ((D / (nadir - ideal)) ** 2) * weights\n",
      "A:\\anaconda3\\envs\\xmoai\\lib\\site-packages\\pymoo\\algorithms\\rnsga2.py:183: RuntimeWarning: invalid value encountered in true_divide\n",
      "  N = ((D / (nadir - ideal)) ** 2) * weights\n",
      "A:\\anaconda3\\envs\\xmoai\\lib\\site-packages\\pymoo\\algorithms\\rnsga2.py:183: RuntimeWarning: invalid value encountered in true_divide\n",
      "  N = ((D / (nadir - ideal)) ** 2) * weights\n",
      "A:\\anaconda3\\envs\\xmoai\\lib\\site-packages\\pymoo\\algorithms\\rnsga2.py:183: RuntimeWarning: invalid value encountered in true_divide\n",
      "  N = ((D / (nadir - ideal)) ** 2) * weights\n",
      "A:\\anaconda3\\envs\\xmoai\\lib\\site-packages\\pymoo\\algorithms\\rnsga2.py:183: RuntimeWarning: invalid value encountered in true_divide\n",
      "  N = ((D / (nadir - ideal)) ** 2) * weights\n",
      "A:\\anaconda3\\envs\\xmoai\\lib\\site-packages\\pymoo\\algorithms\\rnsga2.py:183: RuntimeWarning: invalid value encountered in true_divide\n",
      "  N = ((D / (nadir - ideal)) ** 2) * weights\n",
      "A:\\anaconda3\\envs\\xmoai\\lib\\site-packages\\pymoo\\algorithms\\rnsga2.py:183: RuntimeWarning: invalid value encountered in true_divide\n",
      "  N = ((D / (nadir - ideal)) ** 2) * weights\n",
      "A:\\anaconda3\\envs\\xmoai\\lib\\site-packages\\pymoo\\algorithms\\rnsga2.py:183: RuntimeWarning: invalid value encountered in true_divide\n",
      "  N = ((D / (nadir - ideal)) ** 2) * weights\n",
      "A:\\anaconda3\\envs\\xmoai\\lib\\site-packages\\pymoo\\algorithms\\rnsga2.py:183: RuntimeWarning: invalid value encountered in true_divide\n",
      "  N = ((D / (nadir - ideal)) ** 2) * weights\n",
      "A:\\anaconda3\\envs\\xmoai\\lib\\site-packages\\pymoo\\algorithms\\rnsga2.py:183: RuntimeWarning: invalid value encountered in true_divide\n",
      "  N = ((D / (nadir - ideal)) ** 2) * weights\n",
      "A:\\anaconda3\\envs\\xmoai\\lib\\site-packages\\pymoo\\algorithms\\rnsga2.py:183: RuntimeWarning: invalid value encountered in true_divide\n",
      "  N = ((D / (nadir - ideal)) ** 2) * weights\n",
      "A:\\anaconda3\\envs\\xmoai\\lib\\site-packages\\pymoo\\algorithms\\rnsga2.py:183: RuntimeWarning: invalid value encountered in true_divide\n",
      "  N = ((D / (nadir - ideal)) ** 2) * weights\n",
      "A:\\anaconda3\\envs\\xmoai\\lib\\site-packages\\pymoo\\algorithms\\rnsga2.py:183: RuntimeWarning: invalid value encountered in true_divide\n",
      "  N = ((D / (nadir - ideal)) ** 2) * weights\n",
      "A:\\anaconda3\\envs\\xmoai\\lib\\site-packages\\pymoo\\algorithms\\rnsga2.py:183: RuntimeWarning: invalid value encountered in true_divide\n",
      "  N = ((D / (nadir - ideal)) ** 2) * weights\n",
      "A:\\anaconda3\\envs\\xmoai\\lib\\site-packages\\pymoo\\algorithms\\rnsga2.py:183: RuntimeWarning: invalid value encountered in true_divide\n",
      "  N = ((D / (nadir - ideal)) ** 2) * weights\n",
      "A:\\anaconda3\\envs\\xmoai\\lib\\site-packages\\pymoo\\algorithms\\rnsga2.py:183: RuntimeWarning: invalid value encountered in true_divide\n",
      "  N = ((D / (nadir - ideal)) ** 2) * weights\n",
      "A:\\anaconda3\\envs\\xmoai\\lib\\site-packages\\pymoo\\algorithms\\rnsga2.py:183: RuntimeWarning: invalid value encountered in true_divide\n",
      "  N = ((D / (nadir - ideal)) ** 2) * weights\n",
      "A:\\anaconda3\\envs\\xmoai\\lib\\site-packages\\pymoo\\algorithms\\rnsga2.py:183: RuntimeWarning: invalid value encountered in true_divide\n",
      "  N = ((D / (nadir - ideal)) ** 2) * weights\n",
      "A:\\anaconda3\\envs\\xmoai\\lib\\site-packages\\pymoo\\algorithms\\rnsga2.py:183: RuntimeWarning: invalid value encountered in true_divide\n",
      "  N = ((D / (nadir - ideal)) ** 2) * weights\n",
      "A:\\anaconda3\\envs\\xmoai\\lib\\site-packages\\pymoo\\algorithms\\rnsga2.py:183: RuntimeWarning: invalid value encountered in true_divide\n",
      "  N = ((D / (nadir - ideal)) ** 2) * weights\n",
      "A:\\anaconda3\\envs\\xmoai\\lib\\site-packages\\pymoo\\algorithms\\rnsga2.py:183: RuntimeWarning: invalid value encountered in true_divide\n",
      "  N = ((D / (nadir - ideal)) ** 2) * weights\n",
      "A:\\anaconda3\\envs\\xmoai\\lib\\site-packages\\pymoo\\algorithms\\rnsga2.py:183: RuntimeWarning: invalid value encountered in true_divide\n",
      "  N = ((D / (nadir - ideal)) ** 2) * weights\n",
      "A:\\anaconda3\\envs\\xmoai\\lib\\site-packages\\pymoo\\algorithms\\rnsga2.py:183: RuntimeWarning: invalid value encountered in true_divide\n",
      "  N = ((D / (nadir - ideal)) ** 2) * weights\n",
      "A:\\anaconda3\\envs\\xmoai\\lib\\site-packages\\pymoo\\algorithms\\rnsga2.py:183: RuntimeWarning: invalid value encountered in true_divide\n",
      "  N = ((D / (nadir - ideal)) ** 2) * weights\n",
      "A:\\anaconda3\\envs\\xmoai\\lib\\site-packages\\pymoo\\algorithms\\rnsga2.py:183: RuntimeWarning: invalid value encountered in true_divide\n",
      "  N = ((D / (nadir - ideal)) ** 2) * weights\n",
      "A:\\anaconda3\\envs\\xmoai\\lib\\site-packages\\pymoo\\algorithms\\rnsga2.py:183: RuntimeWarning: invalid value encountered in true_divide\n",
      "  N = ((D / (nadir - ideal)) ** 2) * weights\n",
      "A:\\anaconda3\\envs\\xmoai\\lib\\site-packages\\pymoo\\algorithms\\rnsga2.py:183: RuntimeWarning: invalid value encountered in true_divide\n",
      "  N = ((D / (nadir - ideal)) ** 2) * weights\n",
      "A:\\anaconda3\\envs\\xmoai\\lib\\site-packages\\pymoo\\algorithms\\rnsga2.py:183: RuntimeWarning: invalid value encountered in true_divide\n",
      "  N = ((D / (nadir - ideal)) ** 2) * weights\n",
      "A:\\anaconda3\\envs\\xmoai\\lib\\site-packages\\pymoo\\algorithms\\rnsga2.py:183: RuntimeWarning: invalid value encountered in true_divide\n",
      "  N = ((D / (nadir - ideal)) ** 2) * weights\n",
      "A:\\anaconda3\\envs\\xmoai\\lib\\site-packages\\pymoo\\algorithms\\rnsga2.py:183: RuntimeWarning: invalid value encountered in true_divide\n",
      "  N = ((D / (nadir - ideal)) ** 2) * weights\n",
      "A:\\anaconda3\\envs\\xmoai\\lib\\site-packages\\pymoo\\algorithms\\rnsga2.py:183: RuntimeWarning: invalid value encountered in true_divide\n",
      "  N = ((D / (nadir - ideal)) ** 2) * weights\n",
      "A:\\anaconda3\\envs\\xmoai\\lib\\site-packages\\pymoo\\algorithms\\rnsga2.py:183: RuntimeWarning: invalid value encountered in true_divide\n",
      "  N = ((D / (nadir - ideal)) ** 2) * weights\n",
      "A:\\anaconda3\\envs\\xmoai\\lib\\site-packages\\pymoo\\algorithms\\rnsga2.py:183: RuntimeWarning: invalid value encountered in true_divide\n",
      "  N = ((D / (nadir - ideal)) ** 2) * weights\n",
      "A:\\anaconda3\\envs\\xmoai\\lib\\site-packages\\pymoo\\algorithms\\rnsga2.py:183: RuntimeWarning: invalid value encountered in true_divide\n",
      "  N = ((D / (nadir - ideal)) ** 2) * weights\n",
      "A:\\anaconda3\\envs\\xmoai\\lib\\site-packages\\pymoo\\algorithms\\rnsga2.py:183: RuntimeWarning: invalid value encountered in true_divide\n",
      "  N = ((D / (nadir - ideal)) ** 2) * weights\n",
      "A:\\anaconda3\\envs\\xmoai\\lib\\site-packages\\pymoo\\algorithms\\rnsga2.py:183: RuntimeWarning: invalid value encountered in true_divide\n",
      "  N = ((D / (nadir - ideal)) ** 2) * weights\n",
      "A:\\anaconda3\\envs\\xmoai\\lib\\site-packages\\pymoo\\algorithms\\rnsga2.py:183: RuntimeWarning: invalid value encountered in true_divide\n",
      "  N = ((D / (nadir - ideal)) ** 2) * weights\n",
      "A:\\anaconda3\\envs\\xmoai\\lib\\site-packages\\pymoo\\algorithms\\rnsga2.py:183: RuntimeWarning: invalid value encountered in true_divide\n",
      "  N = ((D / (nadir - ideal)) ** 2) * weights\n",
      "A:\\anaconda3\\envs\\xmoai\\lib\\site-packages\\pymoo\\algorithms\\rnsga2.py:183: RuntimeWarning: invalid value encountered in true_divide\n",
      "  N = ((D / (nadir - ideal)) ** 2) * weights\n",
      "A:\\anaconda3\\envs\\xmoai\\lib\\site-packages\\pymoo\\algorithms\\rnsga2.py:183: RuntimeWarning: invalid value encountered in true_divide\n",
      "  N = ((D / (nadir - ideal)) ** 2) * weights\n",
      "A:\\anaconda3\\envs\\xmoai\\lib\\site-packages\\pymoo\\algorithms\\rnsga2.py:183: RuntimeWarning: invalid value encountered in true_divide\n",
      "  N = ((D / (nadir - ideal)) ** 2) * weights\n",
      "A:\\anaconda3\\envs\\xmoai\\lib\\site-packages\\pymoo\\algorithms\\rnsga2.py:183: RuntimeWarning: invalid value encountered in true_divide\n",
      "  N = ((D / (nadir - ideal)) ** 2) * weights\n"
     ]
    },
    {
     "name": "stderr",
     "output_type": "stream",
     "text": [
      "A:\\anaconda3\\envs\\xmoai\\lib\\site-packages\\pymoo\\algorithms\\rnsga2.py:183: RuntimeWarning: invalid value encountered in true_divide\n",
      "  N = ((D / (nadir - ideal)) ** 2) * weights\n",
      "A:\\anaconda3\\envs\\xmoai\\lib\\site-packages\\pymoo\\algorithms\\rnsga2.py:183: RuntimeWarning: invalid value encountered in true_divide\n",
      "  N = ((D / (nadir - ideal)) ** 2) * weights\n",
      "A:\\anaconda3\\envs\\xmoai\\lib\\site-packages\\pymoo\\algorithms\\rnsga2.py:183: RuntimeWarning: invalid value encountered in true_divide\n",
      "  N = ((D / (nadir - ideal)) ** 2) * weights\n",
      "A:\\anaconda3\\envs\\xmoai\\lib\\site-packages\\topsis\\topsis.py:66: RuntimeWarning: invalid value encountered in true_divide\n",
      "  self.r = self.a/np.array(np.linalg.norm(self.a, axis=1)[:, np.newaxis])\n",
      "A:\\anaconda3\\envs\\xmoai\\lib\\site-packages\\topsis\\topsis.py:66: RuntimeWarning: invalid value encountered in true_divide\n",
      "  self.r = self.a/np.array(np.linalg.norm(self.a, axis=1)[:, np.newaxis])\n",
      "A:\\anaconda3\\envs\\xmoai\\lib\\site-packages\\topsis\\topsis.py:66: RuntimeWarning: invalid value encountered in true_divide\n",
      "  self.r = self.a/np.array(np.linalg.norm(self.a, axis=1)[:, np.newaxis])\n",
      "A:\\anaconda3\\envs\\xmoai\\lib\\site-packages\\topsis\\topsis.py:66: RuntimeWarning: invalid value encountered in true_divide\n",
      "  self.r = self.a/np.array(np.linalg.norm(self.a, axis=1)[:, np.newaxis])\n",
      "A:\\anaconda3\\envs\\xmoai\\lib\\site-packages\\topsis\\topsis.py:66: RuntimeWarning: invalid value encountered in true_divide\n",
      "  self.r = self.a/np.array(np.linalg.norm(self.a, axis=1)[:, np.newaxis])\n",
      "A:\\anaconda3\\envs\\xmoai\\lib\\site-packages\\topsis\\topsis.py:66: RuntimeWarning: invalid value encountered in true_divide\n",
      "  self.r = self.a/np.array(np.linalg.norm(self.a, axis=1)[:, np.newaxis])\n"
     ]
    },
    {
     "data": {
      "text/plain": [
       "'Training AIF360 - AdversarialDebiasing'"
      ]
     },
     "metadata": {},
     "output_type": "display_data"
    },
    {
     "data": {
      "text/plain": [
       "'Training AIF360 - PostProcessingMeta'"
      ]
     },
     "metadata": {},
     "output_type": "display_data"
    },
    {
     "data": {
      "text/plain": [
       "'Seed 25'"
      ]
     },
     "metadata": {},
     "output_type": "display_data"
    },
    {
     "data": {
      "text/plain": [
       "'Training the Voting Ensemble'"
      ]
     },
     "metadata": {},
     "output_type": "display_data"
    },
    {
     "data": {
      "text/plain": [
       "'Training Fairlearn'"
      ]
     },
     "metadata": {},
     "output_type": "display_data"
    },
    {
     "data": {
      "text/plain": [
       "'Training scikit-lego - DemographicParityClassifier'"
      ]
     },
     "metadata": {},
     "output_type": "display_data"
    },
    {
     "data": {
      "text/plain": [
       "'Training scikit-lego - EqualOpportunityClassifier'"
      ]
     },
     "metadata": {},
     "output_type": "display_data"
    },
    {
     "data": {
      "text/plain": [
       "'Training the proposal (nsga2)'"
      ]
     },
     "metadata": {},
     "output_type": "display_data"
    },
    {
     "name": "stderr",
     "output_type": "stream",
     "text": [
      "A:\\anaconda3\\envs\\xmoai\\lib\\site-packages\\topsis\\topsis.py:66: RuntimeWarning: invalid value encountered in true_divide\n",
      "  self.r = self.a/np.array(np.linalg.norm(self.a, axis=1)[:, np.newaxis])\n",
      "A:\\anaconda3\\envs\\xmoai\\lib\\site-packages\\topsis\\topsis.py:66: RuntimeWarning: invalid value encountered in true_divide\n",
      "  self.r = self.a/np.array(np.linalg.norm(self.a, axis=1)[:, np.newaxis])\n",
      "A:\\anaconda3\\envs\\xmoai\\lib\\site-packages\\topsis\\topsis.py:66: RuntimeWarning: invalid value encountered in true_divide\n",
      "  self.r = self.a/np.array(np.linalg.norm(self.a, axis=1)[:, np.newaxis])\n",
      "A:\\anaconda3\\envs\\xmoai\\lib\\site-packages\\topsis\\topsis.py:66: RuntimeWarning: invalid value encountered in true_divide\n",
      "  self.r = self.a/np.array(np.linalg.norm(self.a, axis=1)[:, np.newaxis])\n",
      "A:\\anaconda3\\envs\\xmoai\\lib\\site-packages\\topsis\\topsis.py:66: RuntimeWarning: invalid value encountered in true_divide\n",
      "  self.r = self.a/np.array(np.linalg.norm(self.a, axis=1)[:, np.newaxis])\n",
      "A:\\anaconda3\\envs\\xmoai\\lib\\site-packages\\topsis\\topsis.py:66: RuntimeWarning: invalid value encountered in true_divide\n",
      "  self.r = self.a/np.array(np.linalg.norm(self.a, axis=1)[:, np.newaxis])\n"
     ]
    },
    {
     "data": {
      "text/plain": [
       "'Training the proposal (rnsga2)'"
      ]
     },
     "metadata": {},
     "output_type": "display_data"
    },
    {
     "name": "stderr",
     "output_type": "stream",
     "text": [
      "A:\\anaconda3\\envs\\xmoai\\lib\\site-packages\\pymoo\\algorithms\\rnsga2.py:183: RuntimeWarning: invalid value encountered in true_divide\n",
      "  N = ((D / (nadir - ideal)) ** 2) * weights\n",
      "A:\\anaconda3\\envs\\xmoai\\lib\\site-packages\\pymoo\\algorithms\\rnsga2.py:183: RuntimeWarning: invalid value encountered in true_divide\n",
      "  N = ((D / (nadir - ideal)) ** 2) * weights\n",
      "A:\\anaconda3\\envs\\xmoai\\lib\\site-packages\\pymoo\\algorithms\\rnsga2.py:183: RuntimeWarning: invalid value encountered in true_divide\n",
      "  N = ((D / (nadir - ideal)) ** 2) * weights\n",
      "A:\\anaconda3\\envs\\xmoai\\lib\\site-packages\\pymoo\\algorithms\\rnsga2.py:183: RuntimeWarning: invalid value encountered in true_divide\n",
      "  N = ((D / (nadir - ideal)) ** 2) * weights\n",
      "A:\\anaconda3\\envs\\xmoai\\lib\\site-packages\\pymoo\\algorithms\\rnsga2.py:183: RuntimeWarning: invalid value encountered in true_divide\n",
      "  N = ((D / (nadir - ideal)) ** 2) * weights\n",
      "A:\\anaconda3\\envs\\xmoai\\lib\\site-packages\\pymoo\\algorithms\\rnsga2.py:183: RuntimeWarning: invalid value encountered in true_divide\n",
      "  N = ((D / (nadir - ideal)) ** 2) * weights\n",
      "A:\\anaconda3\\envs\\xmoai\\lib\\site-packages\\pymoo\\algorithms\\rnsga2.py:183: RuntimeWarning: invalid value encountered in true_divide\n",
      "  N = ((D / (nadir - ideal)) ** 2) * weights\n",
      "A:\\anaconda3\\envs\\xmoai\\lib\\site-packages\\pymoo\\algorithms\\rnsga2.py:183: RuntimeWarning: invalid value encountered in true_divide\n",
      "  N = ((D / (nadir - ideal)) ** 2) * weights\n",
      "A:\\anaconda3\\envs\\xmoai\\lib\\site-packages\\pymoo\\algorithms\\rnsga2.py:183: RuntimeWarning: invalid value encountered in true_divide\n",
      "  N = ((D / (nadir - ideal)) ** 2) * weights\n",
      "A:\\anaconda3\\envs\\xmoai\\lib\\site-packages\\pymoo\\algorithms\\rnsga2.py:183: RuntimeWarning: invalid value encountered in true_divide\n",
      "  N = ((D / (nadir - ideal)) ** 2) * weights\n",
      "A:\\anaconda3\\envs\\xmoai\\lib\\site-packages\\pymoo\\algorithms\\rnsga2.py:183: RuntimeWarning: divide by zero encountered in true_divide\n",
      "  N = ((D / (nadir - ideal)) ** 2) * weights\n",
      "A:\\anaconda3\\envs\\xmoai\\lib\\site-packages\\pymoo\\algorithms\\rnsga2.py:183: RuntimeWarning: invalid value encountered in true_divide\n",
      "  N = ((D / (nadir - ideal)) ** 2) * weights\n",
      "A:\\anaconda3\\envs\\xmoai\\lib\\site-packages\\pymoo\\algorithms\\rnsga2.py:183: RuntimeWarning: invalid value encountered in true_divide\n",
      "  N = ((D / (nadir - ideal)) ** 2) * weights\n",
      "A:\\anaconda3\\envs\\xmoai\\lib\\site-packages\\pymoo\\algorithms\\rnsga2.py:183: RuntimeWarning: invalid value encountered in true_divide\n",
      "  N = ((D / (nadir - ideal)) ** 2) * weights\n",
      "A:\\anaconda3\\envs\\xmoai\\lib\\site-packages\\pymoo\\algorithms\\rnsga2.py:183: RuntimeWarning: invalid value encountered in true_divide\n",
      "  N = ((D / (nadir - ideal)) ** 2) * weights\n",
      "A:\\anaconda3\\envs\\xmoai\\lib\\site-packages\\pymoo\\algorithms\\rnsga2.py:183: RuntimeWarning: invalid value encountered in true_divide\n",
      "  N = ((D / (nadir - ideal)) ** 2) * weights\n",
      "A:\\anaconda3\\envs\\xmoai\\lib\\site-packages\\pymoo\\algorithms\\rnsga2.py:183: RuntimeWarning: invalid value encountered in true_divide\n",
      "  N = ((D / (nadir - ideal)) ** 2) * weights\n",
      "A:\\anaconda3\\envs\\xmoai\\lib\\site-packages\\pymoo\\algorithms\\rnsga2.py:183: RuntimeWarning: invalid value encountered in true_divide\n",
      "  N = ((D / (nadir - ideal)) ** 2) * weights\n",
      "A:\\anaconda3\\envs\\xmoai\\lib\\site-packages\\pymoo\\algorithms\\rnsga2.py:183: RuntimeWarning: invalid value encountered in true_divide\n",
      "  N = ((D / (nadir - ideal)) ** 2) * weights\n",
      "A:\\anaconda3\\envs\\xmoai\\lib\\site-packages\\pymoo\\algorithms\\rnsga2.py:183: RuntimeWarning: invalid value encountered in true_divide\n",
      "  N = ((D / (nadir - ideal)) ** 2) * weights\n",
      "A:\\anaconda3\\envs\\xmoai\\lib\\site-packages\\pymoo\\algorithms\\rnsga2.py:183: RuntimeWarning: invalid value encountered in true_divide\n",
      "  N = ((D / (nadir - ideal)) ** 2) * weights\n",
      "A:\\anaconda3\\envs\\xmoai\\lib\\site-packages\\pymoo\\algorithms\\rnsga2.py:183: RuntimeWarning: divide by zero encountered in true_divide\n",
      "  N = ((D / (nadir - ideal)) ** 2) * weights\n",
      "A:\\anaconda3\\envs\\xmoai\\lib\\site-packages\\pymoo\\algorithms\\rnsga2.py:183: RuntimeWarning: invalid value encountered in true_divide\n",
      "  N = ((D / (nadir - ideal)) ** 2) * weights\n",
      "A:\\anaconda3\\envs\\xmoai\\lib\\site-packages\\pymoo\\algorithms\\rnsga2.py:183: RuntimeWarning: divide by zero encountered in true_divide\n",
      "  N = ((D / (nadir - ideal)) ** 2) * weights\n",
      "A:\\anaconda3\\envs\\xmoai\\lib\\site-packages\\pymoo\\algorithms\\rnsga2.py:183: RuntimeWarning: invalid value encountered in true_divide\n",
      "  N = ((D / (nadir - ideal)) ** 2) * weights\n",
      "A:\\anaconda3\\envs\\xmoai\\lib\\site-packages\\pymoo\\algorithms\\rnsga2.py:183: RuntimeWarning: divide by zero encountered in true_divide\n",
      "  N = ((D / (nadir - ideal)) ** 2) * weights\n",
      "A:\\anaconda3\\envs\\xmoai\\lib\\site-packages\\pymoo\\algorithms\\rnsga2.py:183: RuntimeWarning: invalid value encountered in true_divide\n",
      "  N = ((D / (nadir - ideal)) ** 2) * weights\n",
      "A:\\anaconda3\\envs\\xmoai\\lib\\site-packages\\pymoo\\algorithms\\rnsga2.py:183: RuntimeWarning: invalid value encountered in true_divide\n",
      "  N = ((D / (nadir - ideal)) ** 2) * weights\n",
      "A:\\anaconda3\\envs\\xmoai\\lib\\site-packages\\pymoo\\algorithms\\rnsga2.py:183: RuntimeWarning: invalid value encountered in true_divide\n",
      "  N = ((D / (nadir - ideal)) ** 2) * weights\n",
      "A:\\anaconda3\\envs\\xmoai\\lib\\site-packages\\pymoo\\algorithms\\rnsga2.py:183: RuntimeWarning: invalid value encountered in true_divide\n",
      "  N = ((D / (nadir - ideal)) ** 2) * weights\n",
      "A:\\anaconda3\\envs\\xmoai\\lib\\site-packages\\pymoo\\algorithms\\rnsga2.py:183: RuntimeWarning: invalid value encountered in true_divide\n",
      "  N = ((D / (nadir - ideal)) ** 2) * weights\n",
      "A:\\anaconda3\\envs\\xmoai\\lib\\site-packages\\pymoo\\algorithms\\rnsga2.py:183: RuntimeWarning: invalid value encountered in true_divide\n",
      "  N = ((D / (nadir - ideal)) ** 2) * weights\n",
      "A:\\anaconda3\\envs\\xmoai\\lib\\site-packages\\pymoo\\algorithms\\rnsga2.py:183: RuntimeWarning: divide by zero encountered in true_divide\n",
      "  N = ((D / (nadir - ideal)) ** 2) * weights\n",
      "A:\\anaconda3\\envs\\xmoai\\lib\\site-packages\\pymoo\\algorithms\\rnsga2.py:183: RuntimeWarning: invalid value encountered in true_divide\n",
      "  N = ((D / (nadir - ideal)) ** 2) * weights\n",
      "A:\\anaconda3\\envs\\xmoai\\lib\\site-packages\\pymoo\\algorithms\\rnsga2.py:183: RuntimeWarning: divide by zero encountered in true_divide\n",
      "  N = ((D / (nadir - ideal)) ** 2) * weights\n",
      "A:\\anaconda3\\envs\\xmoai\\lib\\site-packages\\pymoo\\algorithms\\rnsga2.py:183: RuntimeWarning: invalid value encountered in true_divide\n",
      "  N = ((D / (nadir - ideal)) ** 2) * weights\n",
      "A:\\anaconda3\\envs\\xmoai\\lib\\site-packages\\pymoo\\algorithms\\rnsga2.py:183: RuntimeWarning: invalid value encountered in true_divide\n",
      "  N = ((D / (nadir - ideal)) ** 2) * weights\n",
      "A:\\anaconda3\\envs\\xmoai\\lib\\site-packages\\pymoo\\algorithms\\rnsga2.py:183: RuntimeWarning: invalid value encountered in true_divide\n",
      "  N = ((D / (nadir - ideal)) ** 2) * weights\n",
      "A:\\anaconda3\\envs\\xmoai\\lib\\site-packages\\pymoo\\algorithms\\rnsga2.py:183: RuntimeWarning: divide by zero encountered in true_divide\n",
      "  N = ((D / (nadir - ideal)) ** 2) * weights\n",
      "A:\\anaconda3\\envs\\xmoai\\lib\\site-packages\\pymoo\\algorithms\\rnsga2.py:183: RuntimeWarning: invalid value encountered in true_divide\n",
      "  N = ((D / (nadir - ideal)) ** 2) * weights\n",
      "A:\\anaconda3\\envs\\xmoai\\lib\\site-packages\\pymoo\\algorithms\\rnsga2.py:183: RuntimeWarning: divide by zero encountered in true_divide\n",
      "  N = ((D / (nadir - ideal)) ** 2) * weights\n",
      "A:\\anaconda3\\envs\\xmoai\\lib\\site-packages\\pymoo\\algorithms\\rnsga2.py:183: RuntimeWarning: invalid value encountered in true_divide\n",
      "  N = ((D / (nadir - ideal)) ** 2) * weights\n",
      "A:\\anaconda3\\envs\\xmoai\\lib\\site-packages\\pymoo\\algorithms\\rnsga2.py:183: RuntimeWarning: divide by zero encountered in true_divide\n",
      "  N = ((D / (nadir - ideal)) ** 2) * weights\n",
      "A:\\anaconda3\\envs\\xmoai\\lib\\site-packages\\pymoo\\algorithms\\rnsga2.py:183: RuntimeWarning: invalid value encountered in true_divide\n",
      "  N = ((D / (nadir - ideal)) ** 2) * weights\n",
      "A:\\anaconda3\\envs\\xmoai\\lib\\site-packages\\pymoo\\algorithms\\rnsga2.py:183: RuntimeWarning: divide by zero encountered in true_divide\n",
      "  N = ((D / (nadir - ideal)) ** 2) * weights\n",
      "A:\\anaconda3\\envs\\xmoai\\lib\\site-packages\\pymoo\\algorithms\\rnsga2.py:183: RuntimeWarning: invalid value encountered in true_divide\n",
      "  N = ((D / (nadir - ideal)) ** 2) * weights\n",
      "A:\\anaconda3\\envs\\xmoai\\lib\\site-packages\\pymoo\\algorithms\\rnsga2.py:183: RuntimeWarning: invalid value encountered in true_divide\n",
      "  N = ((D / (nadir - ideal)) ** 2) * weights\n"
     ]
    },
    {
     "name": "stderr",
     "output_type": "stream",
     "text": [
      "A:\\anaconda3\\envs\\xmoai\\lib\\site-packages\\pymoo\\algorithms\\rnsga2.py:183: RuntimeWarning: invalid value encountered in true_divide\n",
      "  N = ((D / (nadir - ideal)) ** 2) * weights\n",
      "A:\\anaconda3\\envs\\xmoai\\lib\\site-packages\\pymoo\\algorithms\\rnsga2.py:183: RuntimeWarning: divide by zero encountered in true_divide\n",
      "  N = ((D / (nadir - ideal)) ** 2) * weights\n",
      "A:\\anaconda3\\envs\\xmoai\\lib\\site-packages\\pymoo\\algorithms\\rnsga2.py:183: RuntimeWarning: invalid value encountered in true_divide\n",
      "  N = ((D / (nadir - ideal)) ** 2) * weights\n",
      "A:\\anaconda3\\envs\\xmoai\\lib\\site-packages\\pymoo\\algorithms\\rnsga2.py:183: RuntimeWarning: divide by zero encountered in true_divide\n",
      "  N = ((D / (nadir - ideal)) ** 2) * weights\n",
      "A:\\anaconda3\\envs\\xmoai\\lib\\site-packages\\pymoo\\algorithms\\rnsga2.py:183: RuntimeWarning: invalid value encountered in true_divide\n",
      "  N = ((D / (nadir - ideal)) ** 2) * weights\n",
      "A:\\anaconda3\\envs\\xmoai\\lib\\site-packages\\pymoo\\algorithms\\rnsga2.py:183: RuntimeWarning: divide by zero encountered in true_divide\n",
      "  N = ((D / (nadir - ideal)) ** 2) * weights\n",
      "A:\\anaconda3\\envs\\xmoai\\lib\\site-packages\\pymoo\\algorithms\\rnsga2.py:183: RuntimeWarning: invalid value encountered in true_divide\n",
      "  N = ((D / (nadir - ideal)) ** 2) * weights\n",
      "A:\\anaconda3\\envs\\xmoai\\lib\\site-packages\\pymoo\\algorithms\\rnsga2.py:183: RuntimeWarning: divide by zero encountered in true_divide\n",
      "  N = ((D / (nadir - ideal)) ** 2) * weights\n",
      "A:\\anaconda3\\envs\\xmoai\\lib\\site-packages\\pymoo\\algorithms\\rnsga2.py:183: RuntimeWarning: invalid value encountered in true_divide\n",
      "  N = ((D / (nadir - ideal)) ** 2) * weights\n",
      "A:\\anaconda3\\envs\\xmoai\\lib\\site-packages\\pymoo\\algorithms\\rnsga2.py:183: RuntimeWarning: divide by zero encountered in true_divide\n",
      "  N = ((D / (nadir - ideal)) ** 2) * weights\n",
      "A:\\anaconda3\\envs\\xmoai\\lib\\site-packages\\pymoo\\algorithms\\rnsga2.py:183: RuntimeWarning: invalid value encountered in true_divide\n",
      "  N = ((D / (nadir - ideal)) ** 2) * weights\n",
      "A:\\anaconda3\\envs\\xmoai\\lib\\site-packages\\pymoo\\algorithms\\rnsga2.py:183: RuntimeWarning: divide by zero encountered in true_divide\n",
      "  N = ((D / (nadir - ideal)) ** 2) * weights\n",
      "A:\\anaconda3\\envs\\xmoai\\lib\\site-packages\\pymoo\\algorithms\\rnsga2.py:183: RuntimeWarning: invalid value encountered in true_divide\n",
      "  N = ((D / (nadir - ideal)) ** 2) * weights\n",
      "A:\\anaconda3\\envs\\xmoai\\lib\\site-packages\\pymoo\\algorithms\\rnsga2.py:183: RuntimeWarning: divide by zero encountered in true_divide\n",
      "  N = ((D / (nadir - ideal)) ** 2) * weights\n",
      "A:\\anaconda3\\envs\\xmoai\\lib\\site-packages\\pymoo\\algorithms\\rnsga2.py:183: RuntimeWarning: invalid value encountered in true_divide\n",
      "  N = ((D / (nadir - ideal)) ** 2) * weights\n",
      "A:\\anaconda3\\envs\\xmoai\\lib\\site-packages\\pymoo\\algorithms\\rnsga2.py:183: RuntimeWarning: divide by zero encountered in true_divide\n",
      "  N = ((D / (nadir - ideal)) ** 2) * weights\n",
      "A:\\anaconda3\\envs\\xmoai\\lib\\site-packages\\pymoo\\algorithms\\rnsga2.py:183: RuntimeWarning: invalid value encountered in true_divide\n",
      "  N = ((D / (nadir - ideal)) ** 2) * weights\n",
      "A:\\anaconda3\\envs\\xmoai\\lib\\site-packages\\pymoo\\algorithms\\rnsga2.py:183: RuntimeWarning: divide by zero encountered in true_divide\n",
      "  N = ((D / (nadir - ideal)) ** 2) * weights\n",
      "A:\\anaconda3\\envs\\xmoai\\lib\\site-packages\\pymoo\\algorithms\\rnsga2.py:183: RuntimeWarning: invalid value encountered in true_divide\n",
      "  N = ((D / (nadir - ideal)) ** 2) * weights\n",
      "A:\\anaconda3\\envs\\xmoai\\lib\\site-packages\\pymoo\\algorithms\\rnsga2.py:183: RuntimeWarning: invalid value encountered in true_divide\n",
      "  N = ((D / (nadir - ideal)) ** 2) * weights\n",
      "A:\\anaconda3\\envs\\xmoai\\lib\\site-packages\\pymoo\\algorithms\\rnsga2.py:183: RuntimeWarning: invalid value encountered in true_divide\n",
      "  N = ((D / (nadir - ideal)) ** 2) * weights\n",
      "A:\\anaconda3\\envs\\xmoai\\lib\\site-packages\\pymoo\\algorithms\\rnsga2.py:183: RuntimeWarning: invalid value encountered in true_divide\n",
      "  N = ((D / (nadir - ideal)) ** 2) * weights\n",
      "A:\\anaconda3\\envs\\xmoai\\lib\\site-packages\\topsis\\topsis.py:66: RuntimeWarning: invalid value encountered in true_divide\n",
      "  self.r = self.a/np.array(np.linalg.norm(self.a, axis=1)[:, np.newaxis])\n",
      "A:\\anaconda3\\envs\\xmoai\\lib\\site-packages\\topsis\\topsis.py:66: RuntimeWarning: invalid value encountered in true_divide\n",
      "  self.r = self.a/np.array(np.linalg.norm(self.a, axis=1)[:, np.newaxis])\n",
      "A:\\anaconda3\\envs\\xmoai\\lib\\site-packages\\topsis\\topsis.py:66: RuntimeWarning: invalid value encountered in true_divide\n",
      "  self.r = self.a/np.array(np.linalg.norm(self.a, axis=1)[:, np.newaxis])\n",
      "A:\\anaconda3\\envs\\xmoai\\lib\\site-packages\\topsis\\topsis.py:66: RuntimeWarning: invalid value encountered in true_divide\n",
      "  self.r = self.a/np.array(np.linalg.norm(self.a, axis=1)[:, np.newaxis])\n",
      "A:\\anaconda3\\envs\\xmoai\\lib\\site-packages\\topsis\\topsis.py:66: RuntimeWarning: invalid value encountered in true_divide\n",
      "  self.r = self.a/np.array(np.linalg.norm(self.a, axis=1)[:, np.newaxis])\n",
      "A:\\anaconda3\\envs\\xmoai\\lib\\site-packages\\topsis\\topsis.py:66: RuntimeWarning: invalid value encountered in true_divide\n",
      "  self.r = self.a/np.array(np.linalg.norm(self.a, axis=1)[:, np.newaxis])\n"
     ]
    },
    {
     "data": {
      "text/plain": [
       "'Training AIF360 - AdversarialDebiasing'"
      ]
     },
     "metadata": {},
     "output_type": "display_data"
    },
    {
     "data": {
      "text/plain": [
       "'Training AIF360 - PostProcessingMeta'"
      ]
     },
     "metadata": {},
     "output_type": "display_data"
    },
    {
     "data": {
      "text/plain": [
       "'Seed 26'"
      ]
     },
     "metadata": {},
     "output_type": "display_data"
    },
    {
     "data": {
      "text/plain": [
       "'Training the Voting Ensemble'"
      ]
     },
     "metadata": {},
     "output_type": "display_data"
    },
    {
     "data": {
      "text/plain": [
       "'Training Fairlearn'"
      ]
     },
     "metadata": {},
     "output_type": "display_data"
    },
    {
     "data": {
      "text/plain": [
       "'Training scikit-lego - DemographicParityClassifier'"
      ]
     },
     "metadata": {},
     "output_type": "display_data"
    },
    {
     "data": {
      "text/plain": [
       "'Training scikit-lego - EqualOpportunityClassifier'"
      ]
     },
     "metadata": {},
     "output_type": "display_data"
    },
    {
     "data": {
      "text/plain": [
       "'Training the proposal (nsga2)'"
      ]
     },
     "metadata": {},
     "output_type": "display_data"
    },
    {
     "name": "stderr",
     "output_type": "stream",
     "text": [
      "A:\\anaconda3\\envs\\xmoai\\lib\\site-packages\\topsis\\topsis.py:66: RuntimeWarning: invalid value encountered in true_divide\n",
      "  self.r = self.a/np.array(np.linalg.norm(self.a, axis=1)[:, np.newaxis])\n",
      "A:\\anaconda3\\envs\\xmoai\\lib\\site-packages\\topsis\\topsis.py:66: RuntimeWarning: invalid value encountered in true_divide\n",
      "  self.r = self.a/np.array(np.linalg.norm(self.a, axis=1)[:, np.newaxis])\n",
      "A:\\anaconda3\\envs\\xmoai\\lib\\site-packages\\topsis\\topsis.py:66: RuntimeWarning: invalid value encountered in true_divide\n",
      "  self.r = self.a/np.array(np.linalg.norm(self.a, axis=1)[:, np.newaxis])\n",
      "A:\\anaconda3\\envs\\xmoai\\lib\\site-packages\\topsis\\topsis.py:66: RuntimeWarning: invalid value encountered in true_divide\n",
      "  self.r = self.a/np.array(np.linalg.norm(self.a, axis=1)[:, np.newaxis])\n",
      "A:\\anaconda3\\envs\\xmoai\\lib\\site-packages\\topsis\\topsis.py:66: RuntimeWarning: invalid value encountered in true_divide\n",
      "  self.r = self.a/np.array(np.linalg.norm(self.a, axis=1)[:, np.newaxis])\n",
      "A:\\anaconda3\\envs\\xmoai\\lib\\site-packages\\topsis\\topsis.py:66: RuntimeWarning: invalid value encountered in true_divide\n",
      "  self.r = self.a/np.array(np.linalg.norm(self.a, axis=1)[:, np.newaxis])\n"
     ]
    },
    {
     "data": {
      "text/plain": [
       "'Training the proposal (rnsga2)'"
      ]
     },
     "metadata": {},
     "output_type": "display_data"
    },
    {
     "name": "stderr",
     "output_type": "stream",
     "text": [
      "A:\\anaconda3\\envs\\xmoai\\lib\\site-packages\\pymoo\\algorithms\\rnsga2.py:183: RuntimeWarning: invalid value encountered in true_divide\n",
      "  N = ((D / (nadir - ideal)) ** 2) * weights\n",
      "A:\\anaconda3\\envs\\xmoai\\lib\\site-packages\\pymoo\\algorithms\\rnsga2.py:183: RuntimeWarning: invalid value encountered in true_divide\n",
      "  N = ((D / (nadir - ideal)) ** 2) * weights\n",
      "A:\\anaconda3\\envs\\xmoai\\lib\\site-packages\\pymoo\\algorithms\\rnsga2.py:183: RuntimeWarning: invalid value encountered in true_divide\n",
      "  N = ((D / (nadir - ideal)) ** 2) * weights\n",
      "A:\\anaconda3\\envs\\xmoai\\lib\\site-packages\\pymoo\\algorithms\\rnsga2.py:183: RuntimeWarning: invalid value encountered in true_divide\n",
      "  N = ((D / (nadir - ideal)) ** 2) * weights\n",
      "A:\\anaconda3\\envs\\xmoai\\lib\\site-packages\\pymoo\\algorithms\\rnsga2.py:183: RuntimeWarning: invalid value encountered in true_divide\n",
      "  N = ((D / (nadir - ideal)) ** 2) * weights\n",
      "A:\\anaconda3\\envs\\xmoai\\lib\\site-packages\\pymoo\\algorithms\\rnsga2.py:183: RuntimeWarning: invalid value encountered in true_divide\n",
      "  N = ((D / (nadir - ideal)) ** 2) * weights\n",
      "A:\\anaconda3\\envs\\xmoai\\lib\\site-packages\\pymoo\\algorithms\\rnsga2.py:183: RuntimeWarning: invalid value encountered in true_divide\n",
      "  N = ((D / (nadir - ideal)) ** 2) * weights\n",
      "A:\\anaconda3\\envs\\xmoai\\lib\\site-packages\\pymoo\\algorithms\\rnsga2.py:183: RuntimeWarning: invalid value encountered in true_divide\n",
      "  N = ((D / (nadir - ideal)) ** 2) * weights\n",
      "A:\\anaconda3\\envs\\xmoai\\lib\\site-packages\\pymoo\\algorithms\\rnsga2.py:183: RuntimeWarning: invalid value encountered in true_divide\n",
      "  N = ((D / (nadir - ideal)) ** 2) * weights\n",
      "A:\\anaconda3\\envs\\xmoai\\lib\\site-packages\\pymoo\\algorithms\\rnsga2.py:183: RuntimeWarning: invalid value encountered in true_divide\n",
      "  N = ((D / (nadir - ideal)) ** 2) * weights\n",
      "A:\\anaconda3\\envs\\xmoai\\lib\\site-packages\\pymoo\\algorithms\\rnsga2.py:183: RuntimeWarning: invalid value encountered in true_divide\n",
      "  N = ((D / (nadir - ideal)) ** 2) * weights\n",
      "A:\\anaconda3\\envs\\xmoai\\lib\\site-packages\\pymoo\\algorithms\\rnsga2.py:183: RuntimeWarning: invalid value encountered in true_divide\n",
      "  N = ((D / (nadir - ideal)) ** 2) * weights\n",
      "A:\\anaconda3\\envs\\xmoai\\lib\\site-packages\\pymoo\\algorithms\\rnsga2.py:183: RuntimeWarning: invalid value encountered in true_divide\n",
      "  N = ((D / (nadir - ideal)) ** 2) * weights\n",
      "A:\\anaconda3\\envs\\xmoai\\lib\\site-packages\\pymoo\\algorithms\\rnsga2.py:183: RuntimeWarning: invalid value encountered in true_divide\n",
      "  N = ((D / (nadir - ideal)) ** 2) * weights\n",
      "A:\\anaconda3\\envs\\xmoai\\lib\\site-packages\\pymoo\\algorithms\\rnsga2.py:183: RuntimeWarning: invalid value encountered in true_divide\n",
      "  N = ((D / (nadir - ideal)) ** 2) * weights\n",
      "A:\\anaconda3\\envs\\xmoai\\lib\\site-packages\\pymoo\\algorithms\\rnsga2.py:183: RuntimeWarning: invalid value encountered in true_divide\n",
      "  N = ((D / (nadir - ideal)) ** 2) * weights\n",
      "A:\\anaconda3\\envs\\xmoai\\lib\\site-packages\\pymoo\\algorithms\\rnsga2.py:183: RuntimeWarning: invalid value encountered in true_divide\n",
      "  N = ((D / (nadir - ideal)) ** 2) * weights\n",
      "A:\\anaconda3\\envs\\xmoai\\lib\\site-packages\\pymoo\\algorithms\\rnsga2.py:183: RuntimeWarning: invalid value encountered in true_divide\n",
      "  N = ((D / (nadir - ideal)) ** 2) * weights\n",
      "A:\\anaconda3\\envs\\xmoai\\lib\\site-packages\\pymoo\\algorithms\\rnsga2.py:183: RuntimeWarning: invalid value encountered in true_divide\n",
      "  N = ((D / (nadir - ideal)) ** 2) * weights\n",
      "A:\\anaconda3\\envs\\xmoai\\lib\\site-packages\\pymoo\\algorithms\\rnsga2.py:183: RuntimeWarning: invalid value encountered in true_divide\n",
      "  N = ((D / (nadir - ideal)) ** 2) * weights\n",
      "A:\\anaconda3\\envs\\xmoai\\lib\\site-packages\\pymoo\\algorithms\\rnsga2.py:183: RuntimeWarning: invalid value encountered in true_divide\n",
      "  N = ((D / (nadir - ideal)) ** 2) * weights\n",
      "A:\\anaconda3\\envs\\xmoai\\lib\\site-packages\\pymoo\\algorithms\\rnsga2.py:183: RuntimeWarning: invalid value encountered in true_divide\n",
      "  N = ((D / (nadir - ideal)) ** 2) * weights\n",
      "A:\\anaconda3\\envs\\xmoai\\lib\\site-packages\\pymoo\\algorithms\\rnsga2.py:183: RuntimeWarning: invalid value encountered in true_divide\n",
      "  N = ((D / (nadir - ideal)) ** 2) * weights\n",
      "A:\\anaconda3\\envs\\xmoai\\lib\\site-packages\\pymoo\\algorithms\\rnsga2.py:183: RuntimeWarning: invalid value encountered in true_divide\n",
      "  N = ((D / (nadir - ideal)) ** 2) * weights\n",
      "A:\\anaconda3\\envs\\xmoai\\lib\\site-packages\\pymoo\\algorithms\\rnsga2.py:183: RuntimeWarning: invalid value encountered in true_divide\n",
      "  N = ((D / (nadir - ideal)) ** 2) * weights\n",
      "A:\\anaconda3\\envs\\xmoai\\lib\\site-packages\\pymoo\\algorithms\\rnsga2.py:183: RuntimeWarning: invalid value encountered in true_divide\n",
      "  N = ((D / (nadir - ideal)) ** 2) * weights\n",
      "A:\\anaconda3\\envs\\xmoai\\lib\\site-packages\\pymoo\\algorithms\\rnsga2.py:183: RuntimeWarning: invalid value encountered in true_divide\n",
      "  N = ((D / (nadir - ideal)) ** 2) * weights\n",
      "A:\\anaconda3\\envs\\xmoai\\lib\\site-packages\\pymoo\\algorithms\\rnsga2.py:183: RuntimeWarning: invalid value encountered in true_divide\n",
      "  N = ((D / (nadir - ideal)) ** 2) * weights\n",
      "A:\\anaconda3\\envs\\xmoai\\lib\\site-packages\\pymoo\\algorithms\\rnsga2.py:183: RuntimeWarning: invalid value encountered in true_divide\n",
      "  N = ((D / (nadir - ideal)) ** 2) * weights\n",
      "A:\\anaconda3\\envs\\xmoai\\lib\\site-packages\\pymoo\\algorithms\\rnsga2.py:183: RuntimeWarning: invalid value encountered in true_divide\n",
      "  N = ((D / (nadir - ideal)) ** 2) * weights\n",
      "A:\\anaconda3\\envs\\xmoai\\lib\\site-packages\\pymoo\\algorithms\\rnsga2.py:183: RuntimeWarning: invalid value encountered in true_divide\n",
      "  N = ((D / (nadir - ideal)) ** 2) * weights\n",
      "A:\\anaconda3\\envs\\xmoai\\lib\\site-packages\\pymoo\\algorithms\\rnsga2.py:183: RuntimeWarning: invalid value encountered in true_divide\n",
      "  N = ((D / (nadir - ideal)) ** 2) * weights\n",
      "A:\\anaconda3\\envs\\xmoai\\lib\\site-packages\\pymoo\\algorithms\\rnsga2.py:183: RuntimeWarning: invalid value encountered in true_divide\n",
      "  N = ((D / (nadir - ideal)) ** 2) * weights\n",
      "A:\\anaconda3\\envs\\xmoai\\lib\\site-packages\\pymoo\\algorithms\\rnsga2.py:183: RuntimeWarning: divide by zero encountered in true_divide\n",
      "  N = ((D / (nadir - ideal)) ** 2) * weights\n",
      "A:\\anaconda3\\envs\\xmoai\\lib\\site-packages\\pymoo\\algorithms\\rnsga2.py:183: RuntimeWarning: invalid value encountered in true_divide\n",
      "  N = ((D / (nadir - ideal)) ** 2) * weights\n",
      "A:\\anaconda3\\envs\\xmoai\\lib\\site-packages\\pymoo\\algorithms\\rnsga2.py:183: RuntimeWarning: invalid value encountered in true_divide\n",
      "  N = ((D / (nadir - ideal)) ** 2) * weights\n",
      "A:\\anaconda3\\envs\\xmoai\\lib\\site-packages\\pymoo\\algorithms\\rnsga2.py:183: RuntimeWarning: invalid value encountered in true_divide\n",
      "  N = ((D / (nadir - ideal)) ** 2) * weights\n",
      "A:\\anaconda3\\envs\\xmoai\\lib\\site-packages\\pymoo\\algorithms\\rnsga2.py:183: RuntimeWarning: invalid value encountered in true_divide\n",
      "  N = ((D / (nadir - ideal)) ** 2) * weights\n",
      "A:\\anaconda3\\envs\\xmoai\\lib\\site-packages\\pymoo\\algorithms\\rnsga2.py:183: RuntimeWarning: invalid value encountered in true_divide\n",
      "  N = ((D / (nadir - ideal)) ** 2) * weights\n",
      "A:\\anaconda3\\envs\\xmoai\\lib\\site-packages\\pymoo\\algorithms\\rnsga2.py:183: RuntimeWarning: invalid value encountered in true_divide\n",
      "  N = ((D / (nadir - ideal)) ** 2) * weights\n",
      "A:\\anaconda3\\envs\\xmoai\\lib\\site-packages\\pymoo\\algorithms\\rnsga2.py:183: RuntimeWarning: invalid value encountered in true_divide\n",
      "  N = ((D / (nadir - ideal)) ** 2) * weights\n",
      "A:\\anaconda3\\envs\\xmoai\\lib\\site-packages\\pymoo\\algorithms\\rnsga2.py:183: RuntimeWarning: invalid value encountered in true_divide\n",
      "  N = ((D / (nadir - ideal)) ** 2) * weights\n",
      "A:\\anaconda3\\envs\\xmoai\\lib\\site-packages\\pymoo\\algorithms\\rnsga2.py:183: RuntimeWarning: invalid value encountered in true_divide\n",
      "  N = ((D / (nadir - ideal)) ** 2) * weights\n",
      "A:\\anaconda3\\envs\\xmoai\\lib\\site-packages\\pymoo\\algorithms\\rnsga2.py:183: RuntimeWarning: invalid value encountered in true_divide\n",
      "  N = ((D / (nadir - ideal)) ** 2) * weights\n",
      "A:\\anaconda3\\envs\\xmoai\\lib\\site-packages\\pymoo\\algorithms\\rnsga2.py:183: RuntimeWarning: invalid value encountered in true_divide\n",
      "  N = ((D / (nadir - ideal)) ** 2) * weights\n",
      "A:\\anaconda3\\envs\\xmoai\\lib\\site-packages\\pymoo\\algorithms\\rnsga2.py:183: RuntimeWarning: invalid value encountered in true_divide\n",
      "  N = ((D / (nadir - ideal)) ** 2) * weights\n",
      "A:\\anaconda3\\envs\\xmoai\\lib\\site-packages\\pymoo\\algorithms\\rnsga2.py:183: RuntimeWarning: invalid value encountered in true_divide\n",
      "  N = ((D / (nadir - ideal)) ** 2) * weights\n"
     ]
    },
    {
     "name": "stderr",
     "output_type": "stream",
     "text": [
      "A:\\anaconda3\\envs\\xmoai\\lib\\site-packages\\pymoo\\algorithms\\rnsga2.py:183: RuntimeWarning: invalid value encountered in true_divide\n",
      "  N = ((D / (nadir - ideal)) ** 2) * weights\n",
      "A:\\anaconda3\\envs\\xmoai\\lib\\site-packages\\pymoo\\algorithms\\rnsga2.py:183: RuntimeWarning: invalid value encountered in true_divide\n",
      "  N = ((D / (nadir - ideal)) ** 2) * weights\n",
      "A:\\anaconda3\\envs\\xmoai\\lib\\site-packages\\pymoo\\algorithms\\rnsga2.py:183: RuntimeWarning: invalid value encountered in true_divide\n",
      "  N = ((D / (nadir - ideal)) ** 2) * weights\n",
      "A:\\anaconda3\\envs\\xmoai\\lib\\site-packages\\pymoo\\algorithms\\rnsga2.py:183: RuntimeWarning: invalid value encountered in true_divide\n",
      "  N = ((D / (nadir - ideal)) ** 2) * weights\n",
      "A:\\anaconda3\\envs\\xmoai\\lib\\site-packages\\topsis\\topsis.py:66: RuntimeWarning: invalid value encountered in true_divide\n",
      "  self.r = self.a/np.array(np.linalg.norm(self.a, axis=1)[:, np.newaxis])\n",
      "A:\\anaconda3\\envs\\xmoai\\lib\\site-packages\\topsis\\topsis.py:66: RuntimeWarning: invalid value encountered in true_divide\n",
      "  self.r = self.a/np.array(np.linalg.norm(self.a, axis=1)[:, np.newaxis])\n",
      "A:\\anaconda3\\envs\\xmoai\\lib\\site-packages\\topsis\\topsis.py:66: RuntimeWarning: invalid value encountered in true_divide\n",
      "  self.r = self.a/np.array(np.linalg.norm(self.a, axis=1)[:, np.newaxis])\n",
      "A:\\anaconda3\\envs\\xmoai\\lib\\site-packages\\topsis\\topsis.py:66: RuntimeWarning: invalid value encountered in true_divide\n",
      "  self.r = self.a/np.array(np.linalg.norm(self.a, axis=1)[:, np.newaxis])\n",
      "A:\\anaconda3\\envs\\xmoai\\lib\\site-packages\\topsis\\topsis.py:66: RuntimeWarning: invalid value encountered in true_divide\n",
      "  self.r = self.a/np.array(np.linalg.norm(self.a, axis=1)[:, np.newaxis])\n",
      "A:\\anaconda3\\envs\\xmoai\\lib\\site-packages\\topsis\\topsis.py:66: RuntimeWarning: invalid value encountered in true_divide\n",
      "  self.r = self.a/np.array(np.linalg.norm(self.a, axis=1)[:, np.newaxis])\n"
     ]
    },
    {
     "data": {
      "text/plain": [
       "'Training AIF360 - AdversarialDebiasing'"
      ]
     },
     "metadata": {},
     "output_type": "display_data"
    },
    {
     "data": {
      "text/plain": [
       "'Training AIF360 - PostProcessingMeta'"
      ]
     },
     "metadata": {},
     "output_type": "display_data"
    },
    {
     "data": {
      "text/plain": [
       "'Seed 27'"
      ]
     },
     "metadata": {},
     "output_type": "display_data"
    },
    {
     "data": {
      "text/plain": [
       "'Training the Voting Ensemble'"
      ]
     },
     "metadata": {},
     "output_type": "display_data"
    },
    {
     "data": {
      "text/plain": [
       "'Training Fairlearn'"
      ]
     },
     "metadata": {},
     "output_type": "display_data"
    },
    {
     "data": {
      "text/plain": [
       "'Training scikit-lego - DemographicParityClassifier'"
      ]
     },
     "metadata": {},
     "output_type": "display_data"
    },
    {
     "data": {
      "text/plain": [
       "'Training scikit-lego - EqualOpportunityClassifier'"
      ]
     },
     "metadata": {},
     "output_type": "display_data"
    },
    {
     "data": {
      "text/plain": [
       "'Training the proposal (nsga2)'"
      ]
     },
     "metadata": {},
     "output_type": "display_data"
    },
    {
     "name": "stderr",
     "output_type": "stream",
     "text": [
      "A:\\anaconda3\\envs\\xmoai\\lib\\site-packages\\topsis\\topsis.py:66: RuntimeWarning: invalid value encountered in true_divide\n",
      "  self.r = self.a/np.array(np.linalg.norm(self.a, axis=1)[:, np.newaxis])\n",
      "A:\\anaconda3\\envs\\xmoai\\lib\\site-packages\\topsis\\topsis.py:66: RuntimeWarning: invalid value encountered in true_divide\n",
      "  self.r = self.a/np.array(np.linalg.norm(self.a, axis=1)[:, np.newaxis])\n",
      "A:\\anaconda3\\envs\\xmoai\\lib\\site-packages\\topsis\\topsis.py:66: RuntimeWarning: invalid value encountered in true_divide\n",
      "  self.r = self.a/np.array(np.linalg.norm(self.a, axis=1)[:, np.newaxis])\n",
      "A:\\anaconda3\\envs\\xmoai\\lib\\site-packages\\topsis\\topsis.py:66: RuntimeWarning: invalid value encountered in true_divide\n",
      "  self.r = self.a/np.array(np.linalg.norm(self.a, axis=1)[:, np.newaxis])\n",
      "A:\\anaconda3\\envs\\xmoai\\lib\\site-packages\\topsis\\topsis.py:66: RuntimeWarning: invalid value encountered in true_divide\n",
      "  self.r = self.a/np.array(np.linalg.norm(self.a, axis=1)[:, np.newaxis])\n",
      "A:\\anaconda3\\envs\\xmoai\\lib\\site-packages\\topsis\\topsis.py:66: RuntimeWarning: invalid value encountered in true_divide\n",
      "  self.r = self.a/np.array(np.linalg.norm(self.a, axis=1)[:, np.newaxis])\n"
     ]
    },
    {
     "data": {
      "text/plain": [
       "'Training the proposal (rnsga2)'"
      ]
     },
     "metadata": {},
     "output_type": "display_data"
    },
    {
     "name": "stderr",
     "output_type": "stream",
     "text": [
      "A:\\anaconda3\\envs\\xmoai\\lib\\site-packages\\pymoo\\algorithms\\rnsga2.py:183: RuntimeWarning: invalid value encountered in true_divide\n",
      "  N = ((D / (nadir - ideal)) ** 2) * weights\n",
      "A:\\anaconda3\\envs\\xmoai\\lib\\site-packages\\pymoo\\algorithms\\rnsga2.py:183: RuntimeWarning: invalid value encountered in true_divide\n",
      "  N = ((D / (nadir - ideal)) ** 2) * weights\n",
      "A:\\anaconda3\\envs\\xmoai\\lib\\site-packages\\pymoo\\algorithms\\rnsga2.py:183: RuntimeWarning: invalid value encountered in true_divide\n",
      "  N = ((D / (nadir - ideal)) ** 2) * weights\n",
      "A:\\anaconda3\\envs\\xmoai\\lib\\site-packages\\pymoo\\algorithms\\rnsga2.py:183: RuntimeWarning: invalid value encountered in true_divide\n",
      "  N = ((D / (nadir - ideal)) ** 2) * weights\n",
      "A:\\anaconda3\\envs\\xmoai\\lib\\site-packages\\pymoo\\algorithms\\rnsga2.py:183: RuntimeWarning: invalid value encountered in true_divide\n",
      "  N = ((D / (nadir - ideal)) ** 2) * weights\n",
      "A:\\anaconda3\\envs\\xmoai\\lib\\site-packages\\pymoo\\algorithms\\rnsga2.py:183: RuntimeWarning: invalid value encountered in true_divide\n",
      "  N = ((D / (nadir - ideal)) ** 2) * weights\n",
      "A:\\anaconda3\\envs\\xmoai\\lib\\site-packages\\pymoo\\algorithms\\rnsga2.py:183: RuntimeWarning: invalid value encountered in true_divide\n",
      "  N = ((D / (nadir - ideal)) ** 2) * weights\n",
      "A:\\anaconda3\\envs\\xmoai\\lib\\site-packages\\pymoo\\algorithms\\rnsga2.py:183: RuntimeWarning: invalid value encountered in true_divide\n",
      "  N = ((D / (nadir - ideal)) ** 2) * weights\n",
      "A:\\anaconda3\\envs\\xmoai\\lib\\site-packages\\pymoo\\algorithms\\rnsga2.py:183: RuntimeWarning: invalid value encountered in true_divide\n",
      "  N = ((D / (nadir - ideal)) ** 2) * weights\n",
      "A:\\anaconda3\\envs\\xmoai\\lib\\site-packages\\pymoo\\algorithms\\rnsga2.py:183: RuntimeWarning: invalid value encountered in true_divide\n",
      "  N = ((D / (nadir - ideal)) ** 2) * weights\n",
      "A:\\anaconda3\\envs\\xmoai\\lib\\site-packages\\pymoo\\algorithms\\rnsga2.py:183: RuntimeWarning: invalid value encountered in true_divide\n",
      "  N = ((D / (nadir - ideal)) ** 2) * weights\n",
      "A:\\anaconda3\\envs\\xmoai\\lib\\site-packages\\pymoo\\algorithms\\rnsga2.py:183: RuntimeWarning: invalid value encountered in true_divide\n",
      "  N = ((D / (nadir - ideal)) ** 2) * weights\n",
      "A:\\anaconda3\\envs\\xmoai\\lib\\site-packages\\pymoo\\algorithms\\rnsga2.py:183: RuntimeWarning: invalid value encountered in true_divide\n",
      "  N = ((D / (nadir - ideal)) ** 2) * weights\n",
      "A:\\anaconda3\\envs\\xmoai\\lib\\site-packages\\pymoo\\algorithms\\rnsga2.py:183: RuntimeWarning: invalid value encountered in true_divide\n",
      "  N = ((D / (nadir - ideal)) ** 2) * weights\n",
      "A:\\anaconda3\\envs\\xmoai\\lib\\site-packages\\pymoo\\algorithms\\rnsga2.py:183: RuntimeWarning: invalid value encountered in true_divide\n",
      "  N = ((D / (nadir - ideal)) ** 2) * weights\n",
      "A:\\anaconda3\\envs\\xmoai\\lib\\site-packages\\pymoo\\algorithms\\rnsga2.py:183: RuntimeWarning: invalid value encountered in true_divide\n",
      "  N = ((D / (nadir - ideal)) ** 2) * weights\n",
      "A:\\anaconda3\\envs\\xmoai\\lib\\site-packages\\pymoo\\algorithms\\rnsga2.py:183: RuntimeWarning: invalid value encountered in true_divide\n",
      "  N = ((D / (nadir - ideal)) ** 2) * weights\n",
      "A:\\anaconda3\\envs\\xmoai\\lib\\site-packages\\pymoo\\algorithms\\rnsga2.py:183: RuntimeWarning: invalid value encountered in true_divide\n",
      "  N = ((D / (nadir - ideal)) ** 2) * weights\n",
      "A:\\anaconda3\\envs\\xmoai\\lib\\site-packages\\pymoo\\algorithms\\rnsga2.py:183: RuntimeWarning: invalid value encountered in true_divide\n",
      "  N = ((D / (nadir - ideal)) ** 2) * weights\n",
      "A:\\anaconda3\\envs\\xmoai\\lib\\site-packages\\pymoo\\algorithms\\rnsga2.py:183: RuntimeWarning: invalid value encountered in true_divide\n",
      "  N = ((D / (nadir - ideal)) ** 2) * weights\n",
      "A:\\anaconda3\\envs\\xmoai\\lib\\site-packages\\pymoo\\algorithms\\rnsga2.py:183: RuntimeWarning: invalid value encountered in true_divide\n",
      "  N = ((D / (nadir - ideal)) ** 2) * weights\n",
      "A:\\anaconda3\\envs\\xmoai\\lib\\site-packages\\pymoo\\algorithms\\rnsga2.py:183: RuntimeWarning: invalid value encountered in true_divide\n",
      "  N = ((D / (nadir - ideal)) ** 2) * weights\n",
      "A:\\anaconda3\\envs\\xmoai\\lib\\site-packages\\pymoo\\algorithms\\rnsga2.py:183: RuntimeWarning: invalid value encountered in true_divide\n",
      "  N = ((D / (nadir - ideal)) ** 2) * weights\n",
      "A:\\anaconda3\\envs\\xmoai\\lib\\site-packages\\pymoo\\algorithms\\rnsga2.py:183: RuntimeWarning: invalid value encountered in true_divide\n",
      "  N = ((D / (nadir - ideal)) ** 2) * weights\n",
      "A:\\anaconda3\\envs\\xmoai\\lib\\site-packages\\pymoo\\algorithms\\rnsga2.py:183: RuntimeWarning: invalid value encountered in true_divide\n",
      "  N = ((D / (nadir - ideal)) ** 2) * weights\n",
      "A:\\anaconda3\\envs\\xmoai\\lib\\site-packages\\pymoo\\algorithms\\rnsga2.py:183: RuntimeWarning: invalid value encountered in true_divide\n",
      "  N = ((D / (nadir - ideal)) ** 2) * weights\n",
      "A:\\anaconda3\\envs\\xmoai\\lib\\site-packages\\pymoo\\algorithms\\rnsga2.py:183: RuntimeWarning: invalid value encountered in true_divide\n",
      "  N = ((D / (nadir - ideal)) ** 2) * weights\n",
      "A:\\anaconda3\\envs\\xmoai\\lib\\site-packages\\pymoo\\algorithms\\rnsga2.py:183: RuntimeWarning: invalid value encountered in true_divide\n",
      "  N = ((D / (nadir - ideal)) ** 2) * weights\n",
      "A:\\anaconda3\\envs\\xmoai\\lib\\site-packages\\pymoo\\algorithms\\rnsga2.py:183: RuntimeWarning: invalid value encountered in true_divide\n",
      "  N = ((D / (nadir - ideal)) ** 2) * weights\n",
      "A:\\anaconda3\\envs\\xmoai\\lib\\site-packages\\pymoo\\algorithms\\rnsga2.py:183: RuntimeWarning: invalid value encountered in true_divide\n",
      "  N = ((D / (nadir - ideal)) ** 2) * weights\n",
      "A:\\anaconda3\\envs\\xmoai\\lib\\site-packages\\pymoo\\algorithms\\rnsga2.py:183: RuntimeWarning: invalid value encountered in true_divide\n",
      "  N = ((D / (nadir - ideal)) ** 2) * weights\n",
      "A:\\anaconda3\\envs\\xmoai\\lib\\site-packages\\pymoo\\algorithms\\rnsga2.py:183: RuntimeWarning: invalid value encountered in true_divide\n",
      "  N = ((D / (nadir - ideal)) ** 2) * weights\n",
      "A:\\anaconda3\\envs\\xmoai\\lib\\site-packages\\pymoo\\algorithms\\rnsga2.py:183: RuntimeWarning: invalid value encountered in true_divide\n",
      "  N = ((D / (nadir - ideal)) ** 2) * weights\n",
      "A:\\anaconda3\\envs\\xmoai\\lib\\site-packages\\pymoo\\algorithms\\rnsga2.py:183: RuntimeWarning: invalid value encountered in true_divide\n",
      "  N = ((D / (nadir - ideal)) ** 2) * weights\n",
      "A:\\anaconda3\\envs\\xmoai\\lib\\site-packages\\pymoo\\algorithms\\rnsga2.py:183: RuntimeWarning: invalid value encountered in true_divide\n",
      "  N = ((D / (nadir - ideal)) ** 2) * weights\n",
      "A:\\anaconda3\\envs\\xmoai\\lib\\site-packages\\pymoo\\algorithms\\rnsga2.py:183: RuntimeWarning: invalid value encountered in true_divide\n",
      "  N = ((D / (nadir - ideal)) ** 2) * weights\n",
      "A:\\anaconda3\\envs\\xmoai\\lib\\site-packages\\pymoo\\algorithms\\rnsga2.py:183: RuntimeWarning: invalid value encountered in true_divide\n",
      "  N = ((D / (nadir - ideal)) ** 2) * weights\n",
      "A:\\anaconda3\\envs\\xmoai\\lib\\site-packages\\pymoo\\algorithms\\rnsga2.py:183: RuntimeWarning: invalid value encountered in true_divide\n",
      "  N = ((D / (nadir - ideal)) ** 2) * weights\n",
      "A:\\anaconda3\\envs\\xmoai\\lib\\site-packages\\pymoo\\algorithms\\rnsga2.py:183: RuntimeWarning: invalid value encountered in true_divide\n",
      "  N = ((D / (nadir - ideal)) ** 2) * weights\n",
      "A:\\anaconda3\\envs\\xmoai\\lib\\site-packages\\pymoo\\algorithms\\rnsga2.py:183: RuntimeWarning: invalid value encountered in true_divide\n",
      "  N = ((D / (nadir - ideal)) ** 2) * weights\n",
      "A:\\anaconda3\\envs\\xmoai\\lib\\site-packages\\pymoo\\algorithms\\rnsga2.py:183: RuntimeWarning: invalid value encountered in true_divide\n",
      "  N = ((D / (nadir - ideal)) ** 2) * weights\n",
      "A:\\anaconda3\\envs\\xmoai\\lib\\site-packages\\pymoo\\algorithms\\rnsga2.py:183: RuntimeWarning: invalid value encountered in true_divide\n",
      "  N = ((D / (nadir - ideal)) ** 2) * weights\n",
      "A:\\anaconda3\\envs\\xmoai\\lib\\site-packages\\pymoo\\algorithms\\rnsga2.py:183: RuntimeWarning: invalid value encountered in true_divide\n",
      "  N = ((D / (nadir - ideal)) ** 2) * weights\n",
      "A:\\anaconda3\\envs\\xmoai\\lib\\site-packages\\pymoo\\algorithms\\rnsga2.py:183: RuntimeWarning: invalid value encountered in true_divide\n",
      "  N = ((D / (nadir - ideal)) ** 2) * weights\n",
      "A:\\anaconda3\\envs\\xmoai\\lib\\site-packages\\pymoo\\algorithms\\rnsga2.py:183: RuntimeWarning: invalid value encountered in true_divide\n",
      "  N = ((D / (nadir - ideal)) ** 2) * weights\n",
      "A:\\anaconda3\\envs\\xmoai\\lib\\site-packages\\pymoo\\algorithms\\rnsga2.py:183: RuntimeWarning: invalid value encountered in true_divide\n",
      "  N = ((D / (nadir - ideal)) ** 2) * weights\n",
      "A:\\anaconda3\\envs\\xmoai\\lib\\site-packages\\pymoo\\algorithms\\rnsga2.py:183: RuntimeWarning: invalid value encountered in true_divide\n",
      "  N = ((D / (nadir - ideal)) ** 2) * weights\n"
     ]
    },
    {
     "name": "stderr",
     "output_type": "stream",
     "text": [
      "A:\\anaconda3\\envs\\xmoai\\lib\\site-packages\\pymoo\\algorithms\\rnsga2.py:183: RuntimeWarning: invalid value encountered in true_divide\n",
      "  N = ((D / (nadir - ideal)) ** 2) * weights\n",
      "A:\\anaconda3\\envs\\xmoai\\lib\\site-packages\\pymoo\\algorithms\\rnsga2.py:183: RuntimeWarning: invalid value encountered in true_divide\n",
      "  N = ((D / (nadir - ideal)) ** 2) * weights\n",
      "A:\\anaconda3\\envs\\xmoai\\lib\\site-packages\\pymoo\\algorithms\\rnsga2.py:183: RuntimeWarning: invalid value encountered in true_divide\n",
      "  N = ((D / (nadir - ideal)) ** 2) * weights\n",
      "A:\\anaconda3\\envs\\xmoai\\lib\\site-packages\\topsis\\topsis.py:66: RuntimeWarning: invalid value encountered in true_divide\n",
      "  self.r = self.a/np.array(np.linalg.norm(self.a, axis=1)[:, np.newaxis])\n",
      "A:\\anaconda3\\envs\\xmoai\\lib\\site-packages\\topsis\\topsis.py:66: RuntimeWarning: invalid value encountered in true_divide\n",
      "  self.r = self.a/np.array(np.linalg.norm(self.a, axis=1)[:, np.newaxis])\n",
      "A:\\anaconda3\\envs\\xmoai\\lib\\site-packages\\topsis\\topsis.py:66: RuntimeWarning: invalid value encountered in true_divide\n",
      "  self.r = self.a/np.array(np.linalg.norm(self.a, axis=1)[:, np.newaxis])\n",
      "A:\\anaconda3\\envs\\xmoai\\lib\\site-packages\\topsis\\topsis.py:66: RuntimeWarning: invalid value encountered in true_divide\n",
      "  self.r = self.a/np.array(np.linalg.norm(self.a, axis=1)[:, np.newaxis])\n",
      "A:\\anaconda3\\envs\\xmoai\\lib\\site-packages\\topsis\\topsis.py:66: RuntimeWarning: invalid value encountered in true_divide\n",
      "  self.r = self.a/np.array(np.linalg.norm(self.a, axis=1)[:, np.newaxis])\n",
      "A:\\anaconda3\\envs\\xmoai\\lib\\site-packages\\topsis\\topsis.py:66: RuntimeWarning: invalid value encountered in true_divide\n",
      "  self.r = self.a/np.array(np.linalg.norm(self.a, axis=1)[:, np.newaxis])\n"
     ]
    },
    {
     "data": {
      "text/plain": [
       "'Training AIF360 - AdversarialDebiasing'"
      ]
     },
     "metadata": {},
     "output_type": "display_data"
    },
    {
     "data": {
      "text/plain": [
       "'Training AIF360 - PostProcessingMeta'"
      ]
     },
     "metadata": {},
     "output_type": "display_data"
    },
    {
     "data": {
      "text/plain": [
       "'Seed 28'"
      ]
     },
     "metadata": {},
     "output_type": "display_data"
    },
    {
     "data": {
      "text/plain": [
       "'Training the Voting Ensemble'"
      ]
     },
     "metadata": {},
     "output_type": "display_data"
    },
    {
     "data": {
      "text/plain": [
       "'Training Fairlearn'"
      ]
     },
     "metadata": {},
     "output_type": "display_data"
    },
    {
     "data": {
      "text/plain": [
       "'Training scikit-lego - DemographicParityClassifier'"
      ]
     },
     "metadata": {},
     "output_type": "display_data"
    },
    {
     "data": {
      "text/plain": [
       "'Training scikit-lego - EqualOpportunityClassifier'"
      ]
     },
     "metadata": {},
     "output_type": "display_data"
    },
    {
     "data": {
      "text/plain": [
       "'Training the proposal (nsga2)'"
      ]
     },
     "metadata": {},
     "output_type": "display_data"
    },
    {
     "name": "stderr",
     "output_type": "stream",
     "text": [
      "A:\\anaconda3\\envs\\xmoai\\lib\\site-packages\\topsis\\topsis.py:66: RuntimeWarning: invalid value encountered in true_divide\n",
      "  self.r = self.a/np.array(np.linalg.norm(self.a, axis=1)[:, np.newaxis])\n",
      "A:\\anaconda3\\envs\\xmoai\\lib\\site-packages\\topsis\\topsis.py:66: RuntimeWarning: invalid value encountered in true_divide\n",
      "  self.r = self.a/np.array(np.linalg.norm(self.a, axis=1)[:, np.newaxis])\n",
      "A:\\anaconda3\\envs\\xmoai\\lib\\site-packages\\topsis\\topsis.py:66: RuntimeWarning: invalid value encountered in true_divide\n",
      "  self.r = self.a/np.array(np.linalg.norm(self.a, axis=1)[:, np.newaxis])\n",
      "A:\\anaconda3\\envs\\xmoai\\lib\\site-packages\\topsis\\topsis.py:66: RuntimeWarning: invalid value encountered in true_divide\n",
      "  self.r = self.a/np.array(np.linalg.norm(self.a, axis=1)[:, np.newaxis])\n",
      "A:\\anaconda3\\envs\\xmoai\\lib\\site-packages\\topsis\\topsis.py:66: RuntimeWarning: invalid value encountered in true_divide\n",
      "  self.r = self.a/np.array(np.linalg.norm(self.a, axis=1)[:, np.newaxis])\n",
      "A:\\anaconda3\\envs\\xmoai\\lib\\site-packages\\topsis\\topsis.py:66: RuntimeWarning: invalid value encountered in true_divide\n",
      "  self.r = self.a/np.array(np.linalg.norm(self.a, axis=1)[:, np.newaxis])\n"
     ]
    },
    {
     "data": {
      "text/plain": [
       "'Training the proposal (rnsga2)'"
      ]
     },
     "metadata": {},
     "output_type": "display_data"
    },
    {
     "name": "stderr",
     "output_type": "stream",
     "text": [
      "A:\\anaconda3\\envs\\xmoai\\lib\\site-packages\\pymoo\\algorithms\\rnsga2.py:183: RuntimeWarning: invalid value encountered in true_divide\n",
      "  N = ((D / (nadir - ideal)) ** 2) * weights\n",
      "A:\\anaconda3\\envs\\xmoai\\lib\\site-packages\\pymoo\\algorithms\\rnsga2.py:183: RuntimeWarning: invalid value encountered in true_divide\n",
      "  N = ((D / (nadir - ideal)) ** 2) * weights\n",
      "A:\\anaconda3\\envs\\xmoai\\lib\\site-packages\\pymoo\\algorithms\\rnsga2.py:183: RuntimeWarning: invalid value encountered in true_divide\n",
      "  N = ((D / (nadir - ideal)) ** 2) * weights\n",
      "A:\\anaconda3\\envs\\xmoai\\lib\\site-packages\\pymoo\\algorithms\\rnsga2.py:183: RuntimeWarning: invalid value encountered in true_divide\n",
      "  N = ((D / (nadir - ideal)) ** 2) * weights\n",
      "A:\\anaconda3\\envs\\xmoai\\lib\\site-packages\\pymoo\\algorithms\\rnsga2.py:183: RuntimeWarning: invalid value encountered in true_divide\n",
      "  N = ((D / (nadir - ideal)) ** 2) * weights\n",
      "A:\\anaconda3\\envs\\xmoai\\lib\\site-packages\\pymoo\\algorithms\\rnsga2.py:183: RuntimeWarning: invalid value encountered in true_divide\n",
      "  N = ((D / (nadir - ideal)) ** 2) * weights\n",
      "A:\\anaconda3\\envs\\xmoai\\lib\\site-packages\\pymoo\\algorithms\\rnsga2.py:183: RuntimeWarning: invalid value encountered in true_divide\n",
      "  N = ((D / (nadir - ideal)) ** 2) * weights\n",
      "A:\\anaconda3\\envs\\xmoai\\lib\\site-packages\\pymoo\\algorithms\\rnsga2.py:183: RuntimeWarning: invalid value encountered in true_divide\n",
      "  N = ((D / (nadir - ideal)) ** 2) * weights\n",
      "A:\\anaconda3\\envs\\xmoai\\lib\\site-packages\\pymoo\\algorithms\\rnsga2.py:183: RuntimeWarning: invalid value encountered in true_divide\n",
      "  N = ((D / (nadir - ideal)) ** 2) * weights\n",
      "A:\\anaconda3\\envs\\xmoai\\lib\\site-packages\\pymoo\\algorithms\\rnsga2.py:183: RuntimeWarning: invalid value encountered in true_divide\n",
      "  N = ((D / (nadir - ideal)) ** 2) * weights\n",
      "A:\\anaconda3\\envs\\xmoai\\lib\\site-packages\\pymoo\\algorithms\\rnsga2.py:183: RuntimeWarning: invalid value encountered in true_divide\n",
      "  N = ((D / (nadir - ideal)) ** 2) * weights\n",
      "A:\\anaconda3\\envs\\xmoai\\lib\\site-packages\\pymoo\\algorithms\\rnsga2.py:183: RuntimeWarning: invalid value encountered in true_divide\n",
      "  N = ((D / (nadir - ideal)) ** 2) * weights\n",
      "A:\\anaconda3\\envs\\xmoai\\lib\\site-packages\\pymoo\\algorithms\\rnsga2.py:183: RuntimeWarning: invalid value encountered in true_divide\n",
      "  N = ((D / (nadir - ideal)) ** 2) * weights\n",
      "A:\\anaconda3\\envs\\xmoai\\lib\\site-packages\\pymoo\\algorithms\\rnsga2.py:183: RuntimeWarning: invalid value encountered in true_divide\n",
      "  N = ((D / (nadir - ideal)) ** 2) * weights\n",
      "A:\\anaconda3\\envs\\xmoai\\lib\\site-packages\\pymoo\\algorithms\\rnsga2.py:183: RuntimeWarning: invalid value encountered in true_divide\n",
      "  N = ((D / (nadir - ideal)) ** 2) * weights\n",
      "A:\\anaconda3\\envs\\xmoai\\lib\\site-packages\\pymoo\\algorithms\\rnsga2.py:183: RuntimeWarning: invalid value encountered in true_divide\n",
      "  N = ((D / (nadir - ideal)) ** 2) * weights\n",
      "A:\\anaconda3\\envs\\xmoai\\lib\\site-packages\\pymoo\\algorithms\\rnsga2.py:183: RuntimeWarning: invalid value encountered in true_divide\n",
      "  N = ((D / (nadir - ideal)) ** 2) * weights\n",
      "A:\\anaconda3\\envs\\xmoai\\lib\\site-packages\\pymoo\\algorithms\\rnsga2.py:183: RuntimeWarning: invalid value encountered in true_divide\n",
      "  N = ((D / (nadir - ideal)) ** 2) * weights\n",
      "A:\\anaconda3\\envs\\xmoai\\lib\\site-packages\\pymoo\\algorithms\\rnsga2.py:183: RuntimeWarning: invalid value encountered in true_divide\n",
      "  N = ((D / (nadir - ideal)) ** 2) * weights\n",
      "A:\\anaconda3\\envs\\xmoai\\lib\\site-packages\\pymoo\\algorithms\\rnsga2.py:183: RuntimeWarning: invalid value encountered in true_divide\n",
      "  N = ((D / (nadir - ideal)) ** 2) * weights\n",
      "A:\\anaconda3\\envs\\xmoai\\lib\\site-packages\\pymoo\\algorithms\\rnsga2.py:183: RuntimeWarning: invalid value encountered in true_divide\n",
      "  N = ((D / (nadir - ideal)) ** 2) * weights\n",
      "A:\\anaconda3\\envs\\xmoai\\lib\\site-packages\\pymoo\\algorithms\\rnsga2.py:183: RuntimeWarning: invalid value encountered in true_divide\n",
      "  N = ((D / (nadir - ideal)) ** 2) * weights\n",
      "A:\\anaconda3\\envs\\xmoai\\lib\\site-packages\\pymoo\\algorithms\\rnsga2.py:183: RuntimeWarning: invalid value encountered in true_divide\n",
      "  N = ((D / (nadir - ideal)) ** 2) * weights\n",
      "A:\\anaconda3\\envs\\xmoai\\lib\\site-packages\\pymoo\\algorithms\\rnsga2.py:183: RuntimeWarning: invalid value encountered in true_divide\n",
      "  N = ((D / (nadir - ideal)) ** 2) * weights\n",
      "A:\\anaconda3\\envs\\xmoai\\lib\\site-packages\\pymoo\\algorithms\\rnsga2.py:183: RuntimeWarning: invalid value encountered in true_divide\n",
      "  N = ((D / (nadir - ideal)) ** 2) * weights\n",
      "A:\\anaconda3\\envs\\xmoai\\lib\\site-packages\\pymoo\\algorithms\\rnsga2.py:183: RuntimeWarning: invalid value encountered in true_divide\n",
      "  N = ((D / (nadir - ideal)) ** 2) * weights\n",
      "A:\\anaconda3\\envs\\xmoai\\lib\\site-packages\\pymoo\\algorithms\\rnsga2.py:183: RuntimeWarning: invalid value encountered in true_divide\n",
      "  N = ((D / (nadir - ideal)) ** 2) * weights\n",
      "A:\\anaconda3\\envs\\xmoai\\lib\\site-packages\\pymoo\\algorithms\\rnsga2.py:183: RuntimeWarning: invalid value encountered in true_divide\n",
      "  N = ((D / (nadir - ideal)) ** 2) * weights\n",
      "A:\\anaconda3\\envs\\xmoai\\lib\\site-packages\\pymoo\\algorithms\\rnsga2.py:183: RuntimeWarning: invalid value encountered in true_divide\n",
      "  N = ((D / (nadir - ideal)) ** 2) * weights\n",
      "A:\\anaconda3\\envs\\xmoai\\lib\\site-packages\\pymoo\\algorithms\\rnsga2.py:183: RuntimeWarning: invalid value encountered in true_divide\n",
      "  N = ((D / (nadir - ideal)) ** 2) * weights\n",
      "A:\\anaconda3\\envs\\xmoai\\lib\\site-packages\\pymoo\\algorithms\\rnsga2.py:183: RuntimeWarning: invalid value encountered in true_divide\n",
      "  N = ((D / (nadir - ideal)) ** 2) * weights\n",
      "A:\\anaconda3\\envs\\xmoai\\lib\\site-packages\\pymoo\\algorithms\\rnsga2.py:183: RuntimeWarning: invalid value encountered in true_divide\n",
      "  N = ((D / (nadir - ideal)) ** 2) * weights\n",
      "A:\\anaconda3\\envs\\xmoai\\lib\\site-packages\\pymoo\\algorithms\\rnsga2.py:183: RuntimeWarning: invalid value encountered in true_divide\n",
      "  N = ((D / (nadir - ideal)) ** 2) * weights\n",
      "A:\\anaconda3\\envs\\xmoai\\lib\\site-packages\\pymoo\\algorithms\\rnsga2.py:183: RuntimeWarning: invalid value encountered in true_divide\n",
      "  N = ((D / (nadir - ideal)) ** 2) * weights\n",
      "A:\\anaconda3\\envs\\xmoai\\lib\\site-packages\\pymoo\\algorithms\\rnsga2.py:183: RuntimeWarning: invalid value encountered in true_divide\n",
      "  N = ((D / (nadir - ideal)) ** 2) * weights\n",
      "A:\\anaconda3\\envs\\xmoai\\lib\\site-packages\\pymoo\\algorithms\\rnsga2.py:183: RuntimeWarning: invalid value encountered in true_divide\n",
      "  N = ((D / (nadir - ideal)) ** 2) * weights\n",
      "A:\\anaconda3\\envs\\xmoai\\lib\\site-packages\\pymoo\\algorithms\\rnsga2.py:183: RuntimeWarning: invalid value encountered in true_divide\n",
      "  N = ((D / (nadir - ideal)) ** 2) * weights\n",
      "A:\\anaconda3\\envs\\xmoai\\lib\\site-packages\\pymoo\\algorithms\\rnsga2.py:183: RuntimeWarning: invalid value encountered in true_divide\n",
      "  N = ((D / (nadir - ideal)) ** 2) * weights\n",
      "A:\\anaconda3\\envs\\xmoai\\lib\\site-packages\\pymoo\\algorithms\\rnsga2.py:183: RuntimeWarning: invalid value encountered in true_divide\n",
      "  N = ((D / (nadir - ideal)) ** 2) * weights\n",
      "A:\\anaconda3\\envs\\xmoai\\lib\\site-packages\\pymoo\\algorithms\\rnsga2.py:183: RuntimeWarning: invalid value encountered in true_divide\n",
      "  N = ((D / (nadir - ideal)) ** 2) * weights\n",
      "A:\\anaconda3\\envs\\xmoai\\lib\\site-packages\\pymoo\\algorithms\\rnsga2.py:183: RuntimeWarning: invalid value encountered in true_divide\n",
      "  N = ((D / (nadir - ideal)) ** 2) * weights\n",
      "A:\\anaconda3\\envs\\xmoai\\lib\\site-packages\\pymoo\\algorithms\\rnsga2.py:183: RuntimeWarning: invalid value encountered in true_divide\n",
      "  N = ((D / (nadir - ideal)) ** 2) * weights\n",
      "A:\\anaconda3\\envs\\xmoai\\lib\\site-packages\\pymoo\\algorithms\\rnsga2.py:183: RuntimeWarning: invalid value encountered in true_divide\n",
      "  N = ((D / (nadir - ideal)) ** 2) * weights\n",
      "A:\\anaconda3\\envs\\xmoai\\lib\\site-packages\\pymoo\\algorithms\\rnsga2.py:183: RuntimeWarning: invalid value encountered in true_divide\n",
      "  N = ((D / (nadir - ideal)) ** 2) * weights\n",
      "A:\\anaconda3\\envs\\xmoai\\lib\\site-packages\\pymoo\\algorithms\\rnsga2.py:183: RuntimeWarning: invalid value encountered in true_divide\n",
      "  N = ((D / (nadir - ideal)) ** 2) * weights\n",
      "A:\\anaconda3\\envs\\xmoai\\lib\\site-packages\\pymoo\\algorithms\\rnsga2.py:183: RuntimeWarning: invalid value encountered in true_divide\n",
      "  N = ((D / (nadir - ideal)) ** 2) * weights\n",
      "A:\\anaconda3\\envs\\xmoai\\lib\\site-packages\\pymoo\\algorithms\\rnsga2.py:183: RuntimeWarning: invalid value encountered in true_divide\n",
      "  N = ((D / (nadir - ideal)) ** 2) * weights\n"
     ]
    },
    {
     "name": "stderr",
     "output_type": "stream",
     "text": [
      "A:\\anaconda3\\envs\\xmoai\\lib\\site-packages\\pymoo\\algorithms\\rnsga2.py:183: RuntimeWarning: invalid value encountered in true_divide\n",
      "  N = ((D / (nadir - ideal)) ** 2) * weights\n",
      "A:\\anaconda3\\envs\\xmoai\\lib\\site-packages\\pymoo\\algorithms\\rnsga2.py:183: RuntimeWarning: invalid value encountered in true_divide\n",
      "  N = ((D / (nadir - ideal)) ** 2) * weights\n",
      "A:\\anaconda3\\envs\\xmoai\\lib\\site-packages\\pymoo\\algorithms\\rnsga2.py:183: RuntimeWarning: invalid value encountered in true_divide\n",
      "  N = ((D / (nadir - ideal)) ** 2) * weights\n",
      "A:\\anaconda3\\envs\\xmoai\\lib\\site-packages\\topsis\\topsis.py:66: RuntimeWarning: invalid value encountered in true_divide\n",
      "  self.r = self.a/np.array(np.linalg.norm(self.a, axis=1)[:, np.newaxis])\n",
      "A:\\anaconda3\\envs\\xmoai\\lib\\site-packages\\topsis\\topsis.py:66: RuntimeWarning: invalid value encountered in true_divide\n",
      "  self.r = self.a/np.array(np.linalg.norm(self.a, axis=1)[:, np.newaxis])\n",
      "A:\\anaconda3\\envs\\xmoai\\lib\\site-packages\\topsis\\topsis.py:66: RuntimeWarning: invalid value encountered in true_divide\n",
      "  self.r = self.a/np.array(np.linalg.norm(self.a, axis=1)[:, np.newaxis])\n",
      "A:\\anaconda3\\envs\\xmoai\\lib\\site-packages\\topsis\\topsis.py:66: RuntimeWarning: invalid value encountered in true_divide\n",
      "  self.r = self.a/np.array(np.linalg.norm(self.a, axis=1)[:, np.newaxis])\n",
      "A:\\anaconda3\\envs\\xmoai\\lib\\site-packages\\topsis\\topsis.py:66: RuntimeWarning: invalid value encountered in true_divide\n",
      "  self.r = self.a/np.array(np.linalg.norm(self.a, axis=1)[:, np.newaxis])\n",
      "A:\\anaconda3\\envs\\xmoai\\lib\\site-packages\\topsis\\topsis.py:66: RuntimeWarning: invalid value encountered in true_divide\n",
      "  self.r = self.a/np.array(np.linalg.norm(self.a, axis=1)[:, np.newaxis])\n"
     ]
    },
    {
     "data": {
      "text/plain": [
       "'Training AIF360 - AdversarialDebiasing'"
      ]
     },
     "metadata": {},
     "output_type": "display_data"
    },
    {
     "data": {
      "text/plain": [
       "'Training AIF360 - PostProcessingMeta'"
      ]
     },
     "metadata": {},
     "output_type": "display_data"
    },
    {
     "data": {
      "text/plain": [
       "'Seed 29'"
      ]
     },
     "metadata": {},
     "output_type": "display_data"
    },
    {
     "data": {
      "text/plain": [
       "'Training the Voting Ensemble'"
      ]
     },
     "metadata": {},
     "output_type": "display_data"
    },
    {
     "data": {
      "text/plain": [
       "'Training Fairlearn'"
      ]
     },
     "metadata": {},
     "output_type": "display_data"
    },
    {
     "data": {
      "text/plain": [
       "'Training scikit-lego - DemographicParityClassifier'"
      ]
     },
     "metadata": {},
     "output_type": "display_data"
    },
    {
     "data": {
      "text/plain": [
       "cvxpy.error.SolverError(\"Solver 'ECOS' failed. Try another solver, or solve with verbose=True for more information.\")"
      ]
     },
     "metadata": {},
     "output_type": "display_data"
    },
    {
     "data": {
      "text/plain": [
       "'Training scikit-lego - EqualOpportunityClassifier'"
      ]
     },
     "metadata": {},
     "output_type": "display_data"
    },
    {
     "data": {
      "text/plain": [
       "cvxpy.error.SolverError(\"Solver 'ECOS' failed. Try another solver, or solve with verbose=True for more information.\")"
      ]
     },
     "metadata": {},
     "output_type": "display_data"
    },
    {
     "data": {
      "text/plain": [
       "'Training the proposal (nsga2)'"
      ]
     },
     "metadata": {},
     "output_type": "display_data"
    },
    {
     "name": "stderr",
     "output_type": "stream",
     "text": [
      "A:\\anaconda3\\envs\\xmoai\\lib\\site-packages\\topsis\\topsis.py:66: RuntimeWarning: invalid value encountered in true_divide\n",
      "  self.r = self.a/np.array(np.linalg.norm(self.a, axis=1)[:, np.newaxis])\n",
      "A:\\anaconda3\\envs\\xmoai\\lib\\site-packages\\topsis\\topsis.py:66: RuntimeWarning: invalid value encountered in true_divide\n",
      "  self.r = self.a/np.array(np.linalg.norm(self.a, axis=1)[:, np.newaxis])\n",
      "A:\\anaconda3\\envs\\xmoai\\lib\\site-packages\\topsis\\topsis.py:66: RuntimeWarning: invalid value encountered in true_divide\n",
      "  self.r = self.a/np.array(np.linalg.norm(self.a, axis=1)[:, np.newaxis])\n",
      "A:\\anaconda3\\envs\\xmoai\\lib\\site-packages\\topsis\\topsis.py:66: RuntimeWarning: invalid value encountered in true_divide\n",
      "  self.r = self.a/np.array(np.linalg.norm(self.a, axis=1)[:, np.newaxis])\n",
      "A:\\anaconda3\\envs\\xmoai\\lib\\site-packages\\topsis\\topsis.py:66: RuntimeWarning: invalid value encountered in true_divide\n",
      "  self.r = self.a/np.array(np.linalg.norm(self.a, axis=1)[:, np.newaxis])\n",
      "A:\\anaconda3\\envs\\xmoai\\lib\\site-packages\\topsis\\topsis.py:66: RuntimeWarning: invalid value encountered in true_divide\n",
      "  self.r = self.a/np.array(np.linalg.norm(self.a, axis=1)[:, np.newaxis])\n"
     ]
    },
    {
     "data": {
      "text/plain": [
       "'Training the proposal (rnsga2)'"
      ]
     },
     "metadata": {},
     "output_type": "display_data"
    },
    {
     "name": "stderr",
     "output_type": "stream",
     "text": [
      "A:\\anaconda3\\envs\\xmoai\\lib\\site-packages\\pymoo\\algorithms\\rnsga2.py:183: RuntimeWarning: invalid value encountered in true_divide\n",
      "  N = ((D / (nadir - ideal)) ** 2) * weights\n",
      "A:\\anaconda3\\envs\\xmoai\\lib\\site-packages\\pymoo\\algorithms\\rnsga2.py:183: RuntimeWarning: invalid value encountered in true_divide\n",
      "  N = ((D / (nadir - ideal)) ** 2) * weights\n",
      "A:\\anaconda3\\envs\\xmoai\\lib\\site-packages\\pymoo\\algorithms\\rnsga2.py:183: RuntimeWarning: invalid value encountered in true_divide\n",
      "  N = ((D / (nadir - ideal)) ** 2) * weights\n",
      "A:\\anaconda3\\envs\\xmoai\\lib\\site-packages\\pymoo\\algorithms\\rnsga2.py:183: RuntimeWarning: invalid value encountered in true_divide\n",
      "  N = ((D / (nadir - ideal)) ** 2) * weights\n",
      "A:\\anaconda3\\envs\\xmoai\\lib\\site-packages\\pymoo\\algorithms\\rnsga2.py:183: RuntimeWarning: invalid value encountered in true_divide\n",
      "  N = ((D / (nadir - ideal)) ** 2) * weights\n",
      "A:\\anaconda3\\envs\\xmoai\\lib\\site-packages\\pymoo\\algorithms\\rnsga2.py:183: RuntimeWarning: invalid value encountered in true_divide\n",
      "  N = ((D / (nadir - ideal)) ** 2) * weights\n",
      "A:\\anaconda3\\envs\\xmoai\\lib\\site-packages\\pymoo\\algorithms\\rnsga2.py:183: RuntimeWarning: invalid value encountered in true_divide\n",
      "  N = ((D / (nadir - ideal)) ** 2) * weights\n",
      "A:\\anaconda3\\envs\\xmoai\\lib\\site-packages\\pymoo\\algorithms\\rnsga2.py:183: RuntimeWarning: invalid value encountered in true_divide\n",
      "  N = ((D / (nadir - ideal)) ** 2) * weights\n",
      "A:\\anaconda3\\envs\\xmoai\\lib\\site-packages\\pymoo\\algorithms\\rnsga2.py:183: RuntimeWarning: invalid value encountered in true_divide\n",
      "  N = ((D / (nadir - ideal)) ** 2) * weights\n",
      "A:\\anaconda3\\envs\\xmoai\\lib\\site-packages\\pymoo\\algorithms\\rnsga2.py:183: RuntimeWarning: invalid value encountered in true_divide\n",
      "  N = ((D / (nadir - ideal)) ** 2) * weights\n",
      "A:\\anaconda3\\envs\\xmoai\\lib\\site-packages\\pymoo\\algorithms\\rnsga2.py:183: RuntimeWarning: invalid value encountered in true_divide\n",
      "  N = ((D / (nadir - ideal)) ** 2) * weights\n",
      "A:\\anaconda3\\envs\\xmoai\\lib\\site-packages\\pymoo\\algorithms\\rnsga2.py:183: RuntimeWarning: invalid value encountered in true_divide\n",
      "  N = ((D / (nadir - ideal)) ** 2) * weights\n",
      "A:\\anaconda3\\envs\\xmoai\\lib\\site-packages\\pymoo\\algorithms\\rnsga2.py:183: RuntimeWarning: invalid value encountered in true_divide\n",
      "  N = ((D / (nadir - ideal)) ** 2) * weights\n",
      "A:\\anaconda3\\envs\\xmoai\\lib\\site-packages\\pymoo\\algorithms\\rnsga2.py:183: RuntimeWarning: invalid value encountered in true_divide\n",
      "  N = ((D / (nadir - ideal)) ** 2) * weights\n",
      "A:\\anaconda3\\envs\\xmoai\\lib\\site-packages\\pymoo\\algorithms\\rnsga2.py:183: RuntimeWarning: invalid value encountered in true_divide\n",
      "  N = ((D / (nadir - ideal)) ** 2) * weights\n",
      "A:\\anaconda3\\envs\\xmoai\\lib\\site-packages\\pymoo\\algorithms\\rnsga2.py:183: RuntimeWarning: invalid value encountered in true_divide\n",
      "  N = ((D / (nadir - ideal)) ** 2) * weights\n",
      "A:\\anaconda3\\envs\\xmoai\\lib\\site-packages\\pymoo\\algorithms\\rnsga2.py:183: RuntimeWarning: invalid value encountered in true_divide\n",
      "  N = ((D / (nadir - ideal)) ** 2) * weights\n",
      "A:\\anaconda3\\envs\\xmoai\\lib\\site-packages\\pymoo\\algorithms\\rnsga2.py:183: RuntimeWarning: invalid value encountered in true_divide\n",
      "  N = ((D / (nadir - ideal)) ** 2) * weights\n",
      "A:\\anaconda3\\envs\\xmoai\\lib\\site-packages\\pymoo\\algorithms\\rnsga2.py:183: RuntimeWarning: invalid value encountered in true_divide\n",
      "  N = ((D / (nadir - ideal)) ** 2) * weights\n",
      "A:\\anaconda3\\envs\\xmoai\\lib\\site-packages\\pymoo\\algorithms\\rnsga2.py:183: RuntimeWarning: invalid value encountered in true_divide\n",
      "  N = ((D / (nadir - ideal)) ** 2) * weights\n",
      "A:\\anaconda3\\envs\\xmoai\\lib\\site-packages\\pymoo\\algorithms\\rnsga2.py:183: RuntimeWarning: invalid value encountered in true_divide\n",
      "  N = ((D / (nadir - ideal)) ** 2) * weights\n",
      "A:\\anaconda3\\envs\\xmoai\\lib\\site-packages\\pymoo\\algorithms\\rnsga2.py:183: RuntimeWarning: invalid value encountered in true_divide\n",
      "  N = ((D / (nadir - ideal)) ** 2) * weights\n",
      "A:\\anaconda3\\envs\\xmoai\\lib\\site-packages\\pymoo\\algorithms\\rnsga2.py:183: RuntimeWarning: invalid value encountered in true_divide\n",
      "  N = ((D / (nadir - ideal)) ** 2) * weights\n",
      "A:\\anaconda3\\envs\\xmoai\\lib\\site-packages\\pymoo\\algorithms\\rnsga2.py:183: RuntimeWarning: invalid value encountered in true_divide\n",
      "  N = ((D / (nadir - ideal)) ** 2) * weights\n",
      "A:\\anaconda3\\envs\\xmoai\\lib\\site-packages\\pymoo\\algorithms\\rnsga2.py:183: RuntimeWarning: invalid value encountered in true_divide\n",
      "  N = ((D / (nadir - ideal)) ** 2) * weights\n",
      "A:\\anaconda3\\envs\\xmoai\\lib\\site-packages\\pymoo\\algorithms\\rnsga2.py:183: RuntimeWarning: invalid value encountered in true_divide\n",
      "  N = ((D / (nadir - ideal)) ** 2) * weights\n",
      "A:\\anaconda3\\envs\\xmoai\\lib\\site-packages\\pymoo\\algorithms\\rnsga2.py:183: RuntimeWarning: invalid value encountered in true_divide\n",
      "  N = ((D / (nadir - ideal)) ** 2) * weights\n",
      "A:\\anaconda3\\envs\\xmoai\\lib\\site-packages\\pymoo\\algorithms\\rnsga2.py:183: RuntimeWarning: invalid value encountered in true_divide\n",
      "  N = ((D / (nadir - ideal)) ** 2) * weights\n",
      "A:\\anaconda3\\envs\\xmoai\\lib\\site-packages\\pymoo\\algorithms\\rnsga2.py:183: RuntimeWarning: invalid value encountered in true_divide\n",
      "  N = ((D / (nadir - ideal)) ** 2) * weights\n",
      "A:\\anaconda3\\envs\\xmoai\\lib\\site-packages\\pymoo\\algorithms\\rnsga2.py:183: RuntimeWarning: invalid value encountered in true_divide\n",
      "  N = ((D / (nadir - ideal)) ** 2) * weights\n",
      "A:\\anaconda3\\envs\\xmoai\\lib\\site-packages\\pymoo\\algorithms\\rnsga2.py:183: RuntimeWarning: invalid value encountered in true_divide\n",
      "  N = ((D / (nadir - ideal)) ** 2) * weights\n",
      "A:\\anaconda3\\envs\\xmoai\\lib\\site-packages\\pymoo\\algorithms\\rnsga2.py:183: RuntimeWarning: invalid value encountered in true_divide\n",
      "  N = ((D / (nadir - ideal)) ** 2) * weights\n",
      "A:\\anaconda3\\envs\\xmoai\\lib\\site-packages\\pymoo\\algorithms\\rnsga2.py:183: RuntimeWarning: invalid value encountered in true_divide\n",
      "  N = ((D / (nadir - ideal)) ** 2) * weights\n",
      "A:\\anaconda3\\envs\\xmoai\\lib\\site-packages\\pymoo\\algorithms\\rnsga2.py:183: RuntimeWarning: invalid value encountered in true_divide\n",
      "  N = ((D / (nadir - ideal)) ** 2) * weights\n",
      "A:\\anaconda3\\envs\\xmoai\\lib\\site-packages\\pymoo\\algorithms\\rnsga2.py:183: RuntimeWarning: invalid value encountered in true_divide\n",
      "  N = ((D / (nadir - ideal)) ** 2) * weights\n",
      "A:\\anaconda3\\envs\\xmoai\\lib\\site-packages\\pymoo\\algorithms\\rnsga2.py:183: RuntimeWarning: invalid value encountered in true_divide\n",
      "  N = ((D / (nadir - ideal)) ** 2) * weights\n",
      "A:\\anaconda3\\envs\\xmoai\\lib\\site-packages\\pymoo\\algorithms\\rnsga2.py:183: RuntimeWarning: invalid value encountered in true_divide\n",
      "  N = ((D / (nadir - ideal)) ** 2) * weights\n",
      "A:\\anaconda3\\envs\\xmoai\\lib\\site-packages\\pymoo\\algorithms\\rnsga2.py:183: RuntimeWarning: invalid value encountered in true_divide\n",
      "  N = ((D / (nadir - ideal)) ** 2) * weights\n",
      "A:\\anaconda3\\envs\\xmoai\\lib\\site-packages\\pymoo\\algorithms\\rnsga2.py:183: RuntimeWarning: invalid value encountered in true_divide\n",
      "  N = ((D / (nadir - ideal)) ** 2) * weights\n",
      "A:\\anaconda3\\envs\\xmoai\\lib\\site-packages\\pymoo\\algorithms\\rnsga2.py:183: RuntimeWarning: invalid value encountered in true_divide\n",
      "  N = ((D / (nadir - ideal)) ** 2) * weights\n",
      "A:\\anaconda3\\envs\\xmoai\\lib\\site-packages\\pymoo\\algorithms\\rnsga2.py:183: RuntimeWarning: invalid value encountered in true_divide\n",
      "  N = ((D / (nadir - ideal)) ** 2) * weights\n",
      "A:\\anaconda3\\envs\\xmoai\\lib\\site-packages\\pymoo\\algorithms\\rnsga2.py:183: RuntimeWarning: invalid value encountered in true_divide\n",
      "  N = ((D / (nadir - ideal)) ** 2) * weights\n",
      "A:\\anaconda3\\envs\\xmoai\\lib\\site-packages\\pymoo\\algorithms\\rnsga2.py:183: RuntimeWarning: invalid value encountered in true_divide\n",
      "  N = ((D / (nadir - ideal)) ** 2) * weights\n",
      "A:\\anaconda3\\envs\\xmoai\\lib\\site-packages\\pymoo\\algorithms\\rnsga2.py:183: RuntimeWarning: invalid value encountered in true_divide\n",
      "  N = ((D / (nadir - ideal)) ** 2) * weights\n",
      "A:\\anaconda3\\envs\\xmoai\\lib\\site-packages\\pymoo\\algorithms\\rnsga2.py:183: RuntimeWarning: invalid value encountered in true_divide\n",
      "  N = ((D / (nadir - ideal)) ** 2) * weights\n",
      "A:\\anaconda3\\envs\\xmoai\\lib\\site-packages\\pymoo\\algorithms\\rnsga2.py:183: RuntimeWarning: invalid value encountered in true_divide\n",
      "  N = ((D / (nadir - ideal)) ** 2) * weights\n",
      "A:\\anaconda3\\envs\\xmoai\\lib\\site-packages\\pymoo\\algorithms\\rnsga2.py:183: RuntimeWarning: invalid value encountered in true_divide\n",
      "  N = ((D / (nadir - ideal)) ** 2) * weights\n"
     ]
    },
    {
     "name": "stderr",
     "output_type": "stream",
     "text": [
      "A:\\anaconda3\\envs\\xmoai\\lib\\site-packages\\pymoo\\algorithms\\rnsga2.py:183: RuntimeWarning: invalid value encountered in true_divide\n",
      "  N = ((D / (nadir - ideal)) ** 2) * weights\n",
      "A:\\anaconda3\\envs\\xmoai\\lib\\site-packages\\pymoo\\algorithms\\rnsga2.py:183: RuntimeWarning: invalid value encountered in true_divide\n",
      "  N = ((D / (nadir - ideal)) ** 2) * weights\n",
      "A:\\anaconda3\\envs\\xmoai\\lib\\site-packages\\pymoo\\algorithms\\rnsga2.py:183: RuntimeWarning: invalid value encountered in true_divide\n",
      "  N = ((D / (nadir - ideal)) ** 2) * weights\n",
      "A:\\anaconda3\\envs\\xmoai\\lib\\site-packages\\topsis\\topsis.py:66: RuntimeWarning: invalid value encountered in true_divide\n",
      "  self.r = self.a/np.array(np.linalg.norm(self.a, axis=1)[:, np.newaxis])\n",
      "A:\\anaconda3\\envs\\xmoai\\lib\\site-packages\\topsis\\topsis.py:66: RuntimeWarning: invalid value encountered in true_divide\n",
      "  self.r = self.a/np.array(np.linalg.norm(self.a, axis=1)[:, np.newaxis])\n",
      "A:\\anaconda3\\envs\\xmoai\\lib\\site-packages\\topsis\\topsis.py:66: RuntimeWarning: invalid value encountered in true_divide\n",
      "  self.r = self.a/np.array(np.linalg.norm(self.a, axis=1)[:, np.newaxis])\n",
      "A:\\anaconda3\\envs\\xmoai\\lib\\site-packages\\topsis\\topsis.py:66: RuntimeWarning: invalid value encountered in true_divide\n",
      "  self.r = self.a/np.array(np.linalg.norm(self.a, axis=1)[:, np.newaxis])\n",
      "A:\\anaconda3\\envs\\xmoai\\lib\\site-packages\\topsis\\topsis.py:66: RuntimeWarning: invalid value encountered in true_divide\n",
      "  self.r = self.a/np.array(np.linalg.norm(self.a, axis=1)[:, np.newaxis])\n",
      "A:\\anaconda3\\envs\\xmoai\\lib\\site-packages\\topsis\\topsis.py:66: RuntimeWarning: invalid value encountered in true_divide\n",
      "  self.r = self.a/np.array(np.linalg.norm(self.a, axis=1)[:, np.newaxis])\n"
     ]
    },
    {
     "data": {
      "text/plain": [
       "'Training AIF360 - AdversarialDebiasing'"
      ]
     },
     "metadata": {},
     "output_type": "display_data"
    },
    {
     "data": {
      "text/plain": [
       "'Training AIF360 - PostProcessingMeta'"
      ]
     },
     "metadata": {},
     "output_type": "display_data"
    }
   ],
   "source": [
    "results = []\n",
    "run_info = []\n",
    "\n",
    "for seed in seed_list:\n",
    "    display(f'Seed {seed}')\n",
    "    np.random.seed(seed)\n",
    "\n",
    "    classifiers = get_classifiers(seed, max_iter)\n",
    "    all_classes = np.append(best_outcome, np.delete(np.unique(df[objective]), best_outcome))\n",
    "\n",
    "    # Splitting the dataset\n",
    "    X_train, X_test, y_train, y_test = train_test_split(df.drop(objective, axis=1), df[objective], stratify=df[objective], test_size=0.3, random_state=seed)\n",
    "\n",
    "    # Separating the protected attribute to be used by other algorithms later\n",
    "    X_protected_train = X_train[protected_attr]\n",
    "    X_protected_test = X_test[protected_attr]\n",
    "\n",
    "    # Removing the protected attribute before one-hot encoding\n",
    "    X_train = X_train.drop(protected_attr, axis=1)\n",
    "    X_test = X_test.drop(protected_attr, axis=1)\n",
    "    \n",
    "    # Simple Voting Ensemble\n",
    "    display('Training the Voting Ensemble')\n",
    "    voting = VotingClassifier(estimators=classifiers, voting='soft', n_jobs=n_jobs, verbose=verbose)\n",
    "    voting = voting.fit(X_train, y_train)\n",
    "\n",
    "    res, info = get_standard_classifier_results(voting, cat_columns_dummies, X_test, y_test, 'Voting', np.nan, all_classes, best_outcome, is_ohe,\n",
    "                                                n_jobs, protected_attr, privileged_values, unprivileged_values, seed)\n",
    "    results.extend(res)\n",
    "    run_info.extend(info)\n",
    "\n",
    "    # Voting + Fairlearn\n",
    "    display('Training Fairlearn')\n",
    "    res, info = get_fairlearn_results(voting, cat_columns_dummies, X_train, y_train, X_test, y_test, X_protected_train, X_protected_test,\n",
    "                                      all_classes, best_outcome, is_ohe, n_jobs, protected_attr, privileged_values,\n",
    "                                      unprivileged_values, seed)\n",
    "    results.extend(res)\n",
    "    run_info.extend(info)\n",
    "    \n",
    "    # Scikit-lego\n",
    "    try:\n",
    "        display('Training scikit-lego - DemographicParityClassifier')\n",
    "        dpclf = DemographicParityClassifier(sensitive_cols=protected_attr, train_sensitive_cols=False, max_iter=max_iter,\n",
    "                                            covariance_threshold=None, n_jobs=n_jobs)\n",
    "        dpclf = dpclf.fit(X_train, y_train)\n",
    "        res, info = get_standard_classifier_results(dpclf, cat_columns_dummies, X_test, y_test, 'scikit-lego', 'DemographicParityClassifier',\n",
    "                                                    all_classes, best_outcome, is_ohe, n_jobs, protected_attr, privileged_values,\n",
    "                                                    unprivileged_values, seed)\n",
    "        results.extend(res)\n",
    "        run_info.extend(info)\n",
    "    except Exception as e:\n",
    "        display(e)\n",
    "\n",
    "    try:\n",
    "        display('Training scikit-lego - EqualOpportunityClassifier')\n",
    "        eoclf = EqualOpportunityClassifier(sensitive_cols=protected_attr, positive_target=best_outcome,\n",
    "                                           train_sensitive_cols=False, max_iter=max_iter, covariance_threshold=None,\n",
    "                                           n_jobs=n_jobs)\n",
    "        eoclf = eoclf.fit(X_train, y_train)\n",
    "        res, info = get_standard_classifier_results(eoclf, cat_columns_dummies, X_test, y_test, 'scikit-lego', 'EqualOpportunityClassifier',\n",
    "                                                    all_classes, best_outcome, is_ohe, n_jobs, protected_attr,\n",
    "                                                    privileged_values, unprivileged_values, seed)\n",
    "        results.extend(res)\n",
    "        run_info.extend(info)\n",
    "    except Exception as e:\n",
    "        display(e)\n",
    "    \n",
    "    # Proposal\n",
    "    for engine in ['nsga2', 'rnsga2']:\n",
    "        display(f'Training the proposal ({engine})')\n",
    "        fairclf = FairVotingClassifier(estimators=classifiers, protected_attribute=protected_attr, engine=engine,\n",
    "                                       unprivileged_values=unprivileged_values, positive_outcome=best_outcome,\n",
    "                                       privileged_values=privileged_values, all_classes=y_train,\n",
    "                                       verbose=verbose, is_protected_ohe=is_ohe, random_state=seed, n_jobs=n_jobs)\n",
    "        fairclf.fit(X_train, y_train, pop_size=pop_size, n_gen=n_gen)\n",
    "\n",
    "        technique = 'Proposal'\n",
    "        algorithm = engine\n",
    "        res, info = get_standard_classifier_results(fairclf, cat_columns_dummies, X_test, y_test, technique, algorithm, all_classes, \n",
    "                                                    best_outcome, is_ohe, n_jobs, protected_attr, privileged_values,\n",
    "                                                    unprivileged_values, seed, weights=None)\n",
    "        results.extend(res)\n",
    "        run_info.extend(info)\n",
    "\n",
    "        # getting the best, weighted by objective function\n",
    "        technique = 'ProposalWeighted'\n",
    "        for i in range(5):\n",
    "            algorithm = f'F{i+1}_{engine}'\n",
    "            topsis_weights = [0]*5\n",
    "            topsis_weights[i] = 1\n",
    "            _, weights = fairclf.rank_solutions(get_n_best=1, topsis_weights=topsis_weights, as_dataframe=False)\n",
    "            res, info = get_standard_classifier_results(fairclf, cat_columns_dummies, X_test, y_test, technique, algorithm, all_classes, \n",
    "                                                        best_outcome, is_ohe, n_jobs, protected_attr, privileged_values,\n",
    "                                                        unprivileged_values, seed, weights=weights.flatten())\n",
    "            results.extend(res)\n",
    "            run_info.extend(info)\n",
    "    \n",
    "    # AIF360\n",
    "    display(f'Training AIF360 - AdversarialDebiasing')\n",
    "    aifclf = AdversarialDebiasing(verbose=verbose, random_state=seed, num_epochs=n_gen)\n",
    "    aifclf = aifclf.fit(convert_df_to_aif_inprocessing(X_train, cat_columns_dummies, protected_attr), y_train)\n",
    "\n",
    "    res, info = get_standard_classifier_results(aifclf, cat_columns_dummies, X_test, y_test, 'AIF360', 'AdversarialDebiasing', all_classes,\n",
    "                                                best_outcome, is_ohe, n_jobs, protected_attr, privileged_values,\n",
    "                                                unprivileged_values, seed, is_aif=True)\n",
    "    results.extend(res)\n",
    "    run_info.extend(info)\n",
    "\n",
    "    display(f'Training AIF360 - PostProcessingMeta')\n",
    "    aifpostprocessing = PostProcessingMeta(voting, postprocessor=CalibratedEqualizedOdds(random_state=seed))\n",
    "    X_train_aif = convert_df_to_aif_postprocessing(X_train, cat_columns_dummies, protected_attr, privileged_values, unprivileged_values)\n",
    "    X_test_aif = convert_df_to_aif_postprocessing(X_test, cat_columns_dummies, protected_attr, privileged_values, unprivileged_values)\n",
    "    y_train.index = X_train_aif.index\n",
    "    y_test.index = X_test_aif.index\n",
    "    aifpostprocessing.fit(X_train_aif, y_train)\n",
    "    res, info = get_aif_postprocessing_classifier_results(aifpostprocessing, cat_columns_dummies, protected_attr, X_test_aif, y_test,\n",
    "                                                          'AIF360', 'PostProcessingMeta', all_classes, best_outcome, False, n_jobs,\n",
    "                                                          seed=seed, verbose=verbose)\n",
    "\n",
    "    results.extend(res)\n",
    "    run_info.extend(info)"
   ]
  },
  {
   "cell_type": "code",
   "execution_count": 8,
   "metadata": {},
   "outputs": [],
   "source": [
    "cols_objectives = ['F1', 'F2', 'F3', 'F4', 'F5']\n",
    "df_results = pd.DataFrame(np.column_stack([run_info, results]),\n",
    "                          columns=['Technique', 'Algorithm', 'Classifier', 'Seed'] + cols_objectives)\n",
    "df_results = df_results.replace({'nan': np.nan})\n",
    "for col in cols_objectives:\n",
    "    df_results[col] = pd.to_numeric(df_results[col])\n",
    "df_results.to_csv(f'outputs/df_results{dataset}.csv', sep='\\t', encoding='utf-8')"
   ]
  },
  {
   "cell_type": "code",
   "execution_count": null,
   "metadata": {},
   "outputs": [],
   "source": []
  }
 ],
 "metadata": {
  "kernelspec": {
   "display_name": "Python 3",
   "language": "python",
   "name": "python3"
  },
  "language_info": {
   "codemirror_mode": {
    "name": "ipython",
    "version": 3
   },
   "file_extension": ".py",
   "mimetype": "text/x-python",
   "name": "python",
   "nbconvert_exporter": "python",
   "pygments_lexer": "ipython3",
   "version": "3.9.2"
  }
 },
 "nbformat": 4,
 "nbformat_minor": 4
}
